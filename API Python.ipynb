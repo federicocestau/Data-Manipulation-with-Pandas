{
 "cells": [
  {
   "cell_type": "code",
   "execution_count": 2,
   "metadata": {},
   "outputs": [],
   "source": [
    "#Dependencies\n",
    "import requests\n",
    "import json"
   ]
  },
  {
   "cell_type": "code",
   "execution_count": 3,
   "metadata": {},
   "outputs": [],
   "source": [
    "#URL for GET requests to retrieve vehicle data\n",
    "url = \"https://api.spacexdata.com/v2/launchpads\""
   ]
  },
  {
   "cell_type": "code",
   "execution_count": 4,
   "metadata": {},
   "outputs": [
    {
     "name": "stdout",
     "output_type": "stream",
     "text": [
      "<Response [200]>\n"
     ]
    }
   ],
   "source": [
    "#Print the response object to the console\n",
    "print(requests.get(url))"
   ]
  },
  {
   "cell_type": "code",
   "execution_count": 5,
   "metadata": {},
   "outputs": [
    {
     "name": "stdout",
     "output_type": "stream",
     "text": [
      "[{'padid': 5, 'id': 'vafb_slc_3w', 'name': 'VAFB SLC 3W', 'full_name': 'Vandenberg Air Force Base Space Launch Complex 3W', 'status': 'retired', 'location': {'name': 'Vandenberg Air Force Base', 'region': 'California', 'latitude': 34.6440904, 'longitude': -120.5931438}, 'vehicles_launched': ['Falcon 1'], 'attempted_launches': 0, 'successful_launches': 0, 'wikipedia': 'https://en.wikipedia.org/wiki/Vandenberg_AFB_Space_Launch_Complex_3', 'details': 'SpaceX original west coast launch pad for Falcon 1. Performed a static fire but was never used for a launch and abandoned due to scheduling conflicts.'}, {'padid': 2, 'id': 'ccafs_slc_40', 'name': 'CCAFS SLC 40', 'full_name': 'Cape Canaveral Air Force Station Space Launch Complex 40', 'status': 'active', 'location': {'name': 'Cape Canaveral', 'region': 'Florida', 'latitude': 28.5618571, 'longitude': -80.577366}, 'vehicles_launched': ['Falcon 9'], 'attempted_launches': 61, 'successful_launches': 59, 'wikipedia': 'https://en.wikipedia.org/wiki/Cape_Canaveral_Air_Force_Station_Space_Launch_Complex_40', 'details': 'SpaceX primary Falcon 9 launch pad, where all east coast Falcon 9s launched prior to the AMOS-6 anomaly. Initially used to launch Titan rockets for Lockheed Martin. Back online since CRS-13 on 2017-12-15.'}, {'padid': 8, 'id': 'stls', 'name': 'STLS', 'full_name': 'SpaceX South Texas Launch Site', 'status': 'under construction', 'location': {'name': 'Boca Chica Village', 'region': 'Texas', 'latitude': 25.9972641, 'longitude': -97.1560845}, 'vehicles_launched': ['Falcon 9'], 'attempted_launches': 0, 'successful_launches': 0, 'wikipedia': 'https://en.wikipedia.org/wiki/SpaceX_South_Texas_Launch_Site', 'details': 'SpaceX new launch site currently under construction to help keep up with the Falcon 9 and Heavy manifests. Expected to be completed in late 2018. Initially will be limited to 12 flights per year, and only GTO launches.'}, {'padid': 1, 'id': 'kwajalein_atoll', 'name': 'Kwajalein Atoll', 'full_name': 'Kwajalein Atoll Omelek Island', 'status': 'retired', 'location': {'name': 'Omelek Island', 'region': 'Marshall Islands', 'latitude': 9.0477206, 'longitude': 167.7431292}, 'vehicles_launched': ['Falcon 1'], 'attempted_launches': 5, 'successful_launches': 2, 'wikipedia': 'https://en.wikipedia.org/wiki/Omelek_Island', 'details': 'SpaceX original launch site, where all of the Falcon 1 launches occured. Abandoned as SpaceX decided against upgrading the pad to support Falcon 9.'}, {'padid': 6, 'id': 'vafb_slc_4e', 'name': 'VAFB SLC 4E', 'full_name': 'Vandenberg Air Force Base Space Launch Complex 4E', 'status': 'active', 'location': {'name': 'Vandenberg Air Force Base', 'region': 'California', 'latitude': 34.632093, 'longitude': -120.610829}, 'vehicles_launched': ['Falcon 9'], 'attempted_launches': 16, 'successful_launches': 16, 'wikipedia': 'https://en.wikipedia.org/wiki/Vandenberg_AFB_Space_Launch_Complex_4', 'details': 'SpaceX primary west coast launch pad for polar orbits and sun synchronous orbits, primarily used for Iridium. Also intended to be capable of launching Falcon Heavy.'}, {'padid': 4, 'id': 'ksc_lc_39a', 'name': 'KSC LC 39A', 'full_name': 'Kennedy Space Center Historic Launch Complex 39A', 'status': 'active', 'location': {'name': 'Cape Canaveral', 'region': 'Florida', 'latitude': 28.6080585, 'longitude': -80.6039558}, 'vehicles_launched': ['Falcon 9', 'Falcon Heavy'], 'attempted_launches': 27, 'successful_launches': 26, 'wikipedia': 'https://en.wikipedia.org/wiki/Kennedy_Space_Center_Launch_Complex_39#Launch_Complex_39A', 'details': 'NASA historic launch pad that launched most of the Saturn V and Space Shuttle missions. Initially for Falcon Heavy launches, it is now launching all of SpaceX east coast missions due to the damage from the AMOS-6 anomaly. After SLC-40 repairs are complete, it will be upgraded to support Falcon Heavy, a process which will take about two months. In the future it will launch commercial crew missions and the Interplanetary Transport System.'}]\n"
     ]
    }
   ],
   "source": [
    "#Retrieving data and converting it into JSON\n",
    "print(requests.get(url).json())"
   ]
  },
  {
   "cell_type": "code",
   "execution_count": 6,
   "metadata": {},
   "outputs": [
    {
     "name": "stdout",
     "output_type": "stream",
     "text": [
      "[\n",
      "    {\n",
      "        \"attempted_launches\": 0,\n",
      "        \"details\": \"SpaceX original west coast launch pad for Falcon 1. Performed a static fire but was never used for a launch and abandoned due to scheduling conflicts.\",\n",
      "        \"full_name\": \"Vandenberg Air Force Base Space Launch Complex 3W\",\n",
      "        \"id\": \"vafb_slc_3w\",\n",
      "        \"location\": {\n",
      "            \"latitude\": 34.6440904,\n",
      "            \"longitude\": -120.5931438,\n",
      "            \"name\": \"Vandenberg Air Force Base\",\n",
      "            \"region\": \"California\"\n",
      "        },\n",
      "        \"name\": \"VAFB SLC 3W\",\n",
      "        \"padid\": 5,\n",
      "        \"status\": \"retired\",\n",
      "        \"successful_launches\": 0,\n",
      "        \"vehicles_launched\": [\n",
      "            \"Falcon 1\"\n",
      "        ],\n",
      "        \"wikipedia\": \"https://en.wikipedia.org/wiki/Vandenberg_AFB_Space_Launch_Complex_3\"\n",
      "    },\n",
      "    {\n",
      "        \"attempted_launches\": 61,\n",
      "        \"details\": \"SpaceX primary Falcon 9 launch pad, where all east coast Falcon 9s launched prior to the AMOS-6 anomaly. Initially used to launch Titan rockets for Lockheed Martin. Back online since CRS-13 on 2017-12-15.\",\n",
      "        \"full_name\": \"Cape Canaveral Air Force Station Space Launch Complex 40\",\n",
      "        \"id\": \"ccafs_slc_40\",\n",
      "        \"location\": {\n",
      "            \"latitude\": 28.5618571,\n",
      "            \"longitude\": -80.577366,\n",
      "            \"name\": \"Cape Canaveral\",\n",
      "            \"region\": \"Florida\"\n",
      "        },\n",
      "        \"name\": \"CCAFS SLC 40\",\n",
      "        \"padid\": 2,\n",
      "        \"status\": \"active\",\n",
      "        \"successful_launches\": 59,\n",
      "        \"vehicles_launched\": [\n",
      "            \"Falcon 9\"\n",
      "        ],\n",
      "        \"wikipedia\": \"https://en.wikipedia.org/wiki/Cape_Canaveral_Air_Force_Station_Space_Launch_Complex_40\"\n",
      "    },\n",
      "    {\n",
      "        \"attempted_launches\": 0,\n",
      "        \"details\": \"SpaceX new launch site currently under construction to help keep up with the Falcon 9 and Heavy manifests. Expected to be completed in late 2018. Initially will be limited to 12 flights per year, and only GTO launches.\",\n",
      "        \"full_name\": \"SpaceX South Texas Launch Site\",\n",
      "        \"id\": \"stls\",\n",
      "        \"location\": {\n",
      "            \"latitude\": 25.9972641,\n",
      "            \"longitude\": -97.1560845,\n",
      "            \"name\": \"Boca Chica Village\",\n",
      "            \"region\": \"Texas\"\n",
      "        },\n",
      "        \"name\": \"STLS\",\n",
      "        \"padid\": 8,\n",
      "        \"status\": \"under construction\",\n",
      "        \"successful_launches\": 0,\n",
      "        \"vehicles_launched\": [\n",
      "            \"Falcon 9\"\n",
      "        ],\n",
      "        \"wikipedia\": \"https://en.wikipedia.org/wiki/SpaceX_South_Texas_Launch_Site\"\n",
      "    },\n",
      "    {\n",
      "        \"attempted_launches\": 5,\n",
      "        \"details\": \"SpaceX original launch site, where all of the Falcon 1 launches occured. Abandoned as SpaceX decided against upgrading the pad to support Falcon 9.\",\n",
      "        \"full_name\": \"Kwajalein Atoll Omelek Island\",\n",
      "        \"id\": \"kwajalein_atoll\",\n",
      "        \"location\": {\n",
      "            \"latitude\": 9.0477206,\n",
      "            \"longitude\": 167.7431292,\n",
      "            \"name\": \"Omelek Island\",\n",
      "            \"region\": \"Marshall Islands\"\n",
      "        },\n",
      "        \"name\": \"Kwajalein Atoll\",\n",
      "        \"padid\": 1,\n",
      "        \"status\": \"retired\",\n",
      "        \"successful_launches\": 2,\n",
      "        \"vehicles_launched\": [\n",
      "            \"Falcon 1\"\n",
      "        ],\n",
      "        \"wikipedia\": \"https://en.wikipedia.org/wiki/Omelek_Island\"\n",
      "    },\n",
      "    {\n",
      "        \"attempted_launches\": 16,\n",
      "        \"details\": \"SpaceX primary west coast launch pad for polar orbits and sun synchronous orbits, primarily used for Iridium. Also intended to be capable of launching Falcon Heavy.\",\n",
      "        \"full_name\": \"Vandenberg Air Force Base Space Launch Complex 4E\",\n",
      "        \"id\": \"vafb_slc_4e\",\n",
      "        \"location\": {\n",
      "            \"latitude\": 34.632093,\n",
      "            \"longitude\": -120.610829,\n",
      "            \"name\": \"Vandenberg Air Force Base\",\n",
      "            \"region\": \"California\"\n",
      "        },\n",
      "        \"name\": \"VAFB SLC 4E\",\n",
      "        \"padid\": 6,\n",
      "        \"status\": \"active\",\n",
      "        \"successful_launches\": 16,\n",
      "        \"vehicles_launched\": [\n",
      "            \"Falcon 9\"\n",
      "        ],\n",
      "        \"wikipedia\": \"https://en.wikipedia.org/wiki/Vandenberg_AFB_Space_Launch_Complex_4\"\n",
      "    },\n",
      "    {\n",
      "        \"attempted_launches\": 27,\n",
      "        \"details\": \"NASA historic launch pad that launched most of the Saturn V and Space Shuttle missions. Initially for Falcon Heavy launches, it is now launching all of SpaceX east coast missions due to the damage from the AMOS-6 anomaly. After SLC-40 repairs are complete, it will be upgraded to support Falcon Heavy, a process which will take about two months. In the future it will launch commercial crew missions and the Interplanetary Transport System.\",\n",
      "        \"full_name\": \"Kennedy Space Center Historic Launch Complex 39A\",\n",
      "        \"id\": \"ksc_lc_39a\",\n",
      "        \"location\": {\n",
      "            \"latitude\": 28.6080585,\n",
      "            \"longitude\": -80.6039558,\n",
      "            \"name\": \"Cape Canaveral\",\n",
      "            \"region\": \"Florida\"\n",
      "        },\n",
      "        \"name\": \"KSC LC 39A\",\n",
      "        \"padid\": 4,\n",
      "        \"status\": \"active\",\n",
      "        \"successful_launches\": 26,\n",
      "        \"vehicles_launched\": [\n",
      "            \"Falcon 9\",\n",
      "            \"Falcon Heavy\"\n",
      "        ],\n",
      "        \"wikipedia\": \"https://en.wikipedia.org/wiki/Kennedy_Space_Center_Launch_Complex_39#Launch_Complex_39A\"\n",
      "    }\n",
      "]\n"
     ]
    }
   ],
   "source": [
    "#Pretty Print the output of the JSON\n",
    "response = requests.get(url).json()\n",
    "print(json.dumps(response, indent=4, sort_keys=True))"
   ]
  },
  {
   "cell_type": "code",
   "execution_count": 7,
   "metadata": {},
   "outputs": [
    {
     "data": {
      "text/plain": [
       "{'padid': 5,\n",
       " 'id': 'vafb_slc_3w',\n",
       " 'name': 'VAFB SLC 3W',\n",
       " 'full_name': 'Vandenberg Air Force Base Space Launch Complex 3W',\n",
       " 'status': 'retired',\n",
       " 'location': {'name': 'Vandenberg Air Force Base',\n",
       "  'region': 'California',\n",
       "  'latitude': 34.6440904,\n",
       "  'longitude': -120.5931438},\n",
       " 'vehicles_launched': ['Falcon 1'],\n",
       " 'attempted_launches': 0,\n",
       " 'successful_launches': 0,\n",
       " 'wikipedia': 'https://en.wikipedia.org/wiki/Vandenberg_AFB_Space_Launch_Complex_3',\n",
       " 'details': 'SpaceX original west coast launch pad for Falcon 1. Performed a static fire but was never used for a launch and abandoned due to scheduling conflicts.'}"
      ]
     },
     "execution_count": 7,
     "metadata": {},
     "output_type": "execute_result"
    }
   ],
   "source": [
    "response[0]"
   ]
  },
  {
   "cell_type": "code",
   "execution_count": 9,
   "metadata": {},
   "outputs": [
    {
     "data": {
      "text/plain": [
       "{'name': 'Vandenberg Air Force Base',\n",
       " 'region': 'California',\n",
       " 'latitude': 34.6440904,\n",
       " 'longitude': -120.5931438}"
      ]
     },
     "execution_count": 9,
     "metadata": {},
     "output_type": "execute_result"
    }
   ],
   "source": [
    "Dictionary = response[0]['location']\n",
    "Dictionary"
   ]
  },
  {
   "cell_type": "code",
   "execution_count": 10,
   "metadata": {},
   "outputs": [
    {
     "name": "stdout",
     "output_type": "stream",
     "text": [
      "name -> Vandenberg Air Force Base\n",
      "region -> California\n",
      "latitude -> 34.6440904\n",
      "longitude -> -120.5931438\n"
     ]
    }
   ],
   "source": [
    "for key in Dictionary:\n",
    "    print(key, '->', Dictionary[key])"
   ]
  },
  {
   "cell_type": "code",
   "execution_count": 11,
   "metadata": {},
   "outputs": [],
   "source": [
    "url = \"https://api.spacexdata.com/v2/launchpads\" "
   ]
  },
  {
   "cell_type": "code",
   "execution_count": 12,
   "metadata": {},
   "outputs": [
    {
     "data": {
      "text/plain": [
       "[{'padid': 5,\n",
       "  'id': 'vafb_slc_3w',\n",
       "  'name': 'VAFB SLC 3W',\n",
       "  'full_name': 'Vandenberg Air Force Base Space Launch Complex 3W',\n",
       "  'status': 'retired',\n",
       "  'location': {'name': 'Vandenberg Air Force Base',\n",
       "   'region': 'California',\n",
       "   'latitude': 34.6440904,\n",
       "   'longitude': -120.5931438},\n",
       "  'vehicles_launched': ['Falcon 1'],\n",
       "  'attempted_launches': 0,\n",
       "  'successful_launches': 0,\n",
       "  'wikipedia': 'https://en.wikipedia.org/wiki/Vandenberg_AFB_Space_Launch_Complex_3',\n",
       "  'details': 'SpaceX original west coast launch pad for Falcon 1. Performed a static fire but was never used for a launch and abandoned due to scheduling conflicts.'},\n",
       " {'padid': 2,\n",
       "  'id': 'ccafs_slc_40',\n",
       "  'name': 'CCAFS SLC 40',\n",
       "  'full_name': 'Cape Canaveral Air Force Station Space Launch Complex 40',\n",
       "  'status': 'active',\n",
       "  'location': {'name': 'Cape Canaveral',\n",
       "   'region': 'Florida',\n",
       "   'latitude': 28.5618571,\n",
       "   'longitude': -80.577366},\n",
       "  'vehicles_launched': ['Falcon 9'],\n",
       "  'attempted_launches': 61,\n",
       "  'successful_launches': 59,\n",
       "  'wikipedia': 'https://en.wikipedia.org/wiki/Cape_Canaveral_Air_Force_Station_Space_Launch_Complex_40',\n",
       "  'details': 'SpaceX primary Falcon 9 launch pad, where all east coast Falcon 9s launched prior to the AMOS-6 anomaly. Initially used to launch Titan rockets for Lockheed Martin. Back online since CRS-13 on 2017-12-15.'},\n",
       " {'padid': 8,\n",
       "  'id': 'stls',\n",
       "  'name': 'STLS',\n",
       "  'full_name': 'SpaceX South Texas Launch Site',\n",
       "  'status': 'under construction',\n",
       "  'location': {'name': 'Boca Chica Village',\n",
       "   'region': 'Texas',\n",
       "   'latitude': 25.9972641,\n",
       "   'longitude': -97.1560845},\n",
       "  'vehicles_launched': ['Falcon 9'],\n",
       "  'attempted_launches': 0,\n",
       "  'successful_launches': 0,\n",
       "  'wikipedia': 'https://en.wikipedia.org/wiki/SpaceX_South_Texas_Launch_Site',\n",
       "  'details': 'SpaceX new launch site currently under construction to help keep up with the Falcon 9 and Heavy manifests. Expected to be completed in late 2018. Initially will be limited to 12 flights per year, and only GTO launches.'},\n",
       " {'padid': 1,\n",
       "  'id': 'kwajalein_atoll',\n",
       "  'name': 'Kwajalein Atoll',\n",
       "  'full_name': 'Kwajalein Atoll Omelek Island',\n",
       "  'status': 'retired',\n",
       "  'location': {'name': 'Omelek Island',\n",
       "   'region': 'Marshall Islands',\n",
       "   'latitude': 9.0477206,\n",
       "   'longitude': 167.7431292},\n",
       "  'vehicles_launched': ['Falcon 1'],\n",
       "  'attempted_launches': 5,\n",
       "  'successful_launches': 2,\n",
       "  'wikipedia': 'https://en.wikipedia.org/wiki/Omelek_Island',\n",
       "  'details': 'SpaceX original launch site, where all of the Falcon 1 launches occured. Abandoned as SpaceX decided against upgrading the pad to support Falcon 9.'},\n",
       " {'padid': 6,\n",
       "  'id': 'vafb_slc_4e',\n",
       "  'name': 'VAFB SLC 4E',\n",
       "  'full_name': 'Vandenberg Air Force Base Space Launch Complex 4E',\n",
       "  'status': 'active',\n",
       "  'location': {'name': 'Vandenberg Air Force Base',\n",
       "   'region': 'California',\n",
       "   'latitude': 34.632093,\n",
       "   'longitude': -120.610829},\n",
       "  'vehicles_launched': ['Falcon 9'],\n",
       "  'attempted_launches': 16,\n",
       "  'successful_launches': 16,\n",
       "  'wikipedia': 'https://en.wikipedia.org/wiki/Vandenberg_AFB_Space_Launch_Complex_4',\n",
       "  'details': 'SpaceX primary west coast launch pad for polar orbits and sun synchronous orbits, primarily used for Iridium. Also intended to be capable of launching Falcon Heavy.'},\n",
       " {'padid': 4,\n",
       "  'id': 'ksc_lc_39a',\n",
       "  'name': 'KSC LC 39A',\n",
       "  'full_name': 'Kennedy Space Center Historic Launch Complex 39A',\n",
       "  'status': 'active',\n",
       "  'location': {'name': 'Cape Canaveral',\n",
       "   'region': 'Florida',\n",
       "   'latitude': 28.6080585,\n",
       "   'longitude': -80.6039558},\n",
       "  'vehicles_launched': ['Falcon 9', 'Falcon Heavy'],\n",
       "  'attempted_launches': 27,\n",
       "  'successful_launches': 26,\n",
       "  'wikipedia': 'https://en.wikipedia.org/wiki/Kennedy_Space_Center_Launch_Complex_39#Launch_Complex_39A',\n",
       "  'details': 'NASA historic launch pad that launched most of the Saturn V and Space Shuttle missions. Initially for Falcon Heavy launches, it is now launching all of SpaceX east coast missions due to the damage from the AMOS-6 anomaly. After SLC-40 repairs are complete, it will be upgraded to support Falcon Heavy, a process which will take about two months. In the future it will launch commercial crew missions and the Interplanetary Transport System.'}]"
      ]
     },
     "execution_count": 12,
     "metadata": {},
     "output_type": "execute_result"
    }
   ],
   "source": [
    "response = requests.get(url).json()\n",
    "response"
   ]
  },
  {
   "cell_type": "code",
   "execution_count": 13,
   "metadata": {},
   "outputs": [
    {
     "data": {
      "text/plain": [
       "{'padid': 5,\n",
       " 'id': 'vafb_slc_3w',\n",
       " 'name': 'VAFB SLC 3W',\n",
       " 'full_name': 'Vandenberg Air Force Base Space Launch Complex 3W',\n",
       " 'status': 'retired',\n",
       " 'location': {'name': 'Vandenberg Air Force Base',\n",
       "  'region': 'California',\n",
       "  'latitude': 34.6440904,\n",
       "  'longitude': -120.5931438},\n",
       " 'vehicles_launched': ['Falcon 1'],\n",
       " 'attempted_launches': 0,\n",
       " 'successful_launches': 0,\n",
       " 'wikipedia': 'https://en.wikipedia.org/wiki/Vandenberg_AFB_Space_Launch_Complex_3',\n",
       " 'details': 'SpaceX original west coast launch pad for Falcon 1. Performed a static fire but was never used for a launch and abandoned due to scheduling conflicts.'}"
      ]
     },
     "execution_count": 13,
     "metadata": {},
     "output_type": "execute_result"
    }
   ],
   "source": [
    "response[0]"
   ]
  },
  {
   "cell_type": "code",
   "execution_count": 17,
   "metadata": {},
   "outputs": [
    {
     "data": {
      "text/plain": [
       "{'padid': 2,\n",
       " 'id': 'ccafs_slc_40',\n",
       " 'name': 'CCAFS SLC 40',\n",
       " 'full_name': 'Cape Canaveral Air Force Station Space Launch Complex 40',\n",
       " 'status': 'active',\n",
       " 'location': {'name': 'Cape Canaveral',\n",
       "  'region': 'Florida',\n",
       "  'latitude': 28.5618571,\n",
       "  'longitude': -80.577366},\n",
       " 'vehicles_launched': ['Falcon 9'],\n",
       " 'attempted_launches': 61,\n",
       " 'successful_launches': 59,\n",
       " 'wikipedia': 'https://en.wikipedia.org/wiki/Cape_Canaveral_Air_Force_Station_Space_Launch_Complex_40',\n",
       " 'details': 'SpaceX primary Falcon 9 launch pad, where all east coast Falcon 9s launched prior to the AMOS-6 anomaly. Initially used to launch Titan rockets for Lockheed Martin. Back online since CRS-13 on 2017-12-15.'}"
      ]
     },
     "execution_count": 17,
     "metadata": {},
     "output_type": "execute_result"
    }
   ],
   "source": [
    "D1 = response[1]\n",
    "D1"
   ]
  },
  {
   "cell_type": "code",
   "execution_count": 15,
   "metadata": {},
   "outputs": [
    {
     "data": {
      "text/plain": [
       "{'padid': 8,\n",
       " 'id': 'stls',\n",
       " 'name': 'STLS',\n",
       " 'full_name': 'SpaceX South Texas Launch Site',\n",
       " 'status': 'under construction',\n",
       " 'location': {'name': 'Boca Chica Village',\n",
       "  'region': 'Texas',\n",
       "  'latitude': 25.9972641,\n",
       "  'longitude': -97.1560845},\n",
       " 'vehicles_launched': ['Falcon 9'],\n",
       " 'attempted_launches': 0,\n",
       " 'successful_launches': 0,\n",
       " 'wikipedia': 'https://en.wikipedia.org/wiki/SpaceX_South_Texas_Launch_Site',\n",
       " 'details': 'SpaceX new launch site currently under construction to help keep up with the Falcon 9 and Heavy manifests. Expected to be completed in late 2018. Initially will be limited to 12 flights per year, and only GTO launches.'}"
      ]
     },
     "execution_count": 15,
     "metadata": {},
     "output_type": "execute_result"
    }
   ],
   "source": [
    "response[2]"
   ]
  },
  {
   "cell_type": "code",
   "execution_count": 19,
   "metadata": {},
   "outputs": [
    {
     "name": "stdout",
     "output_type": "stream",
     "text": [
      "5\n",
      "vafb_slc_3w\n",
      "VAFB SLC 3W\n",
      "Vandenberg Air Force Base Space Launch Complex 3W\n",
      "retired\n",
      "{'name': 'Vandenberg Air Force Base', 'region': 'California', 'latitude': 34.6440904, 'longitude': -120.5931438}\n",
      "['Falcon 1']\n",
      "0\n",
      "0\n",
      "https://en.wikipedia.org/wiki/Vandenberg_AFB_Space_Launch_Complex_3\n",
      "SpaceX original west coast launch pad for Falcon 1. Performed a static fire but was never used for a launch and abandoned due to scheduling conflicts.\n",
      "2\n",
      "ccafs_slc_40\n",
      "CCAFS SLC 40\n",
      "Cape Canaveral Air Force Station Space Launch Complex 40\n",
      "active\n",
      "{'name': 'Cape Canaveral', 'region': 'Florida', 'latitude': 28.5618571, 'longitude': -80.577366}\n",
      "['Falcon 9']\n",
      "61\n",
      "59\n",
      "https://en.wikipedia.org/wiki/Cape_Canaveral_Air_Force_Station_Space_Launch_Complex_40\n",
      "SpaceX primary Falcon 9 launch pad, where all east coast Falcon 9s launched prior to the AMOS-6 anomaly. Initially used to launch Titan rockets for Lockheed Martin. Back online since CRS-13 on 2017-12-15.\n",
      "8\n",
      "stls\n",
      "STLS\n",
      "SpaceX South Texas Launch Site\n",
      "under construction\n",
      "{'name': 'Boca Chica Village', 'region': 'Texas', 'latitude': 25.9972641, 'longitude': -97.1560845}\n",
      "['Falcon 9']\n",
      "0\n",
      "0\n",
      "https://en.wikipedia.org/wiki/SpaceX_South_Texas_Launch_Site\n",
      "SpaceX new launch site currently under construction to help keep up with the Falcon 9 and Heavy manifests. Expected to be completed in late 2018. Initially will be limited to 12 flights per year, and only GTO launches.\n",
      "1\n",
      "kwajalein_atoll\n",
      "Kwajalein Atoll\n",
      "Kwajalein Atoll Omelek Island\n",
      "retired\n",
      "{'name': 'Omelek Island', 'region': 'Marshall Islands', 'latitude': 9.0477206, 'longitude': 167.7431292}\n",
      "['Falcon 1']\n",
      "5\n",
      "2\n",
      "https://en.wikipedia.org/wiki/Omelek_Island\n",
      "SpaceX original launch site, where all of the Falcon 1 launches occured. Abandoned as SpaceX decided against upgrading the pad to support Falcon 9.\n",
      "6\n",
      "vafb_slc_4e\n",
      "VAFB SLC 4E\n",
      "Vandenberg Air Force Base Space Launch Complex 4E\n",
      "active\n",
      "{'name': 'Vandenberg Air Force Base', 'region': 'California', 'latitude': 34.632093, 'longitude': -120.610829}\n",
      "['Falcon 9']\n",
      "16\n",
      "16\n",
      "https://en.wikipedia.org/wiki/Vandenberg_AFB_Space_Launch_Complex_4\n",
      "SpaceX primary west coast launch pad for polar orbits and sun synchronous orbits, primarily used for Iridium. Also intended to be capable of launching Falcon Heavy.\n",
      "4\n",
      "ksc_lc_39a\n",
      "KSC LC 39A\n",
      "Kennedy Space Center Historic Launch Complex 39A\n",
      "active\n",
      "{'name': 'Cape Canaveral', 'region': 'Florida', 'latitude': 28.6080585, 'longitude': -80.6039558}\n",
      "['Falcon 9', 'Falcon Heavy']\n",
      "27\n",
      "26\n",
      "https://en.wikipedia.org/wiki/Kennedy_Space_Center_Launch_Complex_39#Launch_Complex_39A\n",
      "NASA historic launch pad that launched most of the Saturn V and Space Shuttle missions. Initially for Falcon Heavy launches, it is now launching all of SpaceX east coast missions due to the damage from the AMOS-6 anomaly. After SLC-40 repairs are complete, it will be upgraded to support Falcon Heavy, a process which will take about two months. In the future it will launch commercial crew missions and the Interplanetary Transport System.\n"
     ]
    }
   ],
   "source": [
    "for dic in response:\n",
    "    for key in dic:\n",
    "        print(dic[key])"
   ]
  },
  {
   "cell_type": "code",
   "execution_count": 20,
   "metadata": {},
   "outputs": [
    {
     "name": "stdout",
     "output_type": "stream",
     "text": [
      "padid is 5\n",
      "id is vafb_slc_3w\n",
      "name is VAFB SLC 3W\n",
      "full_name is Vandenberg Air Force Base Space Launch Complex 3W\n",
      "status is retired\n",
      "location is {'name': 'Vandenberg Air Force Base', 'region': 'California', 'latitude': 34.6440904, 'longitude': -120.5931438}\n",
      "vehicles_launched is ['Falcon 1']\n",
      "attempted_launches is 0\n",
      "successful_launches is 0\n",
      "wikipedia is https://en.wikipedia.org/wiki/Vandenberg_AFB_Space_Launch_Complex_3\n",
      "details is SpaceX original west coast launch pad for Falcon 1. Performed a static fire but was never used for a launch and abandoned due to scheduling conflicts.\n",
      "padid is 2\n",
      "id is ccafs_slc_40\n",
      "name is CCAFS SLC 40\n",
      "full_name is Cape Canaveral Air Force Station Space Launch Complex 40\n",
      "status is active\n",
      "location is {'name': 'Cape Canaveral', 'region': 'Florida', 'latitude': 28.5618571, 'longitude': -80.577366}\n",
      "vehicles_launched is ['Falcon 9']\n",
      "attempted_launches is 61\n",
      "successful_launches is 59\n",
      "wikipedia is https://en.wikipedia.org/wiki/Cape_Canaveral_Air_Force_Station_Space_Launch_Complex_40\n",
      "details is SpaceX primary Falcon 9 launch pad, where all east coast Falcon 9s launched prior to the AMOS-6 anomaly. Initially used to launch Titan rockets for Lockheed Martin. Back online since CRS-13 on 2017-12-15.\n",
      "padid is 8\n",
      "id is stls\n",
      "name is STLS\n",
      "full_name is SpaceX South Texas Launch Site\n",
      "status is under construction\n",
      "location is {'name': 'Boca Chica Village', 'region': 'Texas', 'latitude': 25.9972641, 'longitude': -97.1560845}\n",
      "vehicles_launched is ['Falcon 9']\n",
      "attempted_launches is 0\n",
      "successful_launches is 0\n",
      "wikipedia is https://en.wikipedia.org/wiki/SpaceX_South_Texas_Launch_Site\n",
      "details is SpaceX new launch site currently under construction to help keep up with the Falcon 9 and Heavy manifests. Expected to be completed in late 2018. Initially will be limited to 12 flights per year, and only GTO launches.\n",
      "padid is 1\n",
      "id is kwajalein_atoll\n",
      "name is Kwajalein Atoll\n",
      "full_name is Kwajalein Atoll Omelek Island\n",
      "status is retired\n",
      "location is {'name': 'Omelek Island', 'region': 'Marshall Islands', 'latitude': 9.0477206, 'longitude': 167.7431292}\n",
      "vehicles_launched is ['Falcon 1']\n",
      "attempted_launches is 5\n",
      "successful_launches is 2\n",
      "wikipedia is https://en.wikipedia.org/wiki/Omelek_Island\n",
      "details is SpaceX original launch site, where all of the Falcon 1 launches occured. Abandoned as SpaceX decided against upgrading the pad to support Falcon 9.\n",
      "padid is 6\n",
      "id is vafb_slc_4e\n",
      "name is VAFB SLC 4E\n",
      "full_name is Vandenberg Air Force Base Space Launch Complex 4E\n",
      "status is active\n",
      "location is {'name': 'Vandenberg Air Force Base', 'region': 'California', 'latitude': 34.632093, 'longitude': -120.610829}\n",
      "vehicles_launched is ['Falcon 9']\n",
      "attempted_launches is 16\n",
      "successful_launches is 16\n",
      "wikipedia is https://en.wikipedia.org/wiki/Vandenberg_AFB_Space_Launch_Complex_4\n",
      "details is SpaceX primary west coast launch pad for polar orbits and sun synchronous orbits, primarily used for Iridium. Also intended to be capable of launching Falcon Heavy.\n",
      "padid is 4\n",
      "id is ksc_lc_39a\n",
      "name is KSC LC 39A\n",
      "full_name is Kennedy Space Center Historic Launch Complex 39A\n",
      "status is active\n",
      "location is {'name': 'Cape Canaveral', 'region': 'Florida', 'latitude': 28.6080585, 'longitude': -80.6039558}\n",
      "vehicles_launched is ['Falcon 9', 'Falcon Heavy']\n",
      "attempted_launches is 27\n",
      "successful_launches is 26\n",
      "wikipedia is https://en.wikipedia.org/wiki/Kennedy_Space_Center_Launch_Complex_39#Launch_Complex_39A\n",
      "details is NASA historic launch pad that launched most of the Saturn V and Space Shuttle missions. Initially for Falcon Heavy launches, it is now launching all of SpaceX east coast missions due to the damage from the AMOS-6 anomaly. After SLC-40 repairs are complete, it will be upgraded to support Falcon Heavy, a process which will take about two months. In the future it will launch commercial crew missions and the Interplanetary Transport System.\n"
     ]
    }
   ],
   "source": [
    "for dic in response:\n",
    "    for val,cal in dic.items():\n",
    "        print(f'{val} is {cal}')"
   ]
  },
  {
   "cell_type": "code",
   "execution_count": 21,
   "metadata": {},
   "outputs": [],
   "source": [
    "url = \"https://api.spacexdata.com/v2/rockets/falcon9\""
   ]
  },
  {
   "cell_type": "code",
   "execution_count": 22,
   "metadata": {},
   "outputs": [
    {
     "data": {
      "text/plain": [
       "<Response [200]>"
      ]
     },
     "execution_count": 22,
     "metadata": {},
     "output_type": "execute_result"
    }
   ],
   "source": [
    "response1 = requests.get(url)\n",
    "response1"
   ]
  },
  {
   "cell_type": "code",
   "execution_count": 24,
   "metadata": {},
   "outputs": [],
   "source": [
    "# Dependencies\n",
    "import requests\n",
    "import json"
   ]
  },
  {
   "cell_type": "code",
   "execution_count": 26,
   "metadata": {},
   "outputs": [
    {
     "data": {
      "text/plain": [
       "{'rocketid': 2,\n",
       " 'id': 'falcon9',\n",
       " 'name': 'Falcon 9',\n",
       " 'type': 'rocket',\n",
       " 'active': True,\n",
       " 'stages': 2,\n",
       " 'boosters': 0,\n",
       " 'cost_per_launch': 50000000,\n",
       " 'success_rate_pct': 97,\n",
       " 'first_flight': '2010-06-04',\n",
       " 'country': 'United States',\n",
       " 'company': 'SpaceX',\n",
       " 'height': {'meters': 70, 'feet': 229.6},\n",
       " 'diameter': {'meters': 3.7, 'feet': 12},\n",
       " 'mass': {'kg': 549054, 'lb': 1207920},\n",
       " 'payload_weights': [{'id': 'leo',\n",
       "   'name': 'Low Earth Orbit',\n",
       "   'kg': 22800,\n",
       "   'lb': 50265},\n",
       "  {'id': 'gto',\n",
       "   'name': 'Geosynchronous Transfer Orbit',\n",
       "   'kg': 8300,\n",
       "   'lb': 18300},\n",
       "  {'id': 'mars', 'name': 'Mars Orbit', 'kg': 4020, 'lb': 8860}],\n",
       " 'first_stage': {'reusable': True,\n",
       "  'engines': 9,\n",
       "  'fuel_amount_tons': 385,\n",
       "  'burn_time_sec': 162,\n",
       "  'thrust_sea_level': {'kN': 7607, 'lbf': 1710000},\n",
       "  'thrust_vacuum': {'kN': 8227, 'lbf': 1849500}},\n",
       " 'second_stage': {'reusable': False,\n",
       "  'engines': 1,\n",
       "  'fuel_amount_tons': 90,\n",
       "  'burn_time_sec': 397,\n",
       "  'thrust': {'kN': 934, 'lbf': 210000},\n",
       "  'payloads': {'option_1': 'dragon',\n",
       "   'option_2': 'composite fairing',\n",
       "   'composite_fairing': {'height': {'meters': 13.1, 'feet': 43},\n",
       "    'diameter': {'meters': 5.2, 'feet': 17.1}}}},\n",
       " 'engines': {'number': 9,\n",
       "  'type': 'merlin',\n",
       "  'version': '1D+',\n",
       "  'layout': 'octaweb',\n",
       "  'isp': {'sea_level': 288, 'vacuum': 312},\n",
       "  'engine_loss_max': 2,\n",
       "  'propellant_1': 'liquid oxygen',\n",
       "  'propellant_2': 'RP-1 kerosene',\n",
       "  'thrust_sea_level': {'kN': 845, 'lbf': 190000},\n",
       "  'thrust_vacuum': {'kN': 914, 'lbf': 205500},\n",
       "  'thrust_to_weight': 180.1},\n",
       " 'landing_legs': {'number': 4, 'material': 'carbon fiber'},\n",
       " 'flickr_images': ['https://farm1.staticflickr.com/929/28787338307_3453a11a77_b.jpg',\n",
       "  'https://farm4.staticflickr.com/3955/32915197674_eee74d81bb_b.jpg',\n",
       "  'https://farm1.staticflickr.com/293/32312415025_6841e30bf1_b.jpg',\n",
       "  'https://farm1.staticflickr.com/623/23660653516_5b6cb301d1_b.jpg',\n",
       "  'https://farm6.staticflickr.com/5518/31579784413_d853331601_b.jpg',\n",
       "  'https://farm1.staticflickr.com/745/32394687645_a9c54a34ef_b.jpg'],\n",
       " 'wikipedia': 'https://en.wikipedia.org/wiki/Falcon_9',\n",
       " 'description': 'Falcon 9 is a two-stage rocket designed and manufactured by SpaceX for the reliable and safe transport of satellites and the Dragon spacecraft into orbit.'}"
      ]
     },
     "execution_count": 26,
     "metadata": {},
     "output_type": "execute_result"
    }
   ],
   "source": [
    "response_json = response1.json()\n",
    "response_json"
   ]
  },
  {
   "cell_type": "code",
   "execution_count": 27,
   "metadata": {},
   "outputs": [
    {
     "data": {
      "text/plain": [
       "[{'id': 'leo', 'name': 'Low Earth Orbit', 'kg': 22800, 'lb': 50265},\n",
       " {'id': 'gto',\n",
       "  'name': 'Geosynchronous Transfer Orbit',\n",
       "  'kg': 8300,\n",
       "  'lb': 18300},\n",
       " {'id': 'mars', 'name': 'Mars Orbit', 'kg': 4020, 'lb': 8860}]"
      ]
     },
     "execution_count": 27,
     "metadata": {},
     "output_type": "execute_result"
    }
   ],
   "source": [
    "response_json['payload_weights']"
   ]
  },
  {
   "cell_type": "code",
   "execution_count": 31,
   "metadata": {},
   "outputs": [
    {
     "data": {
      "text/plain": [
       "{'id': 'leo', 'name': 'Low Earth Orbit', 'kg': 22800, 'lb': 50265}"
      ]
     },
     "execution_count": 31,
     "metadata": {},
     "output_type": "execute_result"
    }
   ],
   "source": [
    "DIC3 = response_json['payload_weights'][0]\n",
    "DIC3"
   ]
  },
  {
   "cell_type": "code",
   "execution_count": 32,
   "metadata": {},
   "outputs": [
    {
     "data": {
      "text/plain": [
       "'Low Earth Orbit'"
      ]
     },
     "execution_count": 32,
     "metadata": {},
     "output_type": "execute_result"
    }
   ],
   "source": [
    "DIC3['name']"
   ]
  },
  {
   "cell_type": "code",
   "execution_count": 33,
   "metadata": {},
   "outputs": [
    {
     "data": {
      "text/plain": [
       "[{'id': 'leo', 'name': 'Low Earth Orbit', 'kg': 22800, 'lb': 50265},\n",
       " {'id': 'gto',\n",
       "  'name': 'Geosynchronous Transfer Orbit',\n",
       "  'kg': 8300,\n",
       "  'lb': 18300},\n",
       " {'id': 'mars', 'name': 'Mars Orbit', 'kg': 4020, 'lb': 8860}]"
      ]
     },
     "execution_count": 33,
     "metadata": {},
     "output_type": "execute_result"
    }
   ],
   "source": [
    "response_json[\"payload_weights\"]"
   ]
  },
  {
   "cell_type": "code",
   "execution_count": 34,
   "metadata": {},
   "outputs": [
    {
     "name": "stdout",
     "output_type": "stream",
     "text": [
      "There are 3 payloads.\n"
     ]
    }
   ],
   "source": [
    "number_payloads = len(response_json[\"payload_weights\"])\n",
    "print(f\"There are {number_payloads} payloads.\")"
   ]
  },
  {
   "cell_type": "code",
   "execution_count": 35,
   "metadata": {},
   "outputs": [
    {
     "name": "stdout",
     "output_type": "stream",
     "text": [
      "The first payload weighed 22800 Kilograms\n"
     ]
    }
   ],
   "source": [
    "payload_weight = response_json[\"payload_weights\"][0][\"kg\"]\n",
    "print(f\"The first payload weighed {payload_weight} Kilograms\")"
   ]
  },
  {
   "cell_type": "code",
   "execution_count": 36,
   "metadata": {},
   "outputs": [],
   "source": [
    "base_url = \"https://swapi.co/api/people/\""
   ]
  },
  {
   "cell_type": "code",
   "execution_count": 43,
   "metadata": {},
   "outputs": [
    {
     "name": "stdout",
     "output_type": "stream",
     "text": [
      "https://swapi.co/api/people/4\n"
     ]
    }
   ],
   "source": [
    "# Create a url with a specific character id\n",
    "character_id = '4'\n",
    "url = base_url + character_id\n",
    "print(url)"
   ]
  },
  {
   "cell_type": "code",
   "execution_count": 44,
   "metadata": {},
   "outputs": [
    {
     "ename": "ConnectionError",
     "evalue": "HTTPSConnectionPool(host='swapi.co', port=443): Max retries exceeded with url: /api/people/4 (Caused by NewConnectionError('<urllib3.connection.VerifiedHTTPSConnection object at 0x0000026705A2E148>: Failed to establish a new connection: [WinError 10061] No connection could be made because the target machine actively refused it'))",
     "output_type": "error",
     "traceback": [
      "\u001b[1;31m---------------------------------------------------------------------------\u001b[0m",
      "\u001b[1;31mConnectionRefusedError\u001b[0m                    Traceback (most recent call last)",
      "\u001b[1;32m~\\Anaconda3\\envs\\PythonData\\lib\\site-packages\\urllib3\\connection.py\u001b[0m in \u001b[0;36m_new_conn\u001b[1;34m(self)\u001b[0m\n\u001b[0;32m    156\u001b[0m             conn = connection.create_connection(\n\u001b[1;32m--> 157\u001b[1;33m                 \u001b[1;33m(\u001b[0m\u001b[0mself\u001b[0m\u001b[1;33m.\u001b[0m\u001b[0m_dns_host\u001b[0m\u001b[1;33m,\u001b[0m \u001b[0mself\u001b[0m\u001b[1;33m.\u001b[0m\u001b[0mport\u001b[0m\u001b[1;33m)\u001b[0m\u001b[1;33m,\u001b[0m \u001b[0mself\u001b[0m\u001b[1;33m.\u001b[0m\u001b[0mtimeout\u001b[0m\u001b[1;33m,\u001b[0m \u001b[1;33m**\u001b[0m\u001b[0mextra_kw\u001b[0m\u001b[1;33m\u001b[0m\u001b[1;33m\u001b[0m\u001b[0m\n\u001b[0m\u001b[0;32m    158\u001b[0m             )\n",
      "\u001b[1;32m~\\Anaconda3\\envs\\PythonData\\lib\\site-packages\\urllib3\\util\\connection.py\u001b[0m in \u001b[0;36mcreate_connection\u001b[1;34m(address, timeout, source_address, socket_options)\u001b[0m\n\u001b[0;32m     83\u001b[0m     \u001b[1;32mif\u001b[0m \u001b[0merr\u001b[0m \u001b[1;32mis\u001b[0m \u001b[1;32mnot\u001b[0m \u001b[1;32mNone\u001b[0m\u001b[1;33m:\u001b[0m\u001b[1;33m\u001b[0m\u001b[1;33m\u001b[0m\u001b[0m\n\u001b[1;32m---> 84\u001b[1;33m         \u001b[1;32mraise\u001b[0m \u001b[0merr\u001b[0m\u001b[1;33m\u001b[0m\u001b[1;33m\u001b[0m\u001b[0m\n\u001b[0m\u001b[0;32m     85\u001b[0m \u001b[1;33m\u001b[0m\u001b[0m\n",
      "\u001b[1;32m~\\Anaconda3\\envs\\PythonData\\lib\\site-packages\\urllib3\\util\\connection.py\u001b[0m in \u001b[0;36mcreate_connection\u001b[1;34m(address, timeout, source_address, socket_options)\u001b[0m\n\u001b[0;32m     73\u001b[0m                 \u001b[0msock\u001b[0m\u001b[1;33m.\u001b[0m\u001b[0mbind\u001b[0m\u001b[1;33m(\u001b[0m\u001b[0msource_address\u001b[0m\u001b[1;33m)\u001b[0m\u001b[1;33m\u001b[0m\u001b[1;33m\u001b[0m\u001b[0m\n\u001b[1;32m---> 74\u001b[1;33m             \u001b[0msock\u001b[0m\u001b[1;33m.\u001b[0m\u001b[0mconnect\u001b[0m\u001b[1;33m(\u001b[0m\u001b[0msa\u001b[0m\u001b[1;33m)\u001b[0m\u001b[1;33m\u001b[0m\u001b[1;33m\u001b[0m\u001b[0m\n\u001b[0m\u001b[0;32m     75\u001b[0m             \u001b[1;32mreturn\u001b[0m \u001b[0msock\u001b[0m\u001b[1;33m\u001b[0m\u001b[1;33m\u001b[0m\u001b[0m\n",
      "\u001b[1;31mConnectionRefusedError\u001b[0m: [WinError 10061] No connection could be made because the target machine actively refused it",
      "\nDuring handling of the above exception, another exception occurred:\n",
      "\u001b[1;31mNewConnectionError\u001b[0m                        Traceback (most recent call last)",
      "\u001b[1;32m~\\Anaconda3\\envs\\PythonData\\lib\\site-packages\\urllib3\\connectionpool.py\u001b[0m in \u001b[0;36murlopen\u001b[1;34m(self, method, url, body, headers, retries, redirect, assert_same_host, timeout, pool_timeout, release_conn, chunked, body_pos, **response_kw)\u001b[0m\n\u001b[0;32m    671\u001b[0m                 \u001b[0mheaders\u001b[0m\u001b[1;33m=\u001b[0m\u001b[0mheaders\u001b[0m\u001b[1;33m,\u001b[0m\u001b[1;33m\u001b[0m\u001b[1;33m\u001b[0m\u001b[0m\n\u001b[1;32m--> 672\u001b[1;33m                 \u001b[0mchunked\u001b[0m\u001b[1;33m=\u001b[0m\u001b[0mchunked\u001b[0m\u001b[1;33m,\u001b[0m\u001b[1;33m\u001b[0m\u001b[1;33m\u001b[0m\u001b[0m\n\u001b[0m\u001b[0;32m    673\u001b[0m             )\n",
      "\u001b[1;32m~\\Anaconda3\\envs\\PythonData\\lib\\site-packages\\urllib3\\connectionpool.py\u001b[0m in \u001b[0;36m_make_request\u001b[1;34m(self, conn, method, url, timeout, chunked, **httplib_request_kw)\u001b[0m\n\u001b[0;32m    375\u001b[0m         \u001b[1;32mtry\u001b[0m\u001b[1;33m:\u001b[0m\u001b[1;33m\u001b[0m\u001b[1;33m\u001b[0m\u001b[0m\n\u001b[1;32m--> 376\u001b[1;33m             \u001b[0mself\u001b[0m\u001b[1;33m.\u001b[0m\u001b[0m_validate_conn\u001b[0m\u001b[1;33m(\u001b[0m\u001b[0mconn\u001b[0m\u001b[1;33m)\u001b[0m\u001b[1;33m\u001b[0m\u001b[1;33m\u001b[0m\u001b[0m\n\u001b[0m\u001b[0;32m    377\u001b[0m         \u001b[1;32mexcept\u001b[0m \u001b[1;33m(\u001b[0m\u001b[0mSocketTimeout\u001b[0m\u001b[1;33m,\u001b[0m \u001b[0mBaseSSLError\u001b[0m\u001b[1;33m)\u001b[0m \u001b[1;32mas\u001b[0m \u001b[0me\u001b[0m\u001b[1;33m:\u001b[0m\u001b[1;33m\u001b[0m\u001b[1;33m\u001b[0m\u001b[0m\n",
      "\u001b[1;32m~\\Anaconda3\\envs\\PythonData\\lib\\site-packages\\urllib3\\connectionpool.py\u001b[0m in \u001b[0;36m_validate_conn\u001b[1;34m(self, conn)\u001b[0m\n\u001b[0;32m    993\u001b[0m         \u001b[1;32mif\u001b[0m \u001b[1;32mnot\u001b[0m \u001b[0mgetattr\u001b[0m\u001b[1;33m(\u001b[0m\u001b[0mconn\u001b[0m\u001b[1;33m,\u001b[0m \u001b[1;34m\"sock\"\u001b[0m\u001b[1;33m,\u001b[0m \u001b[1;32mNone\u001b[0m\u001b[1;33m)\u001b[0m\u001b[1;33m:\u001b[0m  \u001b[1;31m# AppEngine might not have  `.sock`\u001b[0m\u001b[1;33m\u001b[0m\u001b[1;33m\u001b[0m\u001b[0m\n\u001b[1;32m--> 994\u001b[1;33m             \u001b[0mconn\u001b[0m\u001b[1;33m.\u001b[0m\u001b[0mconnect\u001b[0m\u001b[1;33m(\u001b[0m\u001b[1;33m)\u001b[0m\u001b[1;33m\u001b[0m\u001b[1;33m\u001b[0m\u001b[0m\n\u001b[0m\u001b[0;32m    995\u001b[0m \u001b[1;33m\u001b[0m\u001b[0m\n",
      "\u001b[1;32m~\\Anaconda3\\envs\\PythonData\\lib\\site-packages\\urllib3\\connection.py\u001b[0m in \u001b[0;36mconnect\u001b[1;34m(self)\u001b[0m\n\u001b[0;32m    299\u001b[0m         \u001b[1;31m# Add certificate verification\u001b[0m\u001b[1;33m\u001b[0m\u001b[1;33m\u001b[0m\u001b[1;33m\u001b[0m\u001b[0m\n\u001b[1;32m--> 300\u001b[1;33m         \u001b[0mconn\u001b[0m \u001b[1;33m=\u001b[0m \u001b[0mself\u001b[0m\u001b[1;33m.\u001b[0m\u001b[0m_new_conn\u001b[0m\u001b[1;33m(\u001b[0m\u001b[1;33m)\u001b[0m\u001b[1;33m\u001b[0m\u001b[1;33m\u001b[0m\u001b[0m\n\u001b[0m\u001b[0;32m    301\u001b[0m         \u001b[0mhostname\u001b[0m \u001b[1;33m=\u001b[0m \u001b[0mself\u001b[0m\u001b[1;33m.\u001b[0m\u001b[0mhost\u001b[0m\u001b[1;33m\u001b[0m\u001b[1;33m\u001b[0m\u001b[0m\n",
      "\u001b[1;32m~\\Anaconda3\\envs\\PythonData\\lib\\site-packages\\urllib3\\connection.py\u001b[0m in \u001b[0;36m_new_conn\u001b[1;34m(self)\u001b[0m\n\u001b[0;32m    168\u001b[0m             raise NewConnectionError(\n\u001b[1;32m--> 169\u001b[1;33m                 \u001b[0mself\u001b[0m\u001b[1;33m,\u001b[0m \u001b[1;34m\"Failed to establish a new connection: %s\"\u001b[0m \u001b[1;33m%\u001b[0m \u001b[0me\u001b[0m\u001b[1;33m\u001b[0m\u001b[1;33m\u001b[0m\u001b[0m\n\u001b[0m\u001b[0;32m    170\u001b[0m             )\n",
      "\u001b[1;31mNewConnectionError\u001b[0m: <urllib3.connection.VerifiedHTTPSConnection object at 0x0000026705A2E148>: Failed to establish a new connection: [WinError 10061] No connection could be made because the target machine actively refused it",
      "\nDuring handling of the above exception, another exception occurred:\n",
      "\u001b[1;31mMaxRetryError\u001b[0m                             Traceback (most recent call last)",
      "\u001b[1;32m~\\Anaconda3\\envs\\PythonData\\lib\\site-packages\\requests\\adapters.py\u001b[0m in \u001b[0;36msend\u001b[1;34m(self, request, stream, timeout, verify, cert, proxies)\u001b[0m\n\u001b[0;32m    448\u001b[0m                     \u001b[0mretries\u001b[0m\u001b[1;33m=\u001b[0m\u001b[0mself\u001b[0m\u001b[1;33m.\u001b[0m\u001b[0mmax_retries\u001b[0m\u001b[1;33m,\u001b[0m\u001b[1;33m\u001b[0m\u001b[1;33m\u001b[0m\u001b[0m\n\u001b[1;32m--> 449\u001b[1;33m                     \u001b[0mtimeout\u001b[0m\u001b[1;33m=\u001b[0m\u001b[0mtimeout\u001b[0m\u001b[1;33m\u001b[0m\u001b[1;33m\u001b[0m\u001b[0m\n\u001b[0m\u001b[0;32m    450\u001b[0m                 )\n",
      "\u001b[1;32m~\\Anaconda3\\envs\\PythonData\\lib\\site-packages\\urllib3\\connectionpool.py\u001b[0m in \u001b[0;36murlopen\u001b[1;34m(self, method, url, body, headers, retries, redirect, assert_same_host, timeout, pool_timeout, release_conn, chunked, body_pos, **response_kw)\u001b[0m\n\u001b[0;32m    719\u001b[0m             retries = retries.increment(\n\u001b[1;32m--> 720\u001b[1;33m                 \u001b[0mmethod\u001b[0m\u001b[1;33m,\u001b[0m \u001b[0murl\u001b[0m\u001b[1;33m,\u001b[0m \u001b[0merror\u001b[0m\u001b[1;33m=\u001b[0m\u001b[0me\u001b[0m\u001b[1;33m,\u001b[0m \u001b[0m_pool\u001b[0m\u001b[1;33m=\u001b[0m\u001b[0mself\u001b[0m\u001b[1;33m,\u001b[0m \u001b[0m_stacktrace\u001b[0m\u001b[1;33m=\u001b[0m\u001b[0msys\u001b[0m\u001b[1;33m.\u001b[0m\u001b[0mexc_info\u001b[0m\u001b[1;33m(\u001b[0m\u001b[1;33m)\u001b[0m\u001b[1;33m[\u001b[0m\u001b[1;36m2\u001b[0m\u001b[1;33m]\u001b[0m\u001b[1;33m\u001b[0m\u001b[1;33m\u001b[0m\u001b[0m\n\u001b[0m\u001b[0;32m    721\u001b[0m             )\n",
      "\u001b[1;32m~\\Anaconda3\\envs\\PythonData\\lib\\site-packages\\urllib3\\util\\retry.py\u001b[0m in \u001b[0;36mincrement\u001b[1;34m(self, method, url, response, error, _pool, _stacktrace)\u001b[0m\n\u001b[0;32m    435\u001b[0m         \u001b[1;32mif\u001b[0m \u001b[0mnew_retry\u001b[0m\u001b[1;33m.\u001b[0m\u001b[0mis_exhausted\u001b[0m\u001b[1;33m(\u001b[0m\u001b[1;33m)\u001b[0m\u001b[1;33m:\u001b[0m\u001b[1;33m\u001b[0m\u001b[1;33m\u001b[0m\u001b[0m\n\u001b[1;32m--> 436\u001b[1;33m             \u001b[1;32mraise\u001b[0m \u001b[0mMaxRetryError\u001b[0m\u001b[1;33m(\u001b[0m\u001b[0m_pool\u001b[0m\u001b[1;33m,\u001b[0m \u001b[0murl\u001b[0m\u001b[1;33m,\u001b[0m \u001b[0merror\u001b[0m \u001b[1;32mor\u001b[0m \u001b[0mResponseError\u001b[0m\u001b[1;33m(\u001b[0m\u001b[0mcause\u001b[0m\u001b[1;33m)\u001b[0m\u001b[1;33m)\u001b[0m\u001b[1;33m\u001b[0m\u001b[1;33m\u001b[0m\u001b[0m\n\u001b[0m\u001b[0;32m    437\u001b[0m \u001b[1;33m\u001b[0m\u001b[0m\n",
      "\u001b[1;31mMaxRetryError\u001b[0m: HTTPSConnectionPool(host='swapi.co', port=443): Max retries exceeded with url: /api/people/4 (Caused by NewConnectionError('<urllib3.connection.VerifiedHTTPSConnection object at 0x0000026705A2E148>: Failed to establish a new connection: [WinError 10061] No connection could be made because the target machine actively refused it'))",
      "\nDuring handling of the above exception, another exception occurred:\n",
      "\u001b[1;31mConnectionError\u001b[0m                           Traceback (most recent call last)",
      "\u001b[1;32m<ipython-input-44-6661c1942eb6>\u001b[0m in \u001b[0;36m<module>\u001b[1;34m\u001b[0m\n\u001b[0;32m      1\u001b[0m \u001b[1;31m# Perform a get request for this character\u001b[0m\u001b[1;33m\u001b[0m\u001b[1;33m\u001b[0m\u001b[1;33m\u001b[0m\u001b[0m\n\u001b[1;32m----> 2\u001b[1;33m \u001b[0mresponse\u001b[0m \u001b[1;33m=\u001b[0m \u001b[0mrequests\u001b[0m\u001b[1;33m.\u001b[0m\u001b[0mget\u001b[0m\u001b[1;33m(\u001b[0m\u001b[0murl\u001b[0m\u001b[1;33m)\u001b[0m\u001b[1;33m\u001b[0m\u001b[1;33m\u001b[0m\u001b[0m\n\u001b[0m\u001b[0;32m      3\u001b[0m \u001b[0mdata\u001b[0m \u001b[1;33m=\u001b[0m \u001b[0mresponse\u001b[0m\u001b[1;33m.\u001b[0m\u001b[0mjson\u001b[0m\u001b[1;33m(\u001b[0m\u001b[1;33m)\u001b[0m\u001b[1;33m\u001b[0m\u001b[1;33m\u001b[0m\u001b[0m\n\u001b[0;32m      4\u001b[0m \u001b[0mdata\u001b[0m\u001b[1;33m\u001b[0m\u001b[1;33m\u001b[0m\u001b[0m\n",
      "\u001b[1;32m~\\Anaconda3\\envs\\PythonData\\lib\\site-packages\\requests\\api.py\u001b[0m in \u001b[0;36mget\u001b[1;34m(url, params, **kwargs)\u001b[0m\n\u001b[0;32m     73\u001b[0m \u001b[1;33m\u001b[0m\u001b[0m\n\u001b[0;32m     74\u001b[0m     \u001b[0mkwargs\u001b[0m\u001b[1;33m.\u001b[0m\u001b[0msetdefault\u001b[0m\u001b[1;33m(\u001b[0m\u001b[1;34m'allow_redirects'\u001b[0m\u001b[1;33m,\u001b[0m \u001b[1;32mTrue\u001b[0m\u001b[1;33m)\u001b[0m\u001b[1;33m\u001b[0m\u001b[1;33m\u001b[0m\u001b[0m\n\u001b[1;32m---> 75\u001b[1;33m     \u001b[1;32mreturn\u001b[0m \u001b[0mrequest\u001b[0m\u001b[1;33m(\u001b[0m\u001b[1;34m'get'\u001b[0m\u001b[1;33m,\u001b[0m \u001b[0murl\u001b[0m\u001b[1;33m,\u001b[0m \u001b[0mparams\u001b[0m\u001b[1;33m=\u001b[0m\u001b[0mparams\u001b[0m\u001b[1;33m,\u001b[0m \u001b[1;33m**\u001b[0m\u001b[0mkwargs\u001b[0m\u001b[1;33m)\u001b[0m\u001b[1;33m\u001b[0m\u001b[1;33m\u001b[0m\u001b[0m\n\u001b[0m\u001b[0;32m     76\u001b[0m \u001b[1;33m\u001b[0m\u001b[0m\n\u001b[0;32m     77\u001b[0m \u001b[1;33m\u001b[0m\u001b[0m\n",
      "\u001b[1;32m~\\Anaconda3\\envs\\PythonData\\lib\\site-packages\\requests\\api.py\u001b[0m in \u001b[0;36mrequest\u001b[1;34m(method, url, **kwargs)\u001b[0m\n\u001b[0;32m     58\u001b[0m     \u001b[1;31m# cases, and look like a memory leak in others.\u001b[0m\u001b[1;33m\u001b[0m\u001b[1;33m\u001b[0m\u001b[1;33m\u001b[0m\u001b[0m\n\u001b[0;32m     59\u001b[0m     \u001b[1;32mwith\u001b[0m \u001b[0msessions\u001b[0m\u001b[1;33m.\u001b[0m\u001b[0mSession\u001b[0m\u001b[1;33m(\u001b[0m\u001b[1;33m)\u001b[0m \u001b[1;32mas\u001b[0m \u001b[0msession\u001b[0m\u001b[1;33m:\u001b[0m\u001b[1;33m\u001b[0m\u001b[1;33m\u001b[0m\u001b[0m\n\u001b[1;32m---> 60\u001b[1;33m         \u001b[1;32mreturn\u001b[0m \u001b[0msession\u001b[0m\u001b[1;33m.\u001b[0m\u001b[0mrequest\u001b[0m\u001b[1;33m(\u001b[0m\u001b[0mmethod\u001b[0m\u001b[1;33m=\u001b[0m\u001b[0mmethod\u001b[0m\u001b[1;33m,\u001b[0m \u001b[0murl\u001b[0m\u001b[1;33m=\u001b[0m\u001b[0murl\u001b[0m\u001b[1;33m,\u001b[0m \u001b[1;33m**\u001b[0m\u001b[0mkwargs\u001b[0m\u001b[1;33m)\u001b[0m\u001b[1;33m\u001b[0m\u001b[1;33m\u001b[0m\u001b[0m\n\u001b[0m\u001b[0;32m     61\u001b[0m \u001b[1;33m\u001b[0m\u001b[0m\n\u001b[0;32m     62\u001b[0m \u001b[1;33m\u001b[0m\u001b[0m\n",
      "\u001b[1;32m~\\Anaconda3\\envs\\PythonData\\lib\\site-packages\\requests\\sessions.py\u001b[0m in \u001b[0;36mrequest\u001b[1;34m(self, method, url, params, data, headers, cookies, files, auth, timeout, allow_redirects, proxies, hooks, stream, verify, cert, json)\u001b[0m\n\u001b[0;32m    531\u001b[0m         }\n\u001b[0;32m    532\u001b[0m         \u001b[0msend_kwargs\u001b[0m\u001b[1;33m.\u001b[0m\u001b[0mupdate\u001b[0m\u001b[1;33m(\u001b[0m\u001b[0msettings\u001b[0m\u001b[1;33m)\u001b[0m\u001b[1;33m\u001b[0m\u001b[1;33m\u001b[0m\u001b[0m\n\u001b[1;32m--> 533\u001b[1;33m         \u001b[0mresp\u001b[0m \u001b[1;33m=\u001b[0m \u001b[0mself\u001b[0m\u001b[1;33m.\u001b[0m\u001b[0msend\u001b[0m\u001b[1;33m(\u001b[0m\u001b[0mprep\u001b[0m\u001b[1;33m,\u001b[0m \u001b[1;33m**\u001b[0m\u001b[0msend_kwargs\u001b[0m\u001b[1;33m)\u001b[0m\u001b[1;33m\u001b[0m\u001b[1;33m\u001b[0m\u001b[0m\n\u001b[0m\u001b[0;32m    534\u001b[0m \u001b[1;33m\u001b[0m\u001b[0m\n\u001b[0;32m    535\u001b[0m         \u001b[1;32mreturn\u001b[0m \u001b[0mresp\u001b[0m\u001b[1;33m\u001b[0m\u001b[1;33m\u001b[0m\u001b[0m\n",
      "\u001b[1;32m~\\Anaconda3\\envs\\PythonData\\lib\\site-packages\\requests\\sessions.py\u001b[0m in \u001b[0;36msend\u001b[1;34m(self, request, **kwargs)\u001b[0m\n\u001b[0;32m    644\u001b[0m \u001b[1;33m\u001b[0m\u001b[0m\n\u001b[0;32m    645\u001b[0m         \u001b[1;31m# Send the request\u001b[0m\u001b[1;33m\u001b[0m\u001b[1;33m\u001b[0m\u001b[1;33m\u001b[0m\u001b[0m\n\u001b[1;32m--> 646\u001b[1;33m         \u001b[0mr\u001b[0m \u001b[1;33m=\u001b[0m \u001b[0madapter\u001b[0m\u001b[1;33m.\u001b[0m\u001b[0msend\u001b[0m\u001b[1;33m(\u001b[0m\u001b[0mrequest\u001b[0m\u001b[1;33m,\u001b[0m \u001b[1;33m**\u001b[0m\u001b[0mkwargs\u001b[0m\u001b[1;33m)\u001b[0m\u001b[1;33m\u001b[0m\u001b[1;33m\u001b[0m\u001b[0m\n\u001b[0m\u001b[0;32m    647\u001b[0m \u001b[1;33m\u001b[0m\u001b[0m\n\u001b[0;32m    648\u001b[0m         \u001b[1;31m# Total elapsed time of the request (approximately)\u001b[0m\u001b[1;33m\u001b[0m\u001b[1;33m\u001b[0m\u001b[1;33m\u001b[0m\u001b[0m\n",
      "\u001b[1;32m~\\Anaconda3\\envs\\PythonData\\lib\\site-packages\\requests\\adapters.py\u001b[0m in \u001b[0;36msend\u001b[1;34m(self, request, stream, timeout, verify, cert, proxies)\u001b[0m\n\u001b[0;32m    514\u001b[0m                 \u001b[1;32mraise\u001b[0m \u001b[0mSSLError\u001b[0m\u001b[1;33m(\u001b[0m\u001b[0me\u001b[0m\u001b[1;33m,\u001b[0m \u001b[0mrequest\u001b[0m\u001b[1;33m=\u001b[0m\u001b[0mrequest\u001b[0m\u001b[1;33m)\u001b[0m\u001b[1;33m\u001b[0m\u001b[1;33m\u001b[0m\u001b[0m\n\u001b[0;32m    515\u001b[0m \u001b[1;33m\u001b[0m\u001b[0m\n\u001b[1;32m--> 516\u001b[1;33m             \u001b[1;32mraise\u001b[0m \u001b[0mConnectionError\u001b[0m\u001b[1;33m(\u001b[0m\u001b[0me\u001b[0m\u001b[1;33m,\u001b[0m \u001b[0mrequest\u001b[0m\u001b[1;33m=\u001b[0m\u001b[0mrequest\u001b[0m\u001b[1;33m)\u001b[0m\u001b[1;33m\u001b[0m\u001b[1;33m\u001b[0m\u001b[0m\n\u001b[0m\u001b[0;32m    517\u001b[0m \u001b[1;33m\u001b[0m\u001b[0m\n\u001b[0;32m    518\u001b[0m         \u001b[1;32mexcept\u001b[0m \u001b[0mClosedPoolError\u001b[0m \u001b[1;32mas\u001b[0m \u001b[0me\u001b[0m\u001b[1;33m:\u001b[0m\u001b[1;33m\u001b[0m\u001b[1;33m\u001b[0m\u001b[0m\n",
      "\u001b[1;31mConnectionError\u001b[0m: HTTPSConnectionPool(host='swapi.co', port=443): Max retries exceeded with url: /api/people/4 (Caused by NewConnectionError('<urllib3.connection.VerifiedHTTPSConnection object at 0x0000026705A2E148>: Failed to establish a new connection: [WinError 10061] No connection could be made because the target machine actively refused it'))"
     ]
    }
   ],
   "source": [
    "# Perform a get request for this character\n",
    "response = requests.get(url)\n",
    "data = response.json()\n",
    "data"
   ]
  },
  {
   "cell_type": "code",
   "execution_count": 47,
   "metadata": {},
   "outputs": [
    {
     "data": {
      "text/plain": [
       "{'birth_year': '41.9BBY',\n",
       " 'created': '2014-12-10T15:18:20.704000Z',\n",
       " 'edited': '2014-12-20T21:17:50.313000Z',\n",
       " 'eye_color': 'yellow',\n",
       " 'films': ['https://swapi.co/api/films/2/',\n",
       "  'https://swapi.co/api/films/6/',\n",
       "  'https://swapi.co/api/films/3/',\n",
       "  'https://swapi.co/api/films/1/'],\n",
       " 'gender': 'male',\n",
       " 'hair_color': 'none',\n",
       " 'height': '202',\n",
       " 'homeworld': 'https://swapi.co/api/planets/1/',\n",
       " 'mass': '136',\n",
       " 'name': 'Darth Vader',\n",
       " 'skin_color': 'white',\n",
       " 'species': ['https://swapi.co/api/species/1/'],\n",
       " 'starships': ['https://swapi.co/api/starships/13/'],\n",
       " 'url': 'https://swapi.co/api/people/4/',\n",
       " 'vehicles': []}"
      ]
     },
     "execution_count": 47,
     "metadata": {},
     "output_type": "execute_result"
    }
   ],
   "source": [
    "Dictionary3 = {\n",
    "    \"birth_year\": \"41.9BBY\",\n",
    "    \"created\": \"2014-12-10T15:18:20.704000Z\",\n",
    "    \"edited\": \"2014-12-20T21:17:50.313000Z\",\n",
    "    \"eye_color\": \"yellow\",\n",
    "    \"films\": [\n",
    "        \"https://swapi.co/api/films/2/\",\n",
    "        \"https://swapi.co/api/films/6/\",\n",
    "        \"https://swapi.co/api/films/3/\",\n",
    "        \"https://swapi.co/api/films/1/\"\n",
    "    ],\n",
    "    \"gender\": \"male\",\n",
    "    \"hair_color\": \"none\",\n",
    "    \"height\": \"202\",\n",
    "    \"homeworld\": \"https://swapi.co/api/planets/1/\",\n",
    "    \"mass\": \"136\",\n",
    "    \"name\": \"Darth Vader\",\n",
    "    \"skin_color\": \"white\",\n",
    "    \"species\": [\n",
    "        \"https://swapi.co/api/species/1/\"\n",
    "    ],\n",
    "    \"starships\": [\n",
    "        \"https://swapi.co/api/starships/13/\"\n",
    "    ],\n",
    "    \"url\": \"https://swapi.co/api/people/4/\",\n",
    "    \"vehicles\": []\n",
    "}\n",
    "Dictionary3"
   ]
  },
  {
   "cell_type": "code",
   "execution_count": 48,
   "metadata": {},
   "outputs": [
    {
     "name": "stdout",
     "output_type": "stream",
     "text": [
      "Darth Vader\n"
     ]
    }
   ],
   "source": [
    "character_name = Dictionary3[\"name\"]\n",
    "print(character_name)"
   ]
  },
  {
   "cell_type": "code",
   "execution_count": 49,
   "metadata": {},
   "outputs": [
    {
     "name": "stdout",
     "output_type": "stream",
     "text": [
      "4\n"
     ]
    }
   ],
   "source": [
    "film_number = len(Dictionary3[\"films\"])\n",
    "print(film_number)"
   ]
  },
  {
   "cell_type": "code",
   "execution_count": 51,
   "metadata": {},
   "outputs": [
    {
     "data": {
      "text/plain": [
       "'https://swapi.co/api/starships/13/'"
      ]
     },
     "execution_count": 51,
     "metadata": {},
     "output_type": "execute_result"
    }
   ],
   "source": [
    "first_ship_url = Dictionary3[\"starships\"][0]\n",
    "#ship_response = requests.get(first_ship_url).json()\n",
    "#ship_response\n",
    "first_ship_url"
   ]
  },
  {
   "cell_type": "code",
   "execution_count": 53,
   "metadata": {},
   "outputs": [
    {
     "ename": "ConnectionError",
     "evalue": "HTTPSConnectionPool(host='swapi.co', port=443): Max retries exceeded with url: /api/starships/13/ (Caused by NewConnectionError('<urllib3.connection.VerifiedHTTPSConnection object at 0x0000026705AA3108>: Failed to establish a new connection: [WinError 10061] No connection could be made because the target machine actively refused it'))",
     "output_type": "error",
     "traceback": [
      "\u001b[1;31m---------------------------------------------------------------------------\u001b[0m",
      "\u001b[1;31mConnectionRefusedError\u001b[0m                    Traceback (most recent call last)",
      "\u001b[1;32m~\\Anaconda3\\envs\\PythonData\\lib\\site-packages\\urllib3\\connection.py\u001b[0m in \u001b[0;36m_new_conn\u001b[1;34m(self)\u001b[0m\n\u001b[0;32m    156\u001b[0m             conn = connection.create_connection(\n\u001b[1;32m--> 157\u001b[1;33m                 \u001b[1;33m(\u001b[0m\u001b[0mself\u001b[0m\u001b[1;33m.\u001b[0m\u001b[0m_dns_host\u001b[0m\u001b[1;33m,\u001b[0m \u001b[0mself\u001b[0m\u001b[1;33m.\u001b[0m\u001b[0mport\u001b[0m\u001b[1;33m)\u001b[0m\u001b[1;33m,\u001b[0m \u001b[0mself\u001b[0m\u001b[1;33m.\u001b[0m\u001b[0mtimeout\u001b[0m\u001b[1;33m,\u001b[0m \u001b[1;33m**\u001b[0m\u001b[0mextra_kw\u001b[0m\u001b[1;33m\u001b[0m\u001b[1;33m\u001b[0m\u001b[0m\n\u001b[0m\u001b[0;32m    158\u001b[0m             )\n",
      "\u001b[1;32m~\\Anaconda3\\envs\\PythonData\\lib\\site-packages\\urllib3\\util\\connection.py\u001b[0m in \u001b[0;36mcreate_connection\u001b[1;34m(address, timeout, source_address, socket_options)\u001b[0m\n\u001b[0;32m     83\u001b[0m     \u001b[1;32mif\u001b[0m \u001b[0merr\u001b[0m \u001b[1;32mis\u001b[0m \u001b[1;32mnot\u001b[0m \u001b[1;32mNone\u001b[0m\u001b[1;33m:\u001b[0m\u001b[1;33m\u001b[0m\u001b[1;33m\u001b[0m\u001b[0m\n\u001b[1;32m---> 84\u001b[1;33m         \u001b[1;32mraise\u001b[0m \u001b[0merr\u001b[0m\u001b[1;33m\u001b[0m\u001b[1;33m\u001b[0m\u001b[0m\n\u001b[0m\u001b[0;32m     85\u001b[0m \u001b[1;33m\u001b[0m\u001b[0m\n",
      "\u001b[1;32m~\\Anaconda3\\envs\\PythonData\\lib\\site-packages\\urllib3\\util\\connection.py\u001b[0m in \u001b[0;36mcreate_connection\u001b[1;34m(address, timeout, source_address, socket_options)\u001b[0m\n\u001b[0;32m     73\u001b[0m                 \u001b[0msock\u001b[0m\u001b[1;33m.\u001b[0m\u001b[0mbind\u001b[0m\u001b[1;33m(\u001b[0m\u001b[0msource_address\u001b[0m\u001b[1;33m)\u001b[0m\u001b[1;33m\u001b[0m\u001b[1;33m\u001b[0m\u001b[0m\n\u001b[1;32m---> 74\u001b[1;33m             \u001b[0msock\u001b[0m\u001b[1;33m.\u001b[0m\u001b[0mconnect\u001b[0m\u001b[1;33m(\u001b[0m\u001b[0msa\u001b[0m\u001b[1;33m)\u001b[0m\u001b[1;33m\u001b[0m\u001b[1;33m\u001b[0m\u001b[0m\n\u001b[0m\u001b[0;32m     75\u001b[0m             \u001b[1;32mreturn\u001b[0m \u001b[0msock\u001b[0m\u001b[1;33m\u001b[0m\u001b[1;33m\u001b[0m\u001b[0m\n",
      "\u001b[1;31mConnectionRefusedError\u001b[0m: [WinError 10061] No connection could be made because the target machine actively refused it",
      "\nDuring handling of the above exception, another exception occurred:\n",
      "\u001b[1;31mNewConnectionError\u001b[0m                        Traceback (most recent call last)",
      "\u001b[1;32m~\\Anaconda3\\envs\\PythonData\\lib\\site-packages\\urllib3\\connectionpool.py\u001b[0m in \u001b[0;36murlopen\u001b[1;34m(self, method, url, body, headers, retries, redirect, assert_same_host, timeout, pool_timeout, release_conn, chunked, body_pos, **response_kw)\u001b[0m\n\u001b[0;32m    671\u001b[0m                 \u001b[0mheaders\u001b[0m\u001b[1;33m=\u001b[0m\u001b[0mheaders\u001b[0m\u001b[1;33m,\u001b[0m\u001b[1;33m\u001b[0m\u001b[1;33m\u001b[0m\u001b[0m\n\u001b[1;32m--> 672\u001b[1;33m                 \u001b[0mchunked\u001b[0m\u001b[1;33m=\u001b[0m\u001b[0mchunked\u001b[0m\u001b[1;33m,\u001b[0m\u001b[1;33m\u001b[0m\u001b[1;33m\u001b[0m\u001b[0m\n\u001b[0m\u001b[0;32m    673\u001b[0m             )\n",
      "\u001b[1;32m~\\Anaconda3\\envs\\PythonData\\lib\\site-packages\\urllib3\\connectionpool.py\u001b[0m in \u001b[0;36m_make_request\u001b[1;34m(self, conn, method, url, timeout, chunked, **httplib_request_kw)\u001b[0m\n\u001b[0;32m    375\u001b[0m         \u001b[1;32mtry\u001b[0m\u001b[1;33m:\u001b[0m\u001b[1;33m\u001b[0m\u001b[1;33m\u001b[0m\u001b[0m\n\u001b[1;32m--> 376\u001b[1;33m             \u001b[0mself\u001b[0m\u001b[1;33m.\u001b[0m\u001b[0m_validate_conn\u001b[0m\u001b[1;33m(\u001b[0m\u001b[0mconn\u001b[0m\u001b[1;33m)\u001b[0m\u001b[1;33m\u001b[0m\u001b[1;33m\u001b[0m\u001b[0m\n\u001b[0m\u001b[0;32m    377\u001b[0m         \u001b[1;32mexcept\u001b[0m \u001b[1;33m(\u001b[0m\u001b[0mSocketTimeout\u001b[0m\u001b[1;33m,\u001b[0m \u001b[0mBaseSSLError\u001b[0m\u001b[1;33m)\u001b[0m \u001b[1;32mas\u001b[0m \u001b[0me\u001b[0m\u001b[1;33m:\u001b[0m\u001b[1;33m\u001b[0m\u001b[1;33m\u001b[0m\u001b[0m\n",
      "\u001b[1;32m~\\Anaconda3\\envs\\PythonData\\lib\\site-packages\\urllib3\\connectionpool.py\u001b[0m in \u001b[0;36m_validate_conn\u001b[1;34m(self, conn)\u001b[0m\n\u001b[0;32m    993\u001b[0m         \u001b[1;32mif\u001b[0m \u001b[1;32mnot\u001b[0m \u001b[0mgetattr\u001b[0m\u001b[1;33m(\u001b[0m\u001b[0mconn\u001b[0m\u001b[1;33m,\u001b[0m \u001b[1;34m\"sock\"\u001b[0m\u001b[1;33m,\u001b[0m \u001b[1;32mNone\u001b[0m\u001b[1;33m)\u001b[0m\u001b[1;33m:\u001b[0m  \u001b[1;31m# AppEngine might not have  `.sock`\u001b[0m\u001b[1;33m\u001b[0m\u001b[1;33m\u001b[0m\u001b[0m\n\u001b[1;32m--> 994\u001b[1;33m             \u001b[0mconn\u001b[0m\u001b[1;33m.\u001b[0m\u001b[0mconnect\u001b[0m\u001b[1;33m(\u001b[0m\u001b[1;33m)\u001b[0m\u001b[1;33m\u001b[0m\u001b[1;33m\u001b[0m\u001b[0m\n\u001b[0m\u001b[0;32m    995\u001b[0m \u001b[1;33m\u001b[0m\u001b[0m\n",
      "\u001b[1;32m~\\Anaconda3\\envs\\PythonData\\lib\\site-packages\\urllib3\\connection.py\u001b[0m in \u001b[0;36mconnect\u001b[1;34m(self)\u001b[0m\n\u001b[0;32m    299\u001b[0m         \u001b[1;31m# Add certificate verification\u001b[0m\u001b[1;33m\u001b[0m\u001b[1;33m\u001b[0m\u001b[1;33m\u001b[0m\u001b[0m\n\u001b[1;32m--> 300\u001b[1;33m         \u001b[0mconn\u001b[0m \u001b[1;33m=\u001b[0m \u001b[0mself\u001b[0m\u001b[1;33m.\u001b[0m\u001b[0m_new_conn\u001b[0m\u001b[1;33m(\u001b[0m\u001b[1;33m)\u001b[0m\u001b[1;33m\u001b[0m\u001b[1;33m\u001b[0m\u001b[0m\n\u001b[0m\u001b[0;32m    301\u001b[0m         \u001b[0mhostname\u001b[0m \u001b[1;33m=\u001b[0m \u001b[0mself\u001b[0m\u001b[1;33m.\u001b[0m\u001b[0mhost\u001b[0m\u001b[1;33m\u001b[0m\u001b[1;33m\u001b[0m\u001b[0m\n",
      "\u001b[1;32m~\\Anaconda3\\envs\\PythonData\\lib\\site-packages\\urllib3\\connection.py\u001b[0m in \u001b[0;36m_new_conn\u001b[1;34m(self)\u001b[0m\n\u001b[0;32m    168\u001b[0m             raise NewConnectionError(\n\u001b[1;32m--> 169\u001b[1;33m                 \u001b[0mself\u001b[0m\u001b[1;33m,\u001b[0m \u001b[1;34m\"Failed to establish a new connection: %s\"\u001b[0m \u001b[1;33m%\u001b[0m \u001b[0me\u001b[0m\u001b[1;33m\u001b[0m\u001b[1;33m\u001b[0m\u001b[0m\n\u001b[0m\u001b[0;32m    170\u001b[0m             )\n",
      "\u001b[1;31mNewConnectionError\u001b[0m: <urllib3.connection.VerifiedHTTPSConnection object at 0x0000026705AA3108>: Failed to establish a new connection: [WinError 10061] No connection could be made because the target machine actively refused it",
      "\nDuring handling of the above exception, another exception occurred:\n",
      "\u001b[1;31mMaxRetryError\u001b[0m                             Traceback (most recent call last)",
      "\u001b[1;32m~\\Anaconda3\\envs\\PythonData\\lib\\site-packages\\requests\\adapters.py\u001b[0m in \u001b[0;36msend\u001b[1;34m(self, request, stream, timeout, verify, cert, proxies)\u001b[0m\n\u001b[0;32m    448\u001b[0m                     \u001b[0mretries\u001b[0m\u001b[1;33m=\u001b[0m\u001b[0mself\u001b[0m\u001b[1;33m.\u001b[0m\u001b[0mmax_retries\u001b[0m\u001b[1;33m,\u001b[0m\u001b[1;33m\u001b[0m\u001b[1;33m\u001b[0m\u001b[0m\n\u001b[1;32m--> 449\u001b[1;33m                     \u001b[0mtimeout\u001b[0m\u001b[1;33m=\u001b[0m\u001b[0mtimeout\u001b[0m\u001b[1;33m\u001b[0m\u001b[1;33m\u001b[0m\u001b[0m\n\u001b[0m\u001b[0;32m    450\u001b[0m                 )\n",
      "\u001b[1;32m~\\Anaconda3\\envs\\PythonData\\lib\\site-packages\\urllib3\\connectionpool.py\u001b[0m in \u001b[0;36murlopen\u001b[1;34m(self, method, url, body, headers, retries, redirect, assert_same_host, timeout, pool_timeout, release_conn, chunked, body_pos, **response_kw)\u001b[0m\n\u001b[0;32m    719\u001b[0m             retries = retries.increment(\n\u001b[1;32m--> 720\u001b[1;33m                 \u001b[0mmethod\u001b[0m\u001b[1;33m,\u001b[0m \u001b[0murl\u001b[0m\u001b[1;33m,\u001b[0m \u001b[0merror\u001b[0m\u001b[1;33m=\u001b[0m\u001b[0me\u001b[0m\u001b[1;33m,\u001b[0m \u001b[0m_pool\u001b[0m\u001b[1;33m=\u001b[0m\u001b[0mself\u001b[0m\u001b[1;33m,\u001b[0m \u001b[0m_stacktrace\u001b[0m\u001b[1;33m=\u001b[0m\u001b[0msys\u001b[0m\u001b[1;33m.\u001b[0m\u001b[0mexc_info\u001b[0m\u001b[1;33m(\u001b[0m\u001b[1;33m)\u001b[0m\u001b[1;33m[\u001b[0m\u001b[1;36m2\u001b[0m\u001b[1;33m]\u001b[0m\u001b[1;33m\u001b[0m\u001b[1;33m\u001b[0m\u001b[0m\n\u001b[0m\u001b[0;32m    721\u001b[0m             )\n",
      "\u001b[1;32m~\\Anaconda3\\envs\\PythonData\\lib\\site-packages\\urllib3\\util\\retry.py\u001b[0m in \u001b[0;36mincrement\u001b[1;34m(self, method, url, response, error, _pool, _stacktrace)\u001b[0m\n\u001b[0;32m    435\u001b[0m         \u001b[1;32mif\u001b[0m \u001b[0mnew_retry\u001b[0m\u001b[1;33m.\u001b[0m\u001b[0mis_exhausted\u001b[0m\u001b[1;33m(\u001b[0m\u001b[1;33m)\u001b[0m\u001b[1;33m:\u001b[0m\u001b[1;33m\u001b[0m\u001b[1;33m\u001b[0m\u001b[0m\n\u001b[1;32m--> 436\u001b[1;33m             \u001b[1;32mraise\u001b[0m \u001b[0mMaxRetryError\u001b[0m\u001b[1;33m(\u001b[0m\u001b[0m_pool\u001b[0m\u001b[1;33m,\u001b[0m \u001b[0murl\u001b[0m\u001b[1;33m,\u001b[0m \u001b[0merror\u001b[0m \u001b[1;32mor\u001b[0m \u001b[0mResponseError\u001b[0m\u001b[1;33m(\u001b[0m\u001b[0mcause\u001b[0m\u001b[1;33m)\u001b[0m\u001b[1;33m)\u001b[0m\u001b[1;33m\u001b[0m\u001b[1;33m\u001b[0m\u001b[0m\n\u001b[0m\u001b[0;32m    437\u001b[0m \u001b[1;33m\u001b[0m\u001b[0m\n",
      "\u001b[1;31mMaxRetryError\u001b[0m: HTTPSConnectionPool(host='swapi.co', port=443): Max retries exceeded with url: /api/starships/13/ (Caused by NewConnectionError('<urllib3.connection.VerifiedHTTPSConnection object at 0x0000026705AA3108>: Failed to establish a new connection: [WinError 10061] No connection could be made because the target machine actively refused it'))",
      "\nDuring handling of the above exception, another exception occurred:\n",
      "\u001b[1;31mConnectionError\u001b[0m                           Traceback (most recent call last)",
      "\u001b[1;32m<ipython-input-53-7549fb893faf>\u001b[0m in \u001b[0;36m<module>\u001b[1;34m\u001b[0m\n\u001b[1;32m----> 1\u001b[1;33m \u001b[0mship_response\u001b[0m \u001b[1;33m=\u001b[0m \u001b[0mrequests\u001b[0m\u001b[1;33m.\u001b[0m\u001b[0mget\u001b[0m\u001b[1;33m(\u001b[0m\u001b[0mfirst_ship_url\u001b[0m\u001b[1;33m)\u001b[0m\u001b[1;33m.\u001b[0m\u001b[0mjson\u001b[0m\u001b[1;33m(\u001b[0m\u001b[1;33m)\u001b[0m\u001b[1;33m\u001b[0m\u001b[1;33m\u001b[0m\u001b[0m\n\u001b[0m\u001b[0;32m      2\u001b[0m \u001b[0mship_response\u001b[0m\u001b[1;33m\u001b[0m\u001b[1;33m\u001b[0m\u001b[0m\n",
      "\u001b[1;32m~\\Anaconda3\\envs\\PythonData\\lib\\site-packages\\requests\\api.py\u001b[0m in \u001b[0;36mget\u001b[1;34m(url, params, **kwargs)\u001b[0m\n\u001b[0;32m     73\u001b[0m \u001b[1;33m\u001b[0m\u001b[0m\n\u001b[0;32m     74\u001b[0m     \u001b[0mkwargs\u001b[0m\u001b[1;33m.\u001b[0m\u001b[0msetdefault\u001b[0m\u001b[1;33m(\u001b[0m\u001b[1;34m'allow_redirects'\u001b[0m\u001b[1;33m,\u001b[0m \u001b[1;32mTrue\u001b[0m\u001b[1;33m)\u001b[0m\u001b[1;33m\u001b[0m\u001b[1;33m\u001b[0m\u001b[0m\n\u001b[1;32m---> 75\u001b[1;33m     \u001b[1;32mreturn\u001b[0m \u001b[0mrequest\u001b[0m\u001b[1;33m(\u001b[0m\u001b[1;34m'get'\u001b[0m\u001b[1;33m,\u001b[0m \u001b[0murl\u001b[0m\u001b[1;33m,\u001b[0m \u001b[0mparams\u001b[0m\u001b[1;33m=\u001b[0m\u001b[0mparams\u001b[0m\u001b[1;33m,\u001b[0m \u001b[1;33m**\u001b[0m\u001b[0mkwargs\u001b[0m\u001b[1;33m)\u001b[0m\u001b[1;33m\u001b[0m\u001b[1;33m\u001b[0m\u001b[0m\n\u001b[0m\u001b[0;32m     76\u001b[0m \u001b[1;33m\u001b[0m\u001b[0m\n\u001b[0;32m     77\u001b[0m \u001b[1;33m\u001b[0m\u001b[0m\n",
      "\u001b[1;32m~\\Anaconda3\\envs\\PythonData\\lib\\site-packages\\requests\\api.py\u001b[0m in \u001b[0;36mrequest\u001b[1;34m(method, url, **kwargs)\u001b[0m\n\u001b[0;32m     58\u001b[0m     \u001b[1;31m# cases, and look like a memory leak in others.\u001b[0m\u001b[1;33m\u001b[0m\u001b[1;33m\u001b[0m\u001b[1;33m\u001b[0m\u001b[0m\n\u001b[0;32m     59\u001b[0m     \u001b[1;32mwith\u001b[0m \u001b[0msessions\u001b[0m\u001b[1;33m.\u001b[0m\u001b[0mSession\u001b[0m\u001b[1;33m(\u001b[0m\u001b[1;33m)\u001b[0m \u001b[1;32mas\u001b[0m \u001b[0msession\u001b[0m\u001b[1;33m:\u001b[0m\u001b[1;33m\u001b[0m\u001b[1;33m\u001b[0m\u001b[0m\n\u001b[1;32m---> 60\u001b[1;33m         \u001b[1;32mreturn\u001b[0m \u001b[0msession\u001b[0m\u001b[1;33m.\u001b[0m\u001b[0mrequest\u001b[0m\u001b[1;33m(\u001b[0m\u001b[0mmethod\u001b[0m\u001b[1;33m=\u001b[0m\u001b[0mmethod\u001b[0m\u001b[1;33m,\u001b[0m \u001b[0murl\u001b[0m\u001b[1;33m=\u001b[0m\u001b[0murl\u001b[0m\u001b[1;33m,\u001b[0m \u001b[1;33m**\u001b[0m\u001b[0mkwargs\u001b[0m\u001b[1;33m)\u001b[0m\u001b[1;33m\u001b[0m\u001b[1;33m\u001b[0m\u001b[0m\n\u001b[0m\u001b[0;32m     61\u001b[0m \u001b[1;33m\u001b[0m\u001b[0m\n\u001b[0;32m     62\u001b[0m \u001b[1;33m\u001b[0m\u001b[0m\n",
      "\u001b[1;32m~\\Anaconda3\\envs\\PythonData\\lib\\site-packages\\requests\\sessions.py\u001b[0m in \u001b[0;36mrequest\u001b[1;34m(self, method, url, params, data, headers, cookies, files, auth, timeout, allow_redirects, proxies, hooks, stream, verify, cert, json)\u001b[0m\n\u001b[0;32m    531\u001b[0m         }\n\u001b[0;32m    532\u001b[0m         \u001b[0msend_kwargs\u001b[0m\u001b[1;33m.\u001b[0m\u001b[0mupdate\u001b[0m\u001b[1;33m(\u001b[0m\u001b[0msettings\u001b[0m\u001b[1;33m)\u001b[0m\u001b[1;33m\u001b[0m\u001b[1;33m\u001b[0m\u001b[0m\n\u001b[1;32m--> 533\u001b[1;33m         \u001b[0mresp\u001b[0m \u001b[1;33m=\u001b[0m \u001b[0mself\u001b[0m\u001b[1;33m.\u001b[0m\u001b[0msend\u001b[0m\u001b[1;33m(\u001b[0m\u001b[0mprep\u001b[0m\u001b[1;33m,\u001b[0m \u001b[1;33m**\u001b[0m\u001b[0msend_kwargs\u001b[0m\u001b[1;33m)\u001b[0m\u001b[1;33m\u001b[0m\u001b[1;33m\u001b[0m\u001b[0m\n\u001b[0m\u001b[0;32m    534\u001b[0m \u001b[1;33m\u001b[0m\u001b[0m\n\u001b[0;32m    535\u001b[0m         \u001b[1;32mreturn\u001b[0m \u001b[0mresp\u001b[0m\u001b[1;33m\u001b[0m\u001b[1;33m\u001b[0m\u001b[0m\n",
      "\u001b[1;32m~\\Anaconda3\\envs\\PythonData\\lib\\site-packages\\requests\\sessions.py\u001b[0m in \u001b[0;36msend\u001b[1;34m(self, request, **kwargs)\u001b[0m\n\u001b[0;32m    644\u001b[0m \u001b[1;33m\u001b[0m\u001b[0m\n\u001b[0;32m    645\u001b[0m         \u001b[1;31m# Send the request\u001b[0m\u001b[1;33m\u001b[0m\u001b[1;33m\u001b[0m\u001b[1;33m\u001b[0m\u001b[0m\n\u001b[1;32m--> 646\u001b[1;33m         \u001b[0mr\u001b[0m \u001b[1;33m=\u001b[0m \u001b[0madapter\u001b[0m\u001b[1;33m.\u001b[0m\u001b[0msend\u001b[0m\u001b[1;33m(\u001b[0m\u001b[0mrequest\u001b[0m\u001b[1;33m,\u001b[0m \u001b[1;33m**\u001b[0m\u001b[0mkwargs\u001b[0m\u001b[1;33m)\u001b[0m\u001b[1;33m\u001b[0m\u001b[1;33m\u001b[0m\u001b[0m\n\u001b[0m\u001b[0;32m    647\u001b[0m \u001b[1;33m\u001b[0m\u001b[0m\n\u001b[0;32m    648\u001b[0m         \u001b[1;31m# Total elapsed time of the request (approximately)\u001b[0m\u001b[1;33m\u001b[0m\u001b[1;33m\u001b[0m\u001b[1;33m\u001b[0m\u001b[0m\n",
      "\u001b[1;32m~\\Anaconda3\\envs\\PythonData\\lib\\site-packages\\requests\\adapters.py\u001b[0m in \u001b[0;36msend\u001b[1;34m(self, request, stream, timeout, verify, cert, proxies)\u001b[0m\n\u001b[0;32m    514\u001b[0m                 \u001b[1;32mraise\u001b[0m \u001b[0mSSLError\u001b[0m\u001b[1;33m(\u001b[0m\u001b[0me\u001b[0m\u001b[1;33m,\u001b[0m \u001b[0mrequest\u001b[0m\u001b[1;33m=\u001b[0m\u001b[0mrequest\u001b[0m\u001b[1;33m)\u001b[0m\u001b[1;33m\u001b[0m\u001b[1;33m\u001b[0m\u001b[0m\n\u001b[0;32m    515\u001b[0m \u001b[1;33m\u001b[0m\u001b[0m\n\u001b[1;32m--> 516\u001b[1;33m             \u001b[1;32mraise\u001b[0m \u001b[0mConnectionError\u001b[0m\u001b[1;33m(\u001b[0m\u001b[0me\u001b[0m\u001b[1;33m,\u001b[0m \u001b[0mrequest\u001b[0m\u001b[1;33m=\u001b[0m\u001b[0mrequest\u001b[0m\u001b[1;33m)\u001b[0m\u001b[1;33m\u001b[0m\u001b[1;33m\u001b[0m\u001b[0m\n\u001b[0m\u001b[0;32m    517\u001b[0m \u001b[1;33m\u001b[0m\u001b[0m\n\u001b[0;32m    518\u001b[0m         \u001b[1;32mexcept\u001b[0m \u001b[0mClosedPoolError\u001b[0m \u001b[1;32mas\u001b[0m \u001b[0me\u001b[0m\u001b[1;33m:\u001b[0m\u001b[1;33m\u001b[0m\u001b[1;33m\u001b[0m\u001b[0m\n",
      "\u001b[1;31mConnectionError\u001b[0m: HTTPSConnectionPool(host='swapi.co', port=443): Max retries exceeded with url: /api/starships/13/ (Caused by NewConnectionError('<urllib3.connection.VerifiedHTTPSConnection object at 0x0000026705AA3108>: Failed to establish a new connection: [WinError 10061] No connection could be made because the target machine actively refused it'))"
     ]
    }
   ],
   "source": [
    "ship_response = requests.get(first_ship_url).json()\n",
    "ship_response"
   ]
  },
  {
   "cell_type": "code",
   "execution_count": 55,
   "metadata": {},
   "outputs": [
    {
     "data": {
      "text/plain": [
       "{'name': 'TIE Advanced x1',\n",
       " 'model': 'Twin Ion Engine Advanced x1',\n",
       " 'manufacturer': 'Sienar Fleet Systems',\n",
       " 'cost_in_credits': 'unknown',\n",
       " 'length': '9.2',\n",
       " 'max_atmosphering_speed': '1200',\n",
       " 'crew': '1',\n",
       " 'passengers': '0',\n",
       " 'cargo_capacity': '150',\n",
       " 'consumables': '5 days',\n",
       " 'hyperdrive_rating': '1.0',\n",
       " 'MGLT': '105',\n",
       " 'starship_class': 'Starfighter',\n",
       " 'pilots': ['https://swapi.co/api/people/4/'],\n",
       " 'films': ['https://swapi.co/api/films/1/'],\n",
       " 'created': '2014-12-12T11:21:32.991000Z',\n",
       " 'edited': '2014-12-22T17:35:44.549047Z',\n",
       " 'url': 'https://swapi.co/api/starships/13/'}"
      ]
     },
     "execution_count": 55,
     "metadata": {},
     "output_type": "execute_result"
    }
   ],
   "source": [
    "ship_response = {'name': 'TIE Advanced x1',\n",
    " 'model': 'Twin Ion Engine Advanced x1',\n",
    " 'manufacturer': 'Sienar Fleet Systems',\n",
    " 'cost_in_credits': 'unknown',\n",
    " 'length': '9.2',\n",
    " 'max_atmosphering_speed': '1200',\n",
    " 'crew': '1',\n",
    " 'passengers': '0',\n",
    " 'cargo_capacity': '150',\n",
    " 'consumables': '5 days',\n",
    " 'hyperdrive_rating': '1.0',\n",
    " 'MGLT': '105',\n",
    " 'starship_class': 'Starfighter',\n",
    " 'pilots': ['https://swapi.co/api/people/4/'],\n",
    " 'films': ['https://swapi.co/api/films/1/'],\n",
    " 'created': '2014-12-12T11:21:32.991000Z',\n",
    " 'edited': '2014-12-22T17:35:44.549047Z',\n",
    " 'url': 'https://swapi.co/api/starships/13/'}\n",
    "ship_response"
   ]
  },
  {
   "cell_type": "code",
   "execution_count": 56,
   "metadata": {},
   "outputs": [
    {
     "name": "stdout",
     "output_type": "stream",
     "text": [
      "Their first ship: TIE Advanced x1\n"
     ]
    }
   ],
   "source": [
    "# Print the name of the character's first starship\n",
    "first_ship = ship_response[\"name\"]\n",
    "print(f\"Their first ship: {first_ship}\")"
   ]
  },
  {
   "cell_type": "code",
   "execution_count": 57,
   "metadata": {},
   "outputs": [
    {
     "data": {
      "text/plain": [
       "'2014-12-22T17:35:44.549047Z'"
      ]
     },
     "execution_count": 57,
     "metadata": {},
     "output_type": "execute_result"
    }
   ],
   "source": [
    "ship_response['edited']"
   ]
  },
  {
   "cell_type": "code",
   "execution_count": 60,
   "metadata": {},
   "outputs": [
    {
     "data": {
      "text/plain": [
       "['https://swapi.co/api/films/2/',\n",
       " 'https://swapi.co/api/films/6/',\n",
       " 'https://swapi.co/api/films/3/',\n",
       " 'https://swapi.co/api/films/1/']"
      ]
     },
     "execution_count": 60,
     "metadata": {},
     "output_type": "execute_result"
    }
   ],
   "source": [
    "cur_film = []\n",
    "for film in Dictionary3['films']:\n",
    "    cur_film.append(film)\n",
    "cur_film"
   ]
  },
  {
   "cell_type": "code",
   "execution_count": 62,
   "metadata": {},
   "outputs": [
    {
     "name": "stdout",
     "output_type": "stream",
     "text": [
      "Darth Vader was in:\n",
      "['https://swapi.co/api/films/2/', 'https://swapi.co/api/films/6/', 'https://swapi.co/api/films/3/', 'https://swapi.co/api/films/1/']\n"
     ]
    }
   ],
   "source": [
    "print(f\"{character_name} was in:\")\n",
    "print(cur_film)"
   ]
  },
  {
   "cell_type": "code",
   "execution_count": 63,
   "metadata": {},
   "outputs": [],
   "source": [
    "url = \"http://numbersapi.com/\" "
   ]
  },
  {
   "cell_type": "code",
   "execution_count": 65,
   "metadata": {},
   "outputs": [
    {
     "name": "stdout",
     "output_type": "stream",
     "text": [
      "What type of data would you like to search for? [Trivia, Math, Date, or Year] Date\n"
     ]
    }
   ],
   "source": [
    "# Ask the user what kind of data they would like to search for\n",
    "question = (\"What type of data would you like to search for? \"\n",
    "            \"[Trivia, Math, Date, or Year] \")\n",
    "kind_of_search = input(question)"
   ]
  },
  {
   "cell_type": "code",
   "execution_count": 77,
   "metadata": {},
   "outputs": [
    {
     "name": "stdout",
     "output_type": "stream",
     "text": [
      "What month would you like to search for?09\n",
      "What day would you like to search for? 18\n",
      "September 18th is the day in 1974 that Hurricane Fifi strikes Honduras with 110 mph winds, killing 5,000 people.\n"
     ]
    }
   ],
   "source": [
    "    if (kind_of_search.lower() == \"date\"):\n",
    "    # Collect the month to search for\n",
    "       month = input(\"What month would you like to search for?\")\n",
    "    # Collect the day to search for\n",
    "       day = input(\"What day would you like to search for? \")\n",
    "    #Make an API call to the \"date\" API and convert response object to JSON\n",
    "    response = requests.get(f\"{url}{month}/{day}/{kind_of_search.lower()}?json\").json()\n",
    "    #Print the fact stored within the response\n",
    "    print(response[\"text\"])"
   ]
  },
  {
   "cell_type": "code",
   "execution_count": 80,
   "metadata": {},
   "outputs": [
    {
     "name": "stdout",
     "output_type": "stream",
     "text": [
      "What type of data would you like to search for? [Trivia, Math, Date, or Year] Math\n"
     ]
    }
   ],
   "source": [
    "# Ask the user what kind of data they would like to search for\n",
    "question = (\"What type of data would you like to search for? \"\n",
    "            \"[Trivia, Math, Date, or Year] \")\n",
    "kind_of_search1 = input(question)"
   ]
  },
  {
   "cell_type": "code",
   "execution_count": 83,
   "metadata": {},
   "outputs": [
    {
     "name": "stdout",
     "output_type": "stream",
     "text": [
      "What number would you like to search for? 150\n",
      "{'text': '150 is a Harshad number and an abundant number.', 'number': 150, 'found': True, 'type': 'math'}\n"
     ]
    }
   ],
   "source": [
    "# Collect the number to search for\n",
    "number = input(\"What number would you like to search for? \")\n",
    "\n",
    "# Make an API call to the API and convert response object to JSON\n",
    "response = requests.get(url + number + \"/\" +  kind_of_search1.lower()+ \"?json\").json()\n",
    "#Print the fact stored within the response\n",
    "print(response)"
   ]
  },
  {
   "cell_type": "code",
   "execution_count": 1,
   "metadata": {},
   "outputs": [],
   "source": [
    "# Dependencies\n",
    "import requests\n",
    "import json"
   ]
  },
  {
   "cell_type": "code",
   "execution_count": 2,
   "metadata": {},
   "outputs": [],
   "source": [
    "from pprint import pprint "
   ]
  },
  {
   "cell_type": "code",
   "execution_count": 3,
   "metadata": {},
   "outputs": [],
   "source": [
    "url = \"http://www.omdbapi.com/?t=\"\n",
    "api_key = \"&apikey=trilogy\""
   ]
  },
  {
   "cell_type": "code",
   "execution_count": 4,
   "metadata": {},
   "outputs": [
    {
     "name": "stdout",
     "output_type": "stream",
     "text": [
      "http://www.omdbapi.com/?t=Aliens&apikey=trilogy\n"
     ]
    }
   ],
   "source": [
    "response = requests.get(url + \"Aliens\" + api_key)\n",
    "print(response.url)"
   ]
  },
  {
   "cell_type": "code",
   "execution_count": 5,
   "metadata": {},
   "outputs": [
    {
     "name": "stdout",
     "output_type": "stream",
     "text": [
      "{'Actors': 'Sigourney Weaver, Carrie Henn, Michael Biehn, Paul Reiser',\n",
      " 'Awards': 'Won 2 Oscars. Another 18 wins & 23 nominations.',\n",
      " 'BoxOffice': '$85,160,248',\n",
      " 'Country': 'USA',\n",
      " 'DVD': 'N/A',\n",
      " 'Director': 'James Cameron',\n",
      " 'Genre': 'Action, Adventure, Sci-Fi, Thriller',\n",
      " 'Language': 'English',\n",
      " 'Metascore': '84',\n",
      " 'Plot': 'Fifty-seven years after surviving an apocalyptic attack aboard her '\n",
      "         'space vessel by merciless space creatures, Officer Ripley awakens '\n",
      "         'from hyper-sleep and tries to warn anyone who will listen about the '\n",
      "         'predators.',\n",
      " 'Poster': 'https://m.media-amazon.com/images/M/MV5BZGU2OGY5ZTYtMWNhYy00NjZiLWI0NjUtZmNhY2JhNDRmODU3XkEyXkFqcGdeQXVyNzkwMjQ5NzM@._V1_SX300.jpg',\n",
      " 'Production': 'Twentieth Century Fox, Brandywine Productions',\n",
      " 'Rated': 'R',\n",
      " 'Ratings': [{'Source': 'Internet Movie Database', 'Value': '8.3/10'},\n",
      "             {'Source': 'Rotten Tomatoes', 'Value': '97%'},\n",
      "             {'Source': 'Metacritic', 'Value': '84/100'}],\n",
      " 'Released': '18 Jul 1986',\n",
      " 'Response': 'True',\n",
      " 'Runtime': '137 min',\n",
      " 'Title': 'Aliens',\n",
      " 'Type': 'movie',\n",
      " 'Website': 'N/A',\n",
      " 'Writer': 'James Cameron (story by), David Giler (story by), Walter Hill '\n",
      "           \"(story by), Dan O'Bannon (based on characters created by), Ronald \"\n",
      "           'Shusett (based on characters created by), James Cameron '\n",
      "           '(screenplay by)',\n",
      " 'Year': '1986',\n",
      " 'imdbID': 'tt0090605',\n",
      " 'imdbRating': '8.3',\n",
      " 'imdbVotes': '647,919'}\n"
     ]
    }
   ],
   "source": [
    "# Converting the response to JSON, and printing the result.\n",
    "data = response.json()\n",
    "pprint(data)"
   ]
  },
  {
   "cell_type": "code",
   "execution_count": 6,
   "metadata": {},
   "outputs": [
    {
     "data": {
      "text/plain": [
       "[{'Source': 'Internet Movie Database', 'Value': '8.3/10'},\n",
       " {'Source': 'Rotten Tomatoes', 'Value': '97%'},\n",
       " {'Source': 'Metacritic', 'Value': '84/100'}]"
      ]
     },
     "execution_count": 6,
     "metadata": {},
     "output_type": "execute_result"
    }
   ],
   "source": [
    "data['Ratings']"
   ]
  },
  {
   "cell_type": "code",
   "execution_count": 7,
   "metadata": {},
   "outputs": [
    {
     "data": {
      "text/plain": [
       "{'Source': 'Rotten Tomatoes', 'Value': '97%'}"
      ]
     },
     "execution_count": 7,
     "metadata": {},
     "output_type": "execute_result"
    }
   ],
   "source": [
    "data['Ratings'][1]"
   ]
  },
  {
   "cell_type": "code",
   "execution_count": 8,
   "metadata": {},
   "outputs": [
    {
     "name": "stdout",
     "output_type": "stream",
     "text": [
      "Source is Internet Movie Database\n",
      "Value is 8.3/10\n",
      "Source is Rotten Tomatoes\n",
      "Value is 97%\n",
      "Source is Metacritic\n",
      "Value is 84/100\n"
     ]
    }
   ],
   "source": [
    "for dic in data['Ratings']:\n",
    "    for val,cal in dic.items():\n",
    "        print(f'{val} is {cal}')"
   ]
  },
  {
   "cell_type": "code",
   "execution_count": 9,
   "metadata": {},
   "outputs": [
    {
     "name": "stdout",
     "output_type": "stream",
     "text": [
      "Movie was directed by James Cameron.\n",
      "Movie was released in USA.\n"
     ]
    }
   ],
   "source": [
    "# Print a few keys from the response JSON.\n",
    "print(f\"Movie was directed by {data['Director']}.\")\n",
    "print(f\"Movie was released in {data['Country']}.\")"
   ]
  },
  {
   "cell_type": "code",
   "execution_count": 14,
   "metadata": {},
   "outputs": [
    {
     "data": {
      "text/plain": [
       "{'Source': 'Internet Movie Database', 'Value': '8.3/10'}"
      ]
     },
     "execution_count": 14,
     "metadata": {},
     "output_type": "execute_result"
    }
   ],
   "source": [
    "Rating1 = data['Ratings'][0]\n",
    "Rating1"
   ]
  },
  {
   "cell_type": "code",
   "execution_count": 15,
   "metadata": {},
   "outputs": [
    {
     "data": {
      "text/plain": [
       "'8.3/10'"
      ]
     },
     "execution_count": 15,
     "metadata": {},
     "output_type": "execute_result"
    }
   ],
   "source": [
    "Rating1['Value']"
   ]
  },
  {
   "cell_type": "code",
   "execution_count": 16,
   "metadata": {},
   "outputs": [
    {
     "data": {
      "text/plain": [
       "'8.3/10'"
      ]
     },
     "execution_count": 16,
     "metadata": {},
     "output_type": "execute_result"
    }
   ],
   "source": [
    "data['Ratings'][0]['Value']"
   ]
  },
  {
   "cell_type": "code",
   "execution_count": 25,
   "metadata": {},
   "outputs": [
    {
     "name": "stdout",
     "output_type": "stream",
     "text": [
      "8.3/10\n",
      "97%\n",
      "84/100\n"
     ]
    }
   ],
   "source": [
    "for x in data['Ratings']:\n",
    "    print(x['Value'])"
   ]
  },
  {
   "cell_type": "code",
   "execution_count": 26,
   "metadata": {},
   "outputs": [
    {
     "name": "stdout",
     "output_type": "stream",
     "text": [
      "{'Source': 'Internet Movie Database', 'Value': '8.3/10'}\n",
      "{'Source': 'Rotten Tomatoes', 'Value': '97%'}\n",
      "{'Source': 'Metacritic', 'Value': '84/100'}\n"
     ]
    }
   ],
   "source": [
    "for x in data['Ratings']:\n",
    "    print(x)"
   ]
  },
  {
   "cell_type": "code",
   "execution_count": 27,
   "metadata": {},
   "outputs": [
    {
     "name": "stdout",
     "output_type": "stream",
     "text": [
      "Internet Movie Database\n",
      "Rotten Tomatoes\n",
      "Metacritic\n"
     ]
    }
   ],
   "source": [
    "for x in data['Ratings']:\n",
    "    print(x['Source'])"
   ]
  },
  {
   "cell_type": "code",
   "execution_count": 28,
   "metadata": {},
   "outputs": [],
   "source": [
    "url = \"http://www.omdbapi.com/?t=\"\n",
    "api_key = \"&apikey=trilogy\""
   ]
  },
  {
   "cell_type": "code",
   "execution_count": 29,
   "metadata": {},
   "outputs": [
    {
     "name": "stdout",
     "output_type": "stream",
     "text": [
      "http://www.omdbapi.com/?t=Aliens&apikey=trilogy\n"
     ]
    }
   ],
   "source": [
    "response = requests.get(url + \"Aliens\" + api_key)\n",
    "print(response.url)"
   ]
  },
  {
   "cell_type": "code",
   "execution_count": 30,
   "metadata": {},
   "outputs": [
    {
     "name": "stdout",
     "output_type": "stream",
     "text": [
      "{'Actors': 'Sigourney Weaver, Carrie Henn, Michael Biehn, Paul Reiser',\n",
      " 'Awards': 'Won 2 Oscars. Another 18 wins & 23 nominations.',\n",
      " 'BoxOffice': '$85,160,248',\n",
      " 'Country': 'USA',\n",
      " 'DVD': 'N/A',\n",
      " 'Director': 'James Cameron',\n",
      " 'Genre': 'Action, Adventure, Sci-Fi, Thriller',\n",
      " 'Language': 'English',\n",
      " 'Metascore': '84',\n",
      " 'Plot': 'Fifty-seven years after surviving an apocalyptic attack aboard her '\n",
      "         'space vessel by merciless space creatures, Officer Ripley awakens '\n",
      "         'from hyper-sleep and tries to warn anyone who will listen about the '\n",
      "         'predators.',\n",
      " 'Poster': 'https://m.media-amazon.com/images/M/MV5BZGU2OGY5ZTYtMWNhYy00NjZiLWI0NjUtZmNhY2JhNDRmODU3XkEyXkFqcGdeQXVyNzkwMjQ5NzM@._V1_SX300.jpg',\n",
      " 'Production': 'Twentieth Century Fox, Brandywine Productions',\n",
      " 'Rated': 'R',\n",
      " 'Ratings': [{'Source': 'Internet Movie Database', 'Value': '8.3/10'},\n",
      "             {'Source': 'Rotten Tomatoes', 'Value': '97%'},\n",
      "             {'Source': 'Metacritic', 'Value': '84/100'}],\n",
      " 'Released': '18 Jul 1986',\n",
      " 'Response': 'True',\n",
      " 'Runtime': '137 min',\n",
      " 'Title': 'Aliens',\n",
      " 'Type': 'movie',\n",
      " 'Website': 'N/A',\n",
      " 'Writer': 'James Cameron (story by), David Giler (story by), Walter Hill '\n",
      "           \"(story by), Dan O'Bannon (based on characters created by), Ronald \"\n",
      "           'Shusett (based on characters created by), James Cameron '\n",
      "           '(screenplay by)',\n",
      " 'Year': '1986',\n",
      " 'imdbID': 'tt0090605',\n",
      " 'imdbRating': '8.3',\n",
      " 'imdbVotes': '647,919'}\n"
     ]
    }
   ],
   "source": [
    "data = response.json()\n",
    "pprint(data)"
   ]
  },
  {
   "cell_type": "code",
   "execution_count": 31,
   "metadata": {},
   "outputs": [
    {
     "name": "stdout",
     "output_type": "stream",
     "text": [
      "Movie was directed by James Cameron.\n",
      "Movie was released in USA.\n"
     ]
    }
   ],
   "source": [
    "# Print a few keys from the response JSON.\n",
    "print(f\"Movie was directed by {data['Director']}.\")\n",
    "print(f\"Movie was released in {data['Country']}.\")"
   ]
  },
  {
   "cell_type": "code",
   "execution_count": 32,
   "metadata": {},
   "outputs": [
    {
     "data": {
      "text/plain": [
       "\"James Cameron (story by), David Giler (story by), Walter Hill (story by), Dan O'Bannon (based on characters created by), Ronald Shusett (based on characters created by), James Cameron (screenplay by)\""
      ]
     },
     "execution_count": 32,
     "metadata": {},
     "output_type": "execute_result"
    }
   ],
   "source": [
    "data['Writer']"
   ]
  },
  {
   "cell_type": "code",
   "execution_count": 36,
   "metadata": {},
   "outputs": [
    {
     "data": {
      "text/plain": [
       "['James',\n",
       " 'Cameron',\n",
       " '(story',\n",
       " 'by),',\n",
       " 'David',\n",
       " 'Giler',\n",
       " '(story',\n",
       " 'by),',\n",
       " 'Walter',\n",
       " 'Hill',\n",
       " '(story',\n",
       " 'by),',\n",
       " 'Dan',\n",
       " \"O'Bannon\",\n",
       " '(based',\n",
       " 'on',\n",
       " 'characters',\n",
       " 'created',\n",
       " 'by),',\n",
       " 'Ronald',\n",
       " 'Shusett',\n",
       " '(based',\n",
       " 'on',\n",
       " 'characters',\n",
       " 'created',\n",
       " 'by),',\n",
       " 'James',\n",
       " 'Cameron',\n",
       " '(screenplay',\n",
       " 'by)']"
      ]
     },
     "execution_count": 36,
     "metadata": {},
     "output_type": "execute_result"
    }
   ],
   "source": [
    "Dict = list(data['Writer'].split(\" \"))\n",
    "Dict"
   ]
  },
  {
   "cell_type": "code",
   "execution_count": 44,
   "metadata": {},
   "outputs": [
    {
     "data": {
      "text/plain": [
       "['James',\n",
       " 'Cameron',\n",
       " ' story',\n",
       " 'by',\n",
       " 'David',\n",
       " 'Giler',\n",
       " ' story',\n",
       " 'by',\n",
       " 'Walter',\n",
       " 'Hill',\n",
       " ' story',\n",
       " 'by',\n",
       " 'Dan',\n",
       " \"O'Bannon\",\n",
       " ' based',\n",
       " 'on',\n",
       " 'characters',\n",
       " 'created',\n",
       " 'by',\n",
       " 'Ronald',\n",
       " 'Shusett',\n",
       " ' based',\n",
       " 'on',\n",
       " 'characters',\n",
       " 'created',\n",
       " 'by',\n",
       " 'James',\n",
       " 'Cameron',\n",
       " ' screenplay',\n",
       " 'by']"
      ]
     },
     "execution_count": 44,
     "metadata": {},
     "output_type": "execute_result"
    }
   ],
   "source": [
    "Dict3 = []\n",
    "for index, item in enumerate(Dict):\n",
    "    Dict3.append(item.replace('(',' ').replace(')','').replace(',', ''))\n",
    "Dict3"
   ]
  },
  {
   "cell_type": "code",
   "execution_count": 45,
   "metadata": {},
   "outputs": [],
   "source": [
    "items = [0, 1, 2, 3, 4, 5, 6, 7, 8, 9, 10]\n",
    "for index, item in enumerate(items):\n",
    "    if not (item % 2):\n",
    "        items[index] = None"
   ]
  },
  {
   "cell_type": "markdown",
   "metadata": {},
   "source": [
    "items"
   ]
  },
  {
   "cell_type": "code",
   "execution_count": 46,
   "metadata": {},
   "outputs": [
    {
     "data": {
      "text/plain": [
       "[None, 1, None, 3, None, 5, None, 7, None, 9, None]"
      ]
     },
     "execution_count": 46,
     "metadata": {},
     "output_type": "execute_result"
    }
   ],
   "source": [
    "items"
   ]
  },
  {
   "cell_type": "code",
   "execution_count": 55,
   "metadata": {},
   "outputs": [
    {
     "ename": "TypeError",
     "evalue": "'int' object is not iterable",
     "output_type": "error",
     "traceback": [
      "\u001b[1;31m---------------------------------------------------------------------------\u001b[0m",
      "\u001b[1;31mTypeError\u001b[0m                                 Traceback (most recent call last)",
      "\u001b[1;32m<ipython-input-55-91a7d4a38efe>\u001b[0m in \u001b[0;36m<module>\u001b[1;34m\u001b[0m\n\u001b[0;32m      1\u001b[0m \u001b[0mitem1\u001b[0m \u001b[1;33m=\u001b[0m \u001b[1;33m[\u001b[0m\u001b[1;33m]\u001b[0m\u001b[1;33m\u001b[0m\u001b[1;33m\u001b[0m\u001b[0m\n\u001b[1;32m----> 2\u001b[1;33m \u001b[1;32mfor\u001b[0m \u001b[0mindex\u001b[0m\u001b[1;33m,\u001b[0m \u001b[0mx\u001b[0m \u001b[1;32min\u001b[0m \u001b[0menumerate\u001b[0m\u001b[1;33m(\u001b[0m\u001b[0mitem\u001b[0m\u001b[1;33m)\u001b[0m\u001b[1;33m:\u001b[0m\u001b[1;33m\u001b[0m\u001b[1;33m\u001b[0m\u001b[0m\n\u001b[0m\u001b[0;32m      3\u001b[0m     \u001b[1;32mif\u001b[0m \u001b[0mindex\u001b[0m \u001b[1;33m%\u001b[0m \u001b[1;36m2\u001b[0m \u001b[1;33m!=\u001b[0m \u001b[1;36m0\u001b[0m\u001b[1;33m:\u001b[0m\u001b[1;33m\u001b[0m\u001b[1;33m\u001b[0m\u001b[0m\n\u001b[0;32m      4\u001b[0m         \u001b[0mitem1\u001b[0m\u001b[1;33m.\u001b[0m\u001b[0mappend\u001b[0m\u001b[1;33m(\u001b[0m\u001b[0mx\u001b[0m\u001b[1;33m.\u001b[0m\u001b[0mreplace\u001b[0m\u001b[1;33m(\u001b[0m\u001b[1;34m'None'\u001b[0m\u001b[1;33m,\u001b[0m \u001b[1;36m0\u001b[0m\u001b[1;33m)\u001b[0m\u001b[1;33m)\u001b[0m\u001b[1;33m\u001b[0m\u001b[1;33m\u001b[0m\u001b[0m\n",
      "\u001b[1;31mTypeError\u001b[0m: 'int' object is not iterable"
     ]
    }
   ],
   "source": [
    "item1 = []\n",
    "for index, x in enumerate(item):\n",
    "    if index % 2 != 0:\n",
    "        item1.append(x.replace('None', 0))"
   ]
  },
  {
   "cell_type": "code",
   "execution_count": 72,
   "metadata": {},
   "outputs": [
    {
     "name": "stdout",
     "output_type": "stream",
     "text": [
      "Collecting python-config\n",
      "  Downloading python-config-0.1.2.tar.gz (4.7 kB)\n",
      "Building wheels for collected packages: python-config\n",
      "  Building wheel for python-config (setup.py): started\n",
      "  Building wheel for python-config (setup.py): finished with status 'done'\n",
      "  Created wheel for python-config: filename=python_config-0.1.2-py3-none-any.whl size=2933 sha256=6cf3313654ad3a36392e5cbb5a9a37be1edd2123a7d93f53c784797ac30330ce\n",
      "  Stored in directory: c:\\users\\user\\appdata\\local\\pip\\cache\\wheels\\3e\\66\\2a\\431630fa49c732a2a27a74e79f81d0c776809108df2bd35840\n",
      "Successfully built python-config\n",
      "Installing collected packages: python-config\n",
      "Successfully installed python-config-0.1.2\n",
      "Note: you may need to restart the kernel to use updated packages.\n"
     ]
    }
   ],
   "source": [
    "pip install python-config"
   ]
  },
  {
   "cell_type": "code",
   "execution_count": 7,
   "metadata": {},
   "outputs": [
    {
     "name": "stdout",
     "output_type": "stream",
     "text": [
      "Collecting config\n",
      "  Downloading config-0.5.0.post0-py2.py3-none-any.whl (20 kB)\n",
      "Installing collected packages: config\n",
      "Successfully installed config-0.5.0.post0\n",
      "Note: you may need to restart the kernel to use updated packages.\n"
     ]
    }
   ],
   "source": [
    "pip install config"
   ]
  },
  {
   "cell_type": "code",
   "execution_count": null,
   "metadata": {},
   "outputs": [],
   "source": [
    "url = f\"http://www.omdbapi.com/?apikey={api_key}&t=\""
   ]
  },
  {
   "cell_type": "code",
   "execution_count": 9,
   "metadata": {},
   "outputs": [],
   "source": [
    "import requests as req\n",
    "#from config import api_key"
   ]
  },
  {
   "cell_type": "code",
   "execution_count": 10,
   "metadata": {},
   "outputs": [],
   "source": [
    "#ae0a6cb9-c45f-463f-babf-5cef57b2a5b1\n",
    "url = 'http://www.omdbapi.com/?apikey={ae0a6cb9-c45f-463f-babf-5cef57b2a5b1}&t='"
   ]
  },
  {
   "cell_type": "code",
   "execution_count": 12,
   "metadata": {},
   "outputs": [
    {
     "name": "stdout",
     "output_type": "stream",
     "text": [
      "http://www.omdbapi.com/?apikey=%7Bae0a6cb9-c45f-463f-babf-5cef57b2a5b1%7D&t=\n"
     ]
    }
   ],
   "source": [
    "response = req.get(url)\n",
    "print(response.url)"
   ]
  },
  {
   "cell_type": "code",
   "execution_count": 13,
   "metadata": {},
   "outputs": [
    {
     "name": "stdout",
     "output_type": "stream",
     "text": [
      "{'Response': 'False', 'Error': 'Invalid API key!'}\n"
     ]
    }
   ],
   "source": [
    "data = response.json()\n",
    "print(data)"
   ]
  },
  {
   "cell_type": "code",
   "execution_count": 5,
   "metadata": {},
   "outputs": [
    {
     "name": "stdout",
     "output_type": "stream",
     "text": [
      "Collecting configs\n",
      "  Downloading configs-3.0.3-py3-none-any.whl (7.1 kB)\n",
      "Installing collected packages: configs\n",
      "Successfully installed configs-3.0.3\n",
      "Note: you may need to restart the kernel to use updated packages.\n"
     ]
    }
   ],
   "source": [
    "pip install configs"
   ]
  },
  {
   "cell_type": "code",
   "execution_count": 14,
   "metadata": {},
   "outputs": [],
   "source": [
    "import configs\n",
    "# Dependencies\n",
    "import random\n",
    "import json\n",
    "import requests"
   ]
  },
  {
   "cell_type": "code",
   "execution_count": 15,
   "metadata": {},
   "outputs": [],
   "source": [
    "# Let's get the JSON for 100 posts sequentially.\n",
    "url = \"http://jsonplaceholder.typicode.com/posts/\""
   ]
  },
  {
   "cell_type": "code",
   "execution_count": 16,
   "metadata": {},
   "outputs": [],
   "source": [
    "# Create an empty list to store the responses\n",
    "response_json = []"
   ]
  },
  {
   "cell_type": "code",
   "execution_count": 17,
   "metadata": {},
   "outputs": [
    {
     "data": {
      "text/plain": [
       "[27, 11, 32, 41, 75, 7, 33, 37, 90, 53]"
      ]
     },
     "execution_count": 17,
     "metadata": {},
     "output_type": "execute_result"
    }
   ],
   "source": [
    "indices = random.sample(list(range(1, 100)), 10)\n",
    "indices"
   ]
  },
  {
   "cell_type": "code",
   "execution_count": 21,
   "metadata": {},
   "outputs": [
    {
     "name": "stdout",
     "output_type": "stream",
     "text": [
      "0\n",
      "1\n",
      "2\n",
      "3\n",
      "4\n",
      "5\n",
      "6\n",
      "7\n",
      "8\n",
      "9\n"
     ]
    }
   ],
   "source": [
    "for x in range(len(indices)):\n",
    "    print(x)"
   ]
  },
  {
   "cell_type": "code",
   "execution_count": 19,
   "metadata": {},
   "outputs": [
    {
     "name": "stdout",
     "output_type": "stream",
     "text": [
      "Making request number: 0 for ID: 27\n",
      "Making request number: 1 for ID: 11\n",
      "Making request number: 2 for ID: 32\n",
      "Making request number: 3 for ID: 41\n",
      "Making request number: 4 for ID: 75\n",
      "Making request number: 5 for ID: 7\n",
      "Making request number: 6 for ID: 33\n",
      "Making request number: 7 for ID: 37\n",
      "Making request number: 8 for ID: 90\n",
      "Making request number: 9 for ID: 53\n"
     ]
    }
   ],
   "source": [
    "# Make a request for each of the indices\n",
    "for x in range(len(indices)):\n",
    "    print(f\"Making request number: {x} for ID: {indices[x]}\")\n",
    "    # Get one of the posts\n",
    "    post_response = requests.get(url + str(indices[x]))\n",
    "\n",
    "    # Save post's JSON\n",
    "    response_json.append(post_response.json())"
   ]
  },
  {
   "cell_type": "code",
   "execution_count": 22,
   "metadata": {},
   "outputs": [
    {
     "name": "stdout",
     "output_type": "stream",
     "text": [
      "27\n",
      "11\n",
      "32\n",
      "41\n",
      "75\n",
      "7\n",
      "33\n",
      "37\n",
      "90\n",
      "53\n"
     ]
    }
   ],
   "source": [
    "for x in range(len(indices)):\n",
    "    print(indices[x])"
   ]
  },
  {
   "cell_type": "code",
   "execution_count": 23,
   "metadata": {},
   "outputs": [
    {
     "name": "stdout",
     "output_type": "stream",
     "text": [
      "27\n",
      "11\n",
      "32\n",
      "41\n",
      "75\n",
      "7\n",
      "33\n",
      "37\n",
      "90\n",
      "53\n"
     ]
    }
   ],
   "source": [
    "for x in indices: \n",
    "    print(x)"
   ]
  },
  {
   "cell_type": "code",
   "execution_count": 20,
   "metadata": {},
   "outputs": [
    {
     "data": {
      "text/plain": [
       "[{'userId': 3,\n",
       "  'id': 27,\n",
       "  'title': 'quasi id et eos tenetur aut quo autem',\n",
       "  'body': 'eum sed dolores ipsam sint possimus debitis occaecati\\ndebitis qui qui et\\nut placeat enim earum aut odit facilis\\nconsequatur suscipit necessitatibus rerum sed inventore temporibus consequatur'},\n",
       " {'userId': 2,\n",
       "  'id': 11,\n",
       "  'title': 'et ea vero quia laudantium autem',\n",
       "  'body': 'delectus reiciendis molestiae occaecati non minima eveniet qui voluptatibus\\naccusamus in eum beatae sit\\nvel qui neque voluptates ut commodi qui incidunt\\nut animi commodi'},\n",
       " {'userId': 4,\n",
       "  'id': 32,\n",
       "  'title': 'doloremque illum aliquid sunt',\n",
       "  'body': 'deserunt eos nobis asperiores et hic\\nest debitis repellat molestiae optio\\nnihil ratione ut eos beatae quibusdam distinctio maiores\\nearum voluptates et aut adipisci ea maiores voluptas maxime'},\n",
       " {'userId': 5,\n",
       "  'id': 41,\n",
       "  'title': 'non est facere',\n",
       "  'body': 'molestias id nostrum\\nexcepturi molestiae dolore omnis repellendus quaerat saepe\\nconsectetur iste quaerat tenetur asperiores accusamus ex ut\\nnam quidem est ducimus sunt debitis saepe'},\n",
       " {'userId': 8,\n",
       "  'id': 75,\n",
       "  'title': 'dignissimos eum dolor ut enim et delectus in',\n",
       "  'body': 'commodi non non omnis et voluptas sit\\nautem aut nobis magnam et sapiente voluptatem\\net laborum repellat qui delectus facilis temporibus\\nrerum amet et nemo voluptate expedita adipisci error dolorem'},\n",
       " {'userId': 1,\n",
       "  'id': 7,\n",
       "  'title': 'magnam facilis autem',\n",
       "  'body': 'dolore placeat quibusdam ea quo vitae\\nmagni quis enim qui quis quo nemo aut saepe\\nquidem repellat excepturi ut quia\\nsunt ut sequi eos ea sed quas'},\n",
       " {'userId': 4,\n",
       "  'id': 33,\n",
       "  'title': 'qui explicabo molestiae dolorem',\n",
       "  'body': 'rerum ut et numquam laborum odit est sit\\nid qui sint in\\nquasi tenetur tempore aperiam et quaerat qui in\\nrerum officiis sequi cumque quod'},\n",
       " {'userId': 4,\n",
       "  'id': 37,\n",
       "  'title': 'provident vel ut sit ratione est',\n",
       "  'body': 'debitis et eaque non officia sed nesciunt pariatur vel\\nvoluptatem iste vero et ea\\nnumquam aut expedita ipsum nulla in\\nvoluptates omnis consequatur aut enim officiis in quam qui'},\n",
       " {'userId': 9,\n",
       "  'id': 90,\n",
       "  'title': 'ad iusto omnis odit dolor voluptatibus',\n",
       "  'body': 'minus omnis soluta quia\\nqui sed adipisci voluptates illum ipsam voluptatem\\neligendi officia ut in\\neos soluta similique molestias praesentium blanditiis'},\n",
       " {'userId': 6,\n",
       "  'id': 53,\n",
       "  'title': 'ut quo aut ducimus alias',\n",
       "  'body': 'minima harum praesentium eum rerum illo dolore\\nquasi exercitationem rerum nam\\nporro quis neque quo\\nconsequatur minus dolor quidem veritatis sunt non explicabo similique'}]"
      ]
     },
     "execution_count": 20,
     "metadata": {},
     "output_type": "execute_result"
    }
   ],
   "source": [
    "response_json"
   ]
  },
  {
   "cell_type": "code",
   "execution_count": 24,
   "metadata": {},
   "outputs": [
    {
     "name": "stdout",
     "output_type": "stream",
     "text": [
      "We have 10 posts!\n"
     ]
    }
   ],
   "source": [
    "print(f\"We have {len(response_json)} posts!\") "
   ]
  },
  {
   "cell_type": "code",
   "execution_count": null,
   "metadata": {},
   "outputs": [],
   "source": [
    " if 'car' in key:\n",
    "        print (key, a[key])"
   ]
  },
  {
   "cell_type": "code",
   "execution_count": 34,
   "metadata": {},
   "outputs": [],
   "source": [
    "user_id = []\n",
    "for dic in response_json:\n",
    "    for key,value in dic.items():\n",
    "        if 'userId' in key:\n",
    "            user_id.append(value)"
   ]
  },
  {
   "cell_type": "code",
   "execution_count": 37,
   "metadata": {},
   "outputs": [],
   "source": [
    "title = []\n",
    "for dic in response_json:\n",
    "    for key,value in dic.items():\n",
    "        if 'title' in key:\n",
    "            title.append(value)"
   ]
  },
  {
   "cell_type": "code",
   "execution_count": 38,
   "metadata": {},
   "outputs": [
    {
     "data": {
      "text/plain": [
       "10"
      ]
     },
     "execution_count": 38,
     "metadata": {},
     "output_type": "execute_result"
    }
   ],
   "source": [
    "len(user_id)"
   ]
  },
  {
   "cell_type": "code",
   "execution_count": 39,
   "metadata": {},
   "outputs": [
    {
     "data": {
      "text/plain": [
       "10"
      ]
     },
     "execution_count": 39,
     "metadata": {},
     "output_type": "execute_result"
    }
   ],
   "source": [
    "len(title)"
   ]
  },
  {
   "cell_type": "code",
   "execution_count": 41,
   "metadata": {},
   "outputs": [
    {
     "data": {
      "text/plain": [
       "[(3, 'quasi id et eos tenetur aut quo autem'),\n",
       " (2, 'et ea vero quia laudantium autem'),\n",
       " (4, 'doloremque illum aliquid sunt'),\n",
       " (5, 'non est facere'),\n",
       " (8, 'dignissimos eum dolor ut enim et delectus in'),\n",
       " (1, 'magnam facilis autem'),\n",
       " (4, 'qui explicabo molestiae dolorem'),\n",
       " (4, 'provident vel ut sit ratione est'),\n",
       " (9, 'ad iusto omnis odit dolor voluptatibus'),\n",
       " (6, 'ut quo aut ducimus alias')]"
      ]
     },
     "execution_count": 41,
     "metadata": {},
     "output_type": "execute_result"
    }
   ],
   "source": [
    "dictionary = zip(user_id,title)\n",
    "Z = list(dictionary)\n",
    "Z"
   ]
  },
  {
   "cell_type": "code",
   "execution_count": 43,
   "metadata": {},
   "outputs": [
    {
     "name": "stdout",
     "output_type": "stream",
     "text": [
      "3\n",
      "2\n",
      "4\n",
      "5\n",
      "8\n",
      "1\n",
      "4\n",
      "4\n",
      "9\n",
      "6\n"
     ]
    }
   ],
   "source": [
    "for x in Z:\n",
    "    print(x[0])"
   ]
  },
  {
   "cell_type": "code",
   "execution_count": 46,
   "metadata": {},
   "outputs": [
    {
     "data": {
      "text/plain": [
       "['quasi id et eos tenetur aut quo autem',\n",
       " 'et ea vero quia laudantium autem',\n",
       " 'doloremque illum aliquid sunt',\n",
       " 'non est facere',\n",
       " 'dignissimos eum dolor ut enim et delectus in',\n",
       " 'magnam facilis autem',\n",
       " 'qui explicabo molestiae dolorem',\n",
       " 'provident vel ut sit ratione est',\n",
       " 'ad iusto omnis odit dolor voluptatibus',\n",
       " 'ut quo aut ducimus alias']"
      ]
     },
     "execution_count": 46,
     "metadata": {},
     "output_type": "execute_result"
    }
   ],
   "source": [
    "Angela = []\n",
    "for x in Z:\n",
    "    Angela.append(x[1])\n",
    "Angela"
   ]
  },
  {
   "cell_type": "code",
   "execution_count": 56,
   "metadata": {},
   "outputs": [],
   "source": [
    "# Dependencies\n",
    "import json\n",
    "import os"
   ]
  },
  {
   "cell_type": "code",
   "execution_count": 57,
   "metadata": {},
   "outputs": [],
   "source": [
    "# Load JSON\n",
    "filepath = os.path.join(\"C:/Users/User/bootcamp_files/YouTube.json\")\n",
    "with open(filepath) as jsonfile:\n",
    "    video_json = json.load(jsonfile)"
   ]
  },
  {
   "cell_type": "code",
   "execution_count": 58,
   "metadata": {},
   "outputs": [
    {
     "data": {
      "text/plain": [
       "{'apiVersion': '2.0',\n",
       " 'data': {'updated': '2010-01-07T19:58:42.949Z',\n",
       "  'totalItems': 800,\n",
       "  'startIndex': 1,\n",
       "  'itemsPerPage': 1,\n",
       "  'items': [{'id': 'hYB0mn5zh2c',\n",
       "    'uploaded': '2007-06-05T22:07:03.000Z',\n",
       "    'updated': '2010-01-07T13:26:50.000Z',\n",
       "    'uploader': 'GoogleDeveloperDay',\n",
       "    'category': 'News',\n",
       "    'title': 'Google Developers Day US - Maps API Introduction',\n",
       "    'description': 'Google Maps API Introduction ...',\n",
       "    'tags': ['GDD07', 'GDD07US', 'Maps'],\n",
       "    'thumbnail': {'default': 'http://i.ytimg.com/vi/hYB0mn5zh2c/default.jpg',\n",
       "     'hqDefault': 'http://i.ytimg.com/vi/hYB0mn5zh2c/hqdefault.jpg'},\n",
       "    'player': {'default': 'http://www.youtube.com/watch?vu003dhYB0mn5zh2c'},\n",
       "    'content': {'1': 'rtsp://v5.cache3.c.youtube.com/CiILENy.../0/0/0/video.3gp',\n",
       "     '5': 'http://www.youtube.com/v/hYB0mn5zh2c?f...',\n",
       "     '6': 'rtsp://v1.cache1.c.youtube.com/CiILENy.../0/0/0/video.3gp'},\n",
       "    'duration': 2840,\n",
       "    'aspectRatio': 'widescreen',\n",
       "    'rating': 4.63,\n",
       "    'ratingCount': 68,\n",
       "    'viewCount': 220101,\n",
       "    'favoriteCount': 201,\n",
       "    'commentCount': 22,\n",
       "    'status': {'value': 'restricted', 'reason': 'limitedSyndication'},\n",
       "    'accessControl': {'syndicate': 'allowed',\n",
       "     'commentVote': 'allowed',\n",
       "     'rate': 'allowed',\n",
       "     'list': 'allowed',\n",
       "     'comment': 'allowed',\n",
       "     'embed': 'allowed',\n",
       "     'videoRespond': 'moderated'}}]}}"
      ]
     },
     "execution_count": 58,
     "metadata": {},
     "output_type": "execute_result"
    }
   ],
   "source": [
    "video_json"
   ]
  },
  {
   "cell_type": "code",
   "execution_count": 59,
   "metadata": {},
   "outputs": [
    {
     "data": {
      "text/plain": [
       "[{'id': 'hYB0mn5zh2c',\n",
       "  'uploaded': '2007-06-05T22:07:03.000Z',\n",
       "  'updated': '2010-01-07T13:26:50.000Z',\n",
       "  'uploader': 'GoogleDeveloperDay',\n",
       "  'category': 'News',\n",
       "  'title': 'Google Developers Day US - Maps API Introduction',\n",
       "  'description': 'Google Maps API Introduction ...',\n",
       "  'tags': ['GDD07', 'GDD07US', 'Maps'],\n",
       "  'thumbnail': {'default': 'http://i.ytimg.com/vi/hYB0mn5zh2c/default.jpg',\n",
       "   'hqDefault': 'http://i.ytimg.com/vi/hYB0mn5zh2c/hqdefault.jpg'},\n",
       "  'player': {'default': 'http://www.youtube.com/watch?vu003dhYB0mn5zh2c'},\n",
       "  'content': {'1': 'rtsp://v5.cache3.c.youtube.com/CiILENy.../0/0/0/video.3gp',\n",
       "   '5': 'http://www.youtube.com/v/hYB0mn5zh2c?f...',\n",
       "   '6': 'rtsp://v1.cache1.c.youtube.com/CiILENy.../0/0/0/video.3gp'},\n",
       "  'duration': 2840,\n",
       "  'aspectRatio': 'widescreen',\n",
       "  'rating': 4.63,\n",
       "  'ratingCount': 68,\n",
       "  'viewCount': 220101,\n",
       "  'favoriteCount': 201,\n",
       "  'commentCount': 22,\n",
       "  'status': {'value': 'restricted', 'reason': 'limitedSyndication'},\n",
       "  'accessControl': {'syndicate': 'allowed',\n",
       "   'commentVote': 'allowed',\n",
       "   'rate': 'allowed',\n",
       "   'list': 'allowed',\n",
       "   'comment': 'allowed',\n",
       "   'embed': 'allowed',\n",
       "   'videoRespond': 'moderated'}}]"
      ]
     },
     "execution_count": 59,
     "metadata": {},
     "output_type": "execute_result"
    }
   ],
   "source": [
    "# Isolate \"data items\" for easy reading\n",
    "data = video_json[\"data\"]\n",
    "data_items = data[\"items\"]\n",
    "data_items"
   ]
  },
  {
   "cell_type": "code",
   "execution_count": 60,
   "metadata": {},
   "outputs": [
    {
     "data": {
      "text/plain": [
       "{'id': 'hYB0mn5zh2c',\n",
       " 'uploaded': '2007-06-05T22:07:03.000Z',\n",
       " 'updated': '2010-01-07T13:26:50.000Z',\n",
       " 'uploader': 'GoogleDeveloperDay',\n",
       " 'category': 'News',\n",
       " 'title': 'Google Developers Day US - Maps API Introduction',\n",
       " 'description': 'Google Maps API Introduction ...',\n",
       " 'tags': ['GDD07', 'GDD07US', 'Maps'],\n",
       " 'thumbnail': {'default': 'http://i.ytimg.com/vi/hYB0mn5zh2c/default.jpg',\n",
       "  'hqDefault': 'http://i.ytimg.com/vi/hYB0mn5zh2c/hqdefault.jpg'},\n",
       " 'player': {'default': 'http://www.youtube.com/watch?vu003dhYB0mn5zh2c'},\n",
       " 'content': {'1': 'rtsp://v5.cache3.c.youtube.com/CiILENy.../0/0/0/video.3gp',\n",
       "  '5': 'http://www.youtube.com/v/hYB0mn5zh2c?f...',\n",
       "  '6': 'rtsp://v1.cache1.c.youtube.com/CiILENy.../0/0/0/video.3gp'},\n",
       " 'duration': 2840,\n",
       " 'aspectRatio': 'widescreen',\n",
       " 'rating': 4.63,\n",
       " 'ratingCount': 68,\n",
       " 'viewCount': 220101,\n",
       " 'favoriteCount': 201,\n",
       " 'commentCount': 22,\n",
       " 'status': {'value': 'restricted', 'reason': 'limitedSyndication'},\n",
       " 'accessControl': {'syndicate': 'allowed',\n",
       "  'commentVote': 'allowed',\n",
       "  'rate': 'allowed',\n",
       "  'list': 'allowed',\n",
       "  'comment': 'allowed',\n",
       "  'embed': 'allowed',\n",
       "  'videoRespond': 'moderated'}}"
      ]
     },
     "execution_count": 60,
     "metadata": {},
     "output_type": "execute_result"
    }
   ],
   "source": [
    "data_items[0]"
   ]
  },
  {
   "cell_type": "code",
   "execution_count": 61,
   "metadata": {},
   "outputs": [
    {
     "name": "stdout",
     "output_type": "stream",
     "text": [
      "Title:  Google Developers Day US - Maps API Introduction\n"
     ]
    }
   ],
   "source": [
    "title = data_items[0][\"title\"]\n",
    "print(\"Title: \", title)"
   ]
  },
  {
   "cell_type": "code",
   "execution_count": 63,
   "metadata": {},
   "outputs": [
    {
     "data": {
      "text/plain": [
       "'http://i.ytimg.com/vi/hYB0mn5zh2c/default.jpg'"
      ]
     },
     "execution_count": 63,
     "metadata": {},
     "output_type": "execute_result"
    }
   ],
   "source": [
    "data_items[0][\"thumbnail\"]['default']"
   ]
  },
  {
   "cell_type": "code",
   "execution_count": 64,
   "metadata": {},
   "outputs": [
    {
     "data": {
      "text/plain": [
       "220101"
      ]
     },
     "execution_count": 64,
     "metadata": {},
     "output_type": "execute_result"
    }
   ],
   "source": [
    "view_count = data_items[0][\"viewCount\"]\n",
    "view_count"
   ]
  },
  {
   "cell_type": "code",
   "execution_count": 65,
   "metadata": {},
   "outputs": [
    {
     "data": {
      "text/plain": [
       "[{'saved': False,\n",
       "  '_id': '5fda9ec2196d64001567b5e7',\n",
       "  'headline': '‘I Was Stunned’: Big Gifts to Small Colleges From an Unexpected Source',\n",
       "  'summary': 'MacKenzie Scott, the world’s 18th-richest person, is giving away her billions, including with large donations to schools serving often overlooked students.',\n",
       "  'url': 'https://www.nytimes.com/2020/12/16/us/mackenzie-scott-college-donations.html',\n",
       "  'date': '2020-12-16T23:56:50.971Z',\n",
       "  '__v': 0},\n",
       " {'saved': True,\n",
       "  '_id': '5fda9ddb196d64001567b5d5',\n",
       "  'headline': 'Cookie Monster Mural Puzzles Artist and Enrages Property Owner',\n",
       "  'summary': 'The artist who painted a Soviet-style mural of Cookie Monster now says he was tricked (and paid) by an impostor.',\n",
       "  'url': 'https://www.nytimes.com/2020/12/16/us/communist-cookie-monster-mural.html',\n",
       "  'date': '2020-12-16T23:52:59.291Z',\n",
       "  '__v': 0},\n",
       " {'saved': True,\n",
       "  '_id': '5fda9ddb196d64001567b5d4',\n",
       "  'headline': 'America, We Have a Problem',\n",
       "  'summary': 'The rise of “political sectarianism” is putting us all in danger.',\n",
       "  'url': 'https://www.nytimes.com/2020/12/16/opinion/trump-political-sectarianism.html',\n",
       "  'date': '2020-12-16T23:52:59.291Z',\n",
       "  '__v': 0},\n",
       " {'saved': True,\n",
       "  '_id': '5fda9ddb196d64001567b5d6',\n",
       "  'headline': 'My $200,000 Sushi Dinner',\n",
       "  'summary': 'In 2013, this reporter spent 10 Bitcoin, worth $1,000 at the time, on a dinner in San Francisco. The owner of the restaurant wisely held onto it.',\n",
       "  'url': 'https://www.nytimes.com/2020/12/16/style/bitcoin.html',\n",
       "  'date': '2020-12-16T23:52:59.291Z',\n",
       "  '__v': 0},\n",
       " {'saved': True,\n",
       "  '_id': '5fda9ddb196d64001567b5d3',\n",
       "  'headline': 'Putting on a Mask Raised Naomi Osaka’s Voice',\n",
       "  'summary': 'The tennis player used to let words kink up inside her. In 2020, she has found the space to unravel her thoughts and convey an urgent demand for change.',\n",
       "  'url': 'https://www.nytimes.com/2020/12/16/sports/tennis/naomi-osaka-protests-open.html',\n",
       "  'date': '2020-12-16T23:52:59.290Z',\n",
       "  '__v': 0},\n",
       " {'saved': True,\n",
       "  '_id': '5fda9ddb196d64001567b5d2',\n",
       "  'headline': 'China Brings Moon Rocks to Earth, and a New Era of Competition to Space',\n",
       "  'summary': 'The Chang’e-5 mission’s success highlights the progress of China’s space program, and a growing rivalry with the United States.',\n",
       "  'url': 'https://www.nytimes.com/2020/12/16/science/china-moon-mission-rocks.html',\n",
       "  'date': '2020-12-16T23:52:59.290Z',\n",
       "  '__v': 0},\n",
       " {'saved': True,\n",
       "  '_id': '5fda9ddb196d64001567b5d0',\n",
       "  'headline': 'Biden Introduces Buttigieg as Pick to Lead TransportationBiden’s Climate Chiefs Face a Monumental TaskPresident-elect Joe Biden is expected to name Brenda Mallory, a lawyer, to lead the White House environment office.',\n",
       "  'summary': 'If he is confirmed, Pete Buttigieg would be the first openly gay cabinet secretary, and one of the youngest in history. Here’s the latest.President-elect Joe Biden’s choices so far firm up his strategy to try to reclaim global climate leadership for the United States.',\n",
       "  'url': 'https://www.nytimes.comhttps://www.nytimes.com/live/2020/12/16/us/joe-biden-trump/',\n",
       "  'date': '2020-12-16T23:52:59.289Z',\n",
       "  '__v': 0},\n",
       " {'saved': True,\n",
       "  '_id': '5fda9ddb196d64001567b5cf',\n",
       "  'headline': '10 States Accuse Google of Abusing Monopoly in Online AdsFacebook Takes the Gloves Off in Feud With Apple',\n",
       "  'summary': 'The lawsuit focuses on the ads that generate a vast majority of Google’s profits, striking at the heart of the company’s business.The social giant said it opposed Apple’s changes to the tracking of apps and would provide information for an antitrust complaint against the company.',\n",
       "  'url': 'https://www.nytimes.com/2020/12/16/technology/google-monopoly-antitrust.html',\n",
       "  'date': '2020-12-16T23:52:59.289Z',\n",
       "  '__v': 0},\n",
       " {'saved': False,\n",
       "  '_id': '5fda9ddb196d64001567b5d1',\n",
       "  'headline': 'Nor’easter Updates: Snowfall Totals Could Reach Two Feet',\n",
       "  'summary': 'For big East Coast cities like New York and Philadelphia, the storm is likely to be one of the biggest in several years.',\n",
       "  'url': 'https://www.nytimes.comhttps://www.nytimes.com/live/2020/12/16/us/winter-storm-gail/',\n",
       "  'date': '2020-12-16T23:52:59.289Z',\n",
       "  '__v': 0},\n",
       " {'saved': False,\n",
       "  '_id': '5fda9ddb196d64001567b5ce',\n",
       "  'headline': 'Billions Spent on U.S. Defenses Failed to Detect Giant Russian Hack',\n",
       "  'summary': 'The broad Russian espionage attack on the U.S. government and private companies is among the greatest intelligence failures of modern times.',\n",
       "  'url': 'https://www.nytimes.com/2020/12/16/us/politics/russia-hack-putin-trump-biden.html',\n",
       "  'date': '2020-12-16T23:52:59.288Z',\n",
       "  '__v': 0},\n",
       " {'saved': False,\n",
       "  '_id': '5fda9ddb196d64001567b5cd',\n",
       "  'headline': 'Vaccination Campaign at Nursing Homes Faces Obstacles and ConfusionA health worker in Alaska had a serious allergic reaction after getting Pfizer’s coronavirus vaccine.',\n",
       "  'summary': 'Walgreens and CVS staff will soon begin inoculations at tens of thousands of long-term care facilities. But some staff and residents are wary.',\n",
       "  'url': 'https://www.nytimes.com/2020/12/16/business/covid-coronavirus-vaccine-nursing-homes.html',\n",
       "  'date': '2020-12-16T23:52:59.288Z',\n",
       "  '__v': 0},\n",
       " {'saved': True,\n",
       "  '_id': '5fda9ddb196d64001567b5cc',\n",
       "  'headline': 'Congressional Leaders Close In on a Stimulus DealHow Effective Is the Mask You’re Wearing? You May Know Soon Pandemic ‘Not Over Yet,’ Officials Stress, as U.S. Vaccinations Begin',\n",
       "  'summary': 'A C.D.C. division is working to develop minimum filter efficiency standards, and labels showing which products meet them.See the U.S. hot spotsSee all new cases around the worldHealth experts warned that it was far too soon to abandon common-sense precautions. Here’s the latest on the pandemic.',\n",
       "  'url': 'https://www.nytimes.comhttps://www.nytimes.com/live/2020/12/16/business/us-economy-coronavirus/',\n",
       "  'date': '2020-12-16T23:52:59.287Z',\n",
       "  '__v': 0}]"
      ]
     },
     "execution_count": 65,
     "metadata": {},
     "output_type": "execute_result"
    }
   ],
   "source": [
    "# Specify the URL\n",
    "url = \"http://nyt-mongo-scraper.herokuapp.com/api/headlines\"\n",
    "\n",
    "# Make request and store response\n",
    "response = requests.get(url)\n",
    "response_json = response.json() \n",
    "response_json"
   ]
  },
  {
   "cell_type": "code",
   "execution_count": 66,
   "metadata": {},
   "outputs": [
    {
     "name": "stdout",
     "output_type": "stream",
     "text": [
      "The first response is {\n",
      "  \"saved\": false,\n",
      "  \"_id\": \"5fda9ec2196d64001567b5e7\",\n",
      "  \"headline\": \"\\u2018I Was Stunned\\u2019: Big Gifts to Small Colleges From an Unexpected Source\",\n",
      "  \"summary\": \"MacKenzie Scott, the world\\u2019s 18th-richest person, is giving away her billions, including with large donations to schools serving often overlooked students.\",\n",
      "  \"url\": \"https://www.nytimes.com/2020/12/16/us/mackenzie-scott-college-donations.html\",\n",
      "  \"date\": \"2020-12-16T23:56:50.971Z\",\n",
      "  \"__v\": 0\n",
      "}.\n",
      "The last response is {\n",
      "  \"saved\": true,\n",
      "  \"_id\": \"5fda9ddb196d64001567b5cc\",\n",
      "  \"headline\": \"Congressional Leaders Close In on a Stimulus DealHow Effective Is the Mask You\\u2019re Wearing? You May Know Soon Pandemic \\u2018Not Over Yet,\\u2019 Officials Stress, as U.S. Vaccinations Begin\",\n",
      "  \"summary\": \"A C.D.C. division is working to develop minimum filter efficiency standards, and labels showing which products meet them.See the U.S. hot spotsSee all new cases around the worldHealth experts warned that it was far too soon to abandon common-sense precautions. Here\\u2019s the latest on the pandemic.\",\n",
      "  \"url\": \"https://www.nytimes.comhttps://www.nytimes.com/live/2020/12/16/business/us-economy-coronavirus/\",\n",
      "  \"date\": \"2020-12-16T23:52:59.287Z\",\n",
      "  \"__v\": 0\n",
      "}.\n"
     ]
    }
   ],
   "source": [
    "# Print first and last articles\n",
    "print(f\"The first response is {json.dumps(response_json[0], indent=2)}.\")\n",
    "print(f\"The last response is {json.dumps(response_json[-1], indent=2)}.\")"
   ]
  },
  {
   "cell_type": "code",
   "execution_count": 67,
   "metadata": {},
   "outputs": [
    {
     "name": "stdout",
     "output_type": "stream",
     "text": [
      "We received 12 responses.\n"
     ]
    }
   ],
   "source": [
    "print(f\"We received {len(response_json)} responses.\") "
   ]
  },
  {
   "cell_type": "code",
   "execution_count": 79,
   "metadata": {},
   "outputs": [],
   "source": [
    "#eb6a89d9ba626385e28cc4a7ed411b50"
   ]
  },
  {
   "cell_type": "code",
   "execution_count": 80,
   "metadata": {},
   "outputs": [
    {
     "data": {
      "text/plain": [
       "'http://api.openweathermap.org/data/2.5/weather?appid=eb6a89d9ba626385e28cc4a7ed411b50&q=London'"
      ]
     },
     "execution_count": 80,
     "metadata": {},
     "output_type": "execute_result"
    }
   ],
   "source": [
    "url = \"http://api.openweathermap.org/data/2.5/weather?\"\n",
    "city = \"London\"\n",
    "api_key = 'eb6a89d9ba626385e28cc4a7ed411b50'\n",
    "# Build query URL\n",
    "query_url = url + \"appid=\" + api_key + \"&q=\" + city\n",
    "query_url"
   ]
  },
  {
   "cell_type": "code",
   "execution_count": 81,
   "metadata": {},
   "outputs": [
    {
     "data": {
      "text/plain": [
       "{'coord': {'lon': -0.13, 'lat': 51.51},\n",
       " 'weather': [{'id': 803,\n",
       "   'main': 'Clouds',\n",
       "   'description': 'broken clouds',\n",
       "   'icon': '04n'}],\n",
       " 'base': 'stations',\n",
       " 'main': {'temp': 283.84,\n",
       "  'feels_like': 280.19,\n",
       "  'temp_min': 282.59,\n",
       "  'temp_max': 285.15,\n",
       "  'pressure': 1016,\n",
       "  'humidity': 76},\n",
       " 'visibility': 10000,\n",
       " 'wind': {'speed': 4.1, 'deg': 190},\n",
       " 'clouds': {'all': 75},\n",
       " 'dt': 1608244516,\n",
       " 'sys': {'type': 1,\n",
       "  'id': 1414,\n",
       "  'country': 'GB',\n",
       "  'sunrise': 1608192099,\n",
       "  'sunset': 1608220321},\n",
       " 'timezone': 0,\n",
       " 'id': 2643743,\n",
       " 'name': 'London',\n",
       " 'cod': 200}"
      ]
     },
     "execution_count": 81,
     "metadata": {},
     "output_type": "execute_result"
    }
   ],
   "source": [
    "# Get weather data\n",
    "weather_response = requests.get(query_url)\n",
    "weather_json = weather_response.json()\n",
    "weather_json"
   ]
  },
  {
   "cell_type": "code",
   "execution_count": 83,
   "metadata": {},
   "outputs": [],
   "source": [
    "city = \"Bujumbura\"\n",
    "units = \"metric\""
   ]
  },
  {
   "cell_type": "code",
   "execution_count": 84,
   "metadata": {},
   "outputs": [
    {
     "data": {
      "text/plain": [
       "{'coord': {'lon': 29.36, 'lat': -3.38},\n",
       " 'weather': [{'id': 500,\n",
       "   'main': 'Rain',\n",
       "   'description': 'light rain',\n",
       "   'icon': '10n'}],\n",
       " 'base': 'stations',\n",
       " 'main': {'temp': 22.62,\n",
       "  'feels_like': 24.66,\n",
       "  'temp_min': 22.62,\n",
       "  'temp_max': 22.62,\n",
       "  'pressure': 1013,\n",
       "  'humidity': 72,\n",
       "  'sea_level': 1013,\n",
       "  'grnd_level': 925},\n",
       " 'visibility': 10000,\n",
       " 'wind': {'speed': 0.66, 'deg': 360},\n",
       " 'rain': {'1h': 0.23},\n",
       " 'clouds': {'all': 100},\n",
       " 'dt': 1608245051,\n",
       " 'sys': {'country': 'BI', 'sunrise': 1608263390, 'sunset': 1608307728},\n",
       " 'timezone': 7200,\n",
       " 'id': 425378,\n",
       " 'name': 'Bujumbura',\n",
       " 'cod': 200}"
      ]
     },
     "execution_count": 84,
     "metadata": {},
     "output_type": "execute_result"
    }
   ],
   "source": [
    "query_url = f\"{url}appid={api_key}&q={city}&units={units}\"\n",
    "weather_response = requests.get(query_url)\n",
    "weather_json = weather_response.json()\n",
    "weather_json"
   ]
  },
  {
   "cell_type": "code",
   "execution_count": 86,
   "metadata": {},
   "outputs": [
    {
     "data": {
      "text/plain": [
       "{'temp': 22.62,\n",
       " 'feels_like': 24.66,\n",
       " 'temp_min': 22.62,\n",
       " 'temp_max': 22.62,\n",
       " 'pressure': 1013,\n",
       " 'humidity': 72,\n",
       " 'sea_level': 1013,\n",
       " 'grnd_level': 925}"
      ]
     },
     "execution_count": 86,
     "metadata": {},
     "output_type": "execute_result"
    }
   ],
   "source": [
    "weather_json[\"main\"]"
   ]
  },
  {
   "cell_type": "code",
   "execution_count": 87,
   "metadata": {},
   "outputs": [
    {
     "data": {
      "text/plain": [
       "22.62"
      ]
     },
     "execution_count": 87,
     "metadata": {},
     "output_type": "execute_result"
    }
   ],
   "source": [
    "temperature = weather_json[\"main\"][\"temp\"]\n",
    "temperature"
   ]
  },
  {
   "cell_type": "code",
   "execution_count": 88,
   "metadata": {},
   "outputs": [],
   "source": [
    "units = [\"metric\", \"imperial\"]\n",
    "\n",
    "temperatures = []\n",
    "for unit in units:\n",
    "# Build query URL based on current element in units\n",
    "    query_url = url + \"appid=\" + api_key + \"&q=\" + city + \"&units=\" + unit\n",
    "\n",
    "    # Get weather data\n",
    "    weather_response = requests.get(query_url)\n",
    "    weather_json = weather_response.json()\n",
    "\n",
    "    # Get temperature from JSON response\n",
    "    temperature = weather_json[\"main\"][\"temp\"]\n",
    "\n",
    "    temperatures.append(temperature)"
   ]
  },
  {
   "cell_type": "code",
   "execution_count": 89,
   "metadata": {},
   "outputs": [
    {
     "data": {
      "text/plain": [
       "[22.62, 72.72]"
      ]
     },
     "execution_count": 89,
     "metadata": {},
     "output_type": "execute_result"
    }
   ],
   "source": [
    "temperatures"
   ]
  },
  {
   "cell_type": "code",
   "execution_count": 90,
   "metadata": {},
   "outputs": [
    {
     "name": "stdout",
     "output_type": "stream",
     "text": [
      "The temperature in Bujumbura is 22.62C or 72.72F.\n"
     ]
    }
   ],
   "source": [
    "# Report temperatures by accessing each element in the list\n",
    "print(f\"The temperature in Bujumbura is {temperatures[0]}C or {temperatures[1]}F.\")"
   ]
  },
  {
   "cell_type": "code",
   "execution_count": 91,
   "metadata": {},
   "outputs": [],
   "source": [
    "#Dependencies\n",
    "import requests\n",
    "import json\n",
    "import pandas as pd\n",
    "import numpy as np\n",
    "import matplotlib.pyplot as plt"
   ]
  },
  {
   "cell_type": "code",
   "execution_count": 92,
   "metadata": {},
   "outputs": [],
   "source": [
    "# Save config information.\n",
    "url = \"http://api.openweathermap.org/data/2.5/weather?\"\n",
    "units = \"metric\"\n",
    "\n",
    "# Build partial query URL\n",
    "query_url = f\"{url}appid={api_key}&units={units}&q=\""
   ]
  },
  {
   "cell_type": "code",
   "execution_count": 97,
   "metadata": {},
   "outputs": [],
   "source": [
    "# set up lists to hold reponse info\n",
    "cities = [\"Paris\", \"London\", \"Oslo\", \"Beijing\"]\n",
    "lat = []\n",
    "temp = []"
   ]
  },
  {
   "cell_type": "code",
   "execution_count": 98,
   "metadata": {},
   "outputs": [
    {
     "name": "stdout",
     "output_type": "stream",
     "text": [
      "The latitude information received is: [48.85, 51.51, 59.91, 39.91]\n",
      "The temperature information received is: [7.17, 10.77, 2.3, -3.52]\n"
     ]
    }
   ],
   "source": [
    "# Loop through the list of cities and perform a request for data on each\n",
    "for city in cities:\n",
    "    response = requests.get(query_url + city).json()\n",
    "    lat.append(response['coord']['lat'])\n",
    "    temp.append(response['main']['temp'])\n",
    "\n",
    "print(f\"The latitude information received is: {lat}\")\n",
    "print(f\"The temperature information received is: {temp}\")"
   ]
  },
  {
   "cell_type": "code",
   "execution_count": 99,
   "metadata": {},
   "outputs": [
    {
     "data": {
      "text/html": [
       "<div>\n",
       "<style scoped>\n",
       "    .dataframe tbody tr th:only-of-type {\n",
       "        vertical-align: middle;\n",
       "    }\n",
       "\n",
       "    .dataframe tbody tr th {\n",
       "        vertical-align: top;\n",
       "    }\n",
       "\n",
       "    .dataframe thead th {\n",
       "        text-align: right;\n",
       "    }\n",
       "</style>\n",
       "<table border=\"1\" class=\"dataframe\">\n",
       "  <thead>\n",
       "    <tr style=\"text-align: right;\">\n",
       "      <th></th>\n",
       "      <th>city</th>\n",
       "      <th>lat</th>\n",
       "      <th>temp</th>\n",
       "    </tr>\n",
       "  </thead>\n",
       "  <tbody>\n",
       "    <tr>\n",
       "      <th>0</th>\n",
       "      <td>Paris</td>\n",
       "      <td>48.85</td>\n",
       "      <td>7.17</td>\n",
       "    </tr>\n",
       "    <tr>\n",
       "      <th>1</th>\n",
       "      <td>London</td>\n",
       "      <td>51.51</td>\n",
       "      <td>10.77</td>\n",
       "    </tr>\n",
       "    <tr>\n",
       "      <th>2</th>\n",
       "      <td>Oslo</td>\n",
       "      <td>59.91</td>\n",
       "      <td>2.30</td>\n",
       "    </tr>\n",
       "    <tr>\n",
       "      <th>3</th>\n",
       "      <td>Beijing</td>\n",
       "      <td>39.91</td>\n",
       "      <td>-3.52</td>\n",
       "    </tr>\n",
       "  </tbody>\n",
       "</table>\n",
       "</div>"
      ],
      "text/plain": [
       "      city    lat   temp\n",
       "0    Paris  48.85   7.17\n",
       "1   London  51.51  10.77\n",
       "2     Oslo  59.91   2.30\n",
       "3  Beijing  39.91  -3.52"
      ]
     },
     "execution_count": 99,
     "metadata": {},
     "output_type": "execute_result"
    }
   ],
   "source": [
    "# create a data frame from cities, lat, and temp\n",
    "weather_dict = {\n",
    "    \"city\": cities,\n",
    "    \"lat\": lat,\n",
    "    \"temp\": temp\n",
    "}\n",
    "weather_data = pd.DataFrame(weather_dict)\n",
    "weather_data.head()"
   ]
  },
  {
   "cell_type": "code",
   "execution_count": 101,
   "metadata": {},
   "outputs": [
    {
     "data": {
      "image/png": "[encoded data removed]",
      "text/plain": [
       "<Figure size 432x288 with 1 Axes>"
      ]
     },
     "metadata": {
      "needs_background": "light"
     },
     "output_type": "display_data"
    }
   ],
   "source": [
    "# Build a scatter plot for each data type\n",
    "plt.scatter(weather_data[\"lat\"], weather_data[\"temp\"], marker=\"o\")\n",
    "\n",
    "# Incorporate the other graph properties\n",
    "plt.title(\"Temperature in World Cities\")\n",
    "plt.ylabel(\"Temperature (Celsius)\")\n",
    "plt.xlabel(\"Latitude\")\n",
    "plt.grid(True)\n",
    "\n",
    "# Save the figure\n",
    "#plt.savefig(\"TemperatureInWorldCities.png\")\n",
    "\n",
    "# Show plot\n",
    "plt.show()"
   ]
  },
  {
   "cell_type": "code",
   "execution_count": 103,
   "metadata": {},
   "outputs": [],
   "source": [
    "#Show search\n",
    " #Dependencies\n",
    "import requests\n",
    "import json\n",
    "import pandas as pd\n",
    "import numpy as np\n",
    "import matplotlib.pyplot as plt"
   ]
  },
  {
   "cell_type": "code",
   "execution_count": 104,
   "metadata": {},
   "outputs": [
    {
     "data": {
      "text/plain": [
       "[{'score': 50.020924,\n",
       "  'show': {'id': 12036,\n",
       "   'url': 'http://www.tvmaze.com/shows/12036/altered-carbon',\n",
       "   'name': 'Altered Carbon',\n",
       "   'type': 'Scripted',\n",
       "   'language': 'English',\n",
       "   'genres': ['Drama', 'Crime', 'Science-Fiction'],\n",
       "   'status': 'Ended',\n",
       "   'runtime': None,\n",
       "   'premiered': '2018-02-02',\n",
       "   'officialSite': 'https://www.netflix.com/title/80097140',\n",
       "   'schedule': {'time': '', 'days': []},\n",
       "   'rating': {'average': 8.1},\n",
       "   'weight': 97,\n",
       "   'network': None,\n",
       "   'webChannel': {'id': 1, 'name': 'Netflix', 'country': None},\n",
       "   'externals': {'tvrage': None, 'thetvdb': 332331, 'imdb': 'tt2261227'},\n",
       "   'image': {'medium': 'http://static.tvmaze.com/uploads/images/medium_portrait/240/602152.jpg',\n",
       "    'original': 'http://static.tvmaze.com/uploads/images/original_untouched/240/602152.jpg'},\n",
       "   'summary': \"<p><b>Altered Carbon</b> is set in the 25th century when the human mind has been digitized and the soul itself is transferable from one body to the next. Takeshi Kovacs, a former elite interstellar warrior known as an Envoy who has been imprisoned for 250 years, is downloaded into a future he'd tried to stop. If he can solve a single murder in a world where technology has made death nearly obsolete, he'll get a chance at a new life on Earth.</p>\",\n",
       "   'updated': 1598469800,\n",
       "   '_links': {'self': {'href': 'http://api.tvmaze.com/shows/12036'},\n",
       "    'previousepisode': {'href': 'http://api.tvmaze.com/episodes/1792862'}}}}]"
      ]
     },
     "execution_count": 104,
     "metadata": {},
     "output_type": "execute_result"
    }
   ],
   "source": [
    "base_url = \"http://api.tvmaze.com/search/shows?q=Altered Carbon\"\n",
    "response = requests.get(base_url).json()\n",
    "response"
   ]
  },
  {
   "cell_type": "code",
   "execution_count": 110,
   "metadata": {},
   "outputs": [],
   "source": [
    "# list of tv show titles to query\n",
    "tv_shows = [\"Altered Carbon\", \"Grey's Anatomy\", \"This is Us\", \"The Flash\",\n",
    "            \"Vikings\", \"Shameless\", \"Arrow\", \"Peaky Blinders\", \"Dirk Gently\"]\n",
    "\n",
    "# tv maze show search base url\n",
    "base_url = \"http://api.tvmaze.com/search/shows?q=\"\n",
    "\n",
    "# set up lists to hold response data for name and rating\n",
    "titles = []\n",
    "ratings = []\n",
    "#networks = []\n",
    "\n",
    "# loop through tv show titles, make requests and parse\n",
    "for show in tv_shows:\n",
    "    target_url = base_url + show\n",
    "    response = requests.get(target_url).json()\n",
    "    titles.append(response[0]['show']['name'])\n",
    "    ratings.append(response[0]['show']['rating']['average'])\n",
    "    #networks.append(response[0]['show']['network']['country'])"
   ]
  },
  {
   "cell_type": "code",
   "execution_count": 116,
   "metadata": {},
   "outputs": [
    {
     "data": {
      "text/plain": [
       "'BBC Four'"
      ]
     },
     "execution_count": 116,
     "metadata": {},
     "output_type": "execute_result"
    }
   ],
   "source": [
    "R = response[0]['show']['network']\n",
    "R['name']"
   ]
  },
  {
   "cell_type": "code",
   "execution_count": 117,
   "metadata": {},
   "outputs": [
    {
     "data": {
      "text/html": [
       "<div>\n",
       "<style scoped>\n",
       "    .dataframe tbody tr th:only-of-type {\n",
       "        vertical-align: middle;\n",
       "    }\n",
       "\n",
       "    .dataframe tbody tr th {\n",
       "        vertical-align: top;\n",
       "    }\n",
       "\n",
       "    .dataframe thead th {\n",
       "        text-align: right;\n",
       "    }\n",
       "</style>\n",
       "<table border=\"1\" class=\"dataframe\">\n",
       "  <thead>\n",
       "    <tr style=\"text-align: right;\">\n",
       "      <th></th>\n",
       "      <th>title</th>\n",
       "      <th>rating</th>\n",
       "    </tr>\n",
       "  </thead>\n",
       "  <tbody>\n",
       "    <tr>\n",
       "      <th>0</th>\n",
       "      <td>Altered Carbon</td>\n",
       "      <td>8.1</td>\n",
       "    </tr>\n",
       "    <tr>\n",
       "      <th>1</th>\n",
       "      <td>Grey's Anatomy</td>\n",
       "      <td>8.0</td>\n",
       "    </tr>\n",
       "    <tr>\n",
       "      <th>2</th>\n",
       "      <td>This Is Us</td>\n",
       "      <td>8.1</td>\n",
       "    </tr>\n",
       "    <tr>\n",
       "      <th>3</th>\n",
       "      <td>The Flash</td>\n",
       "      <td>7.8</td>\n",
       "    </tr>\n",
       "    <tr>\n",
       "      <th>4</th>\n",
       "      <td>Vikings</td>\n",
       "      <td>8.7</td>\n",
       "    </tr>\n",
       "    <tr>\n",
       "      <th>5</th>\n",
       "      <td>Shameless</td>\n",
       "      <td>8.6</td>\n",
       "    </tr>\n",
       "    <tr>\n",
       "      <th>6</th>\n",
       "      <td>Arrow</td>\n",
       "      <td>7.4</td>\n",
       "    </tr>\n",
       "    <tr>\n",
       "      <th>7</th>\n",
       "      <td>Peaky Blinders</td>\n",
       "      <td>8.8</td>\n",
       "    </tr>\n",
       "    <tr>\n",
       "      <th>8</th>\n",
       "      <td>Dirk Gently</td>\n",
       "      <td>7.3</td>\n",
       "    </tr>\n",
       "  </tbody>\n",
       "</table>\n",
       "</div>"
      ],
      "text/plain": [
       "            title  rating\n",
       "0  Altered Carbon     8.1\n",
       "1  Grey's Anatomy     8.0\n",
       "2      This Is Us     8.1\n",
       "3       The Flash     7.8\n",
       "4         Vikings     8.7\n",
       "5       Shameless     8.6\n",
       "6           Arrow     7.4\n",
       "7  Peaky Blinders     8.8\n",
       "8     Dirk Gently     7.3"
      ]
     },
     "execution_count": 117,
     "metadata": {},
     "output_type": "execute_result"
    }
   ],
   "source": [
    "# create dataframe\n",
    "shows_df = pd.DataFrame({\n",
    "    \"title\": titles,\n",
    "    \"rating\": ratings,\n",
    "    #\"Network\": networks\n",
    "})\n",
    "\n",
    "shows_df"
   ]
  },
  {
   "cell_type": "code",
   "execution_count": 118,
   "metadata": {},
   "outputs": [
    {
     "data": {
      "image/png": "[encoded data removed]",
      "text/plain": [
       "<Figure size 432x288 with 1 Axes>"
      ]
     },
     "metadata": {
      "needs_background": "light"
     },
     "output_type": "display_data"
    }
   ],
   "source": [
    "# create a list of numbers for x values\n",
    "tick_locations = np.arange(len(shows_df))\n",
    "\n",
    "# create bar chart and set the values of xticks\n",
    "plt.bar(tick_locations, shows_df['rating'], align=\"center\")\n",
    "plt.xticks(tick_locations, shows_df['title'], rotation=45, ha=\"right\")\n",
    "\n",
    "plt.savefig(\"tv_show_ratings.png\")\n",
    "plt.show()"
   ]
  },
  {
   "cell_type": "code",
   "execution_count": 119,
   "metadata": {},
   "outputs": [
    {
     "name": "stdout",
     "output_type": "stream",
     "text": [
      "Oops, that key doesn't exist.\n",
      "...But the program doesn't die early!\n"
     ]
    }
   ],
   "source": [
    "students = {\n",
    "    # Name  : Age\n",
    "    \"James\": 27,\n",
    "    \"Sarah\": 19,\n",
    "    \"Jocelyn\": 28\n",
    "}\n",
    "\n",
    "# Try to access key that doesn't exist\n",
    "try:\n",
    "    students[\"Jezebel\"]\n",
    "except KeyError:\n",
    "    print(\"Oops, that key doesn't exist.\")\n",
    "\n",
    "# \"Catching\" the error lets the rest of our code execute\n",
    "print(\"...But the program doesn't die early!\")"
   ]
  },
  {
   "cell_type": "code",
   "execution_count": 120,
   "metadata": {},
   "outputs": [],
   "source": [
    "try:\n",
    "    students[\"Sarah\"]\n",
    "except KeyError:\n",
    "    print(\"Oops, that key doesn't exist.\")"
   ]
  },
  {
   "cell_type": "code",
   "execution_count": 121,
   "metadata": {},
   "outputs": [],
   "source": [
    "import json\n",
    "import requests\n",
    "import pandas as pd"
   ]
  },
  {
   "cell_type": "code",
   "execution_count": 122,
   "metadata": {},
   "outputs": [],
   "source": [
    "# List of character\n",
    "search_characters = ['R2-D2', 'Darth Vader', 'Godzilla', 'Luke Skywalker', 'Frodo', \\\n",
    "              'Boba Fett', 'Iron Man', 'Jon Snow', 'Han Solo']"
   ]
  },
  {
   "cell_type": "code",
   "execution_count": 125,
   "metadata": {},
   "outputs": [],
   "source": [
    "# Set empty lists to hold characters height and mass\n",
    "height = []\n",
    "mass = []\n",
    "starwars_characters = []"
   ]
  },
  {
   "cell_type": "code",
   "execution_count": 135,
   "metadata": {},
   "outputs": [],
   "source": [
    "# Set url for API\n",
    "search_character = 'Godzilla'\n",
    "url = 'https://swapi.co/api/people/?search='\n",
    "query = url + search_character"
   ]
  },
  {
   "cell_type": "code",
   "execution_count": 137,
   "metadata": {},
   "outputs": [],
   "source": [
    "# Dependencies\n",
    "import requests"
   ]
  },
  {
   "cell_type": "code",
   "execution_count": 139,
   "metadata": {},
   "outputs": [
    {
     "data": {
      "text/plain": [
       "[{'page': 1, 'pages': 7, 'per_page': '50', 'total': 304},\n",
       " [{'id': 'ABW',\n",
       "   'iso2Code': 'AW',\n",
       "   'name': 'Aruba',\n",
       "   'region': {'id': 'LCN',\n",
       "    'iso2code': 'ZJ',\n",
       "    'value': 'Latin America & Caribbean '},\n",
       "   'adminregion': {'id': '', 'iso2code': '', 'value': ''},\n",
       "   'incomeLevel': {'id': 'HIC', 'iso2code': 'XD', 'value': 'High income'},\n",
       "   'lendingType': {'id': 'LNX', 'iso2code': 'XX', 'value': 'Not classified'},\n",
       "   'capitalCity': 'Oranjestad',\n",
       "   'longitude': '-70.0167',\n",
       "   'latitude': '12.5167'},\n",
       "  {'id': 'AFG',\n",
       "   'iso2Code': 'AF',\n",
       "   'name': 'Afghanistan',\n",
       "   'region': {'id': 'SAS', 'iso2code': '8S', 'value': 'South Asia'},\n",
       "   'adminregion': {'id': 'SAS', 'iso2code': '8S', 'value': 'South Asia'},\n",
       "   'incomeLevel': {'id': 'LIC', 'iso2code': 'XM', 'value': 'Low income'},\n",
       "   'lendingType': {'id': 'IDX', 'iso2code': 'XI', 'value': 'IDA'},\n",
       "   'capitalCity': 'Kabul',\n",
       "   'longitude': '69.1761',\n",
       "   'latitude': '34.5228'},\n",
       "  {'id': 'AFR',\n",
       "   'iso2Code': 'A9',\n",
       "   'name': 'Africa',\n",
       "   'region': {'id': 'NA', 'iso2code': 'NA', 'value': 'Aggregates'},\n",
       "   'adminregion': {'id': '', 'iso2code': '', 'value': ''},\n",
       "   'incomeLevel': {'id': 'NA', 'iso2code': 'NA', 'value': 'Aggregates'},\n",
       "   'lendingType': {'id': '', 'iso2code': '', 'value': 'Aggregates'},\n",
       "   'capitalCity': '',\n",
       "   'longitude': '',\n",
       "   'latitude': ''},\n",
       "  {'id': 'AGO',\n",
       "   'iso2Code': 'AO',\n",
       "   'name': 'Angola',\n",
       "   'region': {'id': 'SSF', 'iso2code': 'ZG', 'value': 'Sub-Saharan Africa '},\n",
       "   'adminregion': {'id': 'SSA',\n",
       "    'iso2code': 'ZF',\n",
       "    'value': 'Sub-Saharan Africa (excluding high income)'},\n",
       "   'incomeLevel': {'id': 'LMC',\n",
       "    'iso2code': 'XN',\n",
       "    'value': 'Lower middle income'},\n",
       "   'lendingType': {'id': 'IBD', 'iso2code': 'XF', 'value': 'IBRD'},\n",
       "   'capitalCity': 'Luanda',\n",
       "   'longitude': '13.242',\n",
       "   'latitude': '-8.81155'},\n",
       "  {'id': 'ALB',\n",
       "   'iso2Code': 'AL',\n",
       "   'name': 'Albania',\n",
       "   'region': {'id': 'ECS', 'iso2code': 'Z7', 'value': 'Europe & Central Asia'},\n",
       "   'adminregion': {'id': 'ECA',\n",
       "    'iso2code': '7E',\n",
       "    'value': 'Europe & Central Asia (excluding high income)'},\n",
       "   'incomeLevel': {'id': 'UMC',\n",
       "    'iso2code': 'XT',\n",
       "    'value': 'Upper middle income'},\n",
       "   'lendingType': {'id': 'IBD', 'iso2code': 'XF', 'value': 'IBRD'},\n",
       "   'capitalCity': 'Tirane',\n",
       "   'longitude': '19.8172',\n",
       "   'latitude': '41.3317'},\n",
       "  {'id': 'AND',\n",
       "   'iso2Code': 'AD',\n",
       "   'name': 'Andorra',\n",
       "   'region': {'id': 'ECS', 'iso2code': 'Z7', 'value': 'Europe & Central Asia'},\n",
       "   'adminregion': {'id': '', 'iso2code': '', 'value': ''},\n",
       "   'incomeLevel': {'id': 'HIC', 'iso2code': 'XD', 'value': 'High income'},\n",
       "   'lendingType': {'id': 'LNX', 'iso2code': 'XX', 'value': 'Not classified'},\n",
       "   'capitalCity': 'Andorra la Vella',\n",
       "   'longitude': '1.5218',\n",
       "   'latitude': '42.5075'},\n",
       "  {'id': 'ANR',\n",
       "   'iso2Code': 'L5',\n",
       "   'name': 'Andean Region',\n",
       "   'region': {'id': 'NA', 'iso2code': 'NA', 'value': 'Aggregates'},\n",
       "   'adminregion': {'id': '', 'iso2code': '', 'value': ''},\n",
       "   'incomeLevel': {'id': 'NA', 'iso2code': 'NA', 'value': 'Aggregates'},\n",
       "   'lendingType': {'id': '', 'iso2code': '', 'value': 'Aggregates'},\n",
       "   'capitalCity': '',\n",
       "   'longitude': '',\n",
       "   'latitude': ''},\n",
       "  {'id': 'ARB',\n",
       "   'iso2Code': '1A',\n",
       "   'name': 'Arab World',\n",
       "   'region': {'id': 'NA', 'iso2code': 'NA', 'value': 'Aggregates'},\n",
       "   'adminregion': {'id': '', 'iso2code': '', 'value': ''},\n",
       "   'incomeLevel': {'id': 'NA', 'iso2code': 'NA', 'value': 'Aggregates'},\n",
       "   'lendingType': {'id': '', 'iso2code': '', 'value': 'Aggregates'},\n",
       "   'capitalCity': '',\n",
       "   'longitude': '',\n",
       "   'latitude': ''},\n",
       "  {'id': 'ARE',\n",
       "   'iso2Code': 'AE',\n",
       "   'name': 'United Arab Emirates',\n",
       "   'region': {'id': 'MEA',\n",
       "    'iso2code': 'ZQ',\n",
       "    'value': 'Middle East & North Africa'},\n",
       "   'adminregion': {'id': '', 'iso2code': '', 'value': ''},\n",
       "   'incomeLevel': {'id': 'HIC', 'iso2code': 'XD', 'value': 'High income'},\n",
       "   'lendingType': {'id': 'LNX', 'iso2code': 'XX', 'value': 'Not classified'},\n",
       "   'capitalCity': 'Abu Dhabi',\n",
       "   'longitude': '54.3705',\n",
       "   'latitude': '24.4764'},\n",
       "  {'id': 'ARG',\n",
       "   'iso2Code': 'AR',\n",
       "   'name': 'Argentina',\n",
       "   'region': {'id': 'LCN',\n",
       "    'iso2code': 'ZJ',\n",
       "    'value': 'Latin America & Caribbean '},\n",
       "   'adminregion': {'id': 'LAC',\n",
       "    'iso2code': 'XJ',\n",
       "    'value': 'Latin America & Caribbean (excluding high income)'},\n",
       "   'incomeLevel': {'id': 'UMC',\n",
       "    'iso2code': 'XT',\n",
       "    'value': 'Upper middle income'},\n",
       "   'lendingType': {'id': 'IBD', 'iso2code': 'XF', 'value': 'IBRD'},\n",
       "   'capitalCity': 'Buenos Aires',\n",
       "   'longitude': '-58.4173',\n",
       "   'latitude': '-34.6118'},\n",
       "  {'id': 'ARM',\n",
       "   'iso2Code': 'AM',\n",
       "   'name': 'Armenia',\n",
       "   'region': {'id': 'ECS', 'iso2code': 'Z7', 'value': 'Europe & Central Asia'},\n",
       "   'adminregion': {'id': 'ECA',\n",
       "    'iso2code': '7E',\n",
       "    'value': 'Europe & Central Asia (excluding high income)'},\n",
       "   'incomeLevel': {'id': 'UMC',\n",
       "    'iso2code': 'XT',\n",
       "    'value': 'Upper middle income'},\n",
       "   'lendingType': {'id': 'IBD', 'iso2code': 'XF', 'value': 'IBRD'},\n",
       "   'capitalCity': 'Yerevan',\n",
       "   'longitude': '44.509',\n",
       "   'latitude': '40.1596'},\n",
       "  {'id': 'ASM',\n",
       "   'iso2Code': 'AS',\n",
       "   'name': 'American Samoa',\n",
       "   'region': {'id': 'EAS', 'iso2code': 'Z4', 'value': 'East Asia & Pacific'},\n",
       "   'adminregion': {'id': 'EAP',\n",
       "    'iso2code': '4E',\n",
       "    'value': 'East Asia & Pacific (excluding high income)'},\n",
       "   'incomeLevel': {'id': 'UMC',\n",
       "    'iso2code': 'XT',\n",
       "    'value': 'Upper middle income'},\n",
       "   'lendingType': {'id': 'LNX', 'iso2code': 'XX', 'value': 'Not classified'},\n",
       "   'capitalCity': 'Pago Pago',\n",
       "   'longitude': '-170.691',\n",
       "   'latitude': '-14.2846'},\n",
       "  {'id': 'ATG',\n",
       "   'iso2Code': 'AG',\n",
       "   'name': 'Antigua and Barbuda',\n",
       "   'region': {'id': 'LCN',\n",
       "    'iso2code': 'ZJ',\n",
       "    'value': 'Latin America & Caribbean '},\n",
       "   'adminregion': {'id': '', 'iso2code': '', 'value': ''},\n",
       "   'incomeLevel': {'id': 'HIC', 'iso2code': 'XD', 'value': 'High income'},\n",
       "   'lendingType': {'id': 'IBD', 'iso2code': 'XF', 'value': 'IBRD'},\n",
       "   'capitalCity': \"Saint John's\",\n",
       "   'longitude': '-61.8456',\n",
       "   'latitude': '17.1175'},\n",
       "  {'id': 'AUS',\n",
       "   'iso2Code': 'AU',\n",
       "   'name': 'Australia',\n",
       "   'region': {'id': 'EAS', 'iso2code': 'Z4', 'value': 'East Asia & Pacific'},\n",
       "   'adminregion': {'id': '', 'iso2code': '', 'value': ''},\n",
       "   'incomeLevel': {'id': 'HIC', 'iso2code': 'XD', 'value': 'High income'},\n",
       "   'lendingType': {'id': 'LNX', 'iso2code': 'XX', 'value': 'Not classified'},\n",
       "   'capitalCity': 'Canberra',\n",
       "   'longitude': '149.129',\n",
       "   'latitude': '-35.282'},\n",
       "  {'id': 'AUT',\n",
       "   'iso2Code': 'AT',\n",
       "   'name': 'Austria',\n",
       "   'region': {'id': 'ECS', 'iso2code': 'Z7', 'value': 'Europe & Central Asia'},\n",
       "   'adminregion': {'id': '', 'iso2code': '', 'value': ''},\n",
       "   'incomeLevel': {'id': 'HIC', 'iso2code': 'XD', 'value': 'High income'},\n",
       "   'lendingType': {'id': 'LNX', 'iso2code': 'XX', 'value': 'Not classified'},\n",
       "   'capitalCity': 'Vienna',\n",
       "   'longitude': '16.3798',\n",
       "   'latitude': '48.2201'},\n",
       "  {'id': 'AZE',\n",
       "   'iso2Code': 'AZ',\n",
       "   'name': 'Azerbaijan',\n",
       "   'region': {'id': 'ECS', 'iso2code': 'Z7', 'value': 'Europe & Central Asia'},\n",
       "   'adminregion': {'id': 'ECA',\n",
       "    'iso2code': '7E',\n",
       "    'value': 'Europe & Central Asia (excluding high income)'},\n",
       "   'incomeLevel': {'id': 'UMC',\n",
       "    'iso2code': 'XT',\n",
       "    'value': 'Upper middle income'},\n",
       "   'lendingType': {'id': 'IBD', 'iso2code': 'XF', 'value': 'IBRD'},\n",
       "   'capitalCity': 'Baku',\n",
       "   'longitude': '49.8932',\n",
       "   'latitude': '40.3834'},\n",
       "  {'id': 'BDI',\n",
       "   'iso2Code': 'BI',\n",
       "   'name': 'Burundi',\n",
       "   'region': {'id': 'SSF', 'iso2code': 'ZG', 'value': 'Sub-Saharan Africa '},\n",
       "   'adminregion': {'id': 'SSA',\n",
       "    'iso2code': 'ZF',\n",
       "    'value': 'Sub-Saharan Africa (excluding high income)'},\n",
       "   'incomeLevel': {'id': 'LIC', 'iso2code': 'XM', 'value': 'Low income'},\n",
       "   'lendingType': {'id': 'IDX', 'iso2code': 'XI', 'value': 'IDA'},\n",
       "   'capitalCity': 'Bujumbura',\n",
       "   'longitude': '29.3639',\n",
       "   'latitude': '-3.3784'},\n",
       "  {'id': 'BEA',\n",
       "   'iso2Code': 'B4',\n",
       "   'name': 'East Asia & Pacific (IBRD-only countries)',\n",
       "   'region': {'id': 'NA', 'iso2code': 'NA', 'value': 'Aggregates'},\n",
       "   'adminregion': {'id': '', 'iso2code': '', 'value': ''},\n",
       "   'incomeLevel': {'id': 'NA', 'iso2code': 'NA', 'value': 'Aggregates'},\n",
       "   'lendingType': {'id': '', 'iso2code': '', 'value': 'Aggregates'},\n",
       "   'capitalCity': '',\n",
       "   'longitude': '',\n",
       "   'latitude': ''},\n",
       "  {'id': 'BEC',\n",
       "   'iso2Code': 'B7',\n",
       "   'name': 'Europe & Central Asia (IBRD-only countries)',\n",
       "   'region': {'id': 'NA', 'iso2code': 'NA', 'value': 'Aggregates'},\n",
       "   'adminregion': {'id': '', 'iso2code': '', 'value': ''},\n",
       "   'incomeLevel': {'id': 'NA', 'iso2code': 'NA', 'value': 'Aggregates'},\n",
       "   'lendingType': {'id': '', 'iso2code': '', 'value': 'Aggregates'},\n",
       "   'capitalCity': '',\n",
       "   'longitude': '',\n",
       "   'latitude': ''},\n",
       "  {'id': 'BEL',\n",
       "   'iso2Code': 'BE',\n",
       "   'name': 'Belgium',\n",
       "   'region': {'id': 'ECS', 'iso2code': 'Z7', 'value': 'Europe & Central Asia'},\n",
       "   'adminregion': {'id': '', 'iso2code': '', 'value': ''},\n",
       "   'incomeLevel': {'id': 'HIC', 'iso2code': 'XD', 'value': 'High income'},\n",
       "   'lendingType': {'id': 'LNX', 'iso2code': 'XX', 'value': 'Not classified'},\n",
       "   'capitalCity': 'Brussels',\n",
       "   'longitude': '4.36761',\n",
       "   'latitude': '50.8371'},\n",
       "  {'id': 'BEN',\n",
       "   'iso2Code': 'BJ',\n",
       "   'name': 'Benin',\n",
       "   'region': {'id': 'SSF', 'iso2code': 'ZG', 'value': 'Sub-Saharan Africa '},\n",
       "   'adminregion': {'id': 'SSA',\n",
       "    'iso2code': 'ZF',\n",
       "    'value': 'Sub-Saharan Africa (excluding high income)'},\n",
       "   'incomeLevel': {'id': 'LMC',\n",
       "    'iso2code': 'XN',\n",
       "    'value': 'Lower middle income'},\n",
       "   'lendingType': {'id': 'IDX', 'iso2code': 'XI', 'value': 'IDA'},\n",
       "   'capitalCity': 'Porto-Novo',\n",
       "   'longitude': '2.6323',\n",
       "   'latitude': '6.4779'},\n",
       "  {'id': 'BFA',\n",
       "   'iso2Code': 'BF',\n",
       "   'name': 'Burkina Faso',\n",
       "   'region': {'id': 'SSF', 'iso2code': 'ZG', 'value': 'Sub-Saharan Africa '},\n",
       "   'adminregion': {'id': 'SSA',\n",
       "    'iso2code': 'ZF',\n",
       "    'value': 'Sub-Saharan Africa (excluding high income)'},\n",
       "   'incomeLevel': {'id': 'LIC', 'iso2code': 'XM', 'value': 'Low income'},\n",
       "   'lendingType': {'id': 'IDX', 'iso2code': 'XI', 'value': 'IDA'},\n",
       "   'capitalCity': 'Ouagadougou',\n",
       "   'longitude': '-1.53395',\n",
       "   'latitude': '12.3605'},\n",
       "  {'id': 'BGD',\n",
       "   'iso2Code': 'BD',\n",
       "   'name': 'Bangladesh',\n",
       "   'region': {'id': 'SAS', 'iso2code': '8S', 'value': 'South Asia'},\n",
       "   'adminregion': {'id': 'SAS', 'iso2code': '8S', 'value': 'South Asia'},\n",
       "   'incomeLevel': {'id': 'LMC',\n",
       "    'iso2code': 'XN',\n",
       "    'value': 'Lower middle income'},\n",
       "   'lendingType': {'id': 'IDX', 'iso2code': 'XI', 'value': 'IDA'},\n",
       "   'capitalCity': 'Dhaka',\n",
       "   'longitude': '90.4113',\n",
       "   'latitude': '23.7055'},\n",
       "  {'id': 'BGR',\n",
       "   'iso2Code': 'BG',\n",
       "   'name': 'Bulgaria',\n",
       "   'region': {'id': 'ECS', 'iso2code': 'Z7', 'value': 'Europe & Central Asia'},\n",
       "   'adminregion': {'id': 'ECA',\n",
       "    'iso2code': '7E',\n",
       "    'value': 'Europe & Central Asia (excluding high income)'},\n",
       "   'incomeLevel': {'id': 'UMC',\n",
       "    'iso2code': 'XT',\n",
       "    'value': 'Upper middle income'},\n",
       "   'lendingType': {'id': 'IBD', 'iso2code': 'XF', 'value': 'IBRD'},\n",
       "   'capitalCity': 'Sofia',\n",
       "   'longitude': '23.3238',\n",
       "   'latitude': '42.7105'},\n",
       "  {'id': 'BHI',\n",
       "   'iso2Code': 'B1',\n",
       "   'name': 'IBRD countries classified as high income',\n",
       "   'region': {'id': 'NA', 'iso2code': 'NA', 'value': 'Aggregates'},\n",
       "   'adminregion': {'id': '', 'iso2code': '', 'value': ''},\n",
       "   'incomeLevel': {'id': 'NA', 'iso2code': 'NA', 'value': 'Aggregates'},\n",
       "   'lendingType': {'id': '', 'iso2code': '', 'value': 'Aggregates'},\n",
       "   'capitalCity': '',\n",
       "   'longitude': '',\n",
       "   'latitude': ''},\n",
       "  {'id': 'BHR',\n",
       "   'iso2Code': 'BH',\n",
       "   'name': 'Bahrain',\n",
       "   'region': {'id': 'MEA',\n",
       "    'iso2code': 'ZQ',\n",
       "    'value': 'Middle East & North Africa'},\n",
       "   'adminregion': {'id': '', 'iso2code': '', 'value': ''},\n",
       "   'incomeLevel': {'id': 'HIC', 'iso2code': 'XD', 'value': 'High income'},\n",
       "   'lendingType': {'id': 'LNX', 'iso2code': 'XX', 'value': 'Not classified'},\n",
       "   'capitalCity': 'Manama',\n",
       "   'longitude': '50.5354',\n",
       "   'latitude': '26.1921'},\n",
       "  {'id': 'BHS',\n",
       "   'iso2Code': 'BS',\n",
       "   'name': 'Bahamas, The',\n",
       "   'region': {'id': 'LCN',\n",
       "    'iso2code': 'ZJ',\n",
       "    'value': 'Latin America & Caribbean '},\n",
       "   'adminregion': {'id': '', 'iso2code': '', 'value': ''},\n",
       "   'incomeLevel': {'id': 'HIC', 'iso2code': 'XD', 'value': 'High income'},\n",
       "   'lendingType': {'id': 'LNX', 'iso2code': 'XX', 'value': 'Not classified'},\n",
       "   'capitalCity': 'Nassau',\n",
       "   'longitude': '-77.339',\n",
       "   'latitude': '25.0661'},\n",
       "  {'id': 'BIH',\n",
       "   'iso2Code': 'BA',\n",
       "   'name': 'Bosnia and Herzegovina',\n",
       "   'region': {'id': 'ECS', 'iso2code': 'Z7', 'value': 'Europe & Central Asia'},\n",
       "   'adminregion': {'id': 'ECA',\n",
       "    'iso2code': '7E',\n",
       "    'value': 'Europe & Central Asia (excluding high income)'},\n",
       "   'incomeLevel': {'id': 'UMC',\n",
       "    'iso2code': 'XT',\n",
       "    'value': 'Upper middle income'},\n",
       "   'lendingType': {'id': 'IBD', 'iso2code': 'XF', 'value': 'IBRD'},\n",
       "   'capitalCity': 'Sarajevo',\n",
       "   'longitude': '18.4214',\n",
       "   'latitude': '43.8607'},\n",
       "  {'id': 'BLA',\n",
       "   'iso2Code': 'B2',\n",
       "   'name': 'Latin America & the Caribbean (IBRD-only countries)',\n",
       "   'region': {'id': 'NA', 'iso2code': 'NA', 'value': 'Aggregates'},\n",
       "   'adminregion': {'id': '', 'iso2code': '', 'value': ''},\n",
       "   'incomeLevel': {'id': 'NA', 'iso2code': 'NA', 'value': 'Aggregates'},\n",
       "   'lendingType': {'id': '', 'iso2code': '', 'value': 'Aggregates'},\n",
       "   'capitalCity': '',\n",
       "   'longitude': '',\n",
       "   'latitude': ''},\n",
       "  {'id': 'BLR',\n",
       "   'iso2Code': 'BY',\n",
       "   'name': 'Belarus',\n",
       "   'region': {'id': 'ECS', 'iso2code': 'Z7', 'value': 'Europe & Central Asia'},\n",
       "   'adminregion': {'id': 'ECA',\n",
       "    'iso2code': '7E',\n",
       "    'value': 'Europe & Central Asia (excluding high income)'},\n",
       "   'incomeLevel': {'id': 'UMC',\n",
       "    'iso2code': 'XT',\n",
       "    'value': 'Upper middle income'},\n",
       "   'lendingType': {'id': 'IBD', 'iso2code': 'XF', 'value': 'IBRD'},\n",
       "   'capitalCity': 'Minsk',\n",
       "   'longitude': '27.5766',\n",
       "   'latitude': '53.9678'},\n",
       "  {'id': 'BLZ',\n",
       "   'iso2Code': 'BZ',\n",
       "   'name': 'Belize',\n",
       "   'region': {'id': 'LCN',\n",
       "    'iso2code': 'ZJ',\n",
       "    'value': 'Latin America & Caribbean '},\n",
       "   'adminregion': {'id': 'LAC',\n",
       "    'iso2code': 'XJ',\n",
       "    'value': 'Latin America & Caribbean (excluding high income)'},\n",
       "   'incomeLevel': {'id': 'UMC',\n",
       "    'iso2code': 'XT',\n",
       "    'value': 'Upper middle income'},\n",
       "   'lendingType': {'id': 'IBD', 'iso2code': 'XF', 'value': 'IBRD'},\n",
       "   'capitalCity': 'Belmopan',\n",
       "   'longitude': '-88.7713',\n",
       "   'latitude': '17.2534'},\n",
       "  {'id': 'BMN',\n",
       "   'iso2Code': 'B3',\n",
       "   'name': 'Middle East & North Africa (IBRD-only countries)',\n",
       "   'region': {'id': 'NA', 'iso2code': 'NA', 'value': 'Aggregates'},\n",
       "   'adminregion': {'id': '', 'iso2code': '', 'value': ''},\n",
       "   'incomeLevel': {'id': 'NA', 'iso2code': 'NA', 'value': 'Aggregates'},\n",
       "   'lendingType': {'id': '', 'iso2code': '', 'value': 'Aggregates'},\n",
       "   'capitalCity': '',\n",
       "   'longitude': '',\n",
       "   'latitude': ''},\n",
       "  {'id': 'BMU',\n",
       "   'iso2Code': 'BM',\n",
       "   'name': 'Bermuda',\n",
       "   'region': {'id': 'NAC', 'iso2code': 'XU', 'value': 'North America'},\n",
       "   'adminregion': {'id': '', 'iso2code': '', 'value': ''},\n",
       "   'incomeLevel': {'id': 'HIC', 'iso2code': 'XD', 'value': 'High income'},\n",
       "   'lendingType': {'id': 'LNX', 'iso2code': 'XX', 'value': 'Not classified'},\n",
       "   'capitalCity': 'Hamilton',\n",
       "   'longitude': '-64.706',\n",
       "   'latitude': '32.3293'},\n",
       "  {'id': 'BOL',\n",
       "   'iso2Code': 'BO',\n",
       "   'name': 'Bolivia',\n",
       "   'region': {'id': 'LCN',\n",
       "    'iso2code': 'ZJ',\n",
       "    'value': 'Latin America & Caribbean '},\n",
       "   'adminregion': {'id': 'LAC',\n",
       "    'iso2code': 'XJ',\n",
       "    'value': 'Latin America & Caribbean (excluding high income)'},\n",
       "   'incomeLevel': {'id': 'LMC',\n",
       "    'iso2code': 'XN',\n",
       "    'value': 'Lower middle income'},\n",
       "   'lendingType': {'id': 'IBD', 'iso2code': 'XF', 'value': 'IBRD'},\n",
       "   'capitalCity': 'La Paz',\n",
       "   'longitude': '-66.1936',\n",
       "   'latitude': '-13.9908'},\n",
       "  {'id': 'BRA',\n",
       "   'iso2Code': 'BR',\n",
       "   'name': 'Brazil',\n",
       "   'region': {'id': 'LCN',\n",
       "    'iso2code': 'ZJ',\n",
       "    'value': 'Latin America & Caribbean '},\n",
       "   'adminregion': {'id': 'LAC',\n",
       "    'iso2code': 'XJ',\n",
       "    'value': 'Latin America & Caribbean (excluding high income)'},\n",
       "   'incomeLevel': {'id': 'UMC',\n",
       "    'iso2code': 'XT',\n",
       "    'value': 'Upper middle income'},\n",
       "   'lendingType': {'id': 'IBD', 'iso2code': 'XF', 'value': 'IBRD'},\n",
       "   'capitalCity': 'Brasilia',\n",
       "   'longitude': '-47.9292',\n",
       "   'latitude': '-15.7801'},\n",
       "  {'id': 'BRB',\n",
       "   'iso2Code': 'BB',\n",
       "   'name': 'Barbados',\n",
       "   'region': {'id': 'LCN',\n",
       "    'iso2code': 'ZJ',\n",
       "    'value': 'Latin America & Caribbean '},\n",
       "   'adminregion': {'id': '', 'iso2code': '', 'value': ''},\n",
       "   'incomeLevel': {'id': 'HIC', 'iso2code': 'XD', 'value': 'High income'},\n",
       "   'lendingType': {'id': 'LNX', 'iso2code': 'XX', 'value': 'Not classified'},\n",
       "   'capitalCity': 'Bridgetown',\n",
       "   'longitude': '-59.6105',\n",
       "   'latitude': '13.0935'},\n",
       "  {'id': 'BRN',\n",
       "   'iso2Code': 'BN',\n",
       "   'name': 'Brunei Darussalam',\n",
       "   'region': {'id': 'EAS', 'iso2code': 'Z4', 'value': 'East Asia & Pacific'},\n",
       "   'adminregion': {'id': '', 'iso2code': '', 'value': ''},\n",
       "   'incomeLevel': {'id': 'HIC', 'iso2code': 'XD', 'value': 'High income'},\n",
       "   'lendingType': {'id': 'LNX', 'iso2code': 'XX', 'value': 'Not classified'},\n",
       "   'capitalCity': 'Bandar Seri Begawan',\n",
       "   'longitude': '114.946',\n",
       "   'latitude': '4.94199'},\n",
       "  {'id': 'BSS',\n",
       "   'iso2Code': 'B6',\n",
       "   'name': 'Sub-Saharan Africa (IBRD-only countries)',\n",
       "   'region': {'id': 'NA', 'iso2code': 'NA', 'value': 'Aggregates'},\n",
       "   'adminregion': {'id': '', 'iso2code': '', 'value': ''},\n",
       "   'incomeLevel': {'id': 'NA', 'iso2code': 'NA', 'value': 'Aggregates'},\n",
       "   'lendingType': {'id': '', 'iso2code': '', 'value': 'Aggregates'},\n",
       "   'capitalCity': '',\n",
       "   'longitude': '',\n",
       "   'latitude': ''},\n",
       "  {'id': 'BTN',\n",
       "   'iso2Code': 'BT',\n",
       "   'name': 'Bhutan',\n",
       "   'region': {'id': 'SAS', 'iso2code': '8S', 'value': 'South Asia'},\n",
       "   'adminregion': {'id': 'SAS', 'iso2code': '8S', 'value': 'South Asia'},\n",
       "   'incomeLevel': {'id': 'LMC',\n",
       "    'iso2code': 'XN',\n",
       "    'value': 'Lower middle income'},\n",
       "   'lendingType': {'id': 'IDX', 'iso2code': 'XI', 'value': 'IDA'},\n",
       "   'capitalCity': 'Thimphu',\n",
       "   'longitude': '89.6177',\n",
       "   'latitude': '27.5768'},\n",
       "  {'id': 'BWA',\n",
       "   'iso2Code': 'BW',\n",
       "   'name': 'Botswana',\n",
       "   'region': {'id': 'SSF', 'iso2code': 'ZG', 'value': 'Sub-Saharan Africa '},\n",
       "   'adminregion': {'id': 'SSA',\n",
       "    'iso2code': 'ZF',\n",
       "    'value': 'Sub-Saharan Africa (excluding high income)'},\n",
       "   'incomeLevel': {'id': 'UMC',\n",
       "    'iso2code': 'XT',\n",
       "    'value': 'Upper middle income'},\n",
       "   'lendingType': {'id': 'IBD', 'iso2code': 'XF', 'value': 'IBRD'},\n",
       "   'capitalCity': 'Gaborone',\n",
       "   'longitude': '25.9201',\n",
       "   'latitude': '-24.6544'},\n",
       "  {'id': 'CAA',\n",
       "   'iso2Code': 'C9',\n",
       "   'name': 'Sub-Saharan Africa (IFC classification)',\n",
       "   'region': {'id': 'NA', 'iso2code': 'NA', 'value': 'Aggregates'},\n",
       "   'adminregion': {'id': '', 'iso2code': '', 'value': ''},\n",
       "   'incomeLevel': {'id': 'NA', 'iso2code': 'NA', 'value': 'Aggregates'},\n",
       "   'lendingType': {'id': '', 'iso2code': '', 'value': 'Aggregates'},\n",
       "   'capitalCity': '',\n",
       "   'longitude': '',\n",
       "   'latitude': ''},\n",
       "  {'id': 'CAF',\n",
       "   'iso2Code': 'CF',\n",
       "   'name': 'Central African Republic',\n",
       "   'region': {'id': 'SSF', 'iso2code': 'ZG', 'value': 'Sub-Saharan Africa '},\n",
       "   'adminregion': {'id': 'SSA',\n",
       "    'iso2code': 'ZF',\n",
       "    'value': 'Sub-Saharan Africa (excluding high income)'},\n",
       "   'incomeLevel': {'id': 'LIC', 'iso2code': 'XM', 'value': 'Low income'},\n",
       "   'lendingType': {'id': 'IDX', 'iso2code': 'XI', 'value': 'IDA'},\n",
       "   'capitalCity': 'Bangui',\n",
       "   'longitude': '21.6407',\n",
       "   'latitude': '5.63056'},\n",
       "  {'id': 'CAN',\n",
       "   'iso2Code': 'CA',\n",
       "   'name': 'Canada',\n",
       "   'region': {'id': 'NAC', 'iso2code': 'XU', 'value': 'North America'},\n",
       "   'adminregion': {'id': '', 'iso2code': '', 'value': ''},\n",
       "   'incomeLevel': {'id': 'HIC', 'iso2code': 'XD', 'value': 'High income'},\n",
       "   'lendingType': {'id': 'LNX', 'iso2code': 'XX', 'value': 'Not classified'},\n",
       "   'capitalCity': 'Ottawa',\n",
       "   'longitude': '-75.6919',\n",
       "   'latitude': '45.4215'},\n",
       "  {'id': 'CEA',\n",
       "   'iso2Code': 'C4',\n",
       "   'name': 'East Asia and the Pacific (IFC classification)',\n",
       "   'region': {'id': 'NA', 'iso2code': 'NA', 'value': 'Aggregates'},\n",
       "   'adminregion': {'id': '', 'iso2code': '', 'value': ''},\n",
       "   'incomeLevel': {'id': 'NA', 'iso2code': 'NA', 'value': 'Aggregates'},\n",
       "   'lendingType': {'id': '', 'iso2code': '', 'value': 'Aggregates'},\n",
       "   'capitalCity': '',\n",
       "   'longitude': '',\n",
       "   'latitude': ''},\n",
       "  {'id': 'CEB',\n",
       "   'iso2Code': 'B8',\n",
       "   'name': 'Central Europe and the Baltics',\n",
       "   'region': {'id': 'NA', 'iso2code': 'NA', 'value': 'Aggregates'},\n",
       "   'adminregion': {'id': '', 'iso2code': '', 'value': ''},\n",
       "   'incomeLevel': {'id': 'NA', 'iso2code': 'NA', 'value': 'Aggregates'},\n",
       "   'lendingType': {'id': '', 'iso2code': '', 'value': 'Aggregates'},\n",
       "   'capitalCity': '',\n",
       "   'longitude': '',\n",
       "   'latitude': ''},\n",
       "  {'id': 'CEU',\n",
       "   'iso2Code': 'C5',\n",
       "   'name': 'Europe and Central Asia (IFC classification)',\n",
       "   'region': {'id': 'NA', 'iso2code': 'NA', 'value': 'Aggregates'},\n",
       "   'adminregion': {'id': '', 'iso2code': '', 'value': ''},\n",
       "   'incomeLevel': {'id': 'NA', 'iso2code': 'NA', 'value': 'Aggregates'},\n",
       "   'lendingType': {'id': '', 'iso2code': '', 'value': 'Aggregates'},\n",
       "   'capitalCity': '',\n",
       "   'longitude': '',\n",
       "   'latitude': ''},\n",
       "  {'id': 'CHE',\n",
       "   'iso2Code': 'CH',\n",
       "   'name': 'Switzerland',\n",
       "   'region': {'id': 'ECS', 'iso2code': 'Z7', 'value': 'Europe & Central Asia'},\n",
       "   'adminregion': {'id': '', 'iso2code': '', 'value': ''},\n",
       "   'incomeLevel': {'id': 'HIC', 'iso2code': 'XD', 'value': 'High income'},\n",
       "   'lendingType': {'id': 'LNX', 'iso2code': 'XX', 'value': 'Not classified'},\n",
       "   'capitalCity': 'Bern',\n",
       "   'longitude': '7.44821',\n",
       "   'latitude': '46.948'},\n",
       "  {'id': 'CHI',\n",
       "   'iso2Code': 'JG',\n",
       "   'name': 'Channel Islands',\n",
       "   'region': {'id': 'ECS', 'iso2code': 'Z7', 'value': 'Europe & Central Asia'},\n",
       "   'adminregion': {'id': '', 'iso2code': '', 'value': ''},\n",
       "   'incomeLevel': {'id': 'HIC', 'iso2code': 'XD', 'value': 'High income'},\n",
       "   'lendingType': {'id': 'LNX', 'iso2code': 'XX', 'value': 'Not classified'},\n",
       "   'capitalCity': '',\n",
       "   'longitude': '',\n",
       "   'latitude': ''},\n",
       "  {'id': 'CHL',\n",
       "   'iso2Code': 'CL',\n",
       "   'name': 'Chile',\n",
       "   'region': {'id': 'LCN',\n",
       "    'iso2code': 'ZJ',\n",
       "    'value': 'Latin America & Caribbean '},\n",
       "   'adminregion': {'id': '', 'iso2code': '', 'value': ''},\n",
       "   'incomeLevel': {'id': 'HIC', 'iso2code': 'XD', 'value': 'High income'},\n",
       "   'lendingType': {'id': 'IBD', 'iso2code': 'XF', 'value': 'IBRD'},\n",
       "   'capitalCity': 'Santiago',\n",
       "   'longitude': '-70.6475',\n",
       "   'latitude': '-33.475'},\n",
       "  {'id': 'CHN',\n",
       "   'iso2Code': 'CN',\n",
       "   'name': 'China',\n",
       "   'region': {'id': 'EAS', 'iso2code': 'Z4', 'value': 'East Asia & Pacific'},\n",
       "   'adminregion': {'id': 'EAP',\n",
       "    'iso2code': '4E',\n",
       "    'value': 'East Asia & Pacific (excluding high income)'},\n",
       "   'incomeLevel': {'id': 'UMC',\n",
       "    'iso2code': 'XT',\n",
       "    'value': 'Upper middle income'},\n",
       "   'lendingType': {'id': 'IBD', 'iso2code': 'XF', 'value': 'IBRD'},\n",
       "   'capitalCity': 'Beijing',\n",
       "   'longitude': '116.286',\n",
       "   'latitude': '40.0495'}]]"
      ]
     },
     "execution_count": 139,
     "metadata": {},
     "output_type": "execute_result"
    }
   ],
   "source": [
    "url = \"http://api.worldbank.org/v2/\"\n",
    "format = \"json\"\n",
    "\n",
    "# Get country information in JSON format\n",
    "countries_response = requests.get(f\"{url}countries?format={format}\").json()\n",
    "countries_response"
   ]
  },
  {
   "cell_type": "code",
   "execution_count": 142,
   "metadata": {},
   "outputs": [
    {
     "data": {
      "text/plain": [
       "[{'id': 'ABW',\n",
       "  'iso2Code': 'AW',\n",
       "  'name': 'Aruba',\n",
       "  'region': {'id': 'LCN',\n",
       "   'iso2code': 'ZJ',\n",
       "   'value': 'Latin America & Caribbean '},\n",
       "  'adminregion': {'id': '', 'iso2code': '', 'value': ''},\n",
       "  'incomeLevel': {'id': 'HIC', 'iso2code': 'XD', 'value': 'High income'},\n",
       "  'lendingType': {'id': 'LNX', 'iso2code': 'XX', 'value': 'Not classified'},\n",
       "  'capitalCity': 'Oranjestad',\n",
       "  'longitude': '-70.0167',\n",
       "  'latitude': '12.5167'},\n",
       " {'id': 'AFG',\n",
       "  'iso2Code': 'AF',\n",
       "  'name': 'Afghanistan',\n",
       "  'region': {'id': 'SAS', 'iso2code': '8S', 'value': 'South Asia'},\n",
       "  'adminregion': {'id': 'SAS', 'iso2code': '8S', 'value': 'South Asia'},\n",
       "  'incomeLevel': {'id': 'LIC', 'iso2code': 'XM', 'value': 'Low income'},\n",
       "  'lendingType': {'id': 'IDX', 'iso2code': 'XI', 'value': 'IDA'},\n",
       "  'capitalCity': 'Kabul',\n",
       "  'longitude': '69.1761',\n",
       "  'latitude': '34.5228'},\n",
       " {'id': 'AFR',\n",
       "  'iso2Code': 'A9',\n",
       "  'name': 'Africa',\n",
       "  'region': {'id': 'NA', 'iso2code': 'NA', 'value': 'Aggregates'},\n",
       "  'adminregion': {'id': '', 'iso2code': '', 'value': ''},\n",
       "  'incomeLevel': {'id': 'NA', 'iso2code': 'NA', 'value': 'Aggregates'},\n",
       "  'lendingType': {'id': '', 'iso2code': '', 'value': 'Aggregates'},\n",
       "  'capitalCity': '',\n",
       "  'longitude': '',\n",
       "  'latitude': ''},\n",
       " {'id': 'AGO',\n",
       "  'iso2Code': 'AO',\n",
       "  'name': 'Angola',\n",
       "  'region': {'id': 'SSF', 'iso2code': 'ZG', 'value': 'Sub-Saharan Africa '},\n",
       "  'adminregion': {'id': 'SSA',\n",
       "   'iso2code': 'ZF',\n",
       "   'value': 'Sub-Saharan Africa (excluding high income)'},\n",
       "  'incomeLevel': {'id': 'LMC',\n",
       "   'iso2code': 'XN',\n",
       "   'value': 'Lower middle income'},\n",
       "  'lendingType': {'id': 'IBD', 'iso2code': 'XF', 'value': 'IBRD'},\n",
       "  'capitalCity': 'Luanda',\n",
       "  'longitude': '13.242',\n",
       "  'latitude': '-8.81155'},\n",
       " {'id': 'ALB',\n",
       "  'iso2Code': 'AL',\n",
       "  'name': 'Albania',\n",
       "  'region': {'id': 'ECS', 'iso2code': 'Z7', 'value': 'Europe & Central Asia'},\n",
       "  'adminregion': {'id': 'ECA',\n",
       "   'iso2code': '7E',\n",
       "   'value': 'Europe & Central Asia (excluding high income)'},\n",
       "  'incomeLevel': {'id': 'UMC',\n",
       "   'iso2code': 'XT',\n",
       "   'value': 'Upper middle income'},\n",
       "  'lendingType': {'id': 'IBD', 'iso2code': 'XF', 'value': 'IBRD'},\n",
       "  'capitalCity': 'Tirane',\n",
       "  'longitude': '19.8172',\n",
       "  'latitude': '41.3317'},\n",
       " {'id': 'AND',\n",
       "  'iso2Code': 'AD',\n",
       "  'name': 'Andorra',\n",
       "  'region': {'id': 'ECS', 'iso2code': 'Z7', 'value': 'Europe & Central Asia'},\n",
       "  'adminregion': {'id': '', 'iso2code': '', 'value': ''},\n",
       "  'incomeLevel': {'id': 'HIC', 'iso2code': 'XD', 'value': 'High income'},\n",
       "  'lendingType': {'id': 'LNX', 'iso2code': 'XX', 'value': 'Not classified'},\n",
       "  'capitalCity': 'Andorra la Vella',\n",
       "  'longitude': '1.5218',\n",
       "  'latitude': '42.5075'},\n",
       " {'id': 'ANR',\n",
       "  'iso2Code': 'L5',\n",
       "  'name': 'Andean Region',\n",
       "  'region': {'id': 'NA', 'iso2code': 'NA', 'value': 'Aggregates'},\n",
       "  'adminregion': {'id': '', 'iso2code': '', 'value': ''},\n",
       "  'incomeLevel': {'id': 'NA', 'iso2code': 'NA', 'value': 'Aggregates'},\n",
       "  'lendingType': {'id': '', 'iso2code': '', 'value': 'Aggregates'},\n",
       "  'capitalCity': '',\n",
       "  'longitude': '',\n",
       "  'latitude': ''},\n",
       " {'id': 'ARB',\n",
       "  'iso2Code': '1A',\n",
       "  'name': 'Arab World',\n",
       "  'region': {'id': 'NA', 'iso2code': 'NA', 'value': 'Aggregates'},\n",
       "  'adminregion': {'id': '', 'iso2code': '', 'value': ''},\n",
       "  'incomeLevel': {'id': 'NA', 'iso2code': 'NA', 'value': 'Aggregates'},\n",
       "  'lendingType': {'id': '', 'iso2code': '', 'value': 'Aggregates'},\n",
       "  'capitalCity': '',\n",
       "  'longitude': '',\n",
       "  'latitude': ''},\n",
       " {'id': 'ARE',\n",
       "  'iso2Code': 'AE',\n",
       "  'name': 'United Arab Emirates',\n",
       "  'region': {'id': 'MEA',\n",
       "   'iso2code': 'ZQ',\n",
       "   'value': 'Middle East & North Africa'},\n",
       "  'adminregion': {'id': '', 'iso2code': '', 'value': ''},\n",
       "  'incomeLevel': {'id': 'HIC', 'iso2code': 'XD', 'value': 'High income'},\n",
       "  'lendingType': {'id': 'LNX', 'iso2code': 'XX', 'value': 'Not classified'},\n",
       "  'capitalCity': 'Abu Dhabi',\n",
       "  'longitude': '54.3705',\n",
       "  'latitude': '24.4764'},\n",
       " {'id': 'ARG',\n",
       "  'iso2Code': 'AR',\n",
       "  'name': 'Argentina',\n",
       "  'region': {'id': 'LCN',\n",
       "   'iso2code': 'ZJ',\n",
       "   'value': 'Latin America & Caribbean '},\n",
       "  'adminregion': {'id': 'LAC',\n",
       "   'iso2code': 'XJ',\n",
       "   'value': 'Latin America & Caribbean (excluding high income)'},\n",
       "  'incomeLevel': {'id': 'UMC',\n",
       "   'iso2code': 'XT',\n",
       "   'value': 'Upper middle income'},\n",
       "  'lendingType': {'id': 'IBD', 'iso2code': 'XF', 'value': 'IBRD'},\n",
       "  'capitalCity': 'Buenos Aires',\n",
       "  'longitude': '-58.4173',\n",
       "  'latitude': '-34.6118'},\n",
       " {'id': 'ARM',\n",
       "  'iso2Code': 'AM',\n",
       "  'name': 'Armenia',\n",
       "  'region': {'id': 'ECS', 'iso2code': 'Z7', 'value': 'Europe & Central Asia'},\n",
       "  'adminregion': {'id': 'ECA',\n",
       "   'iso2code': '7E',\n",
       "   'value': 'Europe & Central Asia (excluding high income)'},\n",
       "  'incomeLevel': {'id': 'UMC',\n",
       "   'iso2code': 'XT',\n",
       "   'value': 'Upper middle income'},\n",
       "  'lendingType': {'id': 'IBD', 'iso2code': 'XF', 'value': 'IBRD'},\n",
       "  'capitalCity': 'Yerevan',\n",
       "  'longitude': '44.509',\n",
       "  'latitude': '40.1596'},\n",
       " {'id': 'ASM',\n",
       "  'iso2Code': 'AS',\n",
       "  'name': 'American Samoa',\n",
       "  'region': {'id': 'EAS', 'iso2code': 'Z4', 'value': 'East Asia & Pacific'},\n",
       "  'adminregion': {'id': 'EAP',\n",
       "   'iso2code': '4E',\n",
       "   'value': 'East Asia & Pacific (excluding high income)'},\n",
       "  'incomeLevel': {'id': 'UMC',\n",
       "   'iso2code': 'XT',\n",
       "   'value': 'Upper middle income'},\n",
       "  'lendingType': {'id': 'LNX', 'iso2code': 'XX', 'value': 'Not classified'},\n",
       "  'capitalCity': 'Pago Pago',\n",
       "  'longitude': '-170.691',\n",
       "  'latitude': '-14.2846'},\n",
       " {'id': 'ATG',\n",
       "  'iso2Code': 'AG',\n",
       "  'name': 'Antigua and Barbuda',\n",
       "  'region': {'id': 'LCN',\n",
       "   'iso2code': 'ZJ',\n",
       "   'value': 'Latin America & Caribbean '},\n",
       "  'adminregion': {'id': '', 'iso2code': '', 'value': ''},\n",
       "  'incomeLevel': {'id': 'HIC', 'iso2code': 'XD', 'value': 'High income'},\n",
       "  'lendingType': {'id': 'IBD', 'iso2code': 'XF', 'value': 'IBRD'},\n",
       "  'capitalCity': \"Saint John's\",\n",
       "  'longitude': '-61.8456',\n",
       "  'latitude': '17.1175'},\n",
       " {'id': 'AUS',\n",
       "  'iso2Code': 'AU',\n",
       "  'name': 'Australia',\n",
       "  'region': {'id': 'EAS', 'iso2code': 'Z4', 'value': 'East Asia & Pacific'},\n",
       "  'adminregion': {'id': '', 'iso2code': '', 'value': ''},\n",
       "  'incomeLevel': {'id': 'HIC', 'iso2code': 'XD', 'value': 'High income'},\n",
       "  'lendingType': {'id': 'LNX', 'iso2code': 'XX', 'value': 'Not classified'},\n",
       "  'capitalCity': 'Canberra',\n",
       "  'longitude': '149.129',\n",
       "  'latitude': '-35.282'},\n",
       " {'id': 'AUT',\n",
       "  'iso2Code': 'AT',\n",
       "  'name': 'Austria',\n",
       "  'region': {'id': 'ECS', 'iso2code': 'Z7', 'value': 'Europe & Central Asia'},\n",
       "  'adminregion': {'id': '', 'iso2code': '', 'value': ''},\n",
       "  'incomeLevel': {'id': 'HIC', 'iso2code': 'XD', 'value': 'High income'},\n",
       "  'lendingType': {'id': 'LNX', 'iso2code': 'XX', 'value': 'Not classified'},\n",
       "  'capitalCity': 'Vienna',\n",
       "  'longitude': '16.3798',\n",
       "  'latitude': '48.2201'},\n",
       " {'id': 'AZE',\n",
       "  'iso2Code': 'AZ',\n",
       "  'name': 'Azerbaijan',\n",
       "  'region': {'id': 'ECS', 'iso2code': 'Z7', 'value': 'Europe & Central Asia'},\n",
       "  'adminregion': {'id': 'ECA',\n",
       "   'iso2code': '7E',\n",
       "   'value': 'Europe & Central Asia (excluding high income)'},\n",
       "  'incomeLevel': {'id': 'UMC',\n",
       "   'iso2code': 'XT',\n",
       "   'value': 'Upper middle income'},\n",
       "  'lendingType': {'id': 'IBD', 'iso2code': 'XF', 'value': 'IBRD'},\n",
       "  'capitalCity': 'Baku',\n",
       "  'longitude': '49.8932',\n",
       "  'latitude': '40.3834'},\n",
       " {'id': 'BDI',\n",
       "  'iso2Code': 'BI',\n",
       "  'name': 'Burundi',\n",
       "  'region': {'id': 'SSF', 'iso2code': 'ZG', 'value': 'Sub-Saharan Africa '},\n",
       "  'adminregion': {'id': 'SSA',\n",
       "   'iso2code': 'ZF',\n",
       "   'value': 'Sub-Saharan Africa (excluding high income)'},\n",
       "  'incomeLevel': {'id': 'LIC', 'iso2code': 'XM', 'value': 'Low income'},\n",
       "  'lendingType': {'id': 'IDX', 'iso2code': 'XI', 'value': 'IDA'},\n",
       "  'capitalCity': 'Bujumbura',\n",
       "  'longitude': '29.3639',\n",
       "  'latitude': '-3.3784'},\n",
       " {'id': 'BEA',\n",
       "  'iso2Code': 'B4',\n",
       "  'name': 'East Asia & Pacific (IBRD-only countries)',\n",
       "  'region': {'id': 'NA', 'iso2code': 'NA', 'value': 'Aggregates'},\n",
       "  'adminregion': {'id': '', 'iso2code': '', 'value': ''},\n",
       "  'incomeLevel': {'id': 'NA', 'iso2code': 'NA', 'value': 'Aggregates'},\n",
       "  'lendingType': {'id': '', 'iso2code': '', 'value': 'Aggregates'},\n",
       "  'capitalCity': '',\n",
       "  'longitude': '',\n",
       "  'latitude': ''},\n",
       " {'id': 'BEC',\n",
       "  'iso2Code': 'B7',\n",
       "  'name': 'Europe & Central Asia (IBRD-only countries)',\n",
       "  'region': {'id': 'NA', 'iso2code': 'NA', 'value': 'Aggregates'},\n",
       "  'adminregion': {'id': '', 'iso2code': '', 'value': ''},\n",
       "  'incomeLevel': {'id': 'NA', 'iso2code': 'NA', 'value': 'Aggregates'},\n",
       "  'lendingType': {'id': '', 'iso2code': '', 'value': 'Aggregates'},\n",
       "  'capitalCity': '',\n",
       "  'longitude': '',\n",
       "  'latitude': ''},\n",
       " {'id': 'BEL',\n",
       "  'iso2Code': 'BE',\n",
       "  'name': 'Belgium',\n",
       "  'region': {'id': 'ECS', 'iso2code': 'Z7', 'value': 'Europe & Central Asia'},\n",
       "  'adminregion': {'id': '', 'iso2code': '', 'value': ''},\n",
       "  'incomeLevel': {'id': 'HIC', 'iso2code': 'XD', 'value': 'High income'},\n",
       "  'lendingType': {'id': 'LNX', 'iso2code': 'XX', 'value': 'Not classified'},\n",
       "  'capitalCity': 'Brussels',\n",
       "  'longitude': '4.36761',\n",
       "  'latitude': '50.8371'},\n",
       " {'id': 'BEN',\n",
       "  'iso2Code': 'BJ',\n",
       "  'name': 'Benin',\n",
       "  'region': {'id': 'SSF', 'iso2code': 'ZG', 'value': 'Sub-Saharan Africa '},\n",
       "  'adminregion': {'id': 'SSA',\n",
       "   'iso2code': 'ZF',\n",
       "   'value': 'Sub-Saharan Africa (excluding high income)'},\n",
       "  'incomeLevel': {'id': 'LMC',\n",
       "   'iso2code': 'XN',\n",
       "   'value': 'Lower middle income'},\n",
       "  'lendingType': {'id': 'IDX', 'iso2code': 'XI', 'value': 'IDA'},\n",
       "  'capitalCity': 'Porto-Novo',\n",
       "  'longitude': '2.6323',\n",
       "  'latitude': '6.4779'},\n",
       " {'id': 'BFA',\n",
       "  'iso2Code': 'BF',\n",
       "  'name': 'Burkina Faso',\n",
       "  'region': {'id': 'SSF', 'iso2code': 'ZG', 'value': 'Sub-Saharan Africa '},\n",
       "  'adminregion': {'id': 'SSA',\n",
       "   'iso2code': 'ZF',\n",
       "   'value': 'Sub-Saharan Africa (excluding high income)'},\n",
       "  'incomeLevel': {'id': 'LIC', 'iso2code': 'XM', 'value': 'Low income'},\n",
       "  'lendingType': {'id': 'IDX', 'iso2code': 'XI', 'value': 'IDA'},\n",
       "  'capitalCity': 'Ouagadougou',\n",
       "  'longitude': '-1.53395',\n",
       "  'latitude': '12.3605'},\n",
       " {'id': 'BGD',\n",
       "  'iso2Code': 'BD',\n",
       "  'name': 'Bangladesh',\n",
       "  'region': {'id': 'SAS', 'iso2code': '8S', 'value': 'South Asia'},\n",
       "  'adminregion': {'id': 'SAS', 'iso2code': '8S', 'value': 'South Asia'},\n",
       "  'incomeLevel': {'id': 'LMC',\n",
       "   'iso2code': 'XN',\n",
       "   'value': 'Lower middle income'},\n",
       "  'lendingType': {'id': 'IDX', 'iso2code': 'XI', 'value': 'IDA'},\n",
       "  'capitalCity': 'Dhaka',\n",
       "  'longitude': '90.4113',\n",
       "  'latitude': '23.7055'},\n",
       " {'id': 'BGR',\n",
       "  'iso2Code': 'BG',\n",
       "  'name': 'Bulgaria',\n",
       "  'region': {'id': 'ECS', 'iso2code': 'Z7', 'value': 'Europe & Central Asia'},\n",
       "  'adminregion': {'id': 'ECA',\n",
       "   'iso2code': '7E',\n",
       "   'value': 'Europe & Central Asia (excluding high income)'},\n",
       "  'incomeLevel': {'id': 'UMC',\n",
       "   'iso2code': 'XT',\n",
       "   'value': 'Upper middle income'},\n",
       "  'lendingType': {'id': 'IBD', 'iso2code': 'XF', 'value': 'IBRD'},\n",
       "  'capitalCity': 'Sofia',\n",
       "  'longitude': '23.3238',\n",
       "  'latitude': '42.7105'},\n",
       " {'id': 'BHI',\n",
       "  'iso2Code': 'B1',\n",
       "  'name': 'IBRD countries classified as high income',\n",
       "  'region': {'id': 'NA', 'iso2code': 'NA', 'value': 'Aggregates'},\n",
       "  'adminregion': {'id': '', 'iso2code': '', 'value': ''},\n",
       "  'incomeLevel': {'id': 'NA', 'iso2code': 'NA', 'value': 'Aggregates'},\n",
       "  'lendingType': {'id': '', 'iso2code': '', 'value': 'Aggregates'},\n",
       "  'capitalCity': '',\n",
       "  'longitude': '',\n",
       "  'latitude': ''},\n",
       " {'id': 'BHR',\n",
       "  'iso2Code': 'BH',\n",
       "  'name': 'Bahrain',\n",
       "  'region': {'id': 'MEA',\n",
       "   'iso2code': 'ZQ',\n",
       "   'value': 'Middle East & North Africa'},\n",
       "  'adminregion': {'id': '', 'iso2code': '', 'value': ''},\n",
       "  'incomeLevel': {'id': 'HIC', 'iso2code': 'XD', 'value': 'High income'},\n",
       "  'lendingType': {'id': 'LNX', 'iso2code': 'XX', 'value': 'Not classified'},\n",
       "  'capitalCity': 'Manama',\n",
       "  'longitude': '50.5354',\n",
       "  'latitude': '26.1921'},\n",
       " {'id': 'BHS',\n",
       "  'iso2Code': 'BS',\n",
       "  'name': 'Bahamas, The',\n",
       "  'region': {'id': 'LCN',\n",
       "   'iso2code': 'ZJ',\n",
       "   'value': 'Latin America & Caribbean '},\n",
       "  'adminregion': {'id': '', 'iso2code': '', 'value': ''},\n",
       "  'incomeLevel': {'id': 'HIC', 'iso2code': 'XD', 'value': 'High income'},\n",
       "  'lendingType': {'id': 'LNX', 'iso2code': 'XX', 'value': 'Not classified'},\n",
       "  'capitalCity': 'Nassau',\n",
       "  'longitude': '-77.339',\n",
       "  'latitude': '25.0661'},\n",
       " {'id': 'BIH',\n",
       "  'iso2Code': 'BA',\n",
       "  'name': 'Bosnia and Herzegovina',\n",
       "  'region': {'id': 'ECS', 'iso2code': 'Z7', 'value': 'Europe & Central Asia'},\n",
       "  'adminregion': {'id': 'ECA',\n",
       "   'iso2code': '7E',\n",
       "   'value': 'Europe & Central Asia (excluding high income)'},\n",
       "  'incomeLevel': {'id': 'UMC',\n",
       "   'iso2code': 'XT',\n",
       "   'value': 'Upper middle income'},\n",
       "  'lendingType': {'id': 'IBD', 'iso2code': 'XF', 'value': 'IBRD'},\n",
       "  'capitalCity': 'Sarajevo',\n",
       "  'longitude': '18.4214',\n",
       "  'latitude': '43.8607'},\n",
       " {'id': 'BLA',\n",
       "  'iso2Code': 'B2',\n",
       "  'name': 'Latin America & the Caribbean (IBRD-only countries)',\n",
       "  'region': {'id': 'NA', 'iso2code': 'NA', 'value': 'Aggregates'},\n",
       "  'adminregion': {'id': '', 'iso2code': '', 'value': ''},\n",
       "  'incomeLevel': {'id': 'NA', 'iso2code': 'NA', 'value': 'Aggregates'},\n",
       "  'lendingType': {'id': '', 'iso2code': '', 'value': 'Aggregates'},\n",
       "  'capitalCity': '',\n",
       "  'longitude': '',\n",
       "  'latitude': ''},\n",
       " {'id': 'BLR',\n",
       "  'iso2Code': 'BY',\n",
       "  'name': 'Belarus',\n",
       "  'region': {'id': 'ECS', 'iso2code': 'Z7', 'value': 'Europe & Central Asia'},\n",
       "  'adminregion': {'id': 'ECA',\n",
       "   'iso2code': '7E',\n",
       "   'value': 'Europe & Central Asia (excluding high income)'},\n",
       "  'incomeLevel': {'id': 'UMC',\n",
       "   'iso2code': 'XT',\n",
       "   'value': 'Upper middle income'},\n",
       "  'lendingType': {'id': 'IBD', 'iso2code': 'XF', 'value': 'IBRD'},\n",
       "  'capitalCity': 'Minsk',\n",
       "  'longitude': '27.5766',\n",
       "  'latitude': '53.9678'},\n",
       " {'id': 'BLZ',\n",
       "  'iso2Code': 'BZ',\n",
       "  'name': 'Belize',\n",
       "  'region': {'id': 'LCN',\n",
       "   'iso2code': 'ZJ',\n",
       "   'value': 'Latin America & Caribbean '},\n",
       "  'adminregion': {'id': 'LAC',\n",
       "   'iso2code': 'XJ',\n",
       "   'value': 'Latin America & Caribbean (excluding high income)'},\n",
       "  'incomeLevel': {'id': 'UMC',\n",
       "   'iso2code': 'XT',\n",
       "   'value': 'Upper middle income'},\n",
       "  'lendingType': {'id': 'IBD', 'iso2code': 'XF', 'value': 'IBRD'},\n",
       "  'capitalCity': 'Belmopan',\n",
       "  'longitude': '-88.7713',\n",
       "  'latitude': '17.2534'},\n",
       " {'id': 'BMN',\n",
       "  'iso2Code': 'B3',\n",
       "  'name': 'Middle East & North Africa (IBRD-only countries)',\n",
       "  'region': {'id': 'NA', 'iso2code': 'NA', 'value': 'Aggregates'},\n",
       "  'adminregion': {'id': '', 'iso2code': '', 'value': ''},\n",
       "  'incomeLevel': {'id': 'NA', 'iso2code': 'NA', 'value': 'Aggregates'},\n",
       "  'lendingType': {'id': '', 'iso2code': '', 'value': 'Aggregates'},\n",
       "  'capitalCity': '',\n",
       "  'longitude': '',\n",
       "  'latitude': ''},\n",
       " {'id': 'BMU',\n",
       "  'iso2Code': 'BM',\n",
       "  'name': 'Bermuda',\n",
       "  'region': {'id': 'NAC', 'iso2code': 'XU', 'value': 'North America'},\n",
       "  'adminregion': {'id': '', 'iso2code': '', 'value': ''},\n",
       "  'incomeLevel': {'id': 'HIC', 'iso2code': 'XD', 'value': 'High income'},\n",
       "  'lendingType': {'id': 'LNX', 'iso2code': 'XX', 'value': 'Not classified'},\n",
       "  'capitalCity': 'Hamilton',\n",
       "  'longitude': '-64.706',\n",
       "  'latitude': '32.3293'},\n",
       " {'id': 'BOL',\n",
       "  'iso2Code': 'BO',\n",
       "  'name': 'Bolivia',\n",
       "  'region': {'id': 'LCN',\n",
       "   'iso2code': 'ZJ',\n",
       "   'value': 'Latin America & Caribbean '},\n",
       "  'adminregion': {'id': 'LAC',\n",
       "   'iso2code': 'XJ',\n",
       "   'value': 'Latin America & Caribbean (excluding high income)'},\n",
       "  'incomeLevel': {'id': 'LMC',\n",
       "   'iso2code': 'XN',\n",
       "   'value': 'Lower middle income'},\n",
       "  'lendingType': {'id': 'IBD', 'iso2code': 'XF', 'value': 'IBRD'},\n",
       "  'capitalCity': 'La Paz',\n",
       "  'longitude': '-66.1936',\n",
       "  'latitude': '-13.9908'},\n",
       " {'id': 'BRA',\n",
       "  'iso2Code': 'BR',\n",
       "  'name': 'Brazil',\n",
       "  'region': {'id': 'LCN',\n",
       "   'iso2code': 'ZJ',\n",
       "   'value': 'Latin America & Caribbean '},\n",
       "  'adminregion': {'id': 'LAC',\n",
       "   'iso2code': 'XJ',\n",
       "   'value': 'Latin America & Caribbean (excluding high income)'},\n",
       "  'incomeLevel': {'id': 'UMC',\n",
       "   'iso2code': 'XT',\n",
       "   'value': 'Upper middle income'},\n",
       "  'lendingType': {'id': 'IBD', 'iso2code': 'XF', 'value': 'IBRD'},\n",
       "  'capitalCity': 'Brasilia',\n",
       "  'longitude': '-47.9292',\n",
       "  'latitude': '-15.7801'},\n",
       " {'id': 'BRB',\n",
       "  'iso2Code': 'BB',\n",
       "  'name': 'Barbados',\n",
       "  'region': {'id': 'LCN',\n",
       "   'iso2code': 'ZJ',\n",
       "   'value': 'Latin America & Caribbean '},\n",
       "  'adminregion': {'id': '', 'iso2code': '', 'value': ''},\n",
       "  'incomeLevel': {'id': 'HIC', 'iso2code': 'XD', 'value': 'High income'},\n",
       "  'lendingType': {'id': 'LNX', 'iso2code': 'XX', 'value': 'Not classified'},\n",
       "  'capitalCity': 'Bridgetown',\n",
       "  'longitude': '-59.6105',\n",
       "  'latitude': '13.0935'},\n",
       " {'id': 'BRN',\n",
       "  'iso2Code': 'BN',\n",
       "  'name': 'Brunei Darussalam',\n",
       "  'region': {'id': 'EAS', 'iso2code': 'Z4', 'value': 'East Asia & Pacific'},\n",
       "  'adminregion': {'id': '', 'iso2code': '', 'value': ''},\n",
       "  'incomeLevel': {'id': 'HIC', 'iso2code': 'XD', 'value': 'High income'},\n",
       "  'lendingType': {'id': 'LNX', 'iso2code': 'XX', 'value': 'Not classified'},\n",
       "  'capitalCity': 'Bandar Seri Begawan',\n",
       "  'longitude': '114.946',\n",
       "  'latitude': '4.94199'},\n",
       " {'id': 'BSS',\n",
       "  'iso2Code': 'B6',\n",
       "  'name': 'Sub-Saharan Africa (IBRD-only countries)',\n",
       "  'region': {'id': 'NA', 'iso2code': 'NA', 'value': 'Aggregates'},\n",
       "  'adminregion': {'id': '', 'iso2code': '', 'value': ''},\n",
       "  'incomeLevel': {'id': 'NA', 'iso2code': 'NA', 'value': 'Aggregates'},\n",
       "  'lendingType': {'id': '', 'iso2code': '', 'value': 'Aggregates'},\n",
       "  'capitalCity': '',\n",
       "  'longitude': '',\n",
       "  'latitude': ''},\n",
       " {'id': 'BTN',\n",
       "  'iso2Code': 'BT',\n",
       "  'name': 'Bhutan',\n",
       "  'region': {'id': 'SAS', 'iso2code': '8S', 'value': 'South Asia'},\n",
       "  'adminregion': {'id': 'SAS', 'iso2code': '8S', 'value': 'South Asia'},\n",
       "  'incomeLevel': {'id': 'LMC',\n",
       "   'iso2code': 'XN',\n",
       "   'value': 'Lower middle income'},\n",
       "  'lendingType': {'id': 'IDX', 'iso2code': 'XI', 'value': 'IDA'},\n",
       "  'capitalCity': 'Thimphu',\n",
       "  'longitude': '89.6177',\n",
       "  'latitude': '27.5768'},\n",
       " {'id': 'BWA',\n",
       "  'iso2Code': 'BW',\n",
       "  'name': 'Botswana',\n",
       "  'region': {'id': 'SSF', 'iso2code': 'ZG', 'value': 'Sub-Saharan Africa '},\n",
       "  'adminregion': {'id': 'SSA',\n",
       "   'iso2code': 'ZF',\n",
       "   'value': 'Sub-Saharan Africa (excluding high income)'},\n",
       "  'incomeLevel': {'id': 'UMC',\n",
       "   'iso2code': 'XT',\n",
       "   'value': 'Upper middle income'},\n",
       "  'lendingType': {'id': 'IBD', 'iso2code': 'XF', 'value': 'IBRD'},\n",
       "  'capitalCity': 'Gaborone',\n",
       "  'longitude': '25.9201',\n",
       "  'latitude': '-24.6544'},\n",
       " {'id': 'CAA',\n",
       "  'iso2Code': 'C9',\n",
       "  'name': 'Sub-Saharan Africa (IFC classification)',\n",
       "  'region': {'id': 'NA', 'iso2code': 'NA', 'value': 'Aggregates'},\n",
       "  'adminregion': {'id': '', 'iso2code': '', 'value': ''},\n",
       "  'incomeLevel': {'id': 'NA', 'iso2code': 'NA', 'value': 'Aggregates'},\n",
       "  'lendingType': {'id': '', 'iso2code': '', 'value': 'Aggregates'},\n",
       "  'capitalCity': '',\n",
       "  'longitude': '',\n",
       "  'latitude': ''},\n",
       " {'id': 'CAF',\n",
       "  'iso2Code': 'CF',\n",
       "  'name': 'Central African Republic',\n",
       "  'region': {'id': 'SSF', 'iso2code': 'ZG', 'value': 'Sub-Saharan Africa '},\n",
       "  'adminregion': {'id': 'SSA',\n",
       "   'iso2code': 'ZF',\n",
       "   'value': 'Sub-Saharan Africa (excluding high income)'},\n",
       "  'incomeLevel': {'id': 'LIC', 'iso2code': 'XM', 'value': 'Low income'},\n",
       "  'lendingType': {'id': 'IDX', 'iso2code': 'XI', 'value': 'IDA'},\n",
       "  'capitalCity': 'Bangui',\n",
       "  'longitude': '21.6407',\n",
       "  'latitude': '5.63056'},\n",
       " {'id': 'CAN',\n",
       "  'iso2Code': 'CA',\n",
       "  'name': 'Canada',\n",
       "  'region': {'id': 'NAC', 'iso2code': 'XU', 'value': 'North America'},\n",
       "  'adminregion': {'id': '', 'iso2code': '', 'value': ''},\n",
       "  'incomeLevel': {'id': 'HIC', 'iso2code': 'XD', 'value': 'High income'},\n",
       "  'lendingType': {'id': 'LNX', 'iso2code': 'XX', 'value': 'Not classified'},\n",
       "  'capitalCity': 'Ottawa',\n",
       "  'longitude': '-75.6919',\n",
       "  'latitude': '45.4215'},\n",
       " {'id': 'CEA',\n",
       "  'iso2Code': 'C4',\n",
       "  'name': 'East Asia and the Pacific (IFC classification)',\n",
       "  'region': {'id': 'NA', 'iso2code': 'NA', 'value': 'Aggregates'},\n",
       "  'adminregion': {'id': '', 'iso2code': '', 'value': ''},\n",
       "  'incomeLevel': {'id': 'NA', 'iso2code': 'NA', 'value': 'Aggregates'},\n",
       "  'lendingType': {'id': '', 'iso2code': '', 'value': 'Aggregates'},\n",
       "  'capitalCity': '',\n",
       "  'longitude': '',\n",
       "  'latitude': ''},\n",
       " {'id': 'CEB',\n",
       "  'iso2Code': 'B8',\n",
       "  'name': 'Central Europe and the Baltics',\n",
       "  'region': {'id': 'NA', 'iso2code': 'NA', 'value': 'Aggregates'},\n",
       "  'adminregion': {'id': '', 'iso2code': '', 'value': ''},\n",
       "  'incomeLevel': {'id': 'NA', 'iso2code': 'NA', 'value': 'Aggregates'},\n",
       "  'lendingType': {'id': '', 'iso2code': '', 'value': 'Aggregates'},\n",
       "  'capitalCity': '',\n",
       "  'longitude': '',\n",
       "  'latitude': ''},\n",
       " {'id': 'CEU',\n",
       "  'iso2Code': 'C5',\n",
       "  'name': 'Europe and Central Asia (IFC classification)',\n",
       "  'region': {'id': 'NA', 'iso2code': 'NA', 'value': 'Aggregates'},\n",
       "  'adminregion': {'id': '', 'iso2code': '', 'value': ''},\n",
       "  'incomeLevel': {'id': 'NA', 'iso2code': 'NA', 'value': 'Aggregates'},\n",
       "  'lendingType': {'id': '', 'iso2code': '', 'value': 'Aggregates'},\n",
       "  'capitalCity': '',\n",
       "  'longitude': '',\n",
       "  'latitude': ''},\n",
       " {'id': 'CHE',\n",
       "  'iso2Code': 'CH',\n",
       "  'name': 'Switzerland',\n",
       "  'region': {'id': 'ECS', 'iso2code': 'Z7', 'value': 'Europe & Central Asia'},\n",
       "  'adminregion': {'id': '', 'iso2code': '', 'value': ''},\n",
       "  'incomeLevel': {'id': 'HIC', 'iso2code': 'XD', 'value': 'High income'},\n",
       "  'lendingType': {'id': 'LNX', 'iso2code': 'XX', 'value': 'Not classified'},\n",
       "  'capitalCity': 'Bern',\n",
       "  'longitude': '7.44821',\n",
       "  'latitude': '46.948'},\n",
       " {'id': 'CHI',\n",
       "  'iso2Code': 'JG',\n",
       "  'name': 'Channel Islands',\n",
       "  'region': {'id': 'ECS', 'iso2code': 'Z7', 'value': 'Europe & Central Asia'},\n",
       "  'adminregion': {'id': '', 'iso2code': '', 'value': ''},\n",
       "  'incomeLevel': {'id': 'HIC', 'iso2code': 'XD', 'value': 'High income'},\n",
       "  'lendingType': {'id': 'LNX', 'iso2code': 'XX', 'value': 'Not classified'},\n",
       "  'capitalCity': '',\n",
       "  'longitude': '',\n",
       "  'latitude': ''},\n",
       " {'id': 'CHL',\n",
       "  'iso2Code': 'CL',\n",
       "  'name': 'Chile',\n",
       "  'region': {'id': 'LCN',\n",
       "   'iso2code': 'ZJ',\n",
       "   'value': 'Latin America & Caribbean '},\n",
       "  'adminregion': {'id': '', 'iso2code': '', 'value': ''},\n",
       "  'incomeLevel': {'id': 'HIC', 'iso2code': 'XD', 'value': 'High income'},\n",
       "  'lendingType': {'id': 'IBD', 'iso2code': 'XF', 'value': 'IBRD'},\n",
       "  'capitalCity': 'Santiago',\n",
       "  'longitude': '-70.6475',\n",
       "  'latitude': '-33.475'},\n",
       " {'id': 'CHN',\n",
       "  'iso2Code': 'CN',\n",
       "  'name': 'China',\n",
       "  'region': {'id': 'EAS', 'iso2code': 'Z4', 'value': 'East Asia & Pacific'},\n",
       "  'adminregion': {'id': 'EAP',\n",
       "   'iso2code': '4E',\n",
       "   'value': 'East Asia & Pacific (excluding high income)'},\n",
       "  'incomeLevel': {'id': 'UMC',\n",
       "   'iso2code': 'XT',\n",
       "   'value': 'Upper middle income'},\n",
       "  'lendingType': {'id': 'IBD', 'iso2code': 'XF', 'value': 'IBRD'},\n",
       "  'capitalCity': 'Beijing',\n",
       "  'longitude': '116.286',\n",
       "  'latitude': '40.0495'}]"
      ]
     },
     "execution_count": 142,
     "metadata": {},
     "output_type": "execute_result"
    }
   ],
   "source": [
    "# First element is general information, second is countries themselves\n",
    "countries = countries_response[1]\n",
    "countries"
   ]
  },
  {
   "cell_type": "code",
   "execution_count": 145,
   "metadata": {},
   "outputs": [
    {
     "name": "stdout",
     "output_type": "stream",
     "text": [
      "XD\n",
      "XM\n",
      "NA\n",
      "XN\n",
      "XT\n",
      "XD\n",
      "NA\n",
      "NA\n",
      "XD\n",
      "XT\n",
      "XT\n",
      "XT\n",
      "XD\n",
      "XD\n",
      "XD\n",
      "XT\n",
      "XM\n",
      "NA\n",
      "NA\n",
      "XD\n",
      "XN\n",
      "XM\n",
      "XN\n",
      "XT\n",
      "NA\n",
      "XD\n",
      "XD\n",
      "XT\n",
      "NA\n",
      "XT\n",
      "XT\n",
      "NA\n",
      "XD\n",
      "XN\n",
      "XT\n",
      "XD\n",
      "XD\n",
      "NA\n",
      "XN\n",
      "XT\n",
      "NA\n",
      "XM\n",
      "XD\n",
      "NA\n",
      "NA\n",
      "NA\n",
      "XD\n",
      "XD\n",
      "XD\n",
      "XT\n"
     ]
    }
   ],
   "source": [
    "# Report the names\n",
    "for country in countries:\n",
    "    print(country[\"incomeLevel\"]['iso2code'])"
   ]
  },
  {
   "cell_type": "code",
   "execution_count": 147,
   "metadata": {},
   "outputs": [
    {
     "name": "stdout",
     "output_type": "stream",
     "text": [
      "XX\n",
      "XI\n",
      "\n",
      "XF\n",
      "XF\n",
      "XX\n",
      "\n",
      "\n",
      "XX\n",
      "XF\n",
      "XF\n",
      "XX\n",
      "XF\n",
      "XX\n",
      "XX\n",
      "XF\n",
      "XI\n",
      "\n",
      "\n",
      "XX\n",
      "XI\n",
      "XI\n",
      "XI\n",
      "XF\n",
      "\n",
      "XX\n",
      "XX\n",
      "XF\n",
      "\n",
      "XF\n",
      "XF\n",
      "\n",
      "XX\n",
      "XF\n",
      "XF\n",
      "XX\n",
      "XX\n",
      "\n",
      "XI\n",
      "XF\n",
      "\n",
      "XI\n",
      "XX\n",
      "\n",
      "\n",
      "\n",
      "XX\n",
      "XX\n",
      "XF\n",
      "XF\n"
     ]
    }
   ],
   "source": [
    "for country in countries:\n",
    "    print(country[\"lendingType\"]['iso2code'])"
   ]
  },
  {
   "cell_type": "code",
   "execution_count": 148,
   "metadata": {},
   "outputs": [
    {
     "name": "stdout",
     "output_type": "stream",
     "text": [
      "Not classified\n",
      "IDA\n",
      "Aggregates\n",
      "IBRD\n",
      "IBRD\n",
      "Not classified\n",
      "Aggregates\n",
      "Aggregates\n",
      "Not classified\n",
      "IBRD\n",
      "IBRD\n",
      "Not classified\n",
      "IBRD\n",
      "Not classified\n",
      "Not classified\n",
      "IBRD\n",
      "IDA\n",
      "Aggregates\n",
      "Aggregates\n",
      "Not classified\n",
      "IDA\n",
      "IDA\n",
      "IDA\n",
      "IBRD\n",
      "Aggregates\n",
      "Not classified\n",
      "Not classified\n",
      "IBRD\n",
      "Aggregates\n",
      "IBRD\n",
      "IBRD\n",
      "Aggregates\n",
      "Not classified\n",
      "IBRD\n",
      "IBRD\n",
      "Not classified\n",
      "Not classified\n",
      "Aggregates\n",
      "IDA\n",
      "IBRD\n",
      "Aggregates\n",
      "IDA\n",
      "Not classified\n",
      "Aggregates\n",
      "Aggregates\n",
      "Aggregates\n",
      "Not classified\n",
      "Not classified\n",
      "IBRD\n",
      "IBRD\n"
     ]
    }
   ],
   "source": [
    "for country in countries:\n",
    "    print(country[\"lendingType\"]['value'])"
   ]
  },
  {
   "cell_type": "code",
   "execution_count": 149,
   "metadata": {},
   "outputs": [
    {
     "name": "stdout",
     "output_type": "stream",
     "text": [
      "\n",
      "South Asia\n",
      "\n",
      "Sub-Saharan Africa (excluding high income)\n",
      "Europe & Central Asia (excluding high income)\n",
      "\n",
      "\n",
      "\n",
      "\n",
      "Latin America & Caribbean (excluding high income)\n",
      "Europe & Central Asia (excluding high income)\n",
      "East Asia & Pacific (excluding high income)\n",
      "\n",
      "\n",
      "\n",
      "Europe & Central Asia (excluding high income)\n",
      "Sub-Saharan Africa (excluding high income)\n",
      "\n",
      "\n",
      "\n",
      "Sub-Saharan Africa (excluding high income)\n",
      "Sub-Saharan Africa (excluding high income)\n",
      "South Asia\n",
      "Europe & Central Asia (excluding high income)\n",
      "\n",
      "\n",
      "\n",
      "Europe & Central Asia (excluding high income)\n",
      "\n",
      "Europe & Central Asia (excluding high income)\n",
      "Latin America & Caribbean (excluding high income)\n",
      "\n",
      "\n",
      "Latin America & Caribbean (excluding high income)\n",
      "Latin America & Caribbean (excluding high income)\n",
      "\n",
      "\n",
      "\n",
      "South Asia\n",
      "Sub-Saharan Africa (excluding high income)\n",
      "\n",
      "Sub-Saharan Africa (excluding high income)\n",
      "\n",
      "\n",
      "\n",
      "\n",
      "\n",
      "\n",
      "\n",
      "East Asia & Pacific (excluding high income)\n"
     ]
    }
   ],
   "source": [
    "for country in countries:\n",
    "    print(country[\"adminregion\"]['value'])"
   ]
  },
  {
   "cell_type": "code",
   "execution_count": 150,
   "metadata": {},
   "outputs": [],
   "source": [
    "# Dependencies\n",
    "import requests\n",
    "\n",
    "url = \"http://api.worldbank.org/v2/\""
   ]
  },
  {
   "cell_type": "code",
   "execution_count": 151,
   "metadata": {},
   "outputs": [
    {
     "data": {
      "text/plain": [
       "[{'page': '1', 'pages': '1', 'per_page': '50', 'total': '4'},\n",
       " [{'id': 'IBD', 'iso2code': 'XF', 'value': 'IBRD'},\n",
       "  {'id': 'IDB', 'iso2code': 'XH', 'value': 'Blend'},\n",
       "  {'id': 'IDX', 'iso2code': 'XI', 'value': 'IDA'},\n",
       "  {'id': 'LNX', 'iso2code': 'XX', 'value': 'Not classified'}]]"
      ]
     },
     "execution_count": 151,
     "metadata": {},
     "output_type": "execute_result"
    }
   ],
   "source": [
    "# Get the list of lending types the world bank has\n",
    "lending_response = requests.get(f\"{url}lendingTypes?format=json\").json()\n",
    "lending_response"
   ]
  },
  {
   "cell_type": "code",
   "execution_count": 161,
   "metadata": {},
   "outputs": [
    {
     "data": {
      "text/plain": [
       "['IBD', 'IDB', 'IDX', 'LNX']"
      ]
     },
     "execution_count": 161,
     "metadata": {},
     "output_type": "execute_result"
    }
   ],
   "source": [
    "lending_types = [lending_type[\"id\"] for lending_type in lending_response[1]]\n",
    "lending_types"
   ]
  },
  {
   "cell_type": "code",
   "execution_count": 152,
   "metadata": {},
   "outputs": [
    {
     "data": {
      "text/plain": [
       "[{'id': 'IBD', 'iso2code': 'XF', 'value': 'IBRD'},\n",
       " {'id': 'IDB', 'iso2code': 'XH', 'value': 'Blend'},\n",
       " {'id': 'IDX', 'iso2code': 'XI', 'value': 'IDA'},\n",
       " {'id': 'LNX', 'iso2code': 'XX', 'value': 'Not classified'}]"
      ]
     },
     "execution_count": 152,
     "metadata": {},
     "output_type": "execute_result"
    }
   ],
   "source": [
    "lending_response[1]"
   ]
  },
  {
   "cell_type": "code",
   "execution_count": 158,
   "metadata": {},
   "outputs": [
    {
     "data": {
      "text/plain": [
       "{'page': '1', 'pages': '1', 'per_page': '50', 'total': '4'}"
      ]
     },
     "execution_count": 158,
     "metadata": {},
     "output_type": "execute_result"
    }
   ],
   "source": [
    "lending_response[0]"
   ]
  },
  {
   "cell_type": "code",
   "execution_count": 159,
   "metadata": {},
   "outputs": [],
   "source": [
    "country_count_by_type = {}\n",
    "for lending_type in lending_types:\n",
    "    query = f\"{url}countries?lendingType={lending_type}&format=json\"\n",
    "    response = requests.get(query).json()\n",
    "    country_count_by_type[lending_type] = response[0][\"total\"]"
   ]
  },
  {
   "cell_type": "code",
   "execution_count": 162,
   "metadata": {},
   "outputs": [
    {
     "data": {
      "text/plain": [
       "{'IBD': 70, 'IDB': 15, 'IDX': 59, 'LNX': 74}"
      ]
     },
     "execution_count": 162,
     "metadata": {},
     "output_type": "execute_result"
    }
   ],
   "source": [
    "country_count_by_type"
   ]
  },
  {
   "cell_type": "code",
   "execution_count": 164,
   "metadata": {},
   "outputs": [
    {
     "name": "stdout",
     "output_type": "stream",
     "text": [
      "The number of countries with lending type IBD is 70.\n",
      "The number of countries with lending type IDB is 15.\n",
      "The number of countries with lending type IDX is 59.\n",
      "The number of countries with lending type LNX is 74.\n"
     ]
    }
   ],
   "source": [
    "for key, value in country_count_by_type.items():\n",
    "    print(f\"The number of countries with lending type {key} is {value}.\")"
   ]
  },
  {
   "cell_type": "code",
   "execution_count": 165,
   "metadata": {},
   "outputs": [],
   "source": [
    "# Dependencies\n",
    "import requests\n",
    "import json"
   ]
  },
  {
   "cell_type": "code",
   "execution_count": 166,
   "metadata": {},
   "outputs": [
    {
     "name": "stdout",
     "output_type": "stream",
     "text": [
      "1\n",
      "3\n",
      "5\n",
      "7\n",
      "9\n",
      "11\n",
      "13\n",
      "15\n",
      "17\n",
      "19\n",
      "21\n",
      "23\n",
      "25\n",
      "27\n",
      "29\n",
      "31\n",
      "33\n",
      "35\n",
      "37\n",
      "39\n",
      "41\n",
      "43\n",
      "45\n",
      "47\n",
      "49\n",
      "51\n",
      "53\n",
      "55\n",
      "57\n",
      "59\n",
      "61\n",
      "63\n",
      "65\n",
      "67\n",
      "69\n",
      "71\n",
      "73\n",
      "75\n",
      "77\n",
      "79\n",
      "81\n",
      "83\n",
      "85\n",
      "87\n",
      "89\n",
      "91\n",
      "93\n",
      "95\n",
      "97\n",
      "99\n"
     ]
    }
   ],
   "source": [
    "for a in range(1,100):\n",
    "    if a % 2 != 0:\n",
    "        print(a)"
   ]
  },
  {
   "cell_type": "code",
   "execution_count": null,
   "metadata": {},
   "outputs": [],
   "source": []
  }
 ],
 "metadata": {
  "kernelspec": {
   "display_name": "Python 3 (ipykernel)",
   "language": "python",
   "name": "python3"
  },
  "language_info": {
   "codemirror_mode": {
    "name": "ipython",
    "version": 3
   },
   "file_extension": ".py",
   "mimetype": "text/x-python",
   "name": "python",
   "nbconvert_exporter": "python",
   "pygments_lexer": "ipython3",
   "version": "3.9.7"
  },
  "varInspector": {
   "cols": {
    "lenName": 16,
    "lenType": 16,
    "lenVar": 40
   },
   "kernels_config": {
    "python": {
     "delete_cmd_postfix": "",
     "delete_cmd_prefix": "del ",
     "library": "var_list.py",
     "varRefreshCmd": "print(var_dic_list())"
    },
    "r": {
     "delete_cmd_postfix": ") ",
     "delete_cmd_prefix": "rm(",
     "library": "var_list.r",
     "varRefreshCmd": "cat(var_dic_list()) "
    }
   },
   "types_to_exclude": [
    "module",
    "function",
    "builtin_function_or_method",
    "instance",
    "_Feature"
   ],
   "window_display": false
  }
 },
 "nbformat": 4,
 "nbformat_minor": 4
}
