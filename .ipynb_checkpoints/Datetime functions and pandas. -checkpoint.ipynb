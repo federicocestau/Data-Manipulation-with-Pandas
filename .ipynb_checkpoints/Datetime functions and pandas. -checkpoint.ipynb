{
 "cells": [
  {
   "cell_type": "code",
   "execution_count": 11,
   "metadata": {},
   "outputs": [],
   "source": [
    "# Incorporated the csv module\n",
    "import csv\n",
    "import os\n",
    "import pandas as pd"
   ]
  },
  {
   "cell_type": "code",
   "execution_count": 12,
   "metadata": {},
   "outputs": [],
   "source": [
    "# Files to load and output (Remember to change these)\n",
    "file_to_load = os.path.join(\"C:/Users/User/bootcamp_files/py_bank.csv\")"
   ]
  },
  {
   "cell_type": "code",
   "execution_count": 14,
   "metadata": {},
   "outputs": [
    {
     "data": {
      "text/html": [
       "<div>\n",
       "<style scoped>\n",
       "    .dataframe tbody tr th:only-of-type {\n",
       "        vertical-align: middle;\n",
       "    }\n",
       "\n",
       "    .dataframe tbody tr th {\n",
       "        vertical-align: top;\n",
       "    }\n",
       "\n",
       "    .dataframe thead th {\n",
       "        text-align: right;\n",
       "    }\n",
       "</style>\n",
       "<table border=\"1\" class=\"dataframe\">\n",
       "  <thead>\n",
       "    <tr style=\"text-align: right;\">\n",
       "      <th></th>\n",
       "      <th>Voter ID</th>\n",
       "      <th>County</th>\n",
       "      <th>Candidate</th>\n",
       "    </tr>\n",
       "  </thead>\n",
       "  <tbody>\n",
       "    <tr>\n",
       "      <th>0</th>\n",
       "      <td>12864552</td>\n",
       "      <td>Marsh</td>\n",
       "      <td>Khan</td>\n",
       "    </tr>\n",
       "    <tr>\n",
       "      <th>1</th>\n",
       "      <td>17444633</td>\n",
       "      <td>Marsh</td>\n",
       "      <td>Correy</td>\n",
       "    </tr>\n",
       "    <tr>\n",
       "      <th>2</th>\n",
       "      <td>19330107</td>\n",
       "      <td>Marsh</td>\n",
       "      <td>Khan</td>\n",
       "    </tr>\n",
       "    <tr>\n",
       "      <th>3</th>\n",
       "      <td>19865775</td>\n",
       "      <td>Queen</td>\n",
       "      <td>Khan</td>\n",
       "    </tr>\n",
       "    <tr>\n",
       "      <th>4</th>\n",
       "      <td>11927875</td>\n",
       "      <td>Marsh</td>\n",
       "      <td>Khan</td>\n",
       "    </tr>\n",
       "  </tbody>\n",
       "</table>\n",
       "</div>"
      ],
      "text/plain": [
       "   Voter ID County Candidate\n",
       "0  12864552  Marsh      Khan\n",
       "1  17444633  Marsh    Correy\n",
       "2  19330107  Marsh      Khan\n",
       "3  19865775  Queen      Khan\n",
       "4  11927875  Marsh      Khan"
      ]
     },
     "execution_count": 14,
     "metadata": {},
     "output_type": "execute_result"
    }
   ],
   "source": [
    "Table = pd.read_csv(\"C:/Users/User/bootcamp_files/Py_Poll.csv\")\n",
    "\n",
    "Table.head()"
   ]
  },
  {
   "cell_type": "code",
   "execution_count": 15,
   "metadata": {},
   "outputs": [
    {
     "data": {
      "text/plain": [
       "4"
      ]
     },
     "execution_count": 15,
     "metadata": {},
     "output_type": "execute_result"
    }
   ],
   "source": [
    "Table['Candidate'].nunique()"
   ]
  },
  {
   "cell_type": "code",
   "execution_count": 18,
   "metadata": {},
   "outputs": [
    {
     "data": {
      "text/plain": [
       "array(['Khan', 'Correy', 'Li', \"O'Tooley\"], dtype=object)"
      ]
     },
     "execution_count": 18,
     "metadata": {},
     "output_type": "execute_result"
    }
   ],
   "source": [
    "Table['Candidate'].unique()"
   ]
  },
  {
   "cell_type": "code",
   "execution_count": 19,
   "metadata": {},
   "outputs": [
    {
     "data": {
      "text/plain": [
       "array(['Marsh', 'Queen', 'Bamoo', 'Trandee', 'Raffah'], dtype=object)"
      ]
     },
     "execution_count": 19,
     "metadata": {},
     "output_type": "execute_result"
    }
   ],
   "source": [
    "Table['County'].unique()"
   ]
  },
  {
   "cell_type": "code",
   "execution_count": 21,
   "metadata": {},
   "outputs": [
    {
     "data": {
      "text/plain": [
       "Khan        661583\n",
       "Correy      209046\n",
       "Li          146360\n",
       "O'Tooley     31586\n",
       "Name: Candidate, dtype: int64"
      ]
     },
     "execution_count": 21,
     "metadata": {},
     "output_type": "execute_result"
    }
   ],
   "source": [
    "S = Table['Candidate'].value_counts()\n",
    "S"
   ]
  },
  {
   "cell_type": "code",
   "execution_count": 23,
   "metadata": {},
   "outputs": [
    {
     "data": {
      "text/html": [
       "<div>\n",
       "<style scoped>\n",
       "    .dataframe tbody tr th:only-of-type {\n",
       "        vertical-align: middle;\n",
       "    }\n",
       "\n",
       "    .dataframe tbody tr th {\n",
       "        vertical-align: top;\n",
       "    }\n",
       "\n",
       "    .dataframe thead th {\n",
       "        text-align: right;\n",
       "    }\n",
       "</style>\n",
       "<table border=\"1\" class=\"dataframe\">\n",
       "  <thead>\n",
       "    <tr style=\"text-align: right;\">\n",
       "      <th></th>\n",
       "      <th>Candidate</th>\n",
       "    </tr>\n",
       "  </thead>\n",
       "  <tbody>\n",
       "    <tr>\n",
       "      <th>Khan</th>\n",
       "      <td>661583</td>\n",
       "    </tr>\n",
       "    <tr>\n",
       "      <th>Correy</th>\n",
       "      <td>209046</td>\n",
       "    </tr>\n",
       "    <tr>\n",
       "      <th>Li</th>\n",
       "      <td>146360</td>\n",
       "    </tr>\n",
       "    <tr>\n",
       "      <th>O'Tooley</th>\n",
       "      <td>31586</td>\n",
       "    </tr>\n",
       "  </tbody>\n",
       "</table>\n",
       "</div>"
      ],
      "text/plain": [
       "          Candidate\n",
       "Khan         661583\n",
       "Correy       209046\n",
       "Li           146360\n",
       "O'Tooley      31586"
      ]
     },
     "execution_count": 23,
     "metadata": {},
     "output_type": "execute_result"
    }
   ],
   "source": [
    "S.to_frame()"
   ]
  },
  {
   "cell_type": "code",
   "execution_count": 24,
   "metadata": {},
   "outputs": [
    {
     "data": {
      "text/plain": [
       "DatetimeIndex(['2018-01-01 00:00:00', '2018-01-01 01:00:00',\n",
       "               '2018-01-01 02:00:00'],\n",
       "              dtype='datetime64[ns]', freq='H')"
      ]
     },
     "execution_count": 24,
     "metadata": {},
     "output_type": "execute_result"
    }
   ],
   "source": [
    "dti = pd.date_range(\"2018-01-01\", periods=3, freq=\"H\")\n",
    "dti"
   ]
  },
  {
   "cell_type": "code",
   "execution_count": 25,
   "metadata": {},
   "outputs": [
    {
     "data": {
      "text/plain": [
       "2018-01-01 00:00:00    0\n",
       "2018-01-01 01:00:00    1\n",
       "2018-01-01 02:00:00    2\n",
       "2018-01-01 03:00:00    3\n",
       "2018-01-01 04:00:00    4\n",
       "Freq: H, dtype: int64"
      ]
     },
     "execution_count": 25,
     "metadata": {},
     "output_type": "execute_result"
    }
   ],
   "source": [
    "idx = pd.date_range(\"2018-01-01\", periods=5, freq=\"H\")\n",
    "ts = pd.Series(range(len(idx)), index=idx)\n",
    "ts"
   ]
  },
  {
   "cell_type": "code",
   "execution_count": 26,
   "metadata": {},
   "outputs": [
    {
     "data": {
      "text/plain": [
       "0   2000-01-01\n",
       "1   2000-01-02\n",
       "2   2000-01-03\n",
       "dtype: datetime64[ns]"
      ]
     },
     "execution_count": 26,
     "metadata": {},
     "output_type": "execute_result"
    }
   ],
   "source": [
    "pd.Series(pd.date_range(\"2000\", freq=\"D\", periods=3))"
   ]
  },
  {
   "cell_type": "code",
   "execution_count": 27,
   "metadata": {},
   "outputs": [
    {
     "data": {
      "text/plain": [
       "0    2011-01\n",
       "1    2011-02\n",
       "2    2011-03\n",
       "dtype: period[M]"
      ]
     },
     "execution_count": 27,
     "metadata": {},
     "output_type": "execute_result"
    }
   ],
   "source": [
    "pd.Series(pd.period_range(\"1/1/2011\", freq=\"M\", periods=3))"
   ]
  },
  {
   "cell_type": "code",
   "execution_count": 28,
   "metadata": {},
   "outputs": [
    {
     "data": {
      "text/plain": [
       "0    2011-02\n",
       "1    2011-03\n",
       "2    2011-04\n",
       "dtype: period[M]"
      ]
     },
     "execution_count": 28,
     "metadata": {},
     "output_type": "execute_result"
    }
   ],
   "source": [
    "pd.Series(pd.period_range(\"2/15/2011\", freq=\"M\", periods=3))"
   ]
  },
  {
   "cell_type": "code",
   "execution_count": 30,
   "metadata": {},
   "outputs": [
    {
     "data": {
      "text/plain": [
       "0    2011-01-31\n",
       "1    2011-02-28\n",
       "2    2011-03-31\n",
       "3    2011-04-30\n",
       "4    2011-05-31\n",
       "5    2011-06-30\n",
       "6    2011-07-31\n",
       "7    2011-08-31\n",
       "8    2011-09-30\n",
       "9    2011-10-31\n",
       "10   2011-11-30\n",
       "11   2011-12-31\n",
       "dtype: datetime64[ns]"
      ]
     },
     "execution_count": 30,
     "metadata": {},
     "output_type": "execute_result"
    }
   ],
   "source": [
    "pd.Series(pd.date_range(\"1/1/2011\", freq=\"M\", periods=12))"
   ]
  },
  {
   "cell_type": "code",
   "execution_count": 31,
   "metadata": {},
   "outputs": [],
   "source": [
    "dates = [ pd.Timestamp(\"2012-05-01\"),pd.Timestamp(\"2012-05-02\"),pd.Timestamp(\"2012-05-03\") ]"
   ]
  },
  {
   "cell_type": "code",
   "execution_count": 32,
   "metadata": {},
   "outputs": [
    {
     "data": {
      "text/plain": [
       "[Timestamp('2012-05-01 00:00:00'),\n",
       " Timestamp('2012-05-02 00:00:00'),\n",
       " Timestamp('2012-05-03 00:00:00')]"
      ]
     },
     "execution_count": 32,
     "metadata": {},
     "output_type": "execute_result"
    }
   ],
   "source": [
    "dates"
   ]
  },
  {
   "cell_type": "code",
   "execution_count": 34,
   "metadata": {},
   "outputs": [
    {
     "data": {
      "text/plain": [
       "2012-05-01    0.368506\n",
       "2012-05-02   -1.882165\n",
       "2012-05-03    1.676369\n",
       "dtype: float64"
      ]
     },
     "execution_count": 34,
     "metadata": {},
     "output_type": "execute_result"
    }
   ],
   "source": [
    "ts = pd.Series(np.random.randn(3), dates)\n",
    "ts"
   ]
  },
  {
   "cell_type": "code",
   "execution_count": 36,
   "metadata": {},
   "outputs": [
    {
     "data": {
      "text/html": [
       "<div>\n",
       "<style scoped>\n",
       "    .dataframe tbody tr th:only-of-type {\n",
       "        vertical-align: middle;\n",
       "    }\n",
       "\n",
       "    .dataframe tbody tr th {\n",
       "        vertical-align: top;\n",
       "    }\n",
       "\n",
       "    .dataframe thead th {\n",
       "        text-align: right;\n",
       "    }\n",
       "</style>\n",
       "<table border=\"1\" class=\"dataframe\">\n",
       "  <thead>\n",
       "    <tr style=\"text-align: right;\">\n",
       "      <th></th>\n",
       "      <th>year</th>\n",
       "      <th>month</th>\n",
       "      <th>day</th>\n",
       "      <th>hour</th>\n",
       "    </tr>\n",
       "  </thead>\n",
       "  <tbody>\n",
       "    <tr>\n",
       "      <th>0</th>\n",
       "      <td>2015</td>\n",
       "      <td>2</td>\n",
       "      <td>4</td>\n",
       "      <td>2</td>\n",
       "    </tr>\n",
       "    <tr>\n",
       "      <th>1</th>\n",
       "      <td>2016</td>\n",
       "      <td>3</td>\n",
       "      <td>5</td>\n",
       "      <td>3</td>\n",
       "    </tr>\n",
       "  </tbody>\n",
       "</table>\n",
       "</div>"
      ],
      "text/plain": [
       "   year  month  day  hour\n",
       "0  2015      2    4     2\n",
       "1  2016      3    5     3"
      ]
     },
     "execution_count": 36,
     "metadata": {},
     "output_type": "execute_result"
    }
   ],
   "source": [
    "df = pd.DataFrame({\"year\": [2015, 2016], \"month\": [2, 3], \"day\": [4, 5], \"hour\": [2, 3]})\n",
    "df"
   ]
  },
  {
   "cell_type": "code",
   "execution_count": 37,
   "metadata": {},
   "outputs": [
    {
     "data": {
      "text/plain": [
       "0   2015-02-04 02:00:00\n",
       "1   2016-03-05 03:00:00\n",
       "dtype: datetime64[ns]"
      ]
     },
     "execution_count": 37,
     "metadata": {},
     "output_type": "execute_result"
    }
   ],
   "source": [
    "pd.to_datetime(df)"
   ]
  },
  {
   "cell_type": "code",
   "execution_count": 38,
   "metadata": {},
   "outputs": [
    {
     "data": {
      "text/plain": [
       "0   2015-02-04\n",
       "1   2016-03-05\n",
       "dtype: datetime64[ns]"
      ]
     },
     "execution_count": 38,
     "metadata": {},
     "output_type": "execute_result"
    }
   ],
   "source": [
    "pd.to_datetime(df[[\"year\", \"month\", \"day\"]])"
   ]
  },
  {
   "cell_type": "code",
   "execution_count": 39,
   "metadata": {},
   "outputs": [],
   "source": [
    "#pd.to_datetime looks for standard designations of the datetime component in the column names, including:\n",
    "\n",
    "#required: year, month, day\n",
    "\n",
    "#optional: hour, minute, second, millisecond, microsecond, nanosecond"
   ]
  },
  {
   "cell_type": "code",
   "execution_count": 40,
   "metadata": {},
   "outputs": [
    {
     "data": {
      "text/plain": [
       "DatetimeIndex(['2012-10-08 18:15:05', '2012-10-09 18:15:05',\n",
       "               '2012-10-10 18:15:05', '2012-10-11 18:15:05'],\n",
       "              dtype='datetime64[ns]', freq='D')"
      ]
     },
     "execution_count": 40,
     "metadata": {},
     "output_type": "execute_result"
    }
   ],
   "source": [
    "stamps = pd.date_range(\"2012-10-08 18:15:05\", periods=4, freq=\"D\")\n",
    "stamps"
   ]
  },
  {
   "cell_type": "code",
   "execution_count": 41,
   "metadata": {},
   "outputs": [
    {
     "data": {
      "text/plain": [
       "DatetimeIndex(['1960-01-02', '1960-01-03', '1960-01-04', '1960-01-05',\n",
       "               '1960-01-06', '1960-01-07', '1960-01-08'],\n",
       "              dtype='datetime64[ns]', freq=None)"
      ]
     },
     "execution_count": 41,
     "metadata": {},
     "output_type": "execute_result"
    }
   ],
   "source": [
    " pd.to_datetime([1, 2, 3,4,5,6,7], unit=\"D\", origin=pd.Timestamp(\"1960-01-01\"))"
   ]
  },
  {
   "cell_type": "code",
   "execution_count": 42,
   "metadata": {},
   "outputs": [
    {
     "data": {
      "text/plain": [
       "DatetimeIndex(['2012-05-01', '2012-05-02', '2012-05-03'], dtype='datetime64[ns]', freq=None)"
      ]
     },
     "execution_count": 42,
     "metadata": {},
     "output_type": "execute_result"
    }
   ],
   "source": [
    "index = pd.DatetimeIndex(dates)\n",
    "index"
   ]
  },
  {
   "cell_type": "code",
   "execution_count": 44,
   "metadata": {},
   "outputs": [],
   "source": [
    "import datetime"
   ]
  },
  {
   "cell_type": "code",
   "execution_count": 45,
   "metadata": {},
   "outputs": [
    {
     "data": {
      "text/plain": [
       "DatetimeIndex(['2011-01-01', '2011-01-02', '2011-01-03', '2011-01-04',\n",
       "               '2011-01-05', '2011-01-06', '2011-01-07', '2011-01-08',\n",
       "               '2011-01-09', '2011-01-10',\n",
       "               ...\n",
       "               '2011-12-23', '2011-12-24', '2011-12-25', '2011-12-26',\n",
       "               '2011-12-27', '2011-12-28', '2011-12-29', '2011-12-30',\n",
       "               '2011-12-31', '2012-01-01'],\n",
       "              dtype='datetime64[ns]', length=366, freq='D')"
      ]
     },
     "execution_count": 45,
     "metadata": {},
     "output_type": "execute_result"
    }
   ],
   "source": [
    "start = datetime.datetime(2011, 1, 1)\n",
    "\n",
    "end = datetime.datetime(2012, 1, 1)\n",
    "\n",
    "index = pd.date_range(start, end)\n",
    "\n",
    "index"
   ]
  },
  {
   "cell_type": "code",
   "execution_count": 46,
   "metadata": {},
   "outputs": [
    {
     "data": {
      "text/plain": [
       "DatetimeIndex(['2011-01-31', '2011-02-28', '2011-03-31', '2011-04-30',\n",
       "               '2011-05-31', '2011-06-30', '2011-07-31', '2011-08-31',\n",
       "               '2011-09-30', '2011-10-31',\n",
       "               ...\n",
       "               '2093-07-31', '2093-08-31', '2093-09-30', '2093-10-31',\n",
       "               '2093-11-30', '2093-12-31', '2094-01-31', '2094-02-28',\n",
       "               '2094-03-31', '2094-04-30'],\n",
       "              dtype='datetime64[ns]', length=1000, freq='M')"
      ]
     },
     "execution_count": 46,
     "metadata": {},
     "output_type": "execute_result"
    }
   ],
   "source": [
    "pd.date_range(start, periods=1000, freq=\"M\")"
   ]
  },
  {
   "cell_type": "code",
   "execution_count": 47,
   "metadata": {},
   "outputs": [
    {
     "data": {
      "text/plain": [
       "DatetimeIndex(['2011-01-31', '2011-02-28', '2011-03-31', '2011-04-30',\n",
       "               '2011-05-31', '2011-06-30', '2011-07-31', '2011-08-31',\n",
       "               '2011-09-30', '2011-10-31', '2011-11-30', '2011-12-31'],\n",
       "              dtype='datetime64[ns]', freq='M')"
      ]
     },
     "execution_count": 47,
     "metadata": {},
     "output_type": "execute_result"
    }
   ],
   "source": [
    "pd.date_range(start, end='2012-01-01', freq=\"M\")"
   ]
  },
  {
   "cell_type": "code",
   "execution_count": 48,
   "metadata": {},
   "outputs": [
    {
     "data": {
      "text/plain": [
       "DatetimeIndex(['2011-01-03', '2011-04-01', '2011-07-01', '2011-10-03',\n",
       "               '2012-01-02', '2012-04-02', '2012-07-02', '2012-10-01',\n",
       "               '2013-01-01', '2013-04-01',\n",
       "               ...\n",
       "               '2071-01-01', '2071-04-01', '2071-07-01', '2071-10-01',\n",
       "               '2072-01-01', '2072-04-01', '2072-07-01', '2072-10-03',\n",
       "               '2073-01-02', '2073-04-03'],\n",
       "              dtype='datetime64[ns]', length=250, freq='BQS-JAN')"
      ]
     },
     "execution_count": 48,
     "metadata": {},
     "output_type": "execute_result"
    }
   ],
   "source": [
    "# BQS, business quarter start frequency.\n",
    "pd.date_range(start, periods=250, freq=\"BQS\")"
   ]
  },
  {
   "cell_type": "code",
   "execution_count": 50,
   "metadata": {},
   "outputs": [
    {
     "data": {
      "text/plain": [
       "DatetimeIndex(['2011-04-01', '2011-07-01', '2011-10-03', '2012-01-02',\n",
       "               '2012-04-02', '2012-07-02', '2012-10-01', '2013-01-01',\n",
       "               '2013-04-01', '2013-07-01',\n",
       "               ...\n",
       "               '2071-04-01', '2071-07-01', '2071-10-01', '2072-01-01',\n",
       "               '2072-04-01', '2072-07-01', '2072-10-03', '2073-01-02',\n",
       "               '2073-04-03', '2073-07-03'],\n",
       "              dtype='datetime64[ns]', length=250, freq='BQS-JAN')"
      ]
     },
     "execution_count": 50,
     "metadata": {},
     "output_type": "execute_result"
    }
   ],
   "source": [
    "pd.date_range('2011-01-25', periods=250, freq=\"BQS\")"
   ]
  },
  {
   "cell_type": "code",
   "execution_count": 51,
   "metadata": {},
   "outputs": [
    {
     "data": {
      "text/plain": [
       "DatetimeIndex(['2011-01-31', '2011-02-28', '2011-03-31', '2011-04-29',\n",
       "               '2011-05-31', '2011-06-30', '2011-07-29', '2011-08-31',\n",
       "               '2011-09-30', '2011-10-31', '2011-11-30', '2011-12-30'],\n",
       "              dtype='datetime64[ns]', freq='BM')"
      ]
     },
     "execution_count": 51,
     "metadata": {},
     "output_type": "execute_result"
    }
   ],
   "source": [
    "#Business Month\n",
    "pd.date_range(start, end, freq=\"BM\")"
   ]
  },
  {
   "cell_type": "code",
   "execution_count": 52,
   "metadata": {},
   "outputs": [
    {
     "data": {
      "text/plain": [
       "DatetimeIndex(['2011-02-06', '2011-02-13', '2011-02-20', '2011-02-27',\n",
       "               '2011-03-06', '2011-03-13', '2011-03-20', '2011-03-27',\n",
       "               '2011-04-03', '2011-04-10', '2011-04-17', '2011-04-24',\n",
       "               '2011-05-01', '2011-05-08', '2011-05-15', '2011-05-22',\n",
       "               '2011-05-29', '2011-06-05', '2011-06-12', '2011-06-19',\n",
       "               '2011-06-26', '2011-07-03', '2011-07-10', '2011-07-17',\n",
       "               '2011-07-24', '2011-07-31', '2011-08-07', '2011-08-14',\n",
       "               '2011-08-21', '2011-08-28', '2011-09-04', '2011-09-11',\n",
       "               '2011-09-18', '2011-09-25', '2011-10-02', '2011-10-09',\n",
       "               '2011-10-16', '2011-10-23', '2011-10-30', '2011-11-06',\n",
       "               '2011-11-13', '2011-11-20', '2011-11-27', '2011-12-04',\n",
       "               '2011-12-11', '2011-12-18', '2011-12-25', '2012-01-01'],\n",
       "              dtype='datetime64[ns]', freq='W-SUN')"
      ]
     },
     "execution_count": 52,
     "metadata": {},
     "output_type": "execute_result"
    }
   ],
   "source": [
    "pd.date_range('2011-01-31', end, freq=\"W\")"
   ]
  },
  {
   "cell_type": "code",
   "execution_count": 53,
   "metadata": {},
   "outputs": [],
   "source": [
    "#2012, 1, 1"
   ]
  },
  {
   "cell_type": "code",
   "execution_count": 55,
   "metadata": {},
   "outputs": [
    {
     "data": {
      "text/plain": [
       "DatetimeIndex(['2011-12-05', '2011-12-06', '2011-12-07', '2011-12-08',\n",
       "               '2011-12-09', '2011-12-12', '2011-12-13', '2011-12-14',\n",
       "               '2011-12-15', '2011-12-16', '2011-12-19', '2011-12-20',\n",
       "               '2011-12-21', '2011-12-22', '2011-12-23', '2011-12-26',\n",
       "               '2011-12-27', '2011-12-28', '2011-12-29', '2011-12-30'],\n",
       "              dtype='datetime64[ns]', freq='B')"
      ]
     },
     "execution_count": 55,
     "metadata": {},
     "output_type": "execute_result"
    }
   ],
   "source": [
    "#business date. From the end backward\n",
    "pd.bdate_range(end=end, periods=20)"
   ]
  },
  {
   "cell_type": "code",
   "execution_count": 57,
   "metadata": {},
   "outputs": [
    {
     "data": {
      "text/plain": [
       "DatetimeIndex(['2011-01-03', '2011-01-04', '2011-01-05', '2011-01-06',\n",
       "               '2011-01-07', '2011-01-10', '2011-01-11', '2011-01-12',\n",
       "               '2011-01-13', '2011-01-14', '2011-01-17', '2011-01-18',\n",
       "               '2011-01-19', '2011-01-20', '2011-01-21', '2011-01-24',\n",
       "               '2011-01-25', '2011-01-26', '2011-01-27', '2011-01-28'],\n",
       "              dtype='datetime64[ns]', freq='B')"
      ]
     },
     "execution_count": 57,
     "metadata": {},
     "output_type": "execute_result"
    }
   ],
   "source": [
    "#business date\n",
    "pd.bdate_range(start=start, periods=20)"
   ]
  },
  {
   "cell_type": "code",
   "execution_count": 58,
   "metadata": {},
   "outputs": [
    {
     "data": {
      "text/plain": [
       "DatetimeIndex(['2018-01-01', '2018-01-02', '2018-01-03', '2018-01-04',\n",
       "               '2018-01-05'],\n",
       "              dtype='datetime64[ns]', freq=None)"
      ]
     },
     "execution_count": 58,
     "metadata": {},
     "output_type": "execute_result"
    }
   ],
   "source": [
    "pd.date_range(\"2018-01-01\", \"2018-01-05\", periods=5)"
   ]
  },
  {
   "cell_type": "code",
   "execution_count": 59,
   "metadata": {},
   "outputs": [
    {
     "data": {
      "text/plain": [
       "DatetimeIndex(['2018-01-01 00:00:00', '2018-01-01 10:40:00',\n",
       "               '2018-01-01 21:20:00', '2018-01-02 08:00:00',\n",
       "               '2018-01-02 18:40:00', '2018-01-03 05:20:00',\n",
       "               '2018-01-03 16:00:00', '2018-01-04 02:40:00',\n",
       "               '2018-01-04 13:20:00', '2018-01-05 00:00:00'],\n",
       "              dtype='datetime64[ns]', freq=None)"
      ]
     },
     "execution_count": 59,
     "metadata": {},
     "output_type": "execute_result"
    }
   ],
   "source": [
    "pd.date_range(\"2018-01-01\", \"2018-01-05\", periods=10)"
   ]
  },
  {
   "cell_type": "code",
   "execution_count": 60,
   "metadata": {},
   "outputs": [
    {
     "data": {
      "text/plain": [
       "DatetimeIndex([          '2018-01-01 00:00:00',\n",
       "               '2018-01-01 05:03:09.473684210',\n",
       "               '2018-01-01 10:06:18.947368421',\n",
       "               '2018-01-01 15:09:28.421052631',\n",
       "               '2018-01-01 20:12:37.894736842',\n",
       "               '2018-01-02 01:15:47.368421052',\n",
       "               '2018-01-02 06:18:56.842105263',\n",
       "               '2018-01-02 11:22:06.315789473',\n",
       "               '2018-01-02 16:25:15.789473684',\n",
       "               '2018-01-02 21:28:25.263157894',\n",
       "               '2018-01-03 02:31:34.736842105',\n",
       "               '2018-01-03 07:34:44.210526315',\n",
       "               '2018-01-03 12:37:53.684210526',\n",
       "               '2018-01-03 17:41:03.157894736',\n",
       "               '2018-01-03 22:44:12.631578947',\n",
       "               '2018-01-04 03:47:22.105263157',\n",
       "               '2018-01-04 08:50:31.578947368',\n",
       "               '2018-01-04 13:53:41.052631578',\n",
       "               '2018-01-04 18:56:50.526315789',\n",
       "                         '2018-01-05 00:00:00'],\n",
       "              dtype='datetime64[ns]', freq=None)"
      ]
     },
     "execution_count": 60,
     "metadata": {},
     "output_type": "execute_result"
    }
   ],
   "source": [
    "pd.date_range(\"2018-01-01\", \"2018-01-05\", periods=20)"
   ]
  },
  {
   "cell_type": "markdown",
   "metadata": {},
   "source": [
    "Alias    Description\n",
    "B        business day frequency\n",
    "C        custom business day frequency\n",
    "D        calendar day frequency\n",
    "W        weekly frequency\n",
    "M        month end frequency\n",
    "SM       semi-month end frequency (15th and end of month)\n",
    "BM       business month end frequency\n",
    "CBM      custom business month end frequency\n",
    "MS       month start frequency\n",
    "SMS      semi-month start frequency (1st and 15th)\n",
    "BMS      business month start frequency\n",
    "CBMS     custom business month start frequency\n",
    "Q        quarter end frequency\n",
    "BQ       business quarter end frequency\n",
    "QS       quarter start frequency\n",
    "BQS      business quarter start frequency\n",
    "A, Y     year end frequency\n",
    "BA, BY   business year end frequency\n",
    "AS, YS   year start frequency\n",
    "BAS, BYS business year start frequency\n",
    "BH       business hour frequency\n",
    "H        hourly frequency\n",
    "T, min   minutely frequency\n",
    "S        secondly frequency\n",
    "L, ms    milliseconds\n",
    "U, us    microseconds\n",
    "N        nanoseconds"
   ]
  },
  {
   "cell_type": "code",
   "execution_count": 61,
   "metadata": {},
   "outputs": [],
   "source": [
    "weekmask = \"Mon Tue Wed Fri\""
   ]
  },
  {
   "cell_type": "code",
   "execution_count": 62,
   "metadata": {},
   "outputs": [
    {
     "data": {
      "text/plain": [
       "DatetimeIndex(['2011-01-03', '2011-01-04', '2011-01-07', '2011-01-10',\n",
       "               '2011-01-11', '2011-01-12', '2011-01-14', '2011-01-17',\n",
       "               '2011-01-18', '2011-01-19',\n",
       "               ...\n",
       "               '2011-12-14', '2011-12-16', '2011-12-19', '2011-12-20',\n",
       "               '2011-12-21', '2011-12-23', '2011-12-26', '2011-12-27',\n",
       "               '2011-12-28', '2011-12-30'],\n",
       "              dtype='datetime64[ns]', length=206, freq='C')"
      ]
     },
     "execution_count": 62,
     "metadata": {},
     "output_type": "execute_result"
    }
   ],
   "source": [
    "holidays = [datetime.datetime(2011, 1, 5), datetime.datetime(2011, 3, 14)]\n",
    "\n",
    "pd.bdate_range(start, end, freq=\"C\", weekmask=weekmask, holidays=holidays)"
   ]
  },
  {
   "cell_type": "code",
   "execution_count": 63,
   "metadata": {},
   "outputs": [
    {
     "data": {
      "text/plain": [
       "DatetimeIndex(['2011-01-03', '2011-02-01', '2011-03-01', '2011-04-01',\n",
       "               '2011-05-02', '2011-06-01', '2011-07-01', '2011-08-01',\n",
       "               '2011-09-02', '2011-10-03', '2011-11-01', '2011-12-02'],\n",
       "              dtype='datetime64[ns]', freq='CBMS')"
      ]
     },
     "execution_count": 63,
     "metadata": {},
     "output_type": "execute_result"
    }
   ],
   "source": [
    "pd.bdate_range(start, end, freq=\"CBMS\", weekmask=weekmask)"
   ]
  },
  {
   "cell_type": "code",
   "execution_count": 65,
   "metadata": {},
   "outputs": [
    {
     "data": {
      "text/plain": [
       "DatetimeIndex(['2011-01-31', '2011-02-28', '2011-03-31', '2011-04-29',\n",
       "               '2011-05-31', '2011-06-30', '2011-07-29', '2011-08-31',\n",
       "               '2011-09-30', '2011-10-31', '2011-11-30', '2011-12-30'],\n",
       "              dtype='datetime64[ns]', freq='BM')"
      ]
     },
     "execution_count": 65,
     "metadata": {},
     "output_type": "execute_result"
    }
   ],
   "source": [
    "rng = pd.date_range(start, end, freq=\"BM\")\n",
    "rng"
   ]
  },
  {
   "cell_type": "code",
   "execution_count": 66,
   "metadata": {},
   "outputs": [
    {
     "data": {
      "text/plain": [
       "2011-01-31    0.808741\n",
       "2011-02-28   -0.289919\n",
       "2011-03-31    1.106234\n",
       "2011-04-29   -0.446998\n",
       "2011-05-31    1.865305\n",
       "2011-06-30   -1.337369\n",
       "2011-07-29    1.343006\n",
       "2011-08-31    1.472197\n",
       "2011-09-30    1.161232\n",
       "2011-10-31    0.414121\n",
       "2011-11-30   -0.723467\n",
       "2011-12-30   -0.191942\n",
       "Freq: BM, dtype: float64"
      ]
     },
     "execution_count": 66,
     "metadata": {},
     "output_type": "execute_result"
    }
   ],
   "source": [
    "ts = pd.Series(np.random.randn(len(rng)), index=rng)\n",
    "ts"
   ]
  },
  {
   "cell_type": "code",
   "execution_count": 67,
   "metadata": {},
   "outputs": [
    {
     "data": {
      "text/plain": [
       "DatetimeIndex(['2011-01-31', '2011-02-28', '2011-03-31', '2011-04-29',\n",
       "               '2011-05-31'],\n",
       "              dtype='datetime64[ns]', freq='BM')"
      ]
     },
     "execution_count": 67,
     "metadata": {},
     "output_type": "execute_result"
    }
   ],
   "source": [
    "#first five\n",
    "ts[:5].index"
   ]
  },
  {
   "cell_type": "code",
   "execution_count": 68,
   "metadata": {},
   "outputs": [
    {
     "data": {
      "text/plain": [
       "DatetimeIndex(['2011-01-31', '2011-03-31', '2011-05-31', '2011-07-29',\n",
       "               '2011-09-30', '2011-11-30'],\n",
       "              dtype='datetime64[ns]', freq='2BM')"
      ]
     },
     "execution_count": 68,
     "metadata": {},
     "output_type": "execute_result"
    }
   ],
   "source": [
    "#jump every second\n",
    "ts[::2].index"
   ]
  },
  {
   "cell_type": "code",
   "execution_count": 70,
   "metadata": {},
   "outputs": [
    {
     "data": {
      "text/plain": [
       "DatetimeIndex(['2011-01-31', '2011-06-30', '2011-11-30'], dtype='datetime64[ns]', freq='5BM')"
      ]
     },
     "execution_count": 70,
     "metadata": {},
     "output_type": "execute_result"
    }
   ],
   "source": [
    "#jump every five\n",
    "ts[::5].index"
   ]
  },
  {
   "cell_type": "code",
   "execution_count": 73,
   "metadata": {},
   "outputs": [],
   "source": [
    "#T means minutes. #Dataframe: Values, Column name and index\n",
    "dft = pd.DataFrame( np.random.randn(100000, 1), columns=[\"A\"],index=pd.date_range(\"20130101\", periods=100000, freq=\"T\"),)"
   ]
  },
  {
   "cell_type": "code",
   "execution_count": 74,
   "metadata": {},
   "outputs": [
    {
     "data": {
      "text/html": [
       "<div>\n",
       "<style scoped>\n",
       "    .dataframe tbody tr th:only-of-type {\n",
       "        vertical-align: middle;\n",
       "    }\n",
       "\n",
       "    .dataframe tbody tr th {\n",
       "        vertical-align: top;\n",
       "    }\n",
       "\n",
       "    .dataframe thead th {\n",
       "        text-align: right;\n",
       "    }\n",
       "</style>\n",
       "<table border=\"1\" class=\"dataframe\">\n",
       "  <thead>\n",
       "    <tr style=\"text-align: right;\">\n",
       "      <th></th>\n",
       "      <th>A</th>\n",
       "    </tr>\n",
       "  </thead>\n",
       "  <tbody>\n",
       "    <tr>\n",
       "      <th>2013-01-01 00:00:00</th>\n",
       "      <td>0.765810</td>\n",
       "    </tr>\n",
       "    <tr>\n",
       "      <th>2013-01-01 00:01:00</th>\n",
       "      <td>-0.513782</td>\n",
       "    </tr>\n",
       "    <tr>\n",
       "      <th>2013-01-01 00:02:00</th>\n",
       "      <td>-0.855496</td>\n",
       "    </tr>\n",
       "    <tr>\n",
       "      <th>2013-01-01 00:03:00</th>\n",
       "      <td>1.539194</td>\n",
       "    </tr>\n",
       "    <tr>\n",
       "      <th>2013-01-01 00:04:00</th>\n",
       "      <td>-1.497710</td>\n",
       "    </tr>\n",
       "    <tr>\n",
       "      <th>...</th>\n",
       "      <td>...</td>\n",
       "    </tr>\n",
       "    <tr>\n",
       "      <th>2013-03-11 10:35:00</th>\n",
       "      <td>1.073928</td>\n",
       "    </tr>\n",
       "    <tr>\n",
       "      <th>2013-03-11 10:36:00</th>\n",
       "      <td>1.144277</td>\n",
       "    </tr>\n",
       "    <tr>\n",
       "      <th>2013-03-11 10:37:00</th>\n",
       "      <td>0.545249</td>\n",
       "    </tr>\n",
       "    <tr>\n",
       "      <th>2013-03-11 10:38:00</th>\n",
       "      <td>-0.320939</td>\n",
       "    </tr>\n",
       "    <tr>\n",
       "      <th>2013-03-11 10:39:00</th>\n",
       "      <td>-0.162200</td>\n",
       "    </tr>\n",
       "  </tbody>\n",
       "</table>\n",
       "<p>100000 rows × 1 columns</p>\n",
       "</div>"
      ],
      "text/plain": [
       "                            A\n",
       "2013-01-01 00:00:00  0.765810\n",
       "2013-01-01 00:01:00 -0.513782\n",
       "2013-01-01 00:02:00 -0.855496\n",
       "2013-01-01 00:03:00  1.539194\n",
       "2013-01-01 00:04:00 -1.497710\n",
       "...                       ...\n",
       "2013-03-11 10:35:00  1.073928\n",
       "2013-03-11 10:36:00  1.144277\n",
       "2013-03-11 10:37:00  0.545249\n",
       "2013-03-11 10:38:00 -0.320939\n",
       "2013-03-11 10:39:00 -0.162200\n",
       "\n",
       "[100000 rows x 1 columns]"
      ]
     },
     "execution_count": 74,
     "metadata": {},
     "output_type": "execute_result"
    }
   ],
   "source": [
    "dft"
   ]
  },
  {
   "cell_type": "code",
   "execution_count": 75,
   "metadata": {},
   "outputs": [
    {
     "data": {
      "text/html": [
       "<div>\n",
       "<style scoped>\n",
       "    .dataframe tbody tr th:only-of-type {\n",
       "        vertical-align: middle;\n",
       "    }\n",
       "\n",
       "    .dataframe tbody tr th {\n",
       "        vertical-align: top;\n",
       "    }\n",
       "\n",
       "    .dataframe thead th {\n",
       "        text-align: right;\n",
       "    }\n",
       "</style>\n",
       "<table border=\"1\" class=\"dataframe\">\n",
       "  <thead>\n",
       "    <tr style=\"text-align: right;\">\n",
       "      <th></th>\n",
       "      <th>A</th>\n",
       "    </tr>\n",
       "  </thead>\n",
       "  <tbody>\n",
       "    <tr>\n",
       "      <th>2013-01-01 00:00:00</th>\n",
       "      <td>0.765810</td>\n",
       "    </tr>\n",
       "    <tr>\n",
       "      <th>2013-01-01 00:01:00</th>\n",
       "      <td>-0.513782</td>\n",
       "    </tr>\n",
       "    <tr>\n",
       "      <th>2013-01-01 00:02:00</th>\n",
       "      <td>-0.855496</td>\n",
       "    </tr>\n",
       "    <tr>\n",
       "      <th>2013-01-01 00:03:00</th>\n",
       "      <td>1.539194</td>\n",
       "    </tr>\n",
       "    <tr>\n",
       "      <th>2013-01-01 00:04:00</th>\n",
       "      <td>-1.497710</td>\n",
       "    </tr>\n",
       "    <tr>\n",
       "      <th>...</th>\n",
       "      <td>...</td>\n",
       "    </tr>\n",
       "    <tr>\n",
       "      <th>2013-03-11 10:35:00</th>\n",
       "      <td>1.073928</td>\n",
       "    </tr>\n",
       "    <tr>\n",
       "      <th>2013-03-11 10:36:00</th>\n",
       "      <td>1.144277</td>\n",
       "    </tr>\n",
       "    <tr>\n",
       "      <th>2013-03-11 10:37:00</th>\n",
       "      <td>0.545249</td>\n",
       "    </tr>\n",
       "    <tr>\n",
       "      <th>2013-03-11 10:38:00</th>\n",
       "      <td>-0.320939</td>\n",
       "    </tr>\n",
       "    <tr>\n",
       "      <th>2013-03-11 10:39:00</th>\n",
       "      <td>-0.162200</td>\n",
       "    </tr>\n",
       "  </tbody>\n",
       "</table>\n",
       "<p>100000 rows × 1 columns</p>\n",
       "</div>"
      ],
      "text/plain": [
       "                            A\n",
       "2013-01-01 00:00:00  0.765810\n",
       "2013-01-01 00:01:00 -0.513782\n",
       "2013-01-01 00:02:00 -0.855496\n",
       "2013-01-01 00:03:00  1.539194\n",
       "2013-01-01 00:04:00 -1.497710\n",
       "...                       ...\n",
       "2013-03-11 10:35:00  1.073928\n",
       "2013-03-11 10:36:00  1.144277\n",
       "2013-03-11 10:37:00  0.545249\n",
       "2013-03-11 10:38:00 -0.320939\n",
       "2013-03-11 10:39:00 -0.162200\n",
       "\n",
       "[100000 rows x 1 columns]"
      ]
     },
     "execution_count": 75,
     "metadata": {},
     "output_type": "execute_result"
    }
   ],
   "source": [
    "dft.loc[\"2013\"]"
   ]
  },
  {
   "cell_type": "code",
   "execution_count": 77,
   "metadata": {},
   "outputs": [
    {
     "data": {
      "text/html": [
       "<div>\n",
       "<style scoped>\n",
       "    .dataframe tbody tr th:only-of-type {\n",
       "        vertical-align: middle;\n",
       "    }\n",
       "\n",
       "    .dataframe tbody tr th {\n",
       "        vertical-align: top;\n",
       "    }\n",
       "\n",
       "    .dataframe thead th {\n",
       "        text-align: right;\n",
       "    }\n",
       "</style>\n",
       "<table border=\"1\" class=\"dataframe\">\n",
       "  <thead>\n",
       "    <tr style=\"text-align: right;\">\n",
       "      <th></th>\n",
       "      <th>A</th>\n",
       "    </tr>\n",
       "  </thead>\n",
       "  <tbody>\n",
       "    <tr>\n",
       "      <th>2013-01-01 00:00:00</th>\n",
       "      <td>0.765810</td>\n",
       "    </tr>\n",
       "    <tr>\n",
       "      <th>2013-01-01 00:01:00</th>\n",
       "      <td>-0.513782</td>\n",
       "    </tr>\n",
       "    <tr>\n",
       "      <th>2013-01-01 00:02:00</th>\n",
       "      <td>-0.855496</td>\n",
       "    </tr>\n",
       "    <tr>\n",
       "      <th>2013-01-01 00:03:00</th>\n",
       "      <td>1.539194</td>\n",
       "    </tr>\n",
       "    <tr>\n",
       "      <th>2013-01-01 00:04:00</th>\n",
       "      <td>-1.497710</td>\n",
       "    </tr>\n",
       "    <tr>\n",
       "      <th>...</th>\n",
       "      <td>...</td>\n",
       "    </tr>\n",
       "    <tr>\n",
       "      <th>2013-03-11 10:35:00</th>\n",
       "      <td>1.073928</td>\n",
       "    </tr>\n",
       "    <tr>\n",
       "      <th>2013-03-11 10:36:00</th>\n",
       "      <td>1.144277</td>\n",
       "    </tr>\n",
       "    <tr>\n",
       "      <th>2013-03-11 10:37:00</th>\n",
       "      <td>0.545249</td>\n",
       "    </tr>\n",
       "    <tr>\n",
       "      <th>2013-03-11 10:38:00</th>\n",
       "      <td>-0.320939</td>\n",
       "    </tr>\n",
       "    <tr>\n",
       "      <th>2013-03-11 10:39:00</th>\n",
       "      <td>-0.162200</td>\n",
       "    </tr>\n",
       "  </tbody>\n",
       "</table>\n",
       "<p>100000 rows × 1 columns</p>\n",
       "</div>"
      ],
      "text/plain": [
       "                            A\n",
       "2013-01-01 00:00:00  0.765810\n",
       "2013-01-01 00:01:00 -0.513782\n",
       "2013-01-01 00:02:00 -0.855496\n",
       "2013-01-01 00:03:00  1.539194\n",
       "2013-01-01 00:04:00 -1.497710\n",
       "...                       ...\n",
       "2013-03-11 10:35:00  1.073928\n",
       "2013-03-11 10:36:00  1.144277\n",
       "2013-03-11 10:37:00  0.545249\n",
       "2013-03-11 10:38:00 -0.320939\n",
       "2013-03-11 10:39:00 -0.162200\n",
       "\n",
       "[100000 rows x 1 columns]"
      ]
     },
     "execution_count": 77,
     "metadata": {},
     "output_type": "execute_result"
    }
   ],
   "source": [
    "#only 2013\n",
    "dft.loc[\"2013\"]"
   ]
  },
  {
   "cell_type": "code",
   "execution_count": 79,
   "metadata": {},
   "outputs": [
    {
     "data": {
      "text/html": [
       "<div>\n",
       "<style scoped>\n",
       "    .dataframe tbody tr th:only-of-type {\n",
       "        vertical-align: middle;\n",
       "    }\n",
       "\n",
       "    .dataframe tbody tr th {\n",
       "        vertical-align: top;\n",
       "    }\n",
       "\n",
       "    .dataframe thead th {\n",
       "        text-align: right;\n",
       "    }\n",
       "</style>\n",
       "<table border=\"1\" class=\"dataframe\">\n",
       "  <thead>\n",
       "    <tr style=\"text-align: right;\">\n",
       "      <th></th>\n",
       "      <th>A</th>\n",
       "    </tr>\n",
       "  </thead>\n",
       "  <tbody>\n",
       "    <tr>\n",
       "      <th>2013-01-01 00:00:00</th>\n",
       "      <td>0.765810</td>\n",
       "    </tr>\n",
       "    <tr>\n",
       "      <th>2013-01-01 00:01:00</th>\n",
       "      <td>-0.513782</td>\n",
       "    </tr>\n",
       "    <tr>\n",
       "      <th>2013-01-01 00:02:00</th>\n",
       "      <td>-0.855496</td>\n",
       "    </tr>\n",
       "    <tr>\n",
       "      <th>2013-01-01 00:03:00</th>\n",
       "      <td>1.539194</td>\n",
       "    </tr>\n",
       "    <tr>\n",
       "      <th>2013-01-01 00:04:00</th>\n",
       "      <td>-1.497710</td>\n",
       "    </tr>\n",
       "    <tr>\n",
       "      <th>...</th>\n",
       "      <td>...</td>\n",
       "    </tr>\n",
       "    <tr>\n",
       "      <th>2013-02-28 23:55:00</th>\n",
       "      <td>-0.129553</td>\n",
       "    </tr>\n",
       "    <tr>\n",
       "      <th>2013-02-28 23:56:00</th>\n",
       "      <td>-0.721987</td>\n",
       "    </tr>\n",
       "    <tr>\n",
       "      <th>2013-02-28 23:57:00</th>\n",
       "      <td>-0.480531</td>\n",
       "    </tr>\n",
       "    <tr>\n",
       "      <th>2013-02-28 23:58:00</th>\n",
       "      <td>-1.405888</td>\n",
       "    </tr>\n",
       "    <tr>\n",
       "      <th>2013-02-28 23:59:00</th>\n",
       "      <td>-0.817340</td>\n",
       "    </tr>\n",
       "  </tbody>\n",
       "</table>\n",
       "<p>84960 rows × 1 columns</p>\n",
       "</div>"
      ],
      "text/plain": [
       "                            A\n",
       "2013-01-01 00:00:00  0.765810\n",
       "2013-01-01 00:01:00 -0.513782\n",
       "2013-01-01 00:02:00 -0.855496\n",
       "2013-01-01 00:03:00  1.539194\n",
       "2013-01-01 00:04:00 -1.497710\n",
       "...                       ...\n",
       "2013-02-28 23:55:00 -0.129553\n",
       "2013-02-28 23:56:00 -0.721987\n",
       "2013-02-28 23:57:00 -0.480531\n",
       "2013-02-28 23:58:00 -1.405888\n",
       "2013-02-28 23:59:00 -0.817340\n",
       "\n",
       "[84960 rows x 1 columns]"
      ]
     },
     "execution_count": 79,
     "metadata": {},
     "output_type": "execute_result"
    }
   ],
   "source": [
    "#This starts on the very first time in the month, and includes the last date and time for the month:\n",
    "dft[\"2013-1\":\"2013-2\"]"
   ]
  },
  {
   "cell_type": "code",
   "execution_count": 81,
   "metadata": {},
   "outputs": [
    {
     "data": {
      "text/html": [
       "<div>\n",
       "<style scoped>\n",
       "    .dataframe tbody tr th:only-of-type {\n",
       "        vertical-align: middle;\n",
       "    }\n",
       "\n",
       "    .dataframe tbody tr th {\n",
       "        vertical-align: top;\n",
       "    }\n",
       "\n",
       "    .dataframe thead th {\n",
       "        text-align: right;\n",
       "    }\n",
       "</style>\n",
       "<table border=\"1\" class=\"dataframe\">\n",
       "  <thead>\n",
       "    <tr style=\"text-align: right;\">\n",
       "      <th></th>\n",
       "      <th>A</th>\n",
       "    </tr>\n",
       "  </thead>\n",
       "  <tbody>\n",
       "    <tr>\n",
       "      <th>2013-01-01 00:00:00</th>\n",
       "      <td>0.765810</td>\n",
       "    </tr>\n",
       "    <tr>\n",
       "      <th>2013-01-01 00:01:00</th>\n",
       "      <td>-0.513782</td>\n",
       "    </tr>\n",
       "    <tr>\n",
       "      <th>2013-01-01 00:02:00</th>\n",
       "      <td>-0.855496</td>\n",
       "    </tr>\n",
       "    <tr>\n",
       "      <th>2013-01-01 00:03:00</th>\n",
       "      <td>1.539194</td>\n",
       "    </tr>\n",
       "    <tr>\n",
       "      <th>2013-01-01 00:04:00</th>\n",
       "      <td>-1.497710</td>\n",
       "    </tr>\n",
       "    <tr>\n",
       "      <th>...</th>\n",
       "      <td>...</td>\n",
       "    </tr>\n",
       "    <tr>\n",
       "      <th>2013-02-28 23:55:00</th>\n",
       "      <td>-0.129553</td>\n",
       "    </tr>\n",
       "    <tr>\n",
       "      <th>2013-02-28 23:56:00</th>\n",
       "      <td>-0.721987</td>\n",
       "    </tr>\n",
       "    <tr>\n",
       "      <th>2013-02-28 23:57:00</th>\n",
       "      <td>-0.480531</td>\n",
       "    </tr>\n",
       "    <tr>\n",
       "      <th>2013-02-28 23:58:00</th>\n",
       "      <td>-1.405888</td>\n",
       "    </tr>\n",
       "    <tr>\n",
       "      <th>2013-02-28 23:59:00</th>\n",
       "      <td>-0.817340</td>\n",
       "    </tr>\n",
       "  </tbody>\n",
       "</table>\n",
       "<p>84960 rows × 1 columns</p>\n",
       "</div>"
      ],
      "text/plain": [
       "                            A\n",
       "2013-01-01 00:00:00  0.765810\n",
       "2013-01-01 00:01:00 -0.513782\n",
       "2013-01-01 00:02:00 -0.855496\n",
       "2013-01-01 00:03:00  1.539194\n",
       "2013-01-01 00:04:00 -1.497710\n",
       "...                       ...\n",
       "2013-02-28 23:55:00 -0.129553\n",
       "2013-02-28 23:56:00 -0.721987\n",
       "2013-02-28 23:57:00 -0.480531\n",
       "2013-02-28 23:58:00 -1.405888\n",
       "2013-02-28 23:59:00 -0.817340\n",
       "\n",
       "[84960 rows x 1 columns]"
      ]
     },
     "execution_count": 81,
     "metadata": {},
     "output_type": "execute_result"
    }
   ],
   "source": [
    "#This specifies a stop time that includes all of the times on the last day:\n",
    "dft[\"2013-1\":\"2013-2-28\"]"
   ]
  },
  {
   "cell_type": "code",
   "execution_count": 82,
   "metadata": {},
   "outputs": [
    {
     "data": {
      "text/html": [
       "<div>\n",
       "<style scoped>\n",
       "    .dataframe tbody tr th:only-of-type {\n",
       "        vertical-align: middle;\n",
       "    }\n",
       "\n",
       "    .dataframe tbody tr th {\n",
       "        vertical-align: top;\n",
       "    }\n",
       "\n",
       "    .dataframe thead th {\n",
       "        text-align: right;\n",
       "    }\n",
       "</style>\n",
       "<table border=\"1\" class=\"dataframe\">\n",
       "  <thead>\n",
       "    <tr style=\"text-align: right;\">\n",
       "      <th></th>\n",
       "      <th>A</th>\n",
       "    </tr>\n",
       "  </thead>\n",
       "  <tbody>\n",
       "    <tr>\n",
       "      <th>2013-01-15 00:00:00</th>\n",
       "      <td>1.476067</td>\n",
       "    </tr>\n",
       "    <tr>\n",
       "      <th>2013-01-15 00:01:00</th>\n",
       "      <td>-0.657465</td>\n",
       "    </tr>\n",
       "    <tr>\n",
       "      <th>2013-01-15 00:02:00</th>\n",
       "      <td>-0.840297</td>\n",
       "    </tr>\n",
       "    <tr>\n",
       "      <th>2013-01-15 00:03:00</th>\n",
       "      <td>-0.812910</td>\n",
       "    </tr>\n",
       "    <tr>\n",
       "      <th>2013-01-15 00:04:00</th>\n",
       "      <td>2.998295</td>\n",
       "    </tr>\n",
       "    <tr>\n",
       "      <th>...</th>\n",
       "      <td>...</td>\n",
       "    </tr>\n",
       "    <tr>\n",
       "      <th>2013-01-15 12:26:00</th>\n",
       "      <td>-1.238941</td>\n",
       "    </tr>\n",
       "    <tr>\n",
       "      <th>2013-01-15 12:27:00</th>\n",
       "      <td>0.356111</td>\n",
       "    </tr>\n",
       "    <tr>\n",
       "      <th>2013-01-15 12:28:00</th>\n",
       "      <td>-0.578073</td>\n",
       "    </tr>\n",
       "    <tr>\n",
       "      <th>2013-01-15 12:29:00</th>\n",
       "      <td>0.955968</td>\n",
       "    </tr>\n",
       "    <tr>\n",
       "      <th>2013-01-15 12:30:00</th>\n",
       "      <td>1.401326</td>\n",
       "    </tr>\n",
       "  </tbody>\n",
       "</table>\n",
       "<p>751 rows × 1 columns</p>\n",
       "</div>"
      ],
      "text/plain": [
       "                            A\n",
       "2013-01-15 00:00:00  1.476067\n",
       "2013-01-15 00:01:00 -0.657465\n",
       "2013-01-15 00:02:00 -0.840297\n",
       "2013-01-15 00:03:00 -0.812910\n",
       "2013-01-15 00:04:00  2.998295\n",
       "...                       ...\n",
       "2013-01-15 12:26:00 -1.238941\n",
       "2013-01-15 12:27:00  0.356111\n",
       "2013-01-15 12:28:00 -0.578073\n",
       "2013-01-15 12:29:00  0.955968\n",
       "2013-01-15 12:30:00  1.401326\n",
       "\n",
       "[751 rows x 1 columns]"
      ]
     },
     "execution_count": 82,
     "metadata": {},
     "output_type": "execute_result"
    }
   ],
   "source": [
    "#This specifies an exact stop time (and is not the same as the above):\n",
    "dft[\"2013-1-15\":\"2013-1-15 12:30:00\"]"
   ]
  },
  {
   "cell_type": "code",
   "execution_count": 89,
   "metadata": {},
   "outputs": [],
   "source": [
    "dft2 = pd.DataFrame(np.random.randn(20, 1),columns=[\"A\"],index=pd.MultiIndex.from_product([pd.date_range(\"20130101\", periods=10, freq=\"12H\"), [\"a\", \"b\"]]), )"
   ]
  },
  {
   "cell_type": "code",
   "execution_count": 90,
   "metadata": {},
   "outputs": [
    {
     "data": {
      "text/html": [
       "<div>\n",
       "<style scoped>\n",
       "    .dataframe tbody tr th:only-of-type {\n",
       "        vertical-align: middle;\n",
       "    }\n",
       "\n",
       "    .dataframe tbody tr th {\n",
       "        vertical-align: top;\n",
       "    }\n",
       "\n",
       "    .dataframe thead th {\n",
       "        text-align: right;\n",
       "    }\n",
       "</style>\n",
       "<table border=\"1\" class=\"dataframe\">\n",
       "  <thead>\n",
       "    <tr style=\"text-align: right;\">\n",
       "      <th></th>\n",
       "      <th></th>\n",
       "      <th>A</th>\n",
       "    </tr>\n",
       "  </thead>\n",
       "  <tbody>\n",
       "    <tr>\n",
       "      <th rowspan=\"2\" valign=\"top\">2013-01-01 00:00:00</th>\n",
       "      <th>a</th>\n",
       "      <td>-0.525106</td>\n",
       "    </tr>\n",
       "    <tr>\n",
       "      <th>b</th>\n",
       "      <td>-0.138330</td>\n",
       "    </tr>\n",
       "    <tr>\n",
       "      <th rowspan=\"2\" valign=\"top\">2013-01-01 12:00:00</th>\n",
       "      <th>a</th>\n",
       "      <td>-0.219216</td>\n",
       "    </tr>\n",
       "    <tr>\n",
       "      <th>b</th>\n",
       "      <td>-0.110695</td>\n",
       "    </tr>\n",
       "    <tr>\n",
       "      <th rowspan=\"2\" valign=\"top\">2013-01-02 00:00:00</th>\n",
       "      <th>a</th>\n",
       "      <td>-0.108826</td>\n",
       "    </tr>\n",
       "    <tr>\n",
       "      <th>b</th>\n",
       "      <td>0.700349</td>\n",
       "    </tr>\n",
       "    <tr>\n",
       "      <th rowspan=\"2\" valign=\"top\">2013-01-02 12:00:00</th>\n",
       "      <th>a</th>\n",
       "      <td>-0.954658</td>\n",
       "    </tr>\n",
       "    <tr>\n",
       "      <th>b</th>\n",
       "      <td>0.100855</td>\n",
       "    </tr>\n",
       "    <tr>\n",
       "      <th rowspan=\"2\" valign=\"top\">2013-01-03 00:00:00</th>\n",
       "      <th>a</th>\n",
       "      <td>-0.640649</td>\n",
       "    </tr>\n",
       "    <tr>\n",
       "      <th>b</th>\n",
       "      <td>0.687999</td>\n",
       "    </tr>\n",
       "    <tr>\n",
       "      <th rowspan=\"2\" valign=\"top\">2013-01-03 12:00:00</th>\n",
       "      <th>a</th>\n",
       "      <td>-0.380012</td>\n",
       "    </tr>\n",
       "    <tr>\n",
       "      <th>b</th>\n",
       "      <td>-1.127487</td>\n",
       "    </tr>\n",
       "    <tr>\n",
       "      <th rowspan=\"2\" valign=\"top\">2013-01-04 00:00:00</th>\n",
       "      <th>a</th>\n",
       "      <td>-0.357178</td>\n",
       "    </tr>\n",
       "    <tr>\n",
       "      <th>b</th>\n",
       "      <td>0.369101</td>\n",
       "    </tr>\n",
       "    <tr>\n",
       "      <th rowspan=\"2\" valign=\"top\">2013-01-04 12:00:00</th>\n",
       "      <th>a</th>\n",
       "      <td>1.068264</td>\n",
       "    </tr>\n",
       "    <tr>\n",
       "      <th>b</th>\n",
       "      <td>-0.823547</td>\n",
       "    </tr>\n",
       "    <tr>\n",
       "      <th rowspan=\"2\" valign=\"top\">2013-01-05 00:00:00</th>\n",
       "      <th>a</th>\n",
       "      <td>1.658884</td>\n",
       "    </tr>\n",
       "    <tr>\n",
       "      <th>b</th>\n",
       "      <td>-0.271173</td>\n",
       "    </tr>\n",
       "    <tr>\n",
       "      <th rowspan=\"2\" valign=\"top\">2013-01-05 12:00:00</th>\n",
       "      <th>a</th>\n",
       "      <td>0.087629</td>\n",
       "    </tr>\n",
       "    <tr>\n",
       "      <th>b</th>\n",
       "      <td>-0.885528</td>\n",
       "    </tr>\n",
       "  </tbody>\n",
       "</table>\n",
       "</div>"
      ],
      "text/plain": [
       "                              A\n",
       "2013-01-01 00:00:00 a -0.525106\n",
       "                    b -0.138330\n",
       "2013-01-01 12:00:00 a -0.219216\n",
       "                    b -0.110695\n",
       "2013-01-02 00:00:00 a -0.108826\n",
       "                    b  0.700349\n",
       "2013-01-02 12:00:00 a -0.954658\n",
       "                    b  0.100855\n",
       "2013-01-03 00:00:00 a -0.640649\n",
       "                    b  0.687999\n",
       "2013-01-03 12:00:00 a -0.380012\n",
       "                    b -1.127487\n",
       "2013-01-04 00:00:00 a -0.357178\n",
       "                    b  0.369101\n",
       "2013-01-04 12:00:00 a  1.068264\n",
       "                    b -0.823547\n",
       "2013-01-05 00:00:00 a  1.658884\n",
       "                    b -0.271173\n",
       "2013-01-05 12:00:00 a  0.087629\n",
       "                    b -0.885528"
      ]
     },
     "execution_count": 90,
     "metadata": {},
     "output_type": "execute_result"
    }
   ],
   "source": [
    "dft2"
   ]
  },
  {
   "cell_type": "code",
   "execution_count": 91,
   "metadata": {},
   "outputs": [
    {
     "data": {
      "text/html": [
       "<div>\n",
       "<style scoped>\n",
       "    .dataframe tbody tr th:only-of-type {\n",
       "        vertical-align: middle;\n",
       "    }\n",
       "\n",
       "    .dataframe tbody tr th {\n",
       "        vertical-align: top;\n",
       "    }\n",
       "\n",
       "    .dataframe thead th {\n",
       "        text-align: right;\n",
       "    }\n",
       "</style>\n",
       "<table border=\"1\" class=\"dataframe\">\n",
       "  <thead>\n",
       "    <tr style=\"text-align: right;\">\n",
       "      <th></th>\n",
       "      <th></th>\n",
       "      <th>A</th>\n",
       "    </tr>\n",
       "  </thead>\n",
       "  <tbody>\n",
       "    <tr>\n",
       "      <th rowspan=\"2\" valign=\"top\">2013-01-05 00:00:00</th>\n",
       "      <th>a</th>\n",
       "      <td>1.658884</td>\n",
       "    </tr>\n",
       "    <tr>\n",
       "      <th>b</th>\n",
       "      <td>-0.271173</td>\n",
       "    </tr>\n",
       "    <tr>\n",
       "      <th rowspan=\"2\" valign=\"top\">2013-01-05 12:00:00</th>\n",
       "      <th>a</th>\n",
       "      <td>0.087629</td>\n",
       "    </tr>\n",
       "    <tr>\n",
       "      <th>b</th>\n",
       "      <td>-0.885528</td>\n",
       "    </tr>\n",
       "  </tbody>\n",
       "</table>\n",
       "</div>"
      ],
      "text/plain": [
       "                              A\n",
       "2013-01-05 00:00:00 a  1.658884\n",
       "                    b -0.271173\n",
       "2013-01-05 12:00:00 a  0.087629\n",
       "                    b -0.885528"
      ]
     },
     "execution_count": 91,
     "metadata": {},
     "output_type": "execute_result"
    }
   ],
   "source": [
    "dft2.loc[\"2013-01-05\"]"
   ]
  },
  {
   "cell_type": "code",
   "execution_count": 92,
   "metadata": {},
   "outputs": [],
   "source": [
    "series_minute = pd.Series([1, 2, 3],pd.DatetimeIndex([\"2011-12-31 23:59:00\", \"2012-01-01 00:00:00\", \"2012-01-01 00:02:00\"]),)"
   ]
  },
  {
   "cell_type": "code",
   "execution_count": 93,
   "metadata": {},
   "outputs": [
    {
     "data": {
      "text/plain": [
       "2011-12-31 23:59:00    1\n",
       "2012-01-01 00:00:00    2\n",
       "2012-01-01 00:02:00    3\n",
       "dtype: int64"
      ]
     },
     "execution_count": 93,
     "metadata": {},
     "output_type": "execute_result"
    }
   ],
   "source": [
    "series_minute"
   ]
  },
  {
   "cell_type": "code",
   "execution_count": 94,
   "metadata": {},
   "outputs": [
    {
     "data": {
      "text/plain": [
       "1"
      ]
     },
     "execution_count": 94,
     "metadata": {},
     "output_type": "execute_result"
    }
   ],
   "source": [
    "series_minute[\"2011-12-31 23:59\"]"
   ]
  },
  {
   "cell_type": "code",
   "execution_count": 95,
   "metadata": {},
   "outputs": [
    {
     "data": {
      "text/plain": [
       "2"
      ]
     },
     "execution_count": 95,
     "metadata": {},
     "output_type": "execute_result"
    }
   ],
   "source": [
    "series_minute[\"2012-01-01 00:00:00\"]"
   ]
  },
  {
   "cell_type": "code",
   "execution_count": 96,
   "metadata": {},
   "outputs": [],
   "source": [
    "series_second = pd.Series([1, 2, 3], pd.DatetimeIndex([\"2011-12-31 23:59:59\", \"2012-01-01 00:00:00\", \"2012-01-01 00:00:01\"]),)"
   ]
  },
  {
   "cell_type": "code",
   "execution_count": 97,
   "metadata": {},
   "outputs": [
    {
     "data": {
      "text/plain": [
       "2011-12-31 23:59:59    1\n",
       "2012-01-01 00:00:00    2\n",
       "2012-01-01 00:00:01    3\n",
       "dtype: int64"
      ]
     },
     "execution_count": 97,
     "metadata": {},
     "output_type": "execute_result"
    }
   ],
   "source": [
    "series_second"
   ]
  },
  {
   "cell_type": "code",
   "execution_count": 98,
   "metadata": {},
   "outputs": [
    {
     "data": {
      "text/html": [
       "<div>\n",
       "<style scoped>\n",
       "    .dataframe tbody tr th:only-of-type {\n",
       "        vertical-align: middle;\n",
       "    }\n",
       "\n",
       "    .dataframe tbody tr th {\n",
       "        vertical-align: top;\n",
       "    }\n",
       "\n",
       "    .dataframe thead th {\n",
       "        text-align: right;\n",
       "    }\n",
       "</style>\n",
       "<table border=\"1\" class=\"dataframe\">\n",
       "  <thead>\n",
       "    <tr style=\"text-align: right;\">\n",
       "      <th></th>\n",
       "      <th>a</th>\n",
       "      <th>b</th>\n",
       "    </tr>\n",
       "  </thead>\n",
       "  <tbody>\n",
       "    <tr>\n",
       "      <th>2011-12-31 23:59:00</th>\n",
       "      <td>1</td>\n",
       "      <td>4</td>\n",
       "    </tr>\n",
       "    <tr>\n",
       "      <th>2012-01-01 00:00:00</th>\n",
       "      <td>2</td>\n",
       "      <td>5</td>\n",
       "    </tr>\n",
       "    <tr>\n",
       "      <th>2012-01-01 00:02:00</th>\n",
       "      <td>3</td>\n",
       "      <td>6</td>\n",
       "    </tr>\n",
       "  </tbody>\n",
       "</table>\n",
       "</div>"
      ],
      "text/plain": [
       "                     a  b\n",
       "2011-12-31 23:59:00  1  4\n",
       "2012-01-01 00:00:00  2  5\n",
       "2012-01-01 00:02:00  3  6"
      ]
     },
     "execution_count": 98,
     "metadata": {},
     "output_type": "execute_result"
    }
   ],
   "source": [
    "dft_minute = pd.DataFrame({\"a\": [1, 2, 3], \"b\": [4, 5, 6]}, index=series_minute.index)\n",
    "dft_minute"
   ]
  },
  {
   "cell_type": "code",
   "execution_count": 101,
   "metadata": {},
   "outputs": [
    {
     "data": {
      "text/html": [
       "<div>\n",
       "<style scoped>\n",
       "    .dataframe tbody tr th:only-of-type {\n",
       "        vertical-align: middle;\n",
       "    }\n",
       "\n",
       "    .dataframe tbody tr th {\n",
       "        vertical-align: top;\n",
       "    }\n",
       "\n",
       "    .dataframe thead th {\n",
       "        text-align: right;\n",
       "    }\n",
       "</style>\n",
       "<table border=\"1\" class=\"dataframe\">\n",
       "  <thead>\n",
       "    <tr style=\"text-align: right;\">\n",
       "      <th></th>\n",
       "      <th>a</th>\n",
       "      <th>b</th>\n",
       "    </tr>\n",
       "  </thead>\n",
       "  <tbody>\n",
       "    <tr>\n",
       "      <th>2011-12-31 23:59:00</th>\n",
       "      <td>1</td>\n",
       "      <td>4</td>\n",
       "    </tr>\n",
       "  </tbody>\n",
       "</table>\n",
       "</div>"
      ],
      "text/plain": [
       "                     a  b\n",
       "2011-12-31 23:59:00  1  4"
      ]
     },
     "execution_count": 101,
     "metadata": {},
     "output_type": "execute_result"
    }
   ],
   "source": [
    "dft_minute.loc[\"2011-12-31 23\"]"
   ]
  },
  {
   "cell_type": "code",
   "execution_count": 102,
   "metadata": {},
   "outputs": [
    {
     "data": {
      "text/plain": [
       "2011-12-01    1\n",
       "2012-01-01    2\n",
       "2012-02-01    3\n",
       "dtype: int64"
      ]
     },
     "execution_count": 102,
     "metadata": {},
     "output_type": "execute_result"
    }
   ],
   "source": [
    "series_monthly = pd.Series([1, 2, 3], pd.DatetimeIndex([\"2011-12\", \"2012-01\", \"2012-02\"]))\n",
    "series_monthly"
   ]
  },
  {
   "cell_type": "code",
   "execution_count": 103,
   "metadata": {},
   "outputs": [
    {
     "data": {
      "text/plain": [
       "DatetimeIndex(['2011-01-02', '2011-01-09', '2011-01-16', '2011-01-23',\n",
       "               '2011-01-30', '2011-02-06', '2011-02-13', '2011-02-20',\n",
       "               '2011-02-27', '2011-03-06', '2011-03-13', '2011-03-20',\n",
       "               '2011-03-27', '2011-04-03', '2011-04-10', '2011-04-17',\n",
       "               '2011-04-24', '2011-05-01', '2011-05-08', '2011-05-15',\n",
       "               '2011-05-22', '2011-05-29', '2011-06-05', '2011-06-12',\n",
       "               '2011-06-19', '2011-06-26', '2011-07-03', '2011-07-10',\n",
       "               '2011-07-17', '2011-07-24', '2011-07-31', '2011-08-07',\n",
       "               '2011-08-14', '2011-08-21', '2011-08-28', '2011-09-04',\n",
       "               '2011-09-11', '2011-09-18', '2011-09-25', '2011-10-02',\n",
       "               '2011-10-09', '2011-10-16', '2011-10-23', '2011-10-30',\n",
       "               '2011-11-06', '2011-11-13', '2011-11-20', '2011-11-27',\n",
       "               '2011-12-04', '2011-12-11', '2011-12-18', '2011-12-25',\n",
       "               '2012-01-01'],\n",
       "              dtype='datetime64[ns]', freq='W-SUN')"
      ]
     },
     "execution_count": 103,
     "metadata": {},
     "output_type": "execute_result"
    }
   ],
   "source": [
    "rng2 = pd.date_range(\"2011-01-01\", \"2012-01-01\", freq=\"W\")\n",
    "rng2"
   ]
  },
  {
   "cell_type": "code",
   "execution_count": 104,
   "metadata": {},
   "outputs": [
    {
     "data": {
      "text/plain": [
       "2011-01-02    0.523516\n",
       "2011-01-09   -0.950105\n",
       "2011-01-16   -1.514499\n",
       "2011-01-23    0.286193\n",
       "2011-01-30   -0.174328\n",
       "2011-02-06    0.778957\n",
       "2011-02-13    0.722720\n",
       "2011-02-20    0.083393\n",
       "2011-02-27    1.240902\n",
       "2011-03-06   -0.444921\n",
       "2011-03-13    1.305730\n",
       "2011-03-20    0.672913\n",
       "2011-03-27    0.438307\n",
       "2011-04-03   -1.257334\n",
       "2011-04-10    0.554621\n",
       "2011-04-17    0.096369\n",
       "2011-04-24   -1.178376\n",
       "2011-05-01   -0.936405\n",
       "2011-05-08   -0.077716\n",
       "2011-05-15   -0.980430\n",
       "2011-05-22    0.460162\n",
       "2011-05-29   -1.110302\n",
       "2011-06-05    0.247531\n",
       "2011-06-12   -0.717978\n",
       "2011-06-19    1.808540\n",
       "2011-06-26   -0.138522\n",
       "2011-07-03   -1.250669\n",
       "2011-07-10   -0.580899\n",
       "2011-07-17    1.007783\n",
       "2011-07-24    0.537107\n",
       "2011-07-31    0.955985\n",
       "2011-08-07   -0.907971\n",
       "2011-08-14    0.775271\n",
       "2011-08-21   -0.088135\n",
       "2011-08-28    0.707715\n",
       "2011-09-04    0.107248\n",
       "2011-09-11   -0.484873\n",
       "2011-09-18    2.304113\n",
       "2011-09-25   -0.853367\n",
       "2011-10-02    0.147607\n",
       "2011-10-09    1.072926\n",
       "2011-10-16    0.401000\n",
       "2011-10-23    0.337362\n",
       "2011-10-30   -0.489603\n",
       "2011-11-06    0.885595\n",
       "2011-11-13   -0.343568\n",
       "2011-11-20    0.537754\n",
       "2011-11-27    0.658892\n",
       "2011-12-04    0.349554\n",
       "2011-12-11    0.175205\n",
       "2011-12-18   -0.590714\n",
       "2011-12-25   -0.232662\n",
       "2012-01-01   -2.373779\n",
       "Freq: W-SUN, dtype: float64"
      ]
     },
     "execution_count": 104,
     "metadata": {},
     "output_type": "execute_result"
    }
   ],
   "source": [
    "ts2 = pd.Series(np.random.randn(len(rng2)), index=rng2)\n",
    "ts2"
   ]
  },
  {
   "cell_type": "code",
   "execution_count": 107,
   "metadata": {},
   "outputs": [
    {
     "data": {
      "text/plain": [
       "2011-11-06    0.885595\n",
       "2011-11-13   -0.343568\n",
       "2011-11-20    0.537754\n",
       "2011-11-27    0.658892\n",
       "2011-12-04    0.349554\n",
       "2011-12-11    0.175205\n",
       "2011-12-18   -0.590714\n",
       "2011-12-25   -0.232662\n",
       "Freq: W-SUN, dtype: float64"
      ]
     },
     "execution_count": 107,
     "metadata": {},
     "output_type": "execute_result"
    }
   ],
   "source": [
    "ts2[\"2011-11\":\"2011-12\"]"
   ]
  },
  {
   "cell_type": "code",
   "execution_count": 108,
   "metadata": {},
   "outputs": [
    {
     "data": {
      "text/plain": [
       "DatetimeIndex(['2019-12-29', '2019-12-30', '2019-12-31', '2020-01-01'], dtype='datetime64[ns]', freq='D')"
      ]
     },
     "execution_count": 108,
     "metadata": {},
     "output_type": "execute_result"
    }
   ],
   "source": [
    "idx = pd.date_range(start=\"2019-12-29\", freq=\"D\", periods=4)\n",
    "idx"
   ]
  },
  {
   "cell_type": "code",
   "execution_count": 110,
   "metadata": {},
   "outputs": [],
   "source": [
    "import datetime as dt"
   ]
  },
  {
   "cell_type": "code",
   "execution_count": 112,
   "metadata": {},
   "outputs": [
    {
     "data": {
      "text/plain": [
       "Timestamp('2016-10-30 00:00:00+0300', tz='Europe/Helsinki')"
      ]
     },
     "execution_count": 112,
     "metadata": {},
     "output_type": "execute_result"
    }
   ],
   "source": [
    "ts = pd.Timestamp(\"2016-10-30 00:00:00\", tz=\"Europe/Helsinki\")\n",
    "ts"
   ]
  },
  {
   "cell_type": "code",
   "execution_count": 115,
   "metadata": {},
   "outputs": [
    {
     "data": {
      "text/plain": [
       "Timestamp('2016-10-31 00:00:00+0200', tz='Europe/Helsinki')"
      ]
     },
     "execution_count": 115,
     "metadata": {},
     "output_type": "execute_result"
    }
   ],
   "source": [
    "T = ts + pd.DateOffset(days=1)\n",
    "T"
   ]
  },
  {
   "cell_type": "code",
   "execution_count": 116,
   "metadata": {},
   "outputs": [
    {
     "data": {
      "text/plain": [
       "Timestamp('2016-11-04 00:00:00+0200', tz='Europe/Helsinki')"
      ]
     },
     "execution_count": 116,
     "metadata": {},
     "output_type": "execute_result"
    }
   ],
   "source": [
    "T1 = T + pd.DateOffset(days=4)\n",
    "T1"
   ]
  },
  {
   "cell_type": "code",
   "execution_count": 117,
   "metadata": {},
   "outputs": [
    {
     "data": {
      "text/plain": [
       "Timestamp('2018-01-05 00:00:00')"
      ]
     },
     "execution_count": 117,
     "metadata": {},
     "output_type": "execute_result"
    }
   ],
   "source": [
    "friday = pd.Timestamp(\"2018-01-05\")\n",
    "friday"
   ]
  },
  {
   "cell_type": "code",
   "execution_count": 118,
   "metadata": {},
   "outputs": [],
   "source": [
    "two_business_days = 2 * pd.offsets.BDay()"
   ]
  },
  {
   "cell_type": "code",
   "execution_count": 119,
   "metadata": {},
   "outputs": [
    {
     "data": {
      "text/plain": [
       "Timestamp('2018-01-09 00:00:00')"
      ]
     },
     "execution_count": 119,
     "metadata": {},
     "output_type": "execute_result"
    }
   ],
   "source": [
    "friday + two_business_days"
   ]
  },
  {
   "cell_type": "code",
   "execution_count": 120,
   "metadata": {},
   "outputs": [
    {
     "data": {
      "text/plain": [
       "'Tuesday'"
      ]
     },
     "execution_count": 120,
     "metadata": {},
     "output_type": "execute_result"
    }
   ],
   "source": [
    "(friday + two_business_days).day_name()"
   ]
  },
  {
   "cell_type": "code",
   "execution_count": 121,
   "metadata": {},
   "outputs": [
    {
     "data": {
      "text/plain": [
       "datetime.datetime(2008, 8, 18, 9, 0)"
      ]
     },
     "execution_count": 121,
     "metadata": {},
     "output_type": "execute_result"
    }
   ],
   "source": [
    "d = datetime.datetime(2008, 8, 18, 9, 0)\n",
    "d"
   ]
  },
  {
   "cell_type": "code",
   "execution_count": 122,
   "metadata": {},
   "outputs": [
    {
     "data": {
      "text/plain": [
       "Timestamp('2008-08-25 09:00:00')"
      ]
     },
     "execution_count": 122,
     "metadata": {},
     "output_type": "execute_result"
    }
   ],
   "source": [
    "d + pd.offsets.Week()"
   ]
  },
  {
   "cell_type": "code",
   "execution_count": 123,
   "metadata": {},
   "outputs": [
    {
     "data": {
      "text/plain": [
       "Timestamp('2008-08-22 09:00:00')"
      ]
     },
     "execution_count": 123,
     "metadata": {},
     "output_type": "execute_result"
    }
   ],
   "source": [
    "d + pd.offsets.Week(weekday=4)"
   ]
  },
  {
   "cell_type": "code",
   "execution_count": 125,
   "metadata": {},
   "outputs": [
    {
     "data": {
      "text/plain": [
       "Timestamp('2008-08-24 09:00:00')"
      ]
     },
     "execution_count": 125,
     "metadata": {},
     "output_type": "execute_result"
    }
   ],
   "source": [
    "d + pd.offsets.Week(weekday=6)"
   ]
  },
  {
   "cell_type": "code",
   "execution_count": 126,
   "metadata": {},
   "outputs": [
    {
     "data": {
      "text/plain": [
       "Timestamp('2008-08-11 09:00:00')"
      ]
     },
     "execution_count": 126,
     "metadata": {},
     "output_type": "execute_result"
    }
   ],
   "source": [
    "d - pd.offsets.Week()"
   ]
  },
  {
   "cell_type": "code",
   "execution_count": 127,
   "metadata": {},
   "outputs": [
    {
     "data": {
      "text/plain": [
       "Timestamp('2008-12-31 09:00:00')"
      ]
     },
     "execution_count": 127,
     "metadata": {},
     "output_type": "execute_result"
    }
   ],
   "source": [
    "d + pd.offsets.YearEnd()"
   ]
  },
  {
   "cell_type": "code",
   "execution_count": 128,
   "metadata": {},
   "outputs": [
    {
     "data": {
      "text/plain": [
       "Timestamp('2009-06-30 09:00:00')"
      ]
     },
     "execution_count": 128,
     "metadata": {},
     "output_type": "execute_result"
    }
   ],
   "source": [
    "d + pd.offsets.YearEnd(month=6)"
   ]
  },
  {
   "cell_type": "code",
   "execution_count": 4,
   "metadata": {},
   "outputs": [],
   "source": [
    "import pandas as pd"
   ]
  },
  {
   "cell_type": "code",
   "execution_count": 5,
   "metadata": {},
   "outputs": [
    {
     "data": {
      "text/plain": [
       "DatetimeIndex(['2012-01-01', '2012-01-02', '2012-01-03'], dtype='datetime64[ns]', freq='D')"
      ]
     },
     "execution_count": 5,
     "metadata": {},
     "output_type": "execute_result"
    }
   ],
   "source": [
    "rng = pd.date_range(\"2012-01-01\", \"2012-01-03\")\n",
    "rng"
   ]
  },
  {
   "cell_type": "code",
   "execution_count": 6,
   "metadata": {},
   "outputs": [
    {
     "data": {
      "text/plain": [
       "0   2012-01-01\n",
       "1   2012-01-02\n",
       "2   2012-01-03\n",
       "dtype: datetime64[ns]"
      ]
     },
     "execution_count": 6,
     "metadata": {},
     "output_type": "execute_result"
    }
   ],
   "source": [
    "s = pd.Series(rng)\n",
    "s"
   ]
  },
  {
   "cell_type": "code",
   "execution_count": 7,
   "metadata": {},
   "outputs": [
    {
     "data": {
      "text/plain": [
       "DatetimeIndex(['2012-03-01', '2012-03-02', '2012-03-03'], dtype='datetime64[ns]', freq='D')"
      ]
     },
     "execution_count": 7,
     "metadata": {},
     "output_type": "execute_result"
    }
   ],
   "source": [
    "rng + pd.DateOffset(months=2)"
   ]
  },
  {
   "cell_type": "code",
   "execution_count": 8,
   "metadata": {},
   "outputs": [
    {
     "data": {
      "text/plain": [
       "DatetimeIndex(['2012-05-01', '2012-05-02', '2012-05-03'], dtype='datetime64[ns]', freq='D')"
      ]
     },
     "execution_count": 8,
     "metadata": {},
     "output_type": "execute_result"
    }
   ],
   "source": [
    "rng + pd.DateOffset(months=4)"
   ]
  },
  {
   "cell_type": "code",
   "execution_count": 9,
   "metadata": {},
   "outputs": [
    {
     "data": {
      "text/plain": [
       "0   2012-03-01\n",
       "1   2012-03-02\n",
       "2   2012-03-03\n",
       "dtype: datetime64[ns]"
      ]
     },
     "execution_count": 9,
     "metadata": {},
     "output_type": "execute_result"
    }
   ],
   "source": [
    "s + pd.DateOffset(months=2)"
   ]
  },
  {
   "cell_type": "code",
   "execution_count": 10,
   "metadata": {},
   "outputs": [
    {
     "data": {
      "text/plain": [
       "0   2011-11-01\n",
       "1   2011-11-02\n",
       "2   2011-11-03\n",
       "dtype: datetime64[ns]"
      ]
     },
     "execution_count": 10,
     "metadata": {},
     "output_type": "execute_result"
    }
   ],
   "source": [
    " s - pd.DateOffset(months=2)"
   ]
  },
  {
   "cell_type": "code",
   "execution_count": 11,
   "metadata": {},
   "outputs": [
    {
     "data": {
      "text/plain": [
       "0   2012-01-01\n",
       "1   2012-01-02\n",
       "2   2012-01-03\n",
       "dtype: datetime64[ns]"
      ]
     },
     "execution_count": 11,
     "metadata": {},
     "output_type": "execute_result"
    }
   ],
   "source": [
    "s"
   ]
  },
  {
   "cell_type": "code",
   "execution_count": 12,
   "metadata": {},
   "outputs": [
    {
     "data": {
      "text/plain": [
       "0   2011-12-30\n",
       "1   2011-12-31\n",
       "2   2012-01-01\n",
       "dtype: datetime64[ns]"
      ]
     },
     "execution_count": 12,
     "metadata": {},
     "output_type": "execute_result"
    }
   ],
   "source": [
    "s - pd.offsets.Day(2)"
   ]
  },
  {
   "cell_type": "code",
   "execution_count": 13,
   "metadata": {},
   "outputs": [
    {
     "data": {
      "text/plain": [
       "0   2011-12-26\n",
       "1   2011-12-27\n",
       "2   2011-12-28\n",
       "dtype: datetime64[ns]"
      ]
     },
     "execution_count": 13,
     "metadata": {},
     "output_type": "execute_result"
    }
   ],
   "source": [
    "s - pd.offsets.Day(6)"
   ]
  },
  {
   "cell_type": "code",
   "execution_count": 14,
   "metadata": {},
   "outputs": [
    {
     "data": {
      "text/plain": [
       "0   2012-01-01\n",
       "1   2012-01-02\n",
       "2   2012-01-03\n",
       "dtype: datetime64[ns]"
      ]
     },
     "execution_count": 14,
     "metadata": {},
     "output_type": "execute_result"
    }
   ],
   "source": [
    "s"
   ]
  },
  {
   "cell_type": "code",
   "execution_count": 15,
   "metadata": {},
   "outputs": [
    {
     "data": {
      "text/plain": [
       "0   7 days\n",
       "1   7 days\n",
       "2   7 days\n",
       "dtype: timedelta64[ns]"
      ]
     },
     "execution_count": 15,
     "metadata": {},
     "output_type": "execute_result"
    }
   ],
   "source": [
    "td = s - pd.Series(pd.date_range(\"2011-12-25\", \"2011-12-27\"))\n",
    "td"
   ]
  },
  {
   "cell_type": "code",
   "execution_count": 16,
   "metadata": {},
   "outputs": [
    {
     "data": {
      "text/plain": [
       "0   7 days 00:15:00\n",
       "1   7 days 00:15:00\n",
       "2   7 days 00:15:00\n",
       "dtype: timedelta64[ns]"
      ]
     },
     "execution_count": 16,
     "metadata": {},
     "output_type": "execute_result"
    }
   ],
   "source": [
    "td + pd.offsets.Minute(15)"
   ]
  },
  {
   "cell_type": "code",
   "execution_count": 17,
   "metadata": {},
   "outputs": [
    {
     "data": {
      "text/html": [
       "<div>\n",
       "<style scoped>\n",
       "    .dataframe tbody tr th:only-of-type {\n",
       "        vertical-align: middle;\n",
       "    }\n",
       "\n",
       "    .dataframe tbody tr th {\n",
       "        vertical-align: top;\n",
       "    }\n",
       "\n",
       "    .dataframe thead th {\n",
       "        text-align: right;\n",
       "    }\n",
       "</style>\n",
       "<table border=\"1\" class=\"dataframe\">\n",
       "  <thead>\n",
       "    <tr style=\"text-align: right;\">\n",
       "      <th></th>\n",
       "      <th>0</th>\n",
       "    </tr>\n",
       "  </thead>\n",
       "  <tbody>\n",
       "    <tr>\n",
       "      <th>0</th>\n",
       "      <td>2012-01-01</td>\n",
       "    </tr>\n",
       "    <tr>\n",
       "      <th>1</th>\n",
       "      <td>2012-01-02</td>\n",
       "    </tr>\n",
       "    <tr>\n",
       "      <th>2</th>\n",
       "      <td>2012-01-03</td>\n",
       "    </tr>\n",
       "  </tbody>\n",
       "</table>\n",
       "</div>"
      ],
      "text/plain": [
       "           0\n",
       "0 2012-01-01\n",
       "1 2012-01-02\n",
       "2 2012-01-03"
      ]
     },
     "execution_count": 17,
     "metadata": {},
     "output_type": "execute_result"
    }
   ],
   "source": [
    "s1 = s.to_frame()\n",
    "s1"
   ]
  },
  {
   "cell_type": "code",
   "execution_count": 18,
   "metadata": {},
   "outputs": [
    {
     "data": {
      "text/html": [
       "<div>\n",
       "<style scoped>\n",
       "    .dataframe tbody tr th:only-of-type {\n",
       "        vertical-align: middle;\n",
       "    }\n",
       "\n",
       "    .dataframe tbody tr th {\n",
       "        vertical-align: top;\n",
       "    }\n",
       "\n",
       "    .dataframe thead th {\n",
       "        text-align: right;\n",
       "    }\n",
       "</style>\n",
       "<table border=\"1\" class=\"dataframe\">\n",
       "  <thead>\n",
       "    <tr style=\"text-align: right;\">\n",
       "      <th></th>\n",
       "      <th>0</th>\n",
       "    </tr>\n",
       "  </thead>\n",
       "  <tbody>\n",
       "    <tr>\n",
       "      <th>0</th>\n",
       "      <td>2012-01-01 00:15:00</td>\n",
       "    </tr>\n",
       "    <tr>\n",
       "      <th>1</th>\n",
       "      <td>2012-01-02 00:15:00</td>\n",
       "    </tr>\n",
       "    <tr>\n",
       "      <th>2</th>\n",
       "      <td>2012-01-03 00:15:00</td>\n",
       "    </tr>\n",
       "  </tbody>\n",
       "</table>\n",
       "</div>"
      ],
      "text/plain": [
       "                    0\n",
       "0 2012-01-01 00:15:00\n",
       "1 2012-01-02 00:15:00\n",
       "2 2012-01-03 00:15:00"
      ]
     },
     "execution_count": 18,
     "metadata": {},
     "output_type": "execute_result"
    }
   ],
   "source": [
    "s1 + pd.offsets.Minute(15)"
   ]
  },
  {
   "cell_type": "code",
   "execution_count": 19,
   "metadata": {},
   "outputs": [
    {
     "data": {
      "text/plain": [
       "DatetimeIndex(['2012-01-01', '2012-01-02', '2012-01-03'], dtype='datetime64[ns]', freq='D')"
      ]
     },
     "execution_count": 19,
     "metadata": {},
     "output_type": "execute_result"
    }
   ],
   "source": [
    "rng = pd.date_range(\"2012-01-01\", \"2012-01-03\")\n",
    "rng"
   ]
  },
  {
   "cell_type": "code",
   "execution_count": 20,
   "metadata": {},
   "outputs": [
    {
     "data": {
      "text/plain": [
       "0   2012-01-01\n",
       "1   2012-01-02\n",
       "2   2012-01-03\n",
       "dtype: datetime64[ns]"
      ]
     },
     "execution_count": 20,
     "metadata": {},
     "output_type": "execute_result"
    }
   ],
   "source": [
    "s = pd.Series(rng)\n",
    "s"
   ]
  },
  {
   "cell_type": "code",
   "execution_count": 21,
   "metadata": {},
   "outputs": [
    {
     "data": {
      "text/plain": [
       "DatetimeIndex(['2012-03-01', '2012-03-02', '2012-03-03'], dtype='datetime64[ns]', freq='D')"
      ]
     },
     "execution_count": 21,
     "metadata": {},
     "output_type": "execute_result"
    }
   ],
   "source": [
    "rng + pd.DateOffset(months=2)"
   ]
  },
  {
   "cell_type": "code",
   "execution_count": 22,
   "metadata": {},
   "outputs": [
    {
     "data": {
      "text/plain": [
       "0   2012-03-01\n",
       "1   2012-03-02\n",
       "2   2012-03-03\n",
       "dtype: datetime64[ns]"
      ]
     },
     "execution_count": 22,
     "metadata": {},
     "output_type": "execute_result"
    }
   ],
   "source": [
    "s + pd.DateOffset(months=2)"
   ]
  },
  {
   "cell_type": "code",
   "execution_count": 23,
   "metadata": {},
   "outputs": [
    {
     "data": {
      "text/plain": [
       "0   2012-01-01\n",
       "1   2012-01-02\n",
       "2   2012-01-03\n",
       "dtype: datetime64[ns]"
      ]
     },
     "execution_count": 23,
     "metadata": {},
     "output_type": "execute_result"
    }
   ],
   "source": [
    "s"
   ]
  },
  {
   "cell_type": "code",
   "execution_count": 24,
   "metadata": {},
   "outputs": [
    {
     "data": {
      "text/plain": [
       "0   2011-12-01\n",
       "1   2011-12-02\n",
       "2   2011-12-03\n",
       "dtype: datetime64[ns]"
      ]
     },
     "execution_count": 24,
     "metadata": {},
     "output_type": "execute_result"
    }
   ],
   "source": [
    "s - pd.DateOffset(months=1)"
   ]
  },
  {
   "cell_type": "code",
   "execution_count": 25,
   "metadata": {},
   "outputs": [
    {
     "data": {
      "text/plain": [
       "0   2012-01-01\n",
       "1   2012-01-02\n",
       "2   2012-01-03\n",
       "dtype: datetime64[ns]"
      ]
     },
     "execution_count": 25,
     "metadata": {},
     "output_type": "execute_result"
    }
   ],
   "source": [
    "s"
   ]
  },
  {
   "cell_type": "code",
   "execution_count": 26,
   "metadata": {},
   "outputs": [
    {
     "data": {
      "text/plain": [
       "0   2011-09-01\n",
       "1   2011-09-02\n",
       "2   2011-09-03\n",
       "dtype: datetime64[ns]"
      ]
     },
     "execution_count": 26,
     "metadata": {},
     "output_type": "execute_result"
    }
   ],
   "source": [
    "s - pd.DateOffset(months=4)"
   ]
  },
  {
   "cell_type": "code",
   "execution_count": 27,
   "metadata": {},
   "outputs": [
    {
     "data": {
      "text/plain": [
       "0   2011-12-30\n",
       "1   2011-12-31\n",
       "2   2012-01-01\n",
       "dtype: datetime64[ns]"
      ]
     },
     "execution_count": 27,
     "metadata": {},
     "output_type": "execute_result"
    }
   ],
   "source": [
    "s - pd.offsets.Day(2)"
   ]
  },
  {
   "cell_type": "code",
   "execution_count": 28,
   "metadata": {},
   "outputs": [
    {
     "data": {
      "text/plain": [
       "0   3 days\n",
       "1   3 days\n",
       "2   3 days\n",
       "dtype: timedelta64[ns]"
      ]
     },
     "execution_count": 28,
     "metadata": {},
     "output_type": "execute_result"
    }
   ],
   "source": [
    "td = s - pd.Series(pd.date_range(\"2011-12-29\", \"2011-12-31\"))\n",
    "td"
   ]
  },
  {
   "cell_type": "code",
   "execution_count": 29,
   "metadata": {},
   "outputs": [
    {
     "data": {
      "text/plain": [
       "0   3 days 00:15:00\n",
       "1   3 days 00:15:00\n",
       "2   3 days 00:15:00\n",
       "dtype: timedelta64[ns]"
      ]
     },
     "execution_count": 29,
     "metadata": {},
     "output_type": "execute_result"
    }
   ],
   "source": [
    "td + pd.offsets.Minute(15)"
   ]
  },
  {
   "cell_type": "code",
   "execution_count": 30,
   "metadata": {},
   "outputs": [
    {
     "data": {
      "text/plain": [
       "DatetimeIndex(['2012-01-01', '2012-01-02', '2012-01-03'], dtype='datetime64[ns]', freq='D')"
      ]
     },
     "execution_count": 30,
     "metadata": {},
     "output_type": "execute_result"
    }
   ],
   "source": [
    "rng"
   ]
  },
  {
   "cell_type": "code",
   "execution_count": 31,
   "metadata": {},
   "outputs": [
    {
     "data": {
      "text/plain": [
       "DatetimeIndex(['2012-03-30', '2012-03-30', '2012-03-30'], dtype='datetime64[ns]', freq='D')"
      ]
     },
     "execution_count": 31,
     "metadata": {},
     "output_type": "execute_result"
    }
   ],
   "source": [
    "rng + pd.offsets.BQuarterEnd()"
   ]
  },
  {
   "cell_type": "code",
   "execution_count": 32,
   "metadata": {},
   "outputs": [
    {
     "data": {
      "text/plain": [
       "0   3 days 00:45:00\n",
       "1   3 days 00:45:00\n",
       "2   3 days 00:45:00\n",
       "dtype: timedelta64[ns]"
      ]
     },
     "execution_count": 32,
     "metadata": {},
     "output_type": "execute_result"
    }
   ],
   "source": [
    "td + pd.offsets.Minute(45)"
   ]
  },
  {
   "cell_type": "code",
   "execution_count": 33,
   "metadata": {},
   "outputs": [
    {
     "data": {
      "text/plain": [
       "DatetimeIndex(['2012-03-30', '2012-03-30', '2012-03-30'], dtype='datetime64[ns]', freq='D')"
      ]
     },
     "execution_count": 33,
     "metadata": {},
     "output_type": "execute_result"
    }
   ],
   "source": [
    "rng + pd.offsets.BQuarterEnd()"
   ]
  },
  {
   "cell_type": "code",
   "execution_count": 34,
   "metadata": {},
   "outputs": [
    {
     "data": {
      "text/plain": [
       "<BusinessHour: BH=09:00-17:00>"
      ]
     },
     "execution_count": 34,
     "metadata": {},
     "output_type": "execute_result"
    }
   ],
   "source": [
    "bh = pd.offsets.BusinessHour()\n",
    "bh"
   ]
  },
  {
   "cell_type": "code",
   "execution_count": 35,
   "metadata": {},
   "outputs": [
    {
     "data": {
      "text/plain": [
       "4"
      ]
     },
     "execution_count": 35,
     "metadata": {},
     "output_type": "execute_result"
    }
   ],
   "source": [
    "pd.Timestamp(\"2014-08-01 10:00\").weekday()"
   ]
  },
  {
   "cell_type": "code",
   "execution_count": 36,
   "metadata": {},
   "outputs": [
    {
     "data": {
      "text/plain": [
       "Timestamp('2014-08-01 11:00:00')"
      ]
     },
     "execution_count": 36,
     "metadata": {},
     "output_type": "execute_result"
    }
   ],
   "source": [
    "pd.Timestamp(\"2014-08-01 10:00\") + bh"
   ]
  },
  {
   "cell_type": "code",
   "execution_count": 37,
   "metadata": {},
   "outputs": [
    {
     "data": {
      "text/plain": [
       "Timestamp('2014-08-01 10:00:00')"
      ]
     },
     "execution_count": 37,
     "metadata": {},
     "output_type": "execute_result"
    }
   ],
   "source": [
    "# Below example is the same as: pd.Timestamp('2014-08-01 09:00') + bh\n",
    "pd.Timestamp(\"2014-08-01 08:00\") + bh"
   ]
  },
  {
   "cell_type": "code",
   "execution_count": 40,
   "metadata": {},
   "outputs": [
    {
     "data": {
      "text/plain": [
       "Timestamp('2014-08-04 09:00:00')"
      ]
     },
     "execution_count": 40,
     "metadata": {},
     "output_type": "execute_result"
    }
   ],
   "source": [
    "# If the results is on the end time, move to the next business day\n",
    "pd.Timestamp(\"2014-08-01 16:00\") + bh"
   ]
  },
  {
   "cell_type": "code",
   "execution_count": 41,
   "metadata": {},
   "outputs": [
    {
     "data": {
      "text/plain": [
       "Timestamp('2014-08-04 09:30:00')"
      ]
     },
     "execution_count": 41,
     "metadata": {},
     "output_type": "execute_result"
    }
   ],
   "source": [
    "pd.Timestamp(\"2014-08-01 16:30\") + bh"
   ]
  },
  {
   "cell_type": "code",
   "execution_count": 42,
   "metadata": {},
   "outputs": [
    {
     "data": {
      "text/plain": [
       "Timestamp('2014-08-01 12:00:00')"
      ]
     },
     "execution_count": 42,
     "metadata": {},
     "output_type": "execute_result"
    }
   ],
   "source": [
    "pd.Timestamp(\"2014-08-01 10:00\") + pd.offsets.BusinessHour(2)"
   ]
  },
  {
   "cell_type": "code",
   "execution_count": 43,
   "metadata": {},
   "outputs": [
    {
     "data": {
      "text/plain": [
       "Timestamp('2014-08-01 14:00:00')"
      ]
     },
     "execution_count": 43,
     "metadata": {},
     "output_type": "execute_result"
    }
   ],
   "source": [
    "pd.Timestamp(\"2014-08-01 10:00\") + pd.offsets.BusinessHour(4)"
   ]
  },
  {
   "cell_type": "code",
   "execution_count": 44,
   "metadata": {},
   "outputs": [
    {
     "data": {
      "text/plain": [
       "Timestamp('2014-07-31 15:00:00')"
      ]
     },
     "execution_count": 44,
     "metadata": {},
     "output_type": "execute_result"
    }
   ],
   "source": [
    "pd.Timestamp(\"2014-08-01 10:00\") + pd.offsets.BusinessHour(-3)"
   ]
  },
  {
   "cell_type": "code",
   "execution_count": 46,
   "metadata": {},
   "outputs": [],
   "source": [
    "import datetime"
   ]
  },
  {
   "cell_type": "code",
   "execution_count": 47,
   "metadata": {},
   "outputs": [],
   "source": [
    "bh = pd.offsets.BusinessHour(start=\"11:00\", end=datetime.time(20, 0))"
   ]
  },
  {
   "cell_type": "code",
   "execution_count": 48,
   "metadata": {},
   "outputs": [
    {
     "data": {
      "text/plain": [
       "Timestamp('2014-08-01 14:00:00')"
      ]
     },
     "execution_count": 48,
     "metadata": {},
     "output_type": "execute_result"
    }
   ],
   "source": [
    "pd.Timestamp(\"2014-08-01 13:00\") + bh"
   ]
  },
  {
   "cell_type": "code",
   "execution_count": 49,
   "metadata": {},
   "outputs": [
    {
     "data": {
      "text/plain": [
       "Timestamp('2014-08-01 19:00:00')"
      ]
     },
     "execution_count": 49,
     "metadata": {},
     "output_type": "execute_result"
    }
   ],
   "source": [
    "pd.Timestamp(\"2014-08-01 18:00\") + bh"
   ]
  },
  {
   "cell_type": "code",
   "execution_count": 50,
   "metadata": {},
   "outputs": [
    {
     "data": {
      "text/plain": [
       "Timestamp('2014-08-01 12:00:00')"
      ]
     },
     "execution_count": 50,
     "metadata": {},
     "output_type": "execute_result"
    }
   ],
   "source": [
    "pd.Timestamp(\"2014-08-01 08:00\") + bh"
   ]
  },
  {
   "cell_type": "code",
   "execution_count": 51,
   "metadata": {},
   "outputs": [
    {
     "data": {
      "text/plain": [
       "Timestamp('2014-08-01 19:00:00')"
      ]
     },
     "execution_count": 51,
     "metadata": {},
     "output_type": "execute_result"
    }
   ],
   "source": [
    "pd.Timestamp(\"2014-08-01 18:00\") + bh"
   ]
  },
  {
   "cell_type": "code",
   "execution_count": 52,
   "metadata": {},
   "outputs": [],
   "source": [
    "bh = pd.offsets.BusinessHour(start=\"17:00\", end=\"09:00\")"
   ]
  },
  {
   "cell_type": "code",
   "execution_count": 53,
   "metadata": {},
   "outputs": [
    {
     "data": {
      "text/plain": [
       "Timestamp('2014-08-01 18:00:00')"
      ]
     },
     "execution_count": 53,
     "metadata": {},
     "output_type": "execute_result"
    }
   ],
   "source": [
    "pd.Timestamp(\"2014-08-01 17:00\") + bh"
   ]
  },
  {
   "cell_type": "code",
   "execution_count": 56,
   "metadata": {},
   "outputs": [
    {
     "data": {
      "text/plain": [
       "Timestamp('2014-08-02 00:00:00')"
      ]
     },
     "execution_count": 56,
     "metadata": {},
     "output_type": "execute_result"
    }
   ],
   "source": [
    "pd.Timestamp(\"2014-08-01 23:00\") + bh"
   ]
  },
  {
   "cell_type": "code",
   "execution_count": 57,
   "metadata": {},
   "outputs": [
    {
     "data": {
      "text/plain": [
       "Timestamp('2014-08-02 05:00:00')"
      ]
     },
     "execution_count": 57,
     "metadata": {},
     "output_type": "execute_result"
    }
   ],
   "source": [
    "# Although 2014-08-02 is Saturday,\n",
    "# it is valid because it starts from 08-01 (Friday).\n",
    "pd.Timestamp(\"2014-08-02 04:00\") + bh"
   ]
  },
  {
   "cell_type": "code",
   "execution_count": 58,
   "metadata": {},
   "outputs": [
    {
     "data": {
      "text/plain": [
       "Timestamp('2014-08-04 18:00:00')"
      ]
     },
     "execution_count": 58,
     "metadata": {},
     "output_type": "execute_result"
    }
   ],
   "source": [
    "# Although 2014-08-04 is Monday,\n",
    "# it is out of business hours because it starts from 08-03 (Sunday).\n",
    "#start of business day is at 5\n",
    "pd.Timestamp(\"2014-08-04 04:00\") + bh"
   ]
  },
  {
   "cell_type": "code",
   "execution_count": 4,
   "metadata": {},
   "outputs": [],
   "source": [
    "import pandas as pd"
   ]
  },
  {
   "cell_type": "code",
   "execution_count": 5,
   "metadata": {},
   "outputs": [],
   "source": [
    "start = '2011-01-04'"
   ]
  },
  {
   "cell_type": "code",
   "execution_count": 6,
   "metadata": {},
   "outputs": [
    {
     "data": {
      "text/plain": [
       "DatetimeIndex(['2011-01-04', '2011-01-05', '2011-01-06', '2011-01-07',\n",
       "               '2011-01-10'],\n",
       "              dtype='datetime64[ns]', freq='B')"
      ]
     },
     "execution_count": 6,
     "metadata": {},
     "output_type": "execute_result"
    }
   ],
   "source": [
    "pd.date_range(start, periods=5, freq=\"B\")"
   ]
  },
  {
   "cell_type": "code",
   "execution_count": 7,
   "metadata": {},
   "outputs": [
    {
     "data": {
      "text/plain": [
       "DatetimeIndex(['2011-01-04', '2011-01-05', '2011-01-06', '2011-01-07',\n",
       "               '2011-01-10'],\n",
       "              dtype='datetime64[ns]', freq='B')"
      ]
     },
     "execution_count": 7,
     "metadata": {},
     "output_type": "execute_result"
    }
   ],
   "source": [
    "pd.date_range(start, periods=5, freq=pd.offsets.BDay())"
   ]
  },
  {
   "cell_type": "code",
   "execution_count": 8,
   "metadata": {},
   "outputs": [
    {
     "data": {
      "text/plain": [
       "DatetimeIndex(['2011-01-04 00:00:00', '2011-01-04 02:20:00',\n",
       "               '2011-01-04 04:40:00', '2011-01-04 07:00:00',\n",
       "               '2011-01-04 09:20:00', '2011-01-04 11:40:00',\n",
       "               '2011-01-04 14:00:00', '2011-01-04 16:20:00',\n",
       "               '2011-01-04 18:40:00', '2011-01-04 21:00:00'],\n",
       "              dtype='datetime64[ns]', freq='140T')"
      ]
     },
     "execution_count": 8,
     "metadata": {},
     "output_type": "execute_result"
    }
   ],
   "source": [
    "#You can combine together day and intraday offsets:\n",
    "pd.date_range(start, periods=10, freq=\"2h20min\")"
   ]
  },
  {
   "cell_type": "code",
   "execution_count": 9,
   "metadata": {},
   "outputs": [
    {
     "data": {
      "text/plain": [
       "DatetimeIndex([       '2011-01-04 00:00:00', '2011-01-05 00:00:00.000010',\n",
       "               '2011-01-06 00:00:00.000020', '2011-01-07 00:00:00.000030',\n",
       "               '2011-01-08 00:00:00.000040', '2011-01-09 00:00:00.000050',\n",
       "               '2011-01-10 00:00:00.000060', '2011-01-11 00:00:00.000070',\n",
       "               '2011-01-12 00:00:00.000080', '2011-01-13 00:00:00.000090'],\n",
       "              dtype='datetime64[ns]', freq='86400000010U')"
      ]
     },
     "execution_count": 9,
     "metadata": {},
     "output_type": "execute_result"
    }
   ],
   "source": [
    "pd.date_range(start, periods=10, freq=\"1D10U\")"
   ]
  },
  {
   "cell_type": "code",
   "execution_count": 10,
   "metadata": {},
   "outputs": [
    {
     "data": {
      "text/plain": [
       "DatetimeIndex(['2011-01-07', '2011-01-14', '2011-01-21', '2011-01-28',\n",
       "               '2011-02-04', '2011-02-11', '2011-02-18', '2011-02-25',\n",
       "               '2011-03-04', '2011-03-11'],\n",
       "              dtype='datetime64[ns]', freq='W-FRI')"
      ]
     },
     "execution_count": 10,
     "metadata": {},
     "output_type": "execute_result"
    }
   ],
   "source": [
    "pd.date_range(start, periods=10, freq=\"W-FRI\")"
   ]
  },
  {
   "cell_type": "code",
   "execution_count": 11,
   "metadata": {},
   "outputs": [
    {
     "data": {
      "text/plain": [
       "DatetimeIndex(['2011-03-01', '2011-06-01', '2011-09-01', '2011-12-01',\n",
       "               '2012-03-01', '2012-06-01', '2012-09-03', '2012-12-03',\n",
       "               '2013-03-01', '2013-06-03'],\n",
       "              dtype='datetime64[ns]', freq='BQS-DEC')"
      ]
     },
     "execution_count": 11,
     "metadata": {},
     "output_type": "execute_result"
    }
   ],
   "source": [
    "pd.date_range(start, periods=10, freq=\"BQS-DEC\")"
   ]
  },
  {
   "cell_type": "code",
   "execution_count": 14,
   "metadata": {},
   "outputs": [
    {
     "data": {
      "text/plain": [
       "DatetimeIndex(['2011-02-01', '2011-05-02', '2011-08-01', '2011-11-01',\n",
       "               '2012-02-01', '2012-05-01', '2012-08-01', '2012-11-01',\n",
       "               '2013-02-01', '2013-05-01'],\n",
       "              dtype='datetime64[ns]', freq='BQS-FEB')"
      ]
     },
     "execution_count": 14,
     "metadata": {},
     "output_type": "execute_result"
    }
   ],
   "source": [
    "pd.date_range(start, periods=10, freq=\"BQS-FEB\")"
   ]
  },
  {
   "cell_type": "code",
   "execution_count": 18,
   "metadata": {},
   "outputs": [
    {
     "data": {
      "text/plain": [
       "Timestamp('2014-02-01 00:00:00')"
      ]
     },
     "execution_count": 18,
     "metadata": {},
     "output_type": "execute_result"
    }
   ],
   "source": [
    "pd.Timestamp(\"2014-01-02\") + pd.offsets.MonthBegin(n=1)"
   ]
  },
  {
   "cell_type": "code",
   "execution_count": 19,
   "metadata": {},
   "outputs": [
    {
     "data": {
      "text/plain": [
       "Timestamp('2014-04-01 00:00:00')"
      ]
     },
     "execution_count": 19,
     "metadata": {},
     "output_type": "execute_result"
    }
   ],
   "source": [
    "pd.Timestamp(\"2014-01-02\") + pd.offsets.MonthBegin(n=3)"
   ]
  },
  {
   "cell_type": "code",
   "execution_count": 20,
   "metadata": {},
   "outputs": [
    {
     "data": {
      "text/plain": [
       "Timestamp('2014-02-28 00:00:00')"
      ]
     },
     "execution_count": 20,
     "metadata": {},
     "output_type": "execute_result"
    }
   ],
   "source": [
    "pd.Timestamp(\"2014-01-02\") + pd.offsets.MonthEnd(n=2)"
   ]
  },
  {
   "cell_type": "code",
   "execution_count": 21,
   "metadata": {},
   "outputs": [
    {
     "data": {
      "text/plain": [
       "Timestamp('2014-04-30 00:00:00')"
      ]
     },
     "execution_count": 21,
     "metadata": {},
     "output_type": "execute_result"
    }
   ],
   "source": [
    "pd.Timestamp(\"2014-01-02\") + pd.offsets.MonthEnd(n=4)"
   ]
  },
  {
   "cell_type": "code",
   "execution_count": 22,
   "metadata": {},
   "outputs": [
    {
     "data": {
      "text/plain": [
       "Timestamp('2014-06-30 00:00:00')"
      ]
     },
     "execution_count": 22,
     "metadata": {},
     "output_type": "execute_result"
    }
   ],
   "source": [
    "pd.Timestamp(\"2014-01-02\") + pd.offsets.MonthEnd(n=6)"
   ]
  },
  {
   "cell_type": "code",
   "execution_count": 23,
   "metadata": {},
   "outputs": [
    {
     "data": {
      "text/plain": [
       "Timestamp('2014-09-01 00:00:00')"
      ]
     },
     "execution_count": 23,
     "metadata": {},
     "output_type": "execute_result"
    }
   ],
   "source": [
    "pd.Timestamp(\"2014-01-02\") + pd.offsets.MonthBegin(n=8)"
   ]
  },
  {
   "cell_type": "code",
   "execution_count": 24,
   "metadata": {},
   "outputs": [
    {
     "data": {
      "text/plain": [
       "Timestamp('2013-10-01 00:00:00')"
      ]
     },
     "execution_count": 24,
     "metadata": {},
     "output_type": "execute_result"
    }
   ],
   "source": [
    "pd.Timestamp(\"2014-01-01\") - pd.offsets.MonthBegin(n=3)"
   ]
  },
  {
   "cell_type": "code",
   "execution_count": 25,
   "metadata": {},
   "outputs": [
    {
     "data": {
      "text/plain": [
       "Timestamp('2014-01-31 00:00:00')"
      ]
     },
     "execution_count": 25,
     "metadata": {},
     "output_type": "execute_result"
    }
   ],
   "source": [
    "pd.Timestamp(\"2014-01-31\") + pd.offsets.MonthEnd(n=0)"
   ]
  },
  {
   "cell_type": "markdown",
   "metadata": {},
   "source": [
    "Time series-related instance methods"
   ]
  },
  {
   "cell_type": "code",
   "execution_count": 26,
   "metadata": {},
   "outputs": [
    {
     "data": {
      "text/plain": [
       "DatetimeIndex(['2012-01-01', '2012-01-02', '2012-01-03'], dtype='datetime64[ns]', freq='D')"
      ]
     },
     "execution_count": 26,
     "metadata": {},
     "output_type": "execute_result"
    }
   ],
   "source": [
    "rng = pd.date_range(\"2012-01-01\", \"2012-01-03\")\n",
    "rng"
   ]
  },
  {
   "cell_type": "code",
   "execution_count": 27,
   "metadata": {},
   "outputs": [
    {
     "data": {
      "text/plain": [
       "2012-01-01    0\n",
       "2012-01-02    1\n",
       "2012-01-03    2\n",
       "Freq: D, dtype: int64"
      ]
     },
     "execution_count": 27,
     "metadata": {},
     "output_type": "execute_result"
    }
   ],
   "source": [
    "ts = pd.Series(range(len(rng)), index=rng)\n",
    "ts"
   ]
  },
  {
   "cell_type": "code",
   "execution_count": 28,
   "metadata": {},
   "outputs": [
    {
     "data": {
      "text/plain": [
       "2012-01-01    0\n",
       "2012-01-02    1\n",
       "2012-01-03    2\n",
       "Freq: D, dtype: int64"
      ]
     },
     "execution_count": 28,
     "metadata": {},
     "output_type": "execute_result"
    }
   ],
   "source": [
    "ts = ts[:5]\n",
    "ts"
   ]
  },
  {
   "cell_type": "code",
   "execution_count": 29,
   "metadata": {},
   "outputs": [
    {
     "data": {
      "text/plain": [
       "2012-01-01    NaN\n",
       "2012-01-02    0.0\n",
       "2012-01-03    1.0\n",
       "Freq: D, dtype: float64"
      ]
     },
     "execution_count": 29,
     "metadata": {},
     "output_type": "execute_result"
    }
   ],
   "source": [
    "ts.shift(1)"
   ]
  },
  {
   "cell_type": "code",
   "execution_count": 30,
   "metadata": {},
   "outputs": [
    {
     "data": {
      "text/plain": [
       "2012-01-06    0\n",
       "2012-01-07    1\n",
       "2012-01-08    2\n",
       "Freq: D, dtype: int64"
      ]
     },
     "execution_count": 30,
     "metadata": {},
     "output_type": "execute_result"
    }
   ],
   "source": [
    "ts.shift(5, freq=\"D\")"
   ]
  },
  {
   "cell_type": "code",
   "execution_count": 32,
   "metadata": {},
   "outputs": [
    {
     "data": {
      "text/plain": [
       "DatetimeIndex(['2012-01-01', '2012-01-02', '2012-01-03'], dtype='datetime64[ns]', freq='D')"
      ]
     },
     "execution_count": 32,
     "metadata": {},
     "output_type": "execute_result"
    }
   ],
   "source": [
    "rng"
   ]
  },
  {
   "cell_type": "code",
   "execution_count": 31,
   "metadata": {},
   "outputs": [
    {
     "data": {
      "text/plain": [
       "DatetimeIndex(['2012-01-11', '2012-01-12', '2012-01-13'], dtype='datetime64[ns]', freq='D')"
      ]
     },
     "execution_count": 31,
     "metadata": {},
     "output_type": "execute_result"
    }
   ],
   "source": [
    "rng.shift(10,freq=\"D\")"
   ]
  },
  {
   "cell_type": "code",
   "execution_count": 33,
   "metadata": {},
   "outputs": [
    {
     "data": {
      "text/plain": [
       "DatetimeIndex(['2012-01-01', '2012-01-02', '2012-01-03', '2012-01-04',\n",
       "               '2012-01-05', '2012-01-06', '2012-01-07', '2012-01-08',\n",
       "               '2012-01-09', '2012-01-10', '2012-01-11', '2012-01-12',\n",
       "               '2012-01-13', '2012-01-14', '2012-01-15', '2012-01-16',\n",
       "               '2012-01-17', '2012-01-18', '2012-01-19', '2012-01-20'],\n",
       "              dtype='datetime64[ns]', freq='D')"
      ]
     },
     "execution_count": 33,
     "metadata": {},
     "output_type": "execute_result"
    }
   ],
   "source": [
    "rng1 = pd.date_range(\"2012-01-01\", \"2012-01-20\")\n",
    "rng1"
   ]
  },
  {
   "cell_type": "code",
   "execution_count": 35,
   "metadata": {},
   "outputs": [],
   "source": [
    "ts3 = pd.Series(range(len(rng1)), index=rng1)"
   ]
  },
  {
   "cell_type": "code",
   "execution_count": 36,
   "metadata": {},
   "outputs": [
    {
     "data": {
      "text/plain": [
       "2012-01-01     0\n",
       "2012-01-02     1\n",
       "2012-01-03     2\n",
       "2012-01-04     3\n",
       "2012-01-05     4\n",
       "2012-01-06     5\n",
       "2012-01-07     6\n",
       "2012-01-08     7\n",
       "2012-01-09     8\n",
       "2012-01-10     9\n",
       "2012-01-11    10\n",
       "2012-01-12    11\n",
       "2012-01-13    12\n",
       "2012-01-14    13\n",
       "2012-01-15    14\n",
       "2012-01-16    15\n",
       "2012-01-17    16\n",
       "2012-01-18    17\n",
       "2012-01-19    18\n",
       "2012-01-20    19\n",
       "Freq: D, dtype: int64"
      ]
     },
     "execution_count": 36,
     "metadata": {},
     "output_type": "execute_result"
    }
   ],
   "source": [
    "ts3"
   ]
  },
  {
   "cell_type": "code",
   "execution_count": 37,
   "metadata": {},
   "outputs": [
    {
     "data": {
      "text/plain": [
       "2012-01-01     NaN\n",
       "2012-01-02     0.0\n",
       "2012-01-03     1.0\n",
       "2012-01-04     2.0\n",
       "2012-01-05     3.0\n",
       "2012-01-06     4.0\n",
       "2012-01-07     5.0\n",
       "2012-01-08     6.0\n",
       "2012-01-09     7.0\n",
       "2012-01-10     8.0\n",
       "2012-01-11     9.0\n",
       "2012-01-12    10.0\n",
       "2012-01-13    11.0\n",
       "2012-01-14    12.0\n",
       "2012-01-15    13.0\n",
       "2012-01-16    14.0\n",
       "2012-01-17    15.0\n",
       "2012-01-18    16.0\n",
       "2012-01-19    17.0\n",
       "2012-01-20    18.0\n",
       "Freq: D, dtype: float64"
      ]
     },
     "execution_count": 37,
     "metadata": {},
     "output_type": "execute_result"
    }
   ],
   "source": [
    "ts3.shift(1)"
   ]
  },
  {
   "cell_type": "code",
   "execution_count": 38,
   "metadata": {},
   "outputs": [
    {
     "data": {
      "text/plain": [
       "2012-01-01     NaN\n",
       "2012-01-02     NaN\n",
       "2012-01-03     NaN\n",
       "2012-01-04     NaN\n",
       "2012-01-05     NaN\n",
       "2012-01-06     0.0\n",
       "2012-01-07     1.0\n",
       "2012-01-08     2.0\n",
       "2012-01-09     3.0\n",
       "2012-01-10     4.0\n",
       "2012-01-11     5.0\n",
       "2012-01-12     6.0\n",
       "2012-01-13     7.0\n",
       "2012-01-14     8.0\n",
       "2012-01-15     9.0\n",
       "2012-01-16    10.0\n",
       "2012-01-17    11.0\n",
       "2012-01-18    12.0\n",
       "2012-01-19    13.0\n",
       "2012-01-20    14.0\n",
       "Freq: D, dtype: float64"
      ]
     },
     "execution_count": 38,
     "metadata": {},
     "output_type": "execute_result"
    }
   ],
   "source": [
    "ts3.shift(5)"
   ]
  },
  {
   "cell_type": "code",
   "execution_count": 39,
   "metadata": {},
   "outputs": [],
   "source": [
    "#When freq is specified, shift method changes all the dates in the index\n",
    "#rather than changing the alignment of the data and the index:"
   ]
  },
  {
   "cell_type": "code",
   "execution_count": 40,
   "metadata": {},
   "outputs": [
    {
     "data": {
      "text/plain": [
       "2012-01-06     0\n",
       "2012-01-07     1\n",
       "2012-01-08     2\n",
       "2012-01-09     3\n",
       "2012-01-10     4\n",
       "2012-01-11     5\n",
       "2012-01-12     6\n",
       "2012-01-13     7\n",
       "2012-01-14     8\n",
       "2012-01-15     9\n",
       "2012-01-16    10\n",
       "2012-01-17    11\n",
       "2012-01-18    12\n",
       "2012-01-19    13\n",
       "2012-01-20    14\n",
       "2012-01-21    15\n",
       "2012-01-22    16\n",
       "2012-01-23    17\n",
       "2012-01-24    18\n",
       "2012-01-25    19\n",
       "Freq: D, dtype: int64"
      ]
     },
     "execution_count": 40,
     "metadata": {},
     "output_type": "execute_result"
    }
   ],
   "source": [
    "ts3.shift(5, freq=\"D\")"
   ]
  },
  {
   "cell_type": "code",
   "execution_count": 41,
   "metadata": {},
   "outputs": [
    {
     "data": {
      "text/plain": [
       "2012-01-06     0\n",
       "2012-01-09     1\n",
       "2012-01-10     2\n",
       "2012-01-11     3\n",
       "2012-01-12     4\n",
       "2012-01-13     5\n",
       "2012-01-13     6\n",
       "2012-01-13     7\n",
       "2012-01-16     8\n",
       "2012-01-17     9\n",
       "2012-01-18    10\n",
       "2012-01-19    11\n",
       "2012-01-20    12\n",
       "2012-01-20    13\n",
       "2012-01-20    14\n",
       "2012-01-23    15\n",
       "2012-01-24    16\n",
       "2012-01-25    17\n",
       "2012-01-26    18\n",
       "2012-01-27    19\n",
       "dtype: int64"
      ]
     },
     "execution_count": 41,
     "metadata": {},
     "output_type": "execute_result"
    }
   ],
   "source": [
    "ts3.shift(5, freq=pd.offsets.BDay())"
   ]
  },
  {
   "cell_type": "code",
   "execution_count": 42,
   "metadata": {},
   "outputs": [
    {
     "data": {
      "text/plain": [
       "2012-05-31     0\n",
       "2012-05-31     1\n",
       "2012-05-31     2\n",
       "2012-05-31     3\n",
       "2012-05-31     4\n",
       "2012-05-31     5\n",
       "2012-05-31     6\n",
       "2012-05-31     7\n",
       "2012-05-31     8\n",
       "2012-05-31     9\n",
       "2012-05-31    10\n",
       "2012-05-31    11\n",
       "2012-05-31    12\n",
       "2012-05-31    13\n",
       "2012-05-31    14\n",
       "2012-05-31    15\n",
       "2012-05-31    16\n",
       "2012-05-31    17\n",
       "2012-05-31    18\n",
       "2012-05-31    19\n",
       "Freq: D, dtype: int64"
      ]
     },
     "execution_count": 42,
     "metadata": {},
     "output_type": "execute_result"
    }
   ],
   "source": [
    "ts3.shift(5, freq=\"BM\")"
   ]
  },
  {
   "cell_type": "code",
   "execution_count": 43,
   "metadata": {},
   "outputs": [
    {
     "data": {
      "text/plain": [
       "DatetimeIndex(['2012-01-01', '2012-01-02', '2012-01-03', '2012-01-04',\n",
       "               '2012-01-05', '2012-01-06', '2012-01-07', '2012-01-08',\n",
       "               '2012-01-09', '2012-01-10', '2012-01-11', '2012-01-12',\n",
       "               '2012-01-13', '2012-01-14', '2012-01-15', '2012-01-16',\n",
       "               '2012-01-17', '2012-01-18', '2012-01-19', '2012-01-20',\n",
       "               '2012-01-21', '2012-01-22', '2012-01-23', '2012-01-24',\n",
       "               '2012-01-25', '2012-01-26', '2012-01-27', '2012-01-28',\n",
       "               '2012-01-29', '2012-01-30', '2012-01-31', '2012-02-01',\n",
       "               '2012-02-02', '2012-02-03', '2012-02-04', '2012-02-05',\n",
       "               '2012-02-06', '2012-02-07', '2012-02-08', '2012-02-09',\n",
       "               '2012-02-10'],\n",
       "              dtype='datetime64[ns]', freq='D')"
      ]
     },
     "execution_count": 43,
     "metadata": {},
     "output_type": "execute_result"
    }
   ],
   "source": [
    "rng4 = pd.date_range(\"2012-01-01\", \"2012-02-10\")\n",
    "rng4"
   ]
  },
  {
   "cell_type": "code",
   "execution_count": 44,
   "metadata": {},
   "outputs": [
    {
     "data": {
      "text/plain": [
       "DatetimeIndex(['2012-05-31', '2012-05-31', '2012-05-31', '2012-05-31',\n",
       "               '2012-05-31', '2012-05-31', '2012-05-31', '2012-05-31',\n",
       "               '2012-05-31', '2012-05-31', '2012-05-31', '2012-05-31',\n",
       "               '2012-05-31', '2012-05-31', '2012-05-31', '2012-05-31',\n",
       "               '2012-05-31', '2012-05-31', '2012-05-31', '2012-05-31',\n",
       "               '2012-05-31', '2012-05-31', '2012-05-31', '2012-05-31',\n",
       "               '2012-05-31', '2012-05-31', '2012-05-31', '2012-05-31',\n",
       "               '2012-05-31', '2012-05-31', '2012-06-29', '2012-06-29',\n",
       "               '2012-06-29', '2012-06-29', '2012-06-29', '2012-06-29',\n",
       "               '2012-06-29', '2012-06-29', '2012-06-29', '2012-06-29',\n",
       "               '2012-06-29'],\n",
       "              dtype='datetime64[ns]', freq='D')"
      ]
     },
     "execution_count": 44,
     "metadata": {},
     "output_type": "execute_result"
    }
   ],
   "source": [
    "rng4.shift(5, freq=\"BM\")"
   ]
  },
  {
   "cell_type": "code",
   "execution_count": 46,
   "metadata": {},
   "outputs": [
    {
     "data": {
      "text/plain": [
       "DatetimeIndex(['2010-01-01', '2010-01-04', '2010-01-05'], dtype='datetime64[ns]', freq='B')"
      ]
     },
     "execution_count": 46,
     "metadata": {},
     "output_type": "execute_result"
    }
   ],
   "source": [
    "dr = pd.date_range(\"1/1/2010\", periods=3, freq= pd.offsets.BDay())\n",
    "dr"
   ]
  },
  {
   "cell_type": "code",
   "execution_count": 50,
   "metadata": {},
   "outputs": [
    {
     "data": {
      "text/plain": [
       "2010-01-01    0.014691\n",
       "2010-01-04   -0.075161\n",
       "2010-01-05   -0.791133\n",
       "Freq: B, dtype: float64"
      ]
     },
     "execution_count": 50,
     "metadata": {},
     "output_type": "execute_result"
    }
   ],
   "source": [
    "ts = pd.Series(np.random.randn(3), index=dr)\n",
    "ts"
   ]
  },
  {
   "cell_type": "code",
   "execution_count": 52,
   "metadata": {},
   "outputs": [
    {
     "data": {
      "text/plain": [
       "2010-01-01    0.014691\n",
       "2010-01-04   -0.075161\n",
       "2010-01-05   -0.791133\n",
       "Freq: B, dtype: float64"
      ]
     },
     "execution_count": 52,
     "metadata": {},
     "output_type": "execute_result"
    }
   ],
   "source": [
    "ts.asfreq(pd.offsets.BDay(),method=\"pad\")"
   ]
  },
  {
   "cell_type": "code",
   "execution_count": 54,
   "metadata": {},
   "outputs": [
    {
     "data": {
      "text/plain": [
       "DatetimeIndex(['2010-01-01', '2010-01-02', '2010-01-03', '2010-01-04',\n",
       "               '2010-01-05', '2010-01-06', '2010-01-07', '2010-01-08',\n",
       "               '2010-01-09', '2010-01-10', '2010-01-11', '2010-01-12',\n",
       "               '2010-01-13', '2010-01-14', '2010-01-15', '2010-01-16',\n",
       "               '2010-01-17', '2010-01-18', '2010-01-19', '2010-01-20',\n",
       "               '2010-01-21', '2010-01-22', '2010-01-23', '2010-01-24',\n",
       "               '2010-01-25', '2010-01-26', '2010-01-27', '2010-01-28',\n",
       "               '2010-01-29', '2010-01-30', '2010-01-31', '2010-02-01',\n",
       "               '2010-02-02', '2010-02-03', '2010-02-04'],\n",
       "              dtype='datetime64[ns]', freq='D')"
      ]
     },
     "execution_count": 54,
     "metadata": {},
     "output_type": "execute_result"
    }
   ],
   "source": [
    "dr3 = pd.date_range(\"1/1/2010\", periods=35, freq= 'D')\n",
    "dr3"
   ]
  },
  {
   "cell_type": "code",
   "execution_count": 56,
   "metadata": {},
   "outputs": [
    {
     "data": {
      "text/plain": [
       "DatetimeIndex(['2012-01-01 00:00:00', '2012-01-01 00:00:01',\n",
       "               '2012-01-01 00:00:02', '2012-01-01 00:00:03',\n",
       "               '2012-01-01 00:00:04', '2012-01-01 00:00:05',\n",
       "               '2012-01-01 00:00:06', '2012-01-01 00:00:07',\n",
       "               '2012-01-01 00:00:08', '2012-01-01 00:00:09',\n",
       "               '2012-01-01 00:00:10', '2012-01-01 00:00:11',\n",
       "               '2012-01-01 00:00:12', '2012-01-01 00:00:13',\n",
       "               '2012-01-01 00:00:14', '2012-01-01 00:00:15',\n",
       "               '2012-01-01 00:00:16', '2012-01-01 00:00:17',\n",
       "               '2012-01-01 00:00:18', '2012-01-01 00:00:19',\n",
       "               '2012-01-01 00:00:20', '2012-01-01 00:00:21',\n",
       "               '2012-01-01 00:00:22', '2012-01-01 00:00:23',\n",
       "               '2012-01-01 00:00:24', '2012-01-01 00:00:25',\n",
       "               '2012-01-01 00:00:26', '2012-01-01 00:00:27',\n",
       "               '2012-01-01 00:00:28', '2012-01-01 00:00:29',\n",
       "               '2012-01-01 00:00:30', '2012-01-01 00:00:31',\n",
       "               '2012-01-01 00:00:32', '2012-01-01 00:00:33',\n",
       "               '2012-01-01 00:00:34', '2012-01-01 00:00:35',\n",
       "               '2012-01-01 00:00:36', '2012-01-01 00:00:37',\n",
       "               '2012-01-01 00:00:38', '2012-01-01 00:00:39',\n",
       "               '2012-01-01 00:00:40', '2012-01-01 00:00:41',\n",
       "               '2012-01-01 00:00:42', '2012-01-01 00:00:43',\n",
       "               '2012-01-01 00:00:44', '2012-01-01 00:00:45',\n",
       "               '2012-01-01 00:00:46', '2012-01-01 00:00:47',\n",
       "               '2012-01-01 00:00:48', '2012-01-01 00:00:49',\n",
       "               '2012-01-01 00:00:50', '2012-01-01 00:00:51',\n",
       "               '2012-01-01 00:00:52', '2012-01-01 00:00:53',\n",
       "               '2012-01-01 00:00:54', '2012-01-01 00:00:55',\n",
       "               '2012-01-01 00:00:56', '2012-01-01 00:00:57',\n",
       "               '2012-01-01 00:00:58', '2012-01-01 00:00:59',\n",
       "               '2012-01-01 00:01:00', '2012-01-01 00:01:01',\n",
       "               '2012-01-01 00:01:02', '2012-01-01 00:01:03',\n",
       "               '2012-01-01 00:01:04', '2012-01-01 00:01:05',\n",
       "               '2012-01-01 00:01:06', '2012-01-01 00:01:07',\n",
       "               '2012-01-01 00:01:08', '2012-01-01 00:01:09',\n",
       "               '2012-01-01 00:01:10', '2012-01-01 00:01:11',\n",
       "               '2012-01-01 00:01:12', '2012-01-01 00:01:13',\n",
       "               '2012-01-01 00:01:14', '2012-01-01 00:01:15',\n",
       "               '2012-01-01 00:01:16', '2012-01-01 00:01:17',\n",
       "               '2012-01-01 00:01:18', '2012-01-01 00:01:19',\n",
       "               '2012-01-01 00:01:20', '2012-01-01 00:01:21',\n",
       "               '2012-01-01 00:01:22', '2012-01-01 00:01:23',\n",
       "               '2012-01-01 00:01:24', '2012-01-01 00:01:25',\n",
       "               '2012-01-01 00:01:26', '2012-01-01 00:01:27',\n",
       "               '2012-01-01 00:01:28', '2012-01-01 00:01:29',\n",
       "               '2012-01-01 00:01:30', '2012-01-01 00:01:31',\n",
       "               '2012-01-01 00:01:32', '2012-01-01 00:01:33',\n",
       "               '2012-01-01 00:01:34', '2012-01-01 00:01:35',\n",
       "               '2012-01-01 00:01:36', '2012-01-01 00:01:37',\n",
       "               '2012-01-01 00:01:38', '2012-01-01 00:01:39'],\n",
       "              dtype='datetime64[ns]', freq='S')"
      ]
     },
     "execution_count": 56,
     "metadata": {},
     "output_type": "execute_result"
    }
   ],
   "source": [
    "rng = pd.date_range(\"1/1/2012\", periods=100, freq=\"S\")\n",
    "rng"
   ]
  },
  {
   "cell_type": "code",
   "execution_count": 57,
   "metadata": {},
   "outputs": [
    {
     "data": {
      "text/plain": [
       "2012-01-01 00:00:00    393\n",
       "2012-01-01 00:00:01    142\n",
       "2012-01-01 00:00:02     81\n",
       "2012-01-01 00:00:03    464\n",
       "2012-01-01 00:00:04    224\n",
       "                      ... \n",
       "2012-01-01 00:01:35    417\n",
       "2012-01-01 00:01:36    179\n",
       "2012-01-01 00:01:37    236\n",
       "2012-01-01 00:01:38    415\n",
       "2012-01-01 00:01:39    154\n",
       "Freq: S, Length: 100, dtype: int32"
      ]
     },
     "execution_count": 57,
     "metadata": {},
     "output_type": "execute_result"
    }
   ],
   "source": [
    "ts = pd.Series(np.random.randint(0, 500, len(rng)), index=rng)\n",
    "ts"
   ]
  },
  {
   "cell_type": "code",
   "execution_count": 66,
   "metadata": {},
   "outputs": [
    {
     "data": {
      "text/plain": [
       "2012-01-01 00:00:00.000    393.0\n",
       "2012-01-01 00:00:00.250      NaN\n",
       "2012-01-01 00:00:00.500      NaN\n",
       "2012-01-01 00:00:00.750      NaN\n",
       "2012-01-01 00:00:01.000    142.0\n",
       "Freq: 250L, dtype: float64"
      ]
     },
     "execution_count": 66,
     "metadata": {},
     "output_type": "execute_result"
    }
   ],
   "source": [
    "ts[:2].resample(\"250L\").asfreq()"
   ]
  },
  {
   "cell_type": "code",
   "execution_count": 62,
   "metadata": {},
   "outputs": [
    {
     "data": {
      "text/plain": [
       "2000-01-01   2000-01-01\n",
       "2000-01-02   2000-01-02\n",
       "2000-01-03   2000-01-03\n",
       "2000-01-04   2000-01-04\n",
       "2000-01-05   2000-01-05\n",
       "Freq: D, dtype: datetime64[ns]"
      ]
     },
     "execution_count": 62,
     "metadata": {},
     "output_type": "execute_result"
    }
   ],
   "source": [
    "s = pd.date_range(\"2000-01-01\", \"2000-01-05\").to_series()\n",
    "s"
   ]
  },
  {
   "cell_type": "code",
   "execution_count": 63,
   "metadata": {},
   "outputs": [],
   "source": [
    "s.iloc[2] = pd.NaT"
   ]
  },
  {
   "cell_type": "code",
   "execution_count": 65,
   "metadata": {},
   "outputs": [
    {
     "data": {
      "text/plain": [
       "2000-01-01     Saturday\n",
       "2000-01-02       Sunday\n",
       "2000-01-03          NaN\n",
       "2000-01-04      Tuesday\n",
       "2000-01-05    Wednesday\n",
       "Freq: D, dtype: object"
      ]
     },
     "execution_count": 65,
     "metadata": {},
     "output_type": "execute_result"
    }
   ],
   "source": [
    "s.dt.day_name()"
   ]
  },
  {
   "cell_type": "code",
   "execution_count": 68,
   "metadata": {},
   "outputs": [
    {
     "data": {
      "text/plain": [
       "DatetimeIndex(['2014-01-01 00:00:01', '2014-01-02 00:00:01',\n",
       "               '2014-01-03 00:00:01', '2014-01-04 00:00:01',\n",
       "               '2014-01-05 00:00:01', '2014-01-06 00:00:01',\n",
       "               '2014-01-07 00:00:01', '2014-01-08 00:00:01',\n",
       "               '2014-01-09 00:00:01', '2014-01-10 00:00:01',\n",
       "               '2014-01-11 00:00:01', '2014-01-12 00:00:01',\n",
       "               '2014-01-13 00:00:01', '2014-01-14 00:00:01',\n",
       "               '2014-01-15 00:00:01', '2014-01-16 00:00:01',\n",
       "               '2014-01-17 00:00:01', '2014-01-18 00:00:01',\n",
       "               '2014-01-19 00:00:01', '2014-01-20 00:00:01',\n",
       "               '2014-01-21 00:00:01', '2014-01-22 00:00:01',\n",
       "               '2014-01-23 00:00:01', '2014-01-24 00:00:01',\n",
       "               '2014-01-25 00:00:01', '2014-01-26 00:00:01',\n",
       "               '2014-01-27 00:00:01', '2014-01-28 00:00:01',\n",
       "               '2014-01-29 00:00:01', '2014-01-30 00:00:01',\n",
       "               '2014-01-31 00:00:01', '2014-02-01 00:00:01',\n",
       "               '2014-02-02 00:00:01', '2014-02-03 00:00:01',\n",
       "               '2014-02-04 00:00:01', '2014-02-05 00:00:01',\n",
       "               '2014-02-06 00:00:01', '2014-02-07 00:00:01',\n",
       "               '2014-02-08 00:00:01', '2014-02-09 00:00:01',\n",
       "               '2014-02-10 00:00:01', '2014-02-11 00:00:01',\n",
       "               '2014-02-12 00:00:01', '2014-02-13 00:00:01',\n",
       "               '2014-02-14 00:00:01', '2014-02-15 00:00:01',\n",
       "               '2014-02-16 00:00:01', '2014-02-17 00:00:01',\n",
       "               '2014-02-18 00:00:01', '2014-02-19 00:00:01',\n",
       "               '2014-02-20 00:00:01', '2014-02-21 00:00:01',\n",
       "               '2014-02-22 00:00:01', '2014-02-23 00:00:01',\n",
       "               '2014-02-24 00:00:01', '2014-02-25 00:00:01',\n",
       "               '2014-02-26 00:00:01', '2014-02-27 00:00:01',\n",
       "               '2014-02-28 00:00:01', '2014-03-01 00:00:01',\n",
       "               '2014-03-02 00:00:01', '2014-03-03 00:00:01',\n",
       "               '2014-03-04 00:00:01', '2014-03-05 00:00:01',\n",
       "               '2014-03-06 00:00:01', '2014-03-07 00:00:01',\n",
       "               '2014-03-08 00:00:01', '2014-03-09 00:00:01',\n",
       "               '2014-03-10 00:00:01', '2014-03-11 00:00:01',\n",
       "               '2014-03-12 00:00:01', '2014-03-13 00:00:01',\n",
       "               '2014-03-14 00:00:01', '2014-03-15 00:00:01',\n",
       "               '2014-03-16 00:00:01', '2014-03-17 00:00:01',\n",
       "               '2014-03-18 00:00:01', '2014-03-19 00:00:01',\n",
       "               '2014-03-20 00:00:01', '2014-03-21 00:00:01',\n",
       "               '2014-03-22 00:00:01', '2014-03-23 00:00:01',\n",
       "               '2014-03-24 00:00:01', '2014-03-25 00:00:01',\n",
       "               '2014-03-26 00:00:01', '2014-03-27 00:00:01',\n",
       "               '2014-03-28 00:00:01', '2014-03-29 00:00:01',\n",
       "               '2014-03-30 00:00:01', '2014-03-31 00:00:01',\n",
       "               '2014-04-01 00:00:01', '2014-04-02 00:00:01',\n",
       "               '2014-04-03 00:00:01', '2014-04-04 00:00:01',\n",
       "               '2014-04-05 00:00:01', '2014-04-06 00:00:01',\n",
       "               '2014-04-07 00:00:01', '2014-04-08 00:00:01',\n",
       "               '2014-04-09 00:00:01', '2014-04-10 00:00:01'],\n",
       "              dtype='datetime64[ns]', freq='D')"
      ]
     },
     "execution_count": 68,
     "metadata": {},
     "output_type": "execute_result"
    }
   ],
   "source": [
    "rng = pd.date_range(\"2014-1-1\", periods=100, freq=\"D\") + pd.Timedelta(\"1s\")\n",
    "rng"
   ]
  },
  {
   "cell_type": "code",
   "execution_count": 69,
   "metadata": {},
   "outputs": [
    {
     "data": {
      "text/plain": [
       "DatetimeIndex(['2014-01-01 00:00:02', '2014-01-02 00:00:02',\n",
       "               '2014-01-03 00:00:02', '2014-01-04 00:00:02',\n",
       "               '2014-01-05 00:00:02', '2014-01-06 00:00:02',\n",
       "               '2014-01-07 00:00:02', '2014-01-08 00:00:02',\n",
       "               '2014-01-09 00:00:02', '2014-01-10 00:00:02',\n",
       "               '2014-01-11 00:00:02', '2014-01-12 00:00:02',\n",
       "               '2014-01-13 00:00:02', '2014-01-14 00:00:02',\n",
       "               '2014-01-15 00:00:02', '2014-01-16 00:00:02',\n",
       "               '2014-01-17 00:00:02', '2014-01-18 00:00:02',\n",
       "               '2014-01-19 00:00:02', '2014-01-20 00:00:02',\n",
       "               '2014-01-21 00:00:02', '2014-01-22 00:00:02',\n",
       "               '2014-01-23 00:00:02', '2014-01-24 00:00:02',\n",
       "               '2014-01-25 00:00:02', '2014-01-26 00:00:02',\n",
       "               '2014-01-27 00:00:02', '2014-01-28 00:00:02',\n",
       "               '2014-01-29 00:00:02', '2014-01-30 00:00:02',\n",
       "               '2014-01-31 00:00:02', '2014-02-01 00:00:02',\n",
       "               '2014-02-02 00:00:02', '2014-02-03 00:00:02',\n",
       "               '2014-02-04 00:00:02', '2014-02-05 00:00:02',\n",
       "               '2014-02-06 00:00:02', '2014-02-07 00:00:02',\n",
       "               '2014-02-08 00:00:02', '2014-02-09 00:00:02',\n",
       "               '2014-02-10 00:00:02', '2014-02-11 00:00:02',\n",
       "               '2014-02-12 00:00:02', '2014-02-13 00:00:02',\n",
       "               '2014-02-14 00:00:02', '2014-02-15 00:00:02',\n",
       "               '2014-02-16 00:00:02', '2014-02-17 00:00:02',\n",
       "               '2014-02-18 00:00:02', '2014-02-19 00:00:02',\n",
       "               '2014-02-20 00:00:02', '2014-02-21 00:00:02',\n",
       "               '2014-02-22 00:00:02', '2014-02-23 00:00:02',\n",
       "               '2014-02-24 00:00:02', '2014-02-25 00:00:02',\n",
       "               '2014-02-26 00:00:02', '2014-02-27 00:00:02',\n",
       "               '2014-02-28 00:00:02', '2014-03-01 00:00:02',\n",
       "               '2014-03-02 00:00:02', '2014-03-03 00:00:02',\n",
       "               '2014-03-04 00:00:02', '2014-03-05 00:00:02',\n",
       "               '2014-03-06 00:00:02', '2014-03-07 00:00:02',\n",
       "               '2014-03-08 00:00:02', '2014-03-09 00:00:02',\n",
       "               '2014-03-10 00:00:02', '2014-03-11 00:00:02',\n",
       "               '2014-03-12 00:00:02', '2014-03-13 00:00:02',\n",
       "               '2014-03-14 00:00:02', '2014-03-15 00:00:02',\n",
       "               '2014-03-16 00:00:02', '2014-03-17 00:00:02',\n",
       "               '2014-03-18 00:00:02', '2014-03-19 00:00:02',\n",
       "               '2014-03-20 00:00:02', '2014-03-21 00:00:02',\n",
       "               '2014-03-22 00:00:02', '2014-03-23 00:00:02',\n",
       "               '2014-03-24 00:00:02', '2014-03-25 00:00:02',\n",
       "               '2014-03-26 00:00:02', '2014-03-27 00:00:02',\n",
       "               '2014-03-28 00:00:02', '2014-03-29 00:00:02',\n",
       "               '2014-03-30 00:00:02', '2014-03-31 00:00:02',\n",
       "               '2014-04-01 00:00:02', '2014-04-02 00:00:02',\n",
       "               '2014-04-03 00:00:02', '2014-04-04 00:00:02',\n",
       "               '2014-04-05 00:00:02', '2014-04-06 00:00:02',\n",
       "               '2014-04-07 00:00:02', '2014-04-08 00:00:02',\n",
       "               '2014-04-09 00:00:02', '2014-04-10 00:00:02'],\n",
       "              dtype='datetime64[ns]', freq='D')"
      ]
     },
     "execution_count": 69,
     "metadata": {},
     "output_type": "execute_result"
    }
   ],
   "source": [
    "rng + pd.Timedelta(\"1s\")"
   ]
  },
  {
   "cell_type": "code",
   "execution_count": 70,
   "metadata": {},
   "outputs": [
    {
     "data": {
      "text/plain": [
       "2014-01-01 00:00:01     0\n",
       "2014-01-02 00:00:01     1\n",
       "2014-01-03 00:00:01     2\n",
       "2014-01-04 00:00:01     3\n",
       "2014-01-05 00:00:01     4\n",
       "                       ..\n",
       "2014-04-06 00:00:01    95\n",
       "2014-04-07 00:00:01    96\n",
       "2014-04-08 00:00:01    97\n",
       "2014-04-09 00:00:01    98\n",
       "2014-04-10 00:00:01    99\n",
       "Freq: D, Length: 100, dtype: int64"
      ]
     },
     "execution_count": 70,
     "metadata": {},
     "output_type": "execute_result"
    }
   ],
   "source": [
    "ts = pd.Series(range(100), index=rng)\n",
    "ts"
   ]
  },
  {
   "cell_type": "code",
   "execution_count": 71,
   "metadata": {},
   "outputs": [
    {
     "data": {
      "text/plain": [
       "2014-01-01 00:00:00     0\n",
       "2014-01-01 00:03:00     0\n",
       "2014-01-01 00:06:00     0\n",
       "2014-01-01 00:09:00     0\n",
       "2014-01-01 00:12:00     0\n",
       "                       ..\n",
       "2014-04-09 23:48:00     0\n",
       "2014-04-09 23:51:00     0\n",
       "2014-04-09 23:54:00     0\n",
       "2014-04-09 23:57:00     0\n",
       "2014-04-10 00:00:00    99\n",
       "Freq: 3T, Length: 47521, dtype: int64"
      ]
     },
     "execution_count": 71,
     "metadata": {},
     "output_type": "execute_result"
    }
   ],
   "source": [
    "ts.resample(\"3T\").sum()"
   ]
  },
  {
   "cell_type": "code",
   "execution_count": 72,
   "metadata": {},
   "outputs": [
    {
     "data": {
      "text/plain": [
       "2014-01-01 00:00:00     0\n",
       "2014-01-01 01:00:00     0\n",
       "2014-01-01 02:00:00     0\n",
       "2014-01-01 03:00:00     0\n",
       "2014-01-01 04:00:00     0\n",
       "                       ..\n",
       "2014-04-09 20:00:00     0\n",
       "2014-04-09 21:00:00     0\n",
       "2014-04-09 22:00:00     0\n",
       "2014-04-09 23:00:00     0\n",
       "2014-04-10 00:00:00    99\n",
       "Freq: H, Length: 2377, dtype: int64"
      ]
     },
     "execution_count": 72,
     "metadata": {},
     "output_type": "execute_result"
    }
   ],
   "source": [
    "ts.resample(\"1H\").sum()"
   ]
  },
  {
   "cell_type": "code",
   "execution_count": 73,
   "metadata": {},
   "outputs": [],
   "source": [
    "df = pd.DataFrame(\n",
    "        np.random.randn(1000, 3),\n",
    "        index=pd.date_range(\"1/1/2012\", freq=\"S\", periods=1000),\n",
    "        columns=[\"A\", \"B\", \"C\"],)"
   ]
  },
  {
   "cell_type": "code",
   "execution_count": 74,
   "metadata": {},
   "outputs": [
    {
     "data": {
      "text/html": [
       "<div>\n",
       "<style scoped>\n",
       "    .dataframe tbody tr th:only-of-type {\n",
       "        vertical-align: middle;\n",
       "    }\n",
       "\n",
       "    .dataframe tbody tr th {\n",
       "        vertical-align: top;\n",
       "    }\n",
       "\n",
       "    .dataframe thead th {\n",
       "        text-align: right;\n",
       "    }\n",
       "</style>\n",
       "<table border=\"1\" class=\"dataframe\">\n",
       "  <thead>\n",
       "    <tr style=\"text-align: right;\">\n",
       "      <th></th>\n",
       "      <th>A</th>\n",
       "      <th>B</th>\n",
       "      <th>C</th>\n",
       "    </tr>\n",
       "  </thead>\n",
       "  <tbody>\n",
       "    <tr>\n",
       "      <th>2012-01-01 00:00:00</th>\n",
       "      <td>-1.202709</td>\n",
       "      <td>0.597771</td>\n",
       "      <td>0.576646</td>\n",
       "    </tr>\n",
       "    <tr>\n",
       "      <th>2012-01-01 00:00:01</th>\n",
       "      <td>-1.280630</td>\n",
       "      <td>1.425572</td>\n",
       "      <td>1.083248</td>\n",
       "    </tr>\n",
       "    <tr>\n",
       "      <th>2012-01-01 00:00:02</th>\n",
       "      <td>0.895212</td>\n",
       "      <td>0.656216</td>\n",
       "      <td>0.145435</td>\n",
       "    </tr>\n",
       "    <tr>\n",
       "      <th>2012-01-01 00:00:03</th>\n",
       "      <td>0.524667</td>\n",
       "      <td>-0.265391</td>\n",
       "      <td>-0.169420</td>\n",
       "    </tr>\n",
       "    <tr>\n",
       "      <th>2012-01-01 00:00:04</th>\n",
       "      <td>-0.012833</td>\n",
       "      <td>-0.495309</td>\n",
       "      <td>-0.270853</td>\n",
       "    </tr>\n",
       "    <tr>\n",
       "      <th>...</th>\n",
       "      <td>...</td>\n",
       "      <td>...</td>\n",
       "      <td>...</td>\n",
       "    </tr>\n",
       "    <tr>\n",
       "      <th>2012-01-01 00:16:35</th>\n",
       "      <td>-0.764831</td>\n",
       "      <td>1.338706</td>\n",
       "      <td>0.790945</td>\n",
       "    </tr>\n",
       "    <tr>\n",
       "      <th>2012-01-01 00:16:36</th>\n",
       "      <td>-0.348656</td>\n",
       "      <td>0.863710</td>\n",
       "      <td>1.702725</td>\n",
       "    </tr>\n",
       "    <tr>\n",
       "      <th>2012-01-01 00:16:37</th>\n",
       "      <td>0.957919</td>\n",
       "      <td>0.782187</td>\n",
       "      <td>-0.904903</td>\n",
       "    </tr>\n",
       "    <tr>\n",
       "      <th>2012-01-01 00:16:38</th>\n",
       "      <td>-0.765875</td>\n",
       "      <td>0.188287</td>\n",
       "      <td>-2.875989</td>\n",
       "    </tr>\n",
       "    <tr>\n",
       "      <th>2012-01-01 00:16:39</th>\n",
       "      <td>0.468976</td>\n",
       "      <td>2.335808</td>\n",
       "      <td>1.239154</td>\n",
       "    </tr>\n",
       "  </tbody>\n",
       "</table>\n",
       "<p>1000 rows × 3 columns</p>\n",
       "</div>"
      ],
      "text/plain": [
       "                            A         B         C\n",
       "2012-01-01 00:00:00 -1.202709  0.597771  0.576646\n",
       "2012-01-01 00:00:01 -1.280630  1.425572  1.083248\n",
       "2012-01-01 00:00:02  0.895212  0.656216  0.145435\n",
       "2012-01-01 00:00:03  0.524667 -0.265391 -0.169420\n",
       "2012-01-01 00:00:04 -0.012833 -0.495309 -0.270853\n",
       "...                       ...       ...       ...\n",
       "2012-01-01 00:16:35 -0.764831  1.338706  0.790945\n",
       "2012-01-01 00:16:36 -0.348656  0.863710  1.702725\n",
       "2012-01-01 00:16:37  0.957919  0.782187 -0.904903\n",
       "2012-01-01 00:16:38 -0.765875  0.188287 -2.875989\n",
       "2012-01-01 00:16:39  0.468976  2.335808  1.239154\n",
       "\n",
       "[1000 rows x 3 columns]"
      ]
     },
     "execution_count": 74,
     "metadata": {},
     "output_type": "execute_result"
    }
   ],
   "source": [
    "df"
   ]
  },
  {
   "cell_type": "code",
   "execution_count": 77,
   "metadata": {},
   "outputs": [],
   "source": [
    "#resample it is like a group by"
   ]
  },
  {
   "cell_type": "code",
   "execution_count": 78,
   "metadata": {},
   "outputs": [
    {
     "data": {
      "text/plain": [
       "<pandas.core.resample.DatetimeIndexResampler object at 0x0000028058EB8088>"
      ]
     },
     "execution_count": 78,
     "metadata": {},
     "output_type": "execute_result"
    }
   ],
   "source": [
    "r = df.resample(\"3T\")\n",
    "r"
   ]
  },
  {
   "cell_type": "code",
   "execution_count": 79,
   "metadata": {},
   "outputs": [
    {
     "data": {
      "text/html": [
       "<div>\n",
       "<style scoped>\n",
       "    .dataframe tbody tr th:only-of-type {\n",
       "        vertical-align: middle;\n",
       "    }\n",
       "\n",
       "    .dataframe tbody tr th {\n",
       "        vertical-align: top;\n",
       "    }\n",
       "\n",
       "    .dataframe thead th {\n",
       "        text-align: right;\n",
       "    }\n",
       "</style>\n",
       "<table border=\"1\" class=\"dataframe\">\n",
       "  <thead>\n",
       "    <tr style=\"text-align: right;\">\n",
       "      <th></th>\n",
       "      <th>A</th>\n",
       "      <th>B</th>\n",
       "      <th>C</th>\n",
       "    </tr>\n",
       "  </thead>\n",
       "  <tbody>\n",
       "    <tr>\n",
       "      <th>2012-01-01 00:00:00</th>\n",
       "      <td>-0.054673</td>\n",
       "      <td>-0.134364</td>\n",
       "      <td>0.043198</td>\n",
       "    </tr>\n",
       "    <tr>\n",
       "      <th>2012-01-01 00:03:00</th>\n",
       "      <td>-0.079274</td>\n",
       "      <td>0.009316</td>\n",
       "      <td>0.133073</td>\n",
       "    </tr>\n",
       "    <tr>\n",
       "      <th>2012-01-01 00:06:00</th>\n",
       "      <td>-0.077999</td>\n",
       "      <td>0.008646</td>\n",
       "      <td>-0.059507</td>\n",
       "    </tr>\n",
       "    <tr>\n",
       "      <th>2012-01-01 00:09:00</th>\n",
       "      <td>0.040197</td>\n",
       "      <td>-0.024280</td>\n",
       "      <td>0.076221</td>\n",
       "    </tr>\n",
       "    <tr>\n",
       "      <th>2012-01-01 00:12:00</th>\n",
       "      <td>-0.013954</td>\n",
       "      <td>-0.001437</td>\n",
       "      <td>0.047427</td>\n",
       "    </tr>\n",
       "    <tr>\n",
       "      <th>2012-01-01 00:15:00</th>\n",
       "      <td>0.035080</td>\n",
       "      <td>-0.020028</td>\n",
       "      <td>-0.000529</td>\n",
       "    </tr>\n",
       "  </tbody>\n",
       "</table>\n",
       "</div>"
      ],
      "text/plain": [
       "                            A         B         C\n",
       "2012-01-01 00:00:00 -0.054673 -0.134364  0.043198\n",
       "2012-01-01 00:03:00 -0.079274  0.009316  0.133073\n",
       "2012-01-01 00:06:00 -0.077999  0.008646 -0.059507\n",
       "2012-01-01 00:09:00  0.040197 -0.024280  0.076221\n",
       "2012-01-01 00:12:00 -0.013954 -0.001437  0.047427\n",
       "2012-01-01 00:15:00  0.035080 -0.020028 -0.000529"
      ]
     },
     "execution_count": 79,
     "metadata": {},
     "output_type": "execute_result"
    }
   ],
   "source": [
    "r.mean()"
   ]
  },
  {
   "cell_type": "code",
   "execution_count": 80,
   "metadata": {},
   "outputs": [
    {
     "data": {
      "text/plain": [
       "2012-01-01 00:00:00    -9.841221\n",
       "2012-01-01 00:03:00   -14.269246\n",
       "2012-01-01 00:06:00   -14.039808\n",
       "2012-01-01 00:09:00     7.235426\n",
       "2012-01-01 00:12:00    -2.511764\n",
       "2012-01-01 00:15:00     3.508013\n",
       "Freq: 3T, Name: A, dtype: float64"
      ]
     },
     "execution_count": 80,
     "metadata": {},
     "output_type": "execute_result"
    }
   ],
   "source": [
    "r[\"A\"].sum()"
   ]
  },
  {
   "cell_type": "code",
   "execution_count": 81,
   "metadata": {},
   "outputs": [
    {
     "data": {
      "text/html": [
       "<div>\n",
       "<style scoped>\n",
       "    .dataframe tbody tr th:only-of-type {\n",
       "        vertical-align: middle;\n",
       "    }\n",
       "\n",
       "    .dataframe tbody tr th {\n",
       "        vertical-align: top;\n",
       "    }\n",
       "\n",
       "    .dataframe thead th {\n",
       "        text-align: right;\n",
       "    }\n",
       "</style>\n",
       "<table border=\"1\" class=\"dataframe\">\n",
       "  <thead>\n",
       "    <tr style=\"text-align: right;\">\n",
       "      <th></th>\n",
       "      <th>A</th>\n",
       "      <th>B</th>\n",
       "    </tr>\n",
       "  </thead>\n",
       "  <tbody>\n",
       "    <tr>\n",
       "      <th>2012-01-01 00:00:00</th>\n",
       "      <td>3.007464</td>\n",
       "      <td>1.953024</td>\n",
       "    </tr>\n",
       "    <tr>\n",
       "      <th>2012-01-01 00:03:00</th>\n",
       "      <td>2.534582</td>\n",
       "      <td>2.977145</td>\n",
       "    </tr>\n",
       "    <tr>\n",
       "      <th>2012-01-01 00:06:00</th>\n",
       "      <td>2.622999</td>\n",
       "      <td>2.358387</td>\n",
       "    </tr>\n",
       "    <tr>\n",
       "      <th>2012-01-01 00:09:00</th>\n",
       "      <td>2.320724</td>\n",
       "      <td>2.197304</td>\n",
       "    </tr>\n",
       "    <tr>\n",
       "      <th>2012-01-01 00:12:00</th>\n",
       "      <td>2.237481</td>\n",
       "      <td>3.377044</td>\n",
       "    </tr>\n",
       "    <tr>\n",
       "      <th>2012-01-01 00:15:00</th>\n",
       "      <td>4.335519</td>\n",
       "      <td>2.750293</td>\n",
       "    </tr>\n",
       "  </tbody>\n",
       "</table>\n",
       "</div>"
      ],
      "text/plain": [
       "                            A         B\n",
       "2012-01-01 00:00:00  3.007464  1.953024\n",
       "2012-01-01 00:03:00  2.534582  2.977145\n",
       "2012-01-01 00:06:00  2.622999  2.358387\n",
       "2012-01-01 00:09:00  2.320724  2.197304\n",
       "2012-01-01 00:12:00  2.237481  3.377044\n",
       "2012-01-01 00:15:00  4.335519  2.750293"
      ]
     },
     "execution_count": 81,
     "metadata": {},
     "output_type": "execute_result"
    }
   ],
   "source": [
    "r[[\"A\", \"B\"]].max()"
   ]
  },
  {
   "cell_type": "code",
   "execution_count": 82,
   "metadata": {},
   "outputs": [
    {
     "data": {
      "text/html": [
       "<div>\n",
       "<style scoped>\n",
       "    .dataframe tbody tr th:only-of-type {\n",
       "        vertical-align: middle;\n",
       "    }\n",
       "\n",
       "    .dataframe tbody tr th {\n",
       "        vertical-align: top;\n",
       "    }\n",
       "\n",
       "    .dataframe thead th {\n",
       "        text-align: right;\n",
       "    }\n",
       "</style>\n",
       "<table border=\"1\" class=\"dataframe\">\n",
       "  <thead>\n",
       "    <tr style=\"text-align: right;\">\n",
       "      <th></th>\n",
       "      <th>sum</th>\n",
       "      <th>mean</th>\n",
       "      <th>std</th>\n",
       "    </tr>\n",
       "  </thead>\n",
       "  <tbody>\n",
       "    <tr>\n",
       "      <th>2012-01-01 00:00:00</th>\n",
       "      <td>-9.841221</td>\n",
       "      <td>-0.054673</td>\n",
       "      <td>1.078477</td>\n",
       "    </tr>\n",
       "    <tr>\n",
       "      <th>2012-01-01 00:03:00</th>\n",
       "      <td>-14.269246</td>\n",
       "      <td>-0.079274</td>\n",
       "      <td>0.997305</td>\n",
       "    </tr>\n",
       "    <tr>\n",
       "      <th>2012-01-01 00:06:00</th>\n",
       "      <td>-14.039808</td>\n",
       "      <td>-0.077999</td>\n",
       "      <td>1.076906</td>\n",
       "    </tr>\n",
       "    <tr>\n",
       "      <th>2012-01-01 00:09:00</th>\n",
       "      <td>7.235426</td>\n",
       "      <td>0.040197</td>\n",
       "      <td>0.996597</td>\n",
       "    </tr>\n",
       "    <tr>\n",
       "      <th>2012-01-01 00:12:00</th>\n",
       "      <td>-2.511764</td>\n",
       "      <td>-0.013954</td>\n",
       "      <td>0.930977</td>\n",
       "    </tr>\n",
       "    <tr>\n",
       "      <th>2012-01-01 00:15:00</th>\n",
       "      <td>3.508013</td>\n",
       "      <td>0.035080</td>\n",
       "      <td>0.960682</td>\n",
       "    </tr>\n",
       "  </tbody>\n",
       "</table>\n",
       "</div>"
      ],
      "text/plain": [
       "                           sum      mean       std\n",
       "2012-01-01 00:00:00  -9.841221 -0.054673  1.078477\n",
       "2012-01-01 00:03:00 -14.269246 -0.079274  0.997305\n",
       "2012-01-01 00:06:00 -14.039808 -0.077999  1.076906\n",
       "2012-01-01 00:09:00   7.235426  0.040197  0.996597\n",
       "2012-01-01 00:12:00  -2.511764 -0.013954  0.930977\n",
       "2012-01-01 00:15:00   3.508013  0.035080  0.960682"
      ]
     },
     "execution_count": 82,
     "metadata": {},
     "output_type": "execute_result"
    }
   ],
   "source": [
    "r[\"A\"].agg([np.sum, np.mean, np.std])"
   ]
  },
  {
   "cell_type": "code",
   "execution_count": 83,
   "metadata": {},
   "outputs": [
    {
     "data": {
      "text/html": [
       "<div>\n",
       "<style scoped>\n",
       "    .dataframe tbody tr th:only-of-type {\n",
       "        vertical-align: middle;\n",
       "    }\n",
       "\n",
       "    .dataframe tbody tr th {\n",
       "        vertical-align: top;\n",
       "    }\n",
       "\n",
       "    .dataframe thead tr th {\n",
       "        text-align: left;\n",
       "    }\n",
       "</style>\n",
       "<table border=\"1\" class=\"dataframe\">\n",
       "  <thead>\n",
       "    <tr>\n",
       "      <th></th>\n",
       "      <th colspan=\"2\" halign=\"left\">A</th>\n",
       "      <th colspan=\"2\" halign=\"left\">B</th>\n",
       "      <th colspan=\"2\" halign=\"left\">C</th>\n",
       "    </tr>\n",
       "    <tr>\n",
       "      <th></th>\n",
       "      <th>sum</th>\n",
       "      <th>mean</th>\n",
       "      <th>sum</th>\n",
       "      <th>mean</th>\n",
       "      <th>sum</th>\n",
       "      <th>mean</th>\n",
       "    </tr>\n",
       "  </thead>\n",
       "  <tbody>\n",
       "    <tr>\n",
       "      <th>2012-01-01 00:00:00</th>\n",
       "      <td>-9.841221</td>\n",
       "      <td>-0.054673</td>\n",
       "      <td>-24.185439</td>\n",
       "      <td>-0.134364</td>\n",
       "      <td>7.775663</td>\n",
       "      <td>0.043198</td>\n",
       "    </tr>\n",
       "    <tr>\n",
       "      <th>2012-01-01 00:03:00</th>\n",
       "      <td>-14.269246</td>\n",
       "      <td>-0.079274</td>\n",
       "      <td>1.676901</td>\n",
       "      <td>0.009316</td>\n",
       "      <td>23.953205</td>\n",
       "      <td>0.133073</td>\n",
       "    </tr>\n",
       "    <tr>\n",
       "      <th>2012-01-01 00:06:00</th>\n",
       "      <td>-14.039808</td>\n",
       "      <td>-0.077999</td>\n",
       "      <td>1.556354</td>\n",
       "      <td>0.008646</td>\n",
       "      <td>-10.711313</td>\n",
       "      <td>-0.059507</td>\n",
       "    </tr>\n",
       "    <tr>\n",
       "      <th>2012-01-01 00:09:00</th>\n",
       "      <td>7.235426</td>\n",
       "      <td>0.040197</td>\n",
       "      <td>-4.370423</td>\n",
       "      <td>-0.024280</td>\n",
       "      <td>13.719735</td>\n",
       "      <td>0.076221</td>\n",
       "    </tr>\n",
       "    <tr>\n",
       "      <th>2012-01-01 00:12:00</th>\n",
       "      <td>-2.511764</td>\n",
       "      <td>-0.013954</td>\n",
       "      <td>-0.258739</td>\n",
       "      <td>-0.001437</td>\n",
       "      <td>8.536819</td>\n",
       "      <td>0.047427</td>\n",
       "    </tr>\n",
       "    <tr>\n",
       "      <th>2012-01-01 00:15:00</th>\n",
       "      <td>3.508013</td>\n",
       "      <td>0.035080</td>\n",
       "      <td>-2.002848</td>\n",
       "      <td>-0.020028</td>\n",
       "      <td>-0.052938</td>\n",
       "      <td>-0.000529</td>\n",
       "    </tr>\n",
       "  </tbody>\n",
       "</table>\n",
       "</div>"
      ],
      "text/plain": [
       "                             A                    B                    C  \\\n",
       "                           sum      mean        sum      mean        sum   \n",
       "2012-01-01 00:00:00  -9.841221 -0.054673 -24.185439 -0.134364   7.775663   \n",
       "2012-01-01 00:03:00 -14.269246 -0.079274   1.676901  0.009316  23.953205   \n",
       "2012-01-01 00:06:00 -14.039808 -0.077999   1.556354  0.008646 -10.711313   \n",
       "2012-01-01 00:09:00   7.235426  0.040197  -4.370423 -0.024280  13.719735   \n",
       "2012-01-01 00:12:00  -2.511764 -0.013954  -0.258739 -0.001437   8.536819   \n",
       "2012-01-01 00:15:00   3.508013  0.035080  -2.002848 -0.020028  -0.052938   \n",
       "\n",
       "                               \n",
       "                         mean  \n",
       "2012-01-01 00:00:00  0.043198  \n",
       "2012-01-01 00:03:00  0.133073  \n",
       "2012-01-01 00:06:00 -0.059507  \n",
       "2012-01-01 00:09:00  0.076221  \n",
       "2012-01-01 00:12:00  0.047427  \n",
       "2012-01-01 00:15:00 -0.000529  "
      ]
     },
     "execution_count": 83,
     "metadata": {},
     "output_type": "execute_result"
    }
   ],
   "source": [
    "r.agg([np.sum, np.mean])"
   ]
  },
  {
   "cell_type": "code",
   "execution_count": 87,
   "metadata": {},
   "outputs": [
    {
     "data": {
      "text/html": [
       "<div>\n",
       "<style scoped>\n",
       "    .dataframe tbody tr th:only-of-type {\n",
       "        vertical-align: middle;\n",
       "    }\n",
       "\n",
       "    .dataframe tbody tr th {\n",
       "        vertical-align: top;\n",
       "    }\n",
       "\n",
       "    .dataframe thead th {\n",
       "        text-align: right;\n",
       "    }\n",
       "</style>\n",
       "<table border=\"1\" class=\"dataframe\">\n",
       "  <thead>\n",
       "    <tr style=\"text-align: right;\">\n",
       "      <th></th>\n",
       "      <th>A</th>\n",
       "      <th>B</th>\n",
       "    </tr>\n",
       "  </thead>\n",
       "  <tbody>\n",
       "    <tr>\n",
       "      <th>2012-01-01 00:00:00</th>\n",
       "      <td>-9.841221</td>\n",
       "      <td>0.956444</td>\n",
       "    </tr>\n",
       "    <tr>\n",
       "      <th>2012-01-01 00:03:00</th>\n",
       "      <td>-14.269246</td>\n",
       "      <td>1.032494</td>\n",
       "    </tr>\n",
       "    <tr>\n",
       "      <th>2012-01-01 00:06:00</th>\n",
       "      <td>-14.039808</td>\n",
       "      <td>1.039294</td>\n",
       "    </tr>\n",
       "    <tr>\n",
       "      <th>2012-01-01 00:09:00</th>\n",
       "      <td>7.235426</td>\n",
       "      <td>0.908334</td>\n",
       "    </tr>\n",
       "    <tr>\n",
       "      <th>2012-01-01 00:12:00</th>\n",
       "      <td>-2.511764</td>\n",
       "      <td>1.085446</td>\n",
       "    </tr>\n",
       "    <tr>\n",
       "      <th>2012-01-01 00:15:00</th>\n",
       "      <td>3.508013</td>\n",
       "      <td>1.124361</td>\n",
       "    </tr>\n",
       "  </tbody>\n",
       "</table>\n",
       "</div>"
      ],
      "text/plain": [
       "                             A         B\n",
       "2012-01-01 00:00:00  -9.841221  0.956444\n",
       "2012-01-01 00:03:00 -14.269246  1.032494\n",
       "2012-01-01 00:06:00 -14.039808  1.039294\n",
       "2012-01-01 00:09:00   7.235426  0.908334\n",
       "2012-01-01 00:12:00  -2.511764  1.085446\n",
       "2012-01-01 00:15:00   3.508013  1.124361"
      ]
     },
     "execution_count": 87,
     "metadata": {},
     "output_type": "execute_result"
    }
   ],
   "source": [
    "r.agg({\"A\": np.sum, \"B\": lambda x: np.std(x)})"
   ]
  },
  {
   "cell_type": "code",
   "execution_count": 88,
   "metadata": {},
   "outputs": [
    {
     "data": {
      "text/html": [
       "<div>\n",
       "<style scoped>\n",
       "    .dataframe tbody tr th:only-of-type {\n",
       "        vertical-align: middle;\n",
       "    }\n",
       "\n",
       "    .dataframe tbody tr th {\n",
       "        vertical-align: top;\n",
       "    }\n",
       "\n",
       "    .dataframe thead th {\n",
       "        text-align: right;\n",
       "    }\n",
       "</style>\n",
       "<table border=\"1\" class=\"dataframe\">\n",
       "  <thead>\n",
       "    <tr style=\"text-align: right;\">\n",
       "      <th></th>\n",
       "      <th>A</th>\n",
       "      <th>B</th>\n",
       "    </tr>\n",
       "  </thead>\n",
       "  <tbody>\n",
       "    <tr>\n",
       "      <th>2012-01-01 00:00:00</th>\n",
       "      <td>-9.841221</td>\n",
       "      <td>0.959112</td>\n",
       "    </tr>\n",
       "    <tr>\n",
       "      <th>2012-01-01 00:03:00</th>\n",
       "      <td>-14.269246</td>\n",
       "      <td>1.035374</td>\n",
       "    </tr>\n",
       "    <tr>\n",
       "      <th>2012-01-01 00:06:00</th>\n",
       "      <td>-14.039808</td>\n",
       "      <td>1.042193</td>\n",
       "    </tr>\n",
       "    <tr>\n",
       "      <th>2012-01-01 00:09:00</th>\n",
       "      <td>7.235426</td>\n",
       "      <td>0.910868</td>\n",
       "    </tr>\n",
       "    <tr>\n",
       "      <th>2012-01-01 00:12:00</th>\n",
       "      <td>-2.511764</td>\n",
       "      <td>1.088474</td>\n",
       "    </tr>\n",
       "    <tr>\n",
       "      <th>2012-01-01 00:15:00</th>\n",
       "      <td>3.508013</td>\n",
       "      <td>1.130025</td>\n",
       "    </tr>\n",
       "  </tbody>\n",
       "</table>\n",
       "</div>"
      ],
      "text/plain": [
       "                             A         B\n",
       "2012-01-01 00:00:00  -9.841221  0.959112\n",
       "2012-01-01 00:03:00 -14.269246  1.035374\n",
       "2012-01-01 00:06:00 -14.039808  1.042193\n",
       "2012-01-01 00:09:00   7.235426  0.910868\n",
       "2012-01-01 00:12:00  -2.511764  1.088474\n",
       "2012-01-01 00:15:00   3.508013  1.130025"
      ]
     },
     "execution_count": 88,
     "metadata": {},
     "output_type": "execute_result"
    }
   ],
   "source": [
    "r.agg({\"A\": \"sum\", \"B\": \"std\"})"
   ]
  },
  {
   "cell_type": "code",
   "execution_count": 89,
   "metadata": {},
   "outputs": [
    {
     "data": {
      "text/html": [
       "<div>\n",
       "<style scoped>\n",
       "    .dataframe tbody tr th:only-of-type {\n",
       "        vertical-align: middle;\n",
       "    }\n",
       "\n",
       "    .dataframe tbody tr th {\n",
       "        vertical-align: top;\n",
       "    }\n",
       "\n",
       "    .dataframe thead tr th {\n",
       "        text-align: left;\n",
       "    }\n",
       "</style>\n",
       "<table border=\"1\" class=\"dataframe\">\n",
       "  <thead>\n",
       "    <tr>\n",
       "      <th></th>\n",
       "      <th colspan=\"3\" halign=\"left\">A</th>\n",
       "      <th colspan=\"3\" halign=\"left\">B</th>\n",
       "    </tr>\n",
       "    <tr>\n",
       "      <th></th>\n",
       "      <th>sum</th>\n",
       "      <th>std</th>\n",
       "      <th>max</th>\n",
       "      <th>mean</th>\n",
       "      <th>std</th>\n",
       "      <th>max</th>\n",
       "    </tr>\n",
       "  </thead>\n",
       "  <tbody>\n",
       "    <tr>\n",
       "      <th>2012-01-01 00:00:00</th>\n",
       "      <td>-9.841221</td>\n",
       "      <td>1.078477</td>\n",
       "      <td>3.007464</td>\n",
       "      <td>-0.134364</td>\n",
       "      <td>0.959112</td>\n",
       "      <td>1.953024</td>\n",
       "    </tr>\n",
       "    <tr>\n",
       "      <th>2012-01-01 00:03:00</th>\n",
       "      <td>-14.269246</td>\n",
       "      <td>0.997305</td>\n",
       "      <td>2.534582</td>\n",
       "      <td>0.009316</td>\n",
       "      <td>1.035374</td>\n",
       "      <td>2.977145</td>\n",
       "    </tr>\n",
       "    <tr>\n",
       "      <th>2012-01-01 00:06:00</th>\n",
       "      <td>-14.039808</td>\n",
       "      <td>1.076906</td>\n",
       "      <td>2.622999</td>\n",
       "      <td>0.008646</td>\n",
       "      <td>1.042193</td>\n",
       "      <td>2.358387</td>\n",
       "    </tr>\n",
       "    <tr>\n",
       "      <th>2012-01-01 00:09:00</th>\n",
       "      <td>7.235426</td>\n",
       "      <td>0.996597</td>\n",
       "      <td>2.320724</td>\n",
       "      <td>-0.024280</td>\n",
       "      <td>0.910868</td>\n",
       "      <td>2.197304</td>\n",
       "    </tr>\n",
       "    <tr>\n",
       "      <th>2012-01-01 00:12:00</th>\n",
       "      <td>-2.511764</td>\n",
       "      <td>0.930977</td>\n",
       "      <td>2.237481</td>\n",
       "      <td>-0.001437</td>\n",
       "      <td>1.088474</td>\n",
       "      <td>3.377044</td>\n",
       "    </tr>\n",
       "    <tr>\n",
       "      <th>2012-01-01 00:15:00</th>\n",
       "      <td>3.508013</td>\n",
       "      <td>0.960682</td>\n",
       "      <td>4.335519</td>\n",
       "      <td>-0.020028</td>\n",
       "      <td>1.130025</td>\n",
       "      <td>2.750293</td>\n",
       "    </tr>\n",
       "  </tbody>\n",
       "</table>\n",
       "</div>"
      ],
      "text/plain": [
       "                             A                             B            \\\n",
       "                           sum       std       max      mean       std   \n",
       "2012-01-01 00:00:00  -9.841221  1.078477  3.007464 -0.134364  0.959112   \n",
       "2012-01-01 00:03:00 -14.269246  0.997305  2.534582  0.009316  1.035374   \n",
       "2012-01-01 00:06:00 -14.039808  1.076906  2.622999  0.008646  1.042193   \n",
       "2012-01-01 00:09:00   7.235426  0.996597  2.320724 -0.024280  0.910868   \n",
       "2012-01-01 00:12:00  -2.511764  0.930977  2.237481 -0.001437  1.088474   \n",
       "2012-01-01 00:15:00   3.508013  0.960682  4.335519 -0.020028  1.130025   \n",
       "\n",
       "                               \n",
       "                          max  \n",
       "2012-01-01 00:00:00  1.953024  \n",
       "2012-01-01 00:03:00  2.977145  \n",
       "2012-01-01 00:06:00  2.358387  \n",
       "2012-01-01 00:09:00  2.197304  \n",
       "2012-01-01 00:12:00  3.377044  \n",
       "2012-01-01 00:15:00  2.750293  "
      ]
     },
     "execution_count": 89,
     "metadata": {},
     "output_type": "execute_result"
    }
   ],
   "source": [
    "r.agg({\"A\": [\"sum\", \"std\",\"max\"], \"B\": [\"mean\", \"std\",\"max\"]})"
   ]
  },
  {
   "cell_type": "code",
   "execution_count": 90,
   "metadata": {},
   "outputs": [
    {
     "data": {
      "text/html": [
       "<div>\n",
       "<style scoped>\n",
       "    .dataframe tbody tr th:only-of-type {\n",
       "        vertical-align: middle;\n",
       "    }\n",
       "\n",
       "    .dataframe tbody tr th {\n",
       "        vertical-align: top;\n",
       "    }\n",
       "\n",
       "    .dataframe thead th {\n",
       "        text-align: right;\n",
       "    }\n",
       "</style>\n",
       "<table border=\"1\" class=\"dataframe\">\n",
       "  <thead>\n",
       "    <tr style=\"text-align: right;\">\n",
       "      <th></th>\n",
       "      <th></th>\n",
       "      <th>date</th>\n",
       "      <th>a</th>\n",
       "    </tr>\n",
       "    <tr>\n",
       "      <th>v</th>\n",
       "      <th>d</th>\n",
       "      <th></th>\n",
       "      <th></th>\n",
       "    </tr>\n",
       "  </thead>\n",
       "  <tbody>\n",
       "    <tr>\n",
       "      <th>1</th>\n",
       "      <th>2015-01-04</th>\n",
       "      <td>2015-01-04</td>\n",
       "      <td>0</td>\n",
       "    </tr>\n",
       "    <tr>\n",
       "      <th>2</th>\n",
       "      <th>2015-01-11</th>\n",
       "      <td>2015-01-11</td>\n",
       "      <td>1</td>\n",
       "    </tr>\n",
       "    <tr>\n",
       "      <th>3</th>\n",
       "      <th>2015-01-18</th>\n",
       "      <td>2015-01-18</td>\n",
       "      <td>2</td>\n",
       "    </tr>\n",
       "    <tr>\n",
       "      <th>4</th>\n",
       "      <th>2015-01-25</th>\n",
       "      <td>2015-01-25</td>\n",
       "      <td>3</td>\n",
       "    </tr>\n",
       "    <tr>\n",
       "      <th>5</th>\n",
       "      <th>2015-02-01</th>\n",
       "      <td>2015-02-01</td>\n",
       "      <td>4</td>\n",
       "    </tr>\n",
       "  </tbody>\n",
       "</table>\n",
       "</div>"
      ],
      "text/plain": [
       "                   date  a\n",
       "v d                       \n",
       "1 2015-01-04 2015-01-04  0\n",
       "2 2015-01-11 2015-01-11  1\n",
       "3 2015-01-18 2015-01-18  2\n",
       "4 2015-01-25 2015-01-25  3\n",
       "5 2015-02-01 2015-02-01  4"
      ]
     },
     "execution_count": 90,
     "metadata": {},
     "output_type": "execute_result"
    }
   ],
   "source": [
    "df = pd.DataFrame(\n",
    "        {\"date\": pd.date_range(\"2015-01-01\", freq=\"W\", periods=5), \"a\": np.arange(5)},\n",
    "        index=pd.MultiIndex.from_arrays(\n",
    "            [[1, 2, 3, 4, 5], pd.date_range(\"2015-01-01\", freq=\"W\", periods=5)],\n",
    "            names=[\"v\", \"d\"],),)\n",
    "df"
   ]
  },
  {
   "cell_type": "code",
   "execution_count": 91,
   "metadata": {},
   "outputs": [
    {
     "data": {
      "text/html": [
       "<div>\n",
       "<style scoped>\n",
       "    .dataframe tbody tr th:only-of-type {\n",
       "        vertical-align: middle;\n",
       "    }\n",
       "\n",
       "    .dataframe tbody tr th {\n",
       "        vertical-align: top;\n",
       "    }\n",
       "\n",
       "    .dataframe thead th {\n",
       "        text-align: right;\n",
       "    }\n",
       "</style>\n",
       "<table border=\"1\" class=\"dataframe\">\n",
       "  <thead>\n",
       "    <tr style=\"text-align: right;\">\n",
       "      <th></th>\n",
       "      <th>a</th>\n",
       "    </tr>\n",
       "    <tr>\n",
       "      <th>date</th>\n",
       "      <th></th>\n",
       "    </tr>\n",
       "  </thead>\n",
       "  <tbody>\n",
       "    <tr>\n",
       "      <th>2015-01-31</th>\n",
       "      <td>6</td>\n",
       "    </tr>\n",
       "    <tr>\n",
       "      <th>2015-02-28</th>\n",
       "      <td>4</td>\n",
       "    </tr>\n",
       "  </tbody>\n",
       "</table>\n",
       "</div>"
      ],
      "text/plain": [
       "            a\n",
       "date         \n",
       "2015-01-31  6\n",
       "2015-02-28  4"
      ]
     },
     "execution_count": 91,
     "metadata": {},
     "output_type": "execute_result"
    }
   ],
   "source": [
    "df.resample(\"M\", on=\"date\").sum()"
   ]
  },
  {
   "cell_type": "code",
   "execution_count": 93,
   "metadata": {},
   "outputs": [
    {
     "data": {
      "text/html": [
       "<div>\n",
       "<style scoped>\n",
       "    .dataframe tbody tr th:only-of-type {\n",
       "        vertical-align: middle;\n",
       "    }\n",
       "\n",
       "    .dataframe tbody tr th {\n",
       "        vertical-align: top;\n",
       "    }\n",
       "\n",
       "    .dataframe thead th {\n",
       "        text-align: right;\n",
       "    }\n",
       "</style>\n",
       "<table border=\"1\" class=\"dataframe\">\n",
       "  <thead>\n",
       "    <tr style=\"text-align: right;\">\n",
       "      <th></th>\n",
       "      <th>a</th>\n",
       "    </tr>\n",
       "    <tr>\n",
       "      <th>d</th>\n",
       "      <th></th>\n",
       "    </tr>\n",
       "  </thead>\n",
       "  <tbody>\n",
       "    <tr>\n",
       "      <th>2015-01-31</th>\n",
       "      <td>6</td>\n",
       "    </tr>\n",
       "    <tr>\n",
       "      <th>2015-02-28</th>\n",
       "      <td>4</td>\n",
       "    </tr>\n",
       "  </tbody>\n",
       "</table>\n",
       "</div>"
      ],
      "text/plain": [
       "            a\n",
       "d            \n",
       "2015-01-31  6\n",
       "2015-02-28  4"
      ]
     },
     "execution_count": 93,
     "metadata": {},
     "output_type": "execute_result"
    }
   ],
   "source": [
    "#in a multiindex you can choose via level.\n",
    "df.resample(\"M\", level=\"d\").sum()"
   ]
  },
  {
   "cell_type": "code",
   "execution_count": 2,
   "metadata": {},
   "outputs": [],
   "source": [
    "import pandas as pd"
   ]
  },
  {
   "cell_type": "code",
   "execution_count": 5,
   "metadata": {},
   "outputs": [
    {
     "data": {
      "text/html": [
       "<div>\n",
       "<style scoped>\n",
       "    .dataframe tbody tr th:only-of-type {\n",
       "        vertical-align: middle;\n",
       "    }\n",
       "\n",
       "    .dataframe tbody tr th {\n",
       "        vertical-align: top;\n",
       "    }\n",
       "\n",
       "    .dataframe thead th {\n",
       "        text-align: right;\n",
       "    }\n",
       "</style>\n",
       "<table border=\"1\" class=\"dataframe\">\n",
       "  <thead>\n",
       "    <tr style=\"text-align: right;\">\n",
       "      <th></th>\n",
       "      <th></th>\n",
       "      <th>date</th>\n",
       "      <th>a</th>\n",
       "    </tr>\n",
       "    <tr>\n",
       "      <th>v</th>\n",
       "      <th>d</th>\n",
       "      <th></th>\n",
       "      <th></th>\n",
       "    </tr>\n",
       "  </thead>\n",
       "  <tbody>\n",
       "    <tr>\n",
       "      <th>0</th>\n",
       "      <th>2015-01-04</th>\n",
       "      <td>2015-01-04</td>\n",
       "      <td>0</td>\n",
       "    </tr>\n",
       "    <tr>\n",
       "      <th>1</th>\n",
       "      <th>2015-01-11</th>\n",
       "      <td>2015-01-11</td>\n",
       "      <td>1</td>\n",
       "    </tr>\n",
       "    <tr>\n",
       "      <th>2</th>\n",
       "      <th>2015-01-18</th>\n",
       "      <td>2015-01-18</td>\n",
       "      <td>2</td>\n",
       "    </tr>\n",
       "    <tr>\n",
       "      <th>3</th>\n",
       "      <th>2015-01-25</th>\n",
       "      <td>2015-01-25</td>\n",
       "      <td>3</td>\n",
       "    </tr>\n",
       "    <tr>\n",
       "      <th>4</th>\n",
       "      <th>2015-02-01</th>\n",
       "      <td>2015-02-01</td>\n",
       "      <td>4</td>\n",
       "    </tr>\n",
       "    <tr>\n",
       "      <th>5</th>\n",
       "      <th>2015-02-08</th>\n",
       "      <td>2015-02-08</td>\n",
       "      <td>5</td>\n",
       "    </tr>\n",
       "    <tr>\n",
       "      <th>6</th>\n",
       "      <th>2015-02-15</th>\n",
       "      <td>2015-02-15</td>\n",
       "      <td>6</td>\n",
       "    </tr>\n",
       "    <tr>\n",
       "      <th>7</th>\n",
       "      <th>2015-02-22</th>\n",
       "      <td>2015-02-22</td>\n",
       "      <td>7</td>\n",
       "    </tr>\n",
       "    <tr>\n",
       "      <th>8</th>\n",
       "      <th>2015-03-01</th>\n",
       "      <td>2015-03-01</td>\n",
       "      <td>8</td>\n",
       "    </tr>\n",
       "    <tr>\n",
       "      <th>9</th>\n",
       "      <th>2015-03-08</th>\n",
       "      <td>2015-03-08</td>\n",
       "      <td>9</td>\n",
       "    </tr>\n",
       "    <tr>\n",
       "      <th>10</th>\n",
       "      <th>2015-03-15</th>\n",
       "      <td>2015-03-15</td>\n",
       "      <td>10</td>\n",
       "    </tr>\n",
       "    <tr>\n",
       "      <th>11</th>\n",
       "      <th>2015-03-22</th>\n",
       "      <td>2015-03-22</td>\n",
       "      <td>11</td>\n",
       "    </tr>\n",
       "    <tr>\n",
       "      <th>12</th>\n",
       "      <th>2015-03-29</th>\n",
       "      <td>2015-03-29</td>\n",
       "      <td>12</td>\n",
       "    </tr>\n",
       "    <tr>\n",
       "      <th>13</th>\n",
       "      <th>2015-04-05</th>\n",
       "      <td>2015-04-05</td>\n",
       "      <td>13</td>\n",
       "    </tr>\n",
       "    <tr>\n",
       "      <th>14</th>\n",
       "      <th>2015-04-12</th>\n",
       "      <td>2015-04-12</td>\n",
       "      <td>14</td>\n",
       "    </tr>\n",
       "    <tr>\n",
       "      <th>15</th>\n",
       "      <th>2015-04-19</th>\n",
       "      <td>2015-04-19</td>\n",
       "      <td>15</td>\n",
       "    </tr>\n",
       "    <tr>\n",
       "      <th>16</th>\n",
       "      <th>2015-04-26</th>\n",
       "      <td>2015-04-26</td>\n",
       "      <td>16</td>\n",
       "    </tr>\n",
       "    <tr>\n",
       "      <th>17</th>\n",
       "      <th>2015-05-03</th>\n",
       "      <td>2015-05-03</td>\n",
       "      <td>17</td>\n",
       "    </tr>\n",
       "    <tr>\n",
       "      <th>18</th>\n",
       "      <th>2015-05-10</th>\n",
       "      <td>2015-05-10</td>\n",
       "      <td>18</td>\n",
       "    </tr>\n",
       "    <tr>\n",
       "      <th>19</th>\n",
       "      <th>2015-05-17</th>\n",
       "      <td>2015-05-17</td>\n",
       "      <td>19</td>\n",
       "    </tr>\n",
       "    <tr>\n",
       "      <th>20</th>\n",
       "      <th>2015-05-24</th>\n",
       "      <td>2015-05-24</td>\n",
       "      <td>20</td>\n",
       "    </tr>\n",
       "    <tr>\n",
       "      <th>21</th>\n",
       "      <th>2015-05-31</th>\n",
       "      <td>2015-05-31</td>\n",
       "      <td>21</td>\n",
       "    </tr>\n",
       "    <tr>\n",
       "      <th>22</th>\n",
       "      <th>2015-06-07</th>\n",
       "      <td>2015-06-07</td>\n",
       "      <td>22</td>\n",
       "    </tr>\n",
       "    <tr>\n",
       "      <th>23</th>\n",
       "      <th>2015-06-14</th>\n",
       "      <td>2015-06-14</td>\n",
       "      <td>23</td>\n",
       "    </tr>\n",
       "    <tr>\n",
       "      <th>24</th>\n",
       "      <th>2015-06-21</th>\n",
       "      <td>2015-06-21</td>\n",
       "      <td>24</td>\n",
       "    </tr>\n",
       "    <tr>\n",
       "      <th>25</th>\n",
       "      <th>2015-06-28</th>\n",
       "      <td>2015-06-28</td>\n",
       "      <td>25</td>\n",
       "    </tr>\n",
       "    <tr>\n",
       "      <th>26</th>\n",
       "      <th>2015-07-05</th>\n",
       "      <td>2015-07-05</td>\n",
       "      <td>26</td>\n",
       "    </tr>\n",
       "    <tr>\n",
       "      <th>27</th>\n",
       "      <th>2015-07-12</th>\n",
       "      <td>2015-07-12</td>\n",
       "      <td>27</td>\n",
       "    </tr>\n",
       "    <tr>\n",
       "      <th>28</th>\n",
       "      <th>2015-07-19</th>\n",
       "      <td>2015-07-19</td>\n",
       "      <td>28</td>\n",
       "    </tr>\n",
       "    <tr>\n",
       "      <th>29</th>\n",
       "      <th>2015-07-26</th>\n",
       "      <td>2015-07-26</td>\n",
       "      <td>29</td>\n",
       "    </tr>\n",
       "    <tr>\n",
       "      <th>30</th>\n",
       "      <th>2015-08-02</th>\n",
       "      <td>2015-08-02</td>\n",
       "      <td>30</td>\n",
       "    </tr>\n",
       "    <tr>\n",
       "      <th>31</th>\n",
       "      <th>2015-08-09</th>\n",
       "      <td>2015-08-09</td>\n",
       "      <td>31</td>\n",
       "    </tr>\n",
       "    <tr>\n",
       "      <th>32</th>\n",
       "      <th>2015-08-16</th>\n",
       "      <td>2015-08-16</td>\n",
       "      <td>32</td>\n",
       "    </tr>\n",
       "    <tr>\n",
       "      <th>33</th>\n",
       "      <th>2015-08-23</th>\n",
       "      <td>2015-08-23</td>\n",
       "      <td>33</td>\n",
       "    </tr>\n",
       "    <tr>\n",
       "      <th>34</th>\n",
       "      <th>2015-08-30</th>\n",
       "      <td>2015-08-30</td>\n",
       "      <td>34</td>\n",
       "    </tr>\n",
       "    <tr>\n",
       "      <th>35</th>\n",
       "      <th>2015-09-06</th>\n",
       "      <td>2015-09-06</td>\n",
       "      <td>35</td>\n",
       "    </tr>\n",
       "    <tr>\n",
       "      <th>36</th>\n",
       "      <th>2015-09-13</th>\n",
       "      <td>2015-09-13</td>\n",
       "      <td>36</td>\n",
       "    </tr>\n",
       "    <tr>\n",
       "      <th>37</th>\n",
       "      <th>2015-09-20</th>\n",
       "      <td>2015-09-20</td>\n",
       "      <td>37</td>\n",
       "    </tr>\n",
       "    <tr>\n",
       "      <th>38</th>\n",
       "      <th>2015-09-27</th>\n",
       "      <td>2015-09-27</td>\n",
       "      <td>38</td>\n",
       "    </tr>\n",
       "    <tr>\n",
       "      <th>39</th>\n",
       "      <th>2015-10-04</th>\n",
       "      <td>2015-10-04</td>\n",
       "      <td>39</td>\n",
       "    </tr>\n",
       "    <tr>\n",
       "      <th>40</th>\n",
       "      <th>2015-10-11</th>\n",
       "      <td>2015-10-11</td>\n",
       "      <td>40</td>\n",
       "    </tr>\n",
       "    <tr>\n",
       "      <th>41</th>\n",
       "      <th>2015-10-18</th>\n",
       "      <td>2015-10-18</td>\n",
       "      <td>41</td>\n",
       "    </tr>\n",
       "    <tr>\n",
       "      <th>42</th>\n",
       "      <th>2015-10-25</th>\n",
       "      <td>2015-10-25</td>\n",
       "      <td>42</td>\n",
       "    </tr>\n",
       "    <tr>\n",
       "      <th>43</th>\n",
       "      <th>2015-11-01</th>\n",
       "      <td>2015-11-01</td>\n",
       "      <td>43</td>\n",
       "    </tr>\n",
       "    <tr>\n",
       "      <th>44</th>\n",
       "      <th>2015-11-08</th>\n",
       "      <td>2015-11-08</td>\n",
       "      <td>44</td>\n",
       "    </tr>\n",
       "    <tr>\n",
       "      <th>45</th>\n",
       "      <th>2015-11-15</th>\n",
       "      <td>2015-11-15</td>\n",
       "      <td>45</td>\n",
       "    </tr>\n",
       "    <tr>\n",
       "      <th>46</th>\n",
       "      <th>2015-11-22</th>\n",
       "      <td>2015-11-22</td>\n",
       "      <td>46</td>\n",
       "    </tr>\n",
       "    <tr>\n",
       "      <th>47</th>\n",
       "      <th>2015-11-29</th>\n",
       "      <td>2015-11-29</td>\n",
       "      <td>47</td>\n",
       "    </tr>\n",
       "    <tr>\n",
       "      <th>48</th>\n",
       "      <th>2015-12-06</th>\n",
       "      <td>2015-12-06</td>\n",
       "      <td>48</td>\n",
       "    </tr>\n",
       "    <tr>\n",
       "      <th>49</th>\n",
       "      <th>2015-12-13</th>\n",
       "      <td>2015-12-13</td>\n",
       "      <td>49</td>\n",
       "    </tr>\n",
       "  </tbody>\n",
       "</table>\n",
       "</div>"
      ],
      "text/plain": [
       "                    date   a\n",
       "v  d                        \n",
       "0  2015-01-04 2015-01-04   0\n",
       "1  2015-01-11 2015-01-11   1\n",
       "2  2015-01-18 2015-01-18   2\n",
       "3  2015-01-25 2015-01-25   3\n",
       "4  2015-02-01 2015-02-01   4\n",
       "5  2015-02-08 2015-02-08   5\n",
       "6  2015-02-15 2015-02-15   6\n",
       "7  2015-02-22 2015-02-22   7\n",
       "8  2015-03-01 2015-03-01   8\n",
       "9  2015-03-08 2015-03-08   9\n",
       "10 2015-03-15 2015-03-15  10\n",
       "11 2015-03-22 2015-03-22  11\n",
       "12 2015-03-29 2015-03-29  12\n",
       "13 2015-04-05 2015-04-05  13\n",
       "14 2015-04-12 2015-04-12  14\n",
       "15 2015-04-19 2015-04-19  15\n",
       "16 2015-04-26 2015-04-26  16\n",
       "17 2015-05-03 2015-05-03  17\n",
       "18 2015-05-10 2015-05-10  18\n",
       "19 2015-05-17 2015-05-17  19\n",
       "20 2015-05-24 2015-05-24  20\n",
       "21 2015-05-31 2015-05-31  21\n",
       "22 2015-06-07 2015-06-07  22\n",
       "23 2015-06-14 2015-06-14  23\n",
       "24 2015-06-21 2015-06-21  24\n",
       "25 2015-06-28 2015-06-28  25\n",
       "26 2015-07-05 2015-07-05  26\n",
       "27 2015-07-12 2015-07-12  27\n",
       "28 2015-07-19 2015-07-19  28\n",
       "29 2015-07-26 2015-07-26  29\n",
       "30 2015-08-02 2015-08-02  30\n",
       "31 2015-08-09 2015-08-09  31\n",
       "32 2015-08-16 2015-08-16  32\n",
       "33 2015-08-23 2015-08-23  33\n",
       "34 2015-08-30 2015-08-30  34\n",
       "35 2015-09-06 2015-09-06  35\n",
       "36 2015-09-13 2015-09-13  36\n",
       "37 2015-09-20 2015-09-20  37\n",
       "38 2015-09-27 2015-09-27  38\n",
       "39 2015-10-04 2015-10-04  39\n",
       "40 2015-10-11 2015-10-11  40\n",
       "41 2015-10-18 2015-10-18  41\n",
       "42 2015-10-25 2015-10-25  42\n",
       "43 2015-11-01 2015-11-01  43\n",
       "44 2015-11-08 2015-11-08  44\n",
       "45 2015-11-15 2015-11-15  45\n",
       "46 2015-11-22 2015-11-22  46\n",
       "47 2015-11-29 2015-11-29  47\n",
       "48 2015-12-06 2015-12-06  48\n",
       "49 2015-12-13 2015-12-13  49"
      ]
     },
     "execution_count": 5,
     "metadata": {},
     "output_type": "execute_result"
    }
   ],
   "source": [
    "df1 = pd.DataFrame(\n",
    "        {\"date\": pd.date_range(\"2015-01-01\", freq=\"W\", periods=50), \"a\": np.arange(50)},\n",
    "        index=pd.MultiIndex.from_arrays(\n",
    "            [np.arange(50), pd.date_range(\"2015-01-01\", freq=\"W\", periods=50)],\n",
    "            names=[\"v\", \"d\"],),)\n",
    "df1"
   ]
  },
  {
   "cell_type": "code",
   "execution_count": 6,
   "metadata": {},
   "outputs": [
    {
     "data": {
      "text/html": [
       "<div>\n",
       "<style scoped>\n",
       "    .dataframe tbody tr th:only-of-type {\n",
       "        vertical-align: middle;\n",
       "    }\n",
       "\n",
       "    .dataframe tbody tr th {\n",
       "        vertical-align: top;\n",
       "    }\n",
       "\n",
       "    .dataframe thead th {\n",
       "        text-align: right;\n",
       "    }\n",
       "</style>\n",
       "<table border=\"1\" class=\"dataframe\">\n",
       "  <thead>\n",
       "    <tr style=\"text-align: right;\">\n",
       "      <th></th>\n",
       "      <th>a</th>\n",
       "    </tr>\n",
       "    <tr>\n",
       "      <th>date</th>\n",
       "      <th></th>\n",
       "    </tr>\n",
       "  </thead>\n",
       "  <tbody>\n",
       "    <tr>\n",
       "      <th>2015-01-31</th>\n",
       "      <td>6</td>\n",
       "    </tr>\n",
       "    <tr>\n",
       "      <th>2015-02-28</th>\n",
       "      <td>22</td>\n",
       "    </tr>\n",
       "    <tr>\n",
       "      <th>2015-03-31</th>\n",
       "      <td>50</td>\n",
       "    </tr>\n",
       "    <tr>\n",
       "      <th>2015-04-30</th>\n",
       "      <td>58</td>\n",
       "    </tr>\n",
       "    <tr>\n",
       "      <th>2015-05-31</th>\n",
       "      <td>95</td>\n",
       "    </tr>\n",
       "    <tr>\n",
       "      <th>2015-06-30</th>\n",
       "      <td>94</td>\n",
       "    </tr>\n",
       "    <tr>\n",
       "      <th>2015-07-31</th>\n",
       "      <td>110</td>\n",
       "    </tr>\n",
       "    <tr>\n",
       "      <th>2015-08-31</th>\n",
       "      <td>160</td>\n",
       "    </tr>\n",
       "    <tr>\n",
       "      <th>2015-09-30</th>\n",
       "      <td>146</td>\n",
       "    </tr>\n",
       "    <tr>\n",
       "      <th>2015-10-31</th>\n",
       "      <td>162</td>\n",
       "    </tr>\n",
       "    <tr>\n",
       "      <th>2015-11-30</th>\n",
       "      <td>225</td>\n",
       "    </tr>\n",
       "    <tr>\n",
       "      <th>2015-12-31</th>\n",
       "      <td>97</td>\n",
       "    </tr>\n",
       "  </tbody>\n",
       "</table>\n",
       "</div>"
      ],
      "text/plain": [
       "              a\n",
       "date           \n",
       "2015-01-31    6\n",
       "2015-02-28   22\n",
       "2015-03-31   50\n",
       "2015-04-30   58\n",
       "2015-05-31   95\n",
       "2015-06-30   94\n",
       "2015-07-31  110\n",
       "2015-08-31  160\n",
       "2015-09-30  146\n",
       "2015-10-31  162\n",
       "2015-11-30  225\n",
       "2015-12-31   97"
      ]
     },
     "execution_count": 6,
     "metadata": {},
     "output_type": "execute_result"
    }
   ],
   "source": [
    "df1.resample(\"M\", on=\"date\").sum()"
   ]
  },
  {
   "cell_type": "code",
   "execution_count": 7,
   "metadata": {},
   "outputs": [
    {
     "data": {
      "text/plain": [
       "2017-01-01 00:00:00    0\n",
       "2017-01-01 00:30:00    1\n",
       "2017-01-01 00:31:00    2\n",
       "2017-01-01 01:00:00    3\n",
       "2017-01-01 03:00:00    4\n",
       "2017-01-01 03:05:00    5\n",
       "dtype: int64"
      ]
     },
     "execution_count": 7,
     "metadata": {},
     "output_type": "execute_result"
    }
   ],
   "source": [
    "small = pd.Series(\n",
    "        range(6),\n",
    "        index=pd.to_datetime(\n",
    "            [\n",
    "                \"2017-01-01T00:00:00\",\n",
    "                \"2017-01-01T00:30:00\",\n",
    "                \"2017-01-01T00:31:00\",\n",
    "                \"2017-01-01T01:00:00\",\n",
    "                \"2017-01-01T03:00:00\",\n",
    "                      \"2017-01-01T03:05:00\",]),)\n",
    "small"
   ]
  },
  {
   "cell_type": "code",
   "execution_count": 10,
   "metadata": {},
   "outputs": [
    {
     "data": {
      "text/plain": [
       "2017-01-02     0\n",
       "2017-01-03     1\n",
       "2017-01-04     2\n",
       "2017-01-05     3\n",
       "2017-01-06     4\n",
       "2017-01-09     5\n",
       "2017-01-10     6\n",
       "2017-01-11     7\n",
       "2017-01-12     8\n",
       "2017-01-13     9\n",
       "2017-01-16    10\n",
       "2017-01-17    11\n",
       "2017-01-18    12\n",
       "2017-01-19    13\n",
       "2017-01-20    14\n",
       "2017-01-23    15\n",
       "2017-01-24    16\n",
       "2017-01-25    17\n",
       "2017-01-26    18\n",
       "2017-01-27    19\n",
       "2017-01-30    20\n",
       "2017-01-31    21\n",
       "2017-02-01    22\n",
       "2017-02-02    23\n",
       "2017-02-03    24\n",
       "2017-02-06    25\n",
       "2017-02-07    26\n",
       "2017-02-08    27\n",
       "2017-02-09    28\n",
       "2017-02-10    29\n",
       "2017-02-13    30\n",
       "2017-02-14    31\n",
       "2017-02-15    32\n",
       "2017-02-16    33\n",
       "2017-02-17    34\n",
       "2017-02-20    35\n",
       "2017-02-21    36\n",
       "2017-02-22    37\n",
       "2017-02-23    38\n",
       "2017-02-24    39\n",
       "2017-02-27    40\n",
       "2017-02-28    41\n",
       "2017-03-01    42\n",
       "2017-03-02    43\n",
       "2017-03-03    44\n",
       "2017-03-06    45\n",
       "2017-03-07    46\n",
       "2017-03-08    47\n",
       "2017-03-09    48\n",
       "2017-03-10    49\n",
       "Freq: B, dtype: int64"
      ]
     },
     "execution_count": 10,
     "metadata": {},
     "output_type": "execute_result"
    }
   ],
   "source": [
    "small1 = pd.Series(\n",
    "        range(50),\n",
    "        index=pd.date_range(\"2017-01-01T00:00:00\", periods=50, freq=\"B\"))\n",
    "small1"
   ]
  },
  {
   "cell_type": "code",
   "execution_count": 13,
   "metadata": {},
   "outputs": [
    {
     "data": {
      "text/plain": [
       "2017-01-08     10\n",
       "2017-01-15     35\n",
       "2017-01-22     60\n",
       "2017-01-29     85\n",
       "2017-02-05    110\n",
       "2017-02-12    135\n",
       "2017-02-19    160\n",
       "2017-02-26    185\n",
       "2017-03-05    210\n",
       "2017-03-12    235\n",
       "Freq: W-SUN, dtype: int64"
      ]
     },
     "execution_count": 13,
     "metadata": {},
     "output_type": "execute_result"
    }
   ],
   "source": [
    "resampled = small1.resample(\"W\").sum()\n",
    "resampled"
   ]
  },
  {
   "cell_type": "code",
   "execution_count": 16,
   "metadata": {},
   "outputs": [
    {
     "data": {
      "text/plain": [
       "<pandas.core.resample.DatetimeIndexResampler object at 0x000001F571837E48>"
      ]
     },
     "execution_count": 16,
     "metadata": {},
     "output_type": "execute_result"
    }
   ],
   "source": [
    "resampled1 = small1.resample(\"W\")\n",
    "resampled1"
   ]
  },
  {
   "cell_type": "code",
   "execution_count": 17,
   "metadata": {},
   "outputs": [
    {
     "name": "stdout",
     "output_type": "stream",
     "text": [
      "Group:  2017-01-08 00:00:00\n",
      "---------------------------\n",
      "2017-01-02    0\n",
      "2017-01-03    1\n",
      "2017-01-04    2\n",
      "2017-01-05    3\n",
      "2017-01-06    4\n",
      "Freq: B, dtype: int64\n",
      "\n",
      "Group:  2017-01-15 00:00:00\n",
      "---------------------------\n",
      "2017-01-09    5\n",
      "2017-01-10    6\n",
      "2017-01-11    7\n",
      "2017-01-12    8\n",
      "2017-01-13    9\n",
      "Freq: B, dtype: int64\n",
      "\n",
      "Group:  2017-01-22 00:00:00\n",
      "---------------------------\n",
      "2017-01-16    10\n",
      "2017-01-17    11\n",
      "2017-01-18    12\n",
      "2017-01-19    13\n",
      "2017-01-20    14\n",
      "Freq: B, dtype: int64\n",
      "\n",
      "Group:  2017-01-29 00:00:00\n",
      "---------------------------\n",
      "2017-01-23    15\n",
      "2017-01-24    16\n",
      "2017-01-25    17\n",
      "2017-01-26    18\n",
      "2017-01-27    19\n",
      "Freq: B, dtype: int64\n",
      "\n",
      "Group:  2017-02-05 00:00:00\n",
      "---------------------------\n",
      "2017-01-30    20\n",
      "2017-01-31    21\n",
      "2017-02-01    22\n",
      "2017-02-02    23\n",
      "2017-02-03    24\n",
      "Freq: B, dtype: int64\n",
      "\n",
      "Group:  2017-02-12 00:00:00\n",
      "---------------------------\n",
      "2017-02-06    25\n",
      "2017-02-07    26\n",
      "2017-02-08    27\n",
      "2017-02-09    28\n",
      "2017-02-10    29\n",
      "Freq: B, dtype: int64\n",
      "\n",
      "Group:  2017-02-19 00:00:00\n",
      "---------------------------\n",
      "2017-02-13    30\n",
      "2017-02-14    31\n",
      "2017-02-15    32\n",
      "2017-02-16    33\n",
      "2017-02-17    34\n",
      "Freq: B, dtype: int64\n",
      "\n",
      "Group:  2017-02-26 00:00:00\n",
      "---------------------------\n",
      "2017-02-20    35\n",
      "2017-02-21    36\n",
      "2017-02-22    37\n",
      "2017-02-23    38\n",
      "2017-02-24    39\n",
      "Freq: B, dtype: int64\n",
      "\n",
      "Group:  2017-03-05 00:00:00\n",
      "---------------------------\n",
      "2017-02-27    40\n",
      "2017-02-28    41\n",
      "2017-03-01    42\n",
      "2017-03-02    43\n",
      "2017-03-03    44\n",
      "Freq: B, dtype: int64\n",
      "\n",
      "Group:  2017-03-12 00:00:00\n",
      "---------------------------\n",
      "2017-03-06    45\n",
      "2017-03-07    46\n",
      "2017-03-08    47\n",
      "2017-03-09    48\n",
      "2017-03-10    49\n",
      "Freq: B, dtype: int64\n",
      "\n"
     ]
    }
   ],
   "source": [
    "for name, group in resampled1:\n",
    "        print(\"Group: \", name)\n",
    "        print(\"-\" * 27)\n",
    "        print(group, end=\"\\n\\n\")"
   ]
  },
  {
   "cell_type": "code",
   "execution_count": 18,
   "metadata": {},
   "outputs": [
    {
     "data": {
      "text/plain": [
       "2000-10-01 23:30:00     0\n",
       "2000-10-01 23:37:00     3\n",
       "2000-10-01 23:44:00     6\n",
       "2000-10-01 23:51:00     9\n",
       "2000-10-01 23:58:00    12\n",
       "2000-10-02 00:05:00    15\n",
       "2000-10-02 00:12:00    18\n",
       "2000-10-02 00:19:00    21\n",
       "2000-10-02 00:26:00    24\n",
       "Freq: 7T, dtype: int32"
      ]
     },
     "execution_count": 18,
     "metadata": {},
     "output_type": "execute_result"
    }
   ],
   "source": [
    "start, end = \"2000-10-01 23:30:00\", \"2000-10-02 00:30:00\"\n",
    "\n",
    "middle = \"2000-10-02 00:00:00\"\n",
    "\n",
    "rng = pd.date_range(start, end, freq=\"7min\")\n",
    "\n",
    "ts = pd.Series(np.arange(len(rng)) * 3, index=rng)\n",
    "\n",
    "ts"
   ]
  },
  {
   "cell_type": "code",
   "execution_count": 24,
   "metadata": {},
   "outputs": [
    {
     "data": {
      "text/plain": [
       "2000-10-01 23:14:00     0\n",
       "2000-10-01 23:31:00     9\n",
       "2000-10-01 23:48:00    21\n",
       "2000-10-02 00:05:00    54\n",
       "2000-10-02 00:22:00    24\n",
       "Freq: 17T, dtype: int32"
      ]
     },
     "execution_count": 24,
     "metadata": {},
     "output_type": "execute_result"
    }
   ],
   "source": [
    "ts.resample(\"17min\").sum()"
   ]
  },
  {
   "cell_type": "code",
   "execution_count": 25,
   "metadata": {},
   "outputs": [
    {
     "data": {
      "text/plain": [
       "2000-10-02 00:00:00    33\n",
       "2000-10-02 00:17:00    45\n",
       "Freq: 17T, dtype: int32"
      ]
     },
     "execution_count": 25,
     "metadata": {},
     "output_type": "execute_result"
    }
   ],
   "source": [
    "ts[middle:end].resample(\"17min\").sum()"
   ]
  },
  {
   "cell_type": "code",
   "execution_count": 27,
   "metadata": {},
   "outputs": [
    {
     "data": {
      "text/plain": [
       "2000-10-01 23:30:00      0\n",
       "2000-10-01 23:37:00      3\n",
       "2000-10-01 23:44:00      6\n",
       "2000-10-01 23:51:00      9\n",
       "2000-10-01 23:58:00     12\n",
       "2000-10-02 00:05:00     15\n",
       "2000-10-02 00:12:00     18\n",
       "2000-10-02 00:19:00     21\n",
       "2000-10-02 00:26:00     24\n",
       "2000-10-02 00:33:00     27\n",
       "2000-10-02 00:40:00     30\n",
       "2000-10-02 00:47:00     33\n",
       "2000-10-02 00:54:00     36\n",
       "2000-10-02 01:01:00     39\n",
       "2000-10-02 01:08:00     42\n",
       "2000-10-02 01:15:00     45\n",
       "2000-10-02 01:22:00     48\n",
       "2000-10-02 01:29:00     51\n",
       "2000-10-02 01:36:00     54\n",
       "2000-10-02 01:43:00     57\n",
       "2000-10-02 01:50:00     60\n",
       "2000-10-02 01:57:00     63\n",
       "2000-10-02 02:04:00     66\n",
       "2000-10-02 02:11:00     69\n",
       "2000-10-02 02:18:00     72\n",
       "2000-10-02 02:25:00     75\n",
       "2000-10-02 02:32:00     78\n",
       "2000-10-02 02:39:00     81\n",
       "2000-10-02 02:46:00     84\n",
       "2000-10-02 02:53:00     87\n",
       "2000-10-02 03:00:00     90\n",
       "2000-10-02 03:07:00     93\n",
       "2000-10-02 03:14:00     96\n",
       "2000-10-02 03:21:00     99\n",
       "2000-10-02 03:28:00    102\n",
       "2000-10-02 03:35:00    105\n",
       "2000-10-02 03:42:00    108\n",
       "2000-10-02 03:49:00    111\n",
       "2000-10-02 03:56:00    114\n",
       "2000-10-02 04:03:00    117\n",
       "2000-10-02 04:10:00    120\n",
       "2000-10-02 04:17:00    123\n",
       "2000-10-02 04:24:00    126\n",
       "2000-10-02 04:31:00    129\n",
       "2000-10-02 04:38:00    132\n",
       "2000-10-02 04:45:00    135\n",
       "2000-10-02 04:52:00    138\n",
       "2000-10-02 04:59:00    141\n",
       "2000-10-02 05:06:00    144\n",
       "2000-10-02 05:13:00    147\n",
       "2000-10-02 05:20:00    150\n",
       "2000-10-02 05:27:00    153\n",
       "Freq: 7T, dtype: int32"
      ]
     },
     "execution_count": 27,
     "metadata": {},
     "output_type": "execute_result"
    }
   ],
   "source": [
    "start, end = \"2000-10-01 23:30:00\", \"2000-10-02 05:30:00\"\n",
    "\n",
    "middle = \"2000-10-02 00:00:00\"\n",
    "\n",
    "rng1 = pd.date_range(start, end, freq=\"7min\")\n",
    "\n",
    "ts2 = pd.Series(np.arange(len(rng1)) * 3, index=rng1)\n",
    "\n",
    "ts2"
   ]
  },
  {
   "cell_type": "code",
   "execution_count": 28,
   "metadata": {},
   "outputs": [
    {
     "data": {
      "text/plain": [
       "2000-10-02 00:00:00     33\n",
       "2000-10-02 00:17:00     72\n",
       "2000-10-02 00:34:00     63\n",
       "2000-10-02 00:51:00     75\n",
       "2000-10-02 01:08:00    135\n",
       "2000-10-02 01:25:00    105\n",
       "2000-10-02 01:42:00    180\n",
       "2000-10-02 01:59:00    135\n",
       "2000-10-02 02:16:00    225\n",
       "2000-10-02 02:33:00    165\n",
       "2000-10-02 02:50:00    177\n",
       "2000-10-02 03:07:00    288\n",
       "2000-10-02 03:24:00    207\n",
       "2000-10-02 03:41:00    333\n",
       "2000-10-02 03:58:00    237\n",
       "2000-10-02 04:15:00    378\n",
       "2000-10-02 04:32:00    267\n",
       "2000-10-02 04:49:00    279\n",
       "2000-10-02 05:06:00    441\n",
       "2000-10-02 05:23:00    153\n",
       "Freq: 17T, dtype: int32"
      ]
     },
     "execution_count": 28,
     "metadata": {},
     "output_type": "execute_result"
    }
   ],
   "source": [
    "ts2[middle:end].resample(\"17min\").sum()"
   ]
  },
  {
   "cell_type": "code",
   "execution_count": 2,
   "metadata": {},
   "outputs": [],
   "source": [
    "import pandas as pd"
   ]
  },
  {
   "cell_type": "code",
   "execution_count": 3,
   "metadata": {},
   "outputs": [],
   "source": [
    "p = pd.Period(\"2012\", freq=\"A-DEC\")"
   ]
  },
  {
   "cell_type": "code",
   "execution_count": 4,
   "metadata": {},
   "outputs": [
    {
     "data": {
      "text/plain": [
       "Period('2016', 'A-DEC')"
      ]
     },
     "execution_count": 4,
     "metadata": {},
     "output_type": "execute_result"
    }
   ],
   "source": [
    "p + 4"
   ]
  },
  {
   "cell_type": "code",
   "execution_count": 5,
   "metadata": {},
   "outputs": [],
   "source": [
    "p1 = pd.Period(\"2012-1-1\", freq=\"D\")"
   ]
  },
  {
   "cell_type": "code",
   "execution_count": 6,
   "metadata": {},
   "outputs": [
    {
     "data": {
      "text/plain": [
       "Period('2012-01-04', 'D')"
      ]
     },
     "execution_count": 6,
     "metadata": {},
     "output_type": "execute_result"
    }
   ],
   "source": [
    "p1 + 3"
   ]
  },
  {
   "cell_type": "code",
   "execution_count": 7,
   "metadata": {},
   "outputs": [],
   "source": [
    "p2 = pd.Period(\"2012-1-1 19:00\", freq=\"H\")"
   ]
  },
  {
   "cell_type": "code",
   "execution_count": 8,
   "metadata": {},
   "outputs": [
    {
     "data": {
      "text/plain": [
       "Period('2012-01-02 01:00', 'H')"
      ]
     },
     "execution_count": 8,
     "metadata": {},
     "output_type": "execute_result"
    }
   ],
   "source": [
    "p2 + 6"
   ]
  },
  {
   "cell_type": "code",
   "execution_count": 9,
   "metadata": {},
   "outputs": [],
   "source": [
    "p3 = pd.Period(\"2012-1-1 19:00\", freq=\"5H\")"
   ]
  },
  {
   "cell_type": "code",
   "execution_count": 10,
   "metadata": {},
   "outputs": [
    {
     "data": {
      "text/plain": [
       "Period('2012-01-02 10:00', '5H')"
      ]
     },
     "execution_count": 10,
     "metadata": {},
     "output_type": "execute_result"
    }
   ],
   "source": [
    "p3 + 3"
   ]
  },
  {
   "cell_type": "code",
   "execution_count": 13,
   "metadata": {},
   "outputs": [],
   "source": [
    "p4 = pd.Period(\"2012\", freq=\"A-AUG\")"
   ]
  },
  {
   "cell_type": "code",
   "execution_count": 14,
   "metadata": {},
   "outputs": [
    {
     "data": {
      "text/plain": [
       "Period('2017', 'A-AUG')"
      ]
     },
     "execution_count": 14,
     "metadata": {},
     "output_type": "execute_result"
    }
   ],
   "source": [
    "p4 + 5"
   ]
  },
  {
   "cell_type": "code",
   "execution_count": 15,
   "metadata": {},
   "outputs": [
    {
     "data": {
      "text/plain": [
       "Period('2007', 'A-AUG')"
      ]
     },
     "execution_count": 15,
     "metadata": {},
     "output_type": "execute_result"
    }
   ],
   "source": [
    "p4 - 5"
   ]
  },
  {
   "cell_type": "code",
   "execution_count": 17,
   "metadata": {},
   "outputs": [],
   "source": [
    "p5 = pd.Period(\"2012-01\", freq=\"3M\")"
   ]
  },
  {
   "cell_type": "code",
   "execution_count": 19,
   "metadata": {},
   "outputs": [
    {
     "data": {
      "text/plain": [
       "Period('2012-04', '3M')"
      ]
     },
     "execution_count": 19,
     "metadata": {},
     "output_type": "execute_result"
    }
   ],
   "source": [
    "p5 + 1"
   ]
  },
  {
   "cell_type": "code",
   "execution_count": 20,
   "metadata": {},
   "outputs": [],
   "source": [
    "p6 = pd.Period(\"2014-07-01 09:00\", freq=\"H\")"
   ]
  },
  {
   "cell_type": "code",
   "execution_count": 21,
   "metadata": {},
   "outputs": [
    {
     "data": {
      "text/plain": [
       "Period('2014-07-01 12:00', 'H')"
      ]
     },
     "execution_count": 21,
     "metadata": {},
     "output_type": "execute_result"
    }
   ],
   "source": [
    "p6 + 3"
   ]
  },
  {
   "cell_type": "code",
   "execution_count": 23,
   "metadata": {},
   "outputs": [],
   "source": [
    "import datetime"
   ]
  },
  {
   "cell_type": "code",
   "execution_count": 24,
   "metadata": {},
   "outputs": [
    {
     "data": {
      "text/plain": [
       "Period('2014-07-01 11:00', 'H')"
      ]
     },
     "execution_count": 24,
     "metadata": {},
     "output_type": "execute_result"
    }
   ],
   "source": [
    "p6 + datetime.timedelta(minutes=120)"
   ]
  },
  {
   "cell_type": "code",
   "execution_count": 25,
   "metadata": {},
   "outputs": [
    {
     "data": {
      "text/plain": [
       "Period('2014-07-01 12:00', 'H')"
      ]
     },
     "execution_count": 25,
     "metadata": {},
     "output_type": "execute_result"
    }
   ],
   "source": [
    "p6 + datetime.timedelta(hours=3)"
   ]
  },
  {
   "cell_type": "code",
   "execution_count": 29,
   "metadata": {},
   "outputs": [],
   "source": [
    "p7 = pd.Period(\"2014-07-01 09:08\", freq=\"m\")"
   ]
  },
  {
   "cell_type": "code",
   "execution_count": 30,
   "metadata": {},
   "outputs": [
    {
     "data": {
      "text/plain": [
       "Period('2014-12', 'M')"
      ]
     },
     "execution_count": 30,
     "metadata": {},
     "output_type": "execute_result"
    }
   ],
   "source": [
    "p7 + 5"
   ]
  },
  {
   "cell_type": "code",
   "execution_count": 34,
   "metadata": {},
   "outputs": [],
   "source": [
    "p8 = pd.to_datetime(\"2014-07-01 09:08\")"
   ]
  },
  {
   "cell_type": "code",
   "execution_count": 35,
   "metadata": {},
   "outputs": [
    {
     "data": {
      "text/plain": [
       "Timestamp('2014-07-01 11:08:00')"
      ]
     },
     "execution_count": 35,
     "metadata": {},
     "output_type": "execute_result"
    }
   ],
   "source": [
    "p8 + datetime.timedelta(minutes=120)"
   ]
  },
  {
   "cell_type": "code",
   "execution_count": 38,
   "metadata": {},
   "outputs": [],
   "source": [
    "p = pd.Period(\"2014-07\", freq=\"M\")"
   ]
  },
  {
   "cell_type": "code",
   "execution_count": 39,
   "metadata": {},
   "outputs": [
    {
     "data": {
      "text/plain": [
       "Period('2014-10', 'M')"
      ]
     },
     "execution_count": 39,
     "metadata": {},
     "output_type": "execute_result"
    }
   ],
   "source": [
    " p + pd.offsets.MonthEnd(3)"
   ]
  },
  {
   "cell_type": "code",
   "execution_count": 40,
   "metadata": {},
   "outputs": [
    {
     "data": {
      "text/plain": [
       "<10 * YearEnds: month=12>"
      ]
     },
     "execution_count": 40,
     "metadata": {},
     "output_type": "execute_result"
    }
   ],
   "source": [
    "pd.Period(\"2012\", freq=\"A-DEC\") - pd.Period(\"2002\", freq=\"A-DEC\")"
   ]
  },
  {
   "cell_type": "code",
   "execution_count": 41,
   "metadata": {},
   "outputs": [
    {
     "data": {
      "text/plain": [
       "<13 * YearEnds: month=12>"
      ]
     },
     "execution_count": 41,
     "metadata": {},
     "output_type": "execute_result"
    }
   ],
   "source": [
    "pd.Period(\"2015\", freq=\"A-DEC\") - pd.Period(\"2002\", freq=\"A-DEC\")"
   ]
  },
  {
   "cell_type": "code",
   "execution_count": 42,
   "metadata": {},
   "outputs": [
    {
     "data": {
      "text/plain": [
       "PeriodIndex(['2011-01', '2011-02', '2011-03', '2011-04', '2011-05', '2011-06',\n",
       "             '2011-07', '2011-08', '2011-09', '2011-10', '2011-11', '2011-12',\n",
       "             '2012-01'],\n",
       "            dtype='period[M]', freq='M')"
      ]
     },
     "execution_count": 42,
     "metadata": {},
     "output_type": "execute_result"
    }
   ],
   "source": [
    "prng = pd.period_range(\"1/1/2011\", \"1/1/2012\", freq=\"M\")\n",
    "prng"
   ]
  },
  {
   "cell_type": "code",
   "execution_count": 43,
   "metadata": {},
   "outputs": [
    {
     "data": {
      "text/plain": [
       "PeriodIndex(['2014-01', '2014-04', '2014-07', '2014-10', '2015-01', '2015-04',\n",
       "             '2015-07'],\n",
       "            dtype='period[3M]', freq='3M')"
      ]
     },
     "execution_count": 43,
     "metadata": {},
     "output_type": "execute_result"
    }
   ],
   "source": [
    "pd.period_range(start=\"2014-01\", freq=\"3M\", periods=7)"
   ]
  },
  {
   "cell_type": "code",
   "execution_count": 44,
   "metadata": {},
   "outputs": [
    {
     "data": {
      "text/plain": [
       "PeriodIndex(['2017-03', '2017-04', '2017-05', '2017-06'], dtype='period[M]', freq='M')"
      ]
     },
     "execution_count": 44,
     "metadata": {},
     "output_type": "execute_result"
    }
   ],
   "source": [
    "pd.period_range(\n",
    "        start=pd.Period(\"2017Q1\", freq=\"Q\"), end=pd.Period(\"2017Q2\", freq=\"Q\"), freq=\"M\")"
   ]
  },
  {
   "cell_type": "code",
   "execution_count": 45,
   "metadata": {},
   "outputs": [
    {
     "data": {
      "text/plain": [
       "2011-01    1.109598\n",
       "2011-02   -0.111900\n",
       "2011-03    0.004704\n",
       "2011-04    1.831351\n",
       "2011-05   -1.919099\n",
       "2011-06    2.024286\n",
       "2011-07    2.759265\n",
       "2011-08    0.886516\n",
       "2011-09    1.252130\n",
       "2011-10   -2.028336\n",
       "2011-11   -0.093615\n",
       "2011-12    1.443054\n",
       "2012-01   -0.757934\n",
       "Freq: M, dtype: float64"
      ]
     },
     "execution_count": 45,
     "metadata": {},
     "output_type": "execute_result"
    }
   ],
   "source": [
    "ps = pd.Series(np.random.randn(len(prng)), prng)\n",
    "ps"
   ]
  },
  {
   "cell_type": "code",
   "execution_count": 47,
   "metadata": {},
   "outputs": [
    {
     "data": {
      "text/plain": [
       "PeriodIndex(['2014-07-01 09:00', '2014-07-01 10:00', '2014-07-01 11:00',\n",
       "             '2014-07-01 12:00', '2014-07-01 13:00'],\n",
       "            dtype='period[H]', freq='H')"
      ]
     },
     "execution_count": 47,
     "metadata": {},
     "output_type": "execute_result"
    }
   ],
   "source": [
    "idx = pd.period_range(\"2014-07-01 09:00\", periods=5, freq=\"H\")\n",
    "idx"
   ]
  },
  {
   "cell_type": "code",
   "execution_count": 48,
   "metadata": {},
   "outputs": [
    {
     "data": {
      "text/plain": [
       "PeriodIndex(['2014-07-01 11:00', '2014-07-01 12:00', '2014-07-01 13:00',\n",
       "             '2014-07-01 14:00', '2014-07-01 15:00'],\n",
       "            dtype='period[H]', freq='H')"
      ]
     },
     "execution_count": 48,
     "metadata": {},
     "output_type": "execute_result"
    }
   ],
   "source": [
    "idx + pd.offsets.Hour(2)"
   ]
  },
  {
   "cell_type": "code",
   "execution_count": 49,
   "metadata": {},
   "outputs": [
    {
     "data": {
      "text/plain": [
       "PeriodIndex(['2014-07', '2014-08', '2014-09', '2014-10', '2014-11'], dtype='period[M]', freq='M')"
      ]
     },
     "execution_count": 49,
     "metadata": {},
     "output_type": "execute_result"
    }
   ],
   "source": [
    "idx = pd.period_range(\"2014-07\", periods=5, freq=\"M\")\n",
    "idx"
   ]
  },
  {
   "cell_type": "code",
   "execution_count": 50,
   "metadata": {},
   "outputs": [
    {
     "data": {
      "text/plain": [
       "PeriodIndex(['2014-10', '2014-11', '2014-12', '2015-01', '2015-02'], dtype='period[M]', freq='M')"
      ]
     },
     "execution_count": 50,
     "metadata": {},
     "output_type": "execute_result"
    }
   ],
   "source": [
    "idx + pd.offsets.MonthEnd(3)"
   ]
  },
  {
   "cell_type": "code",
   "execution_count": 51,
   "metadata": {},
   "outputs": [
    {
     "data": {
      "text/plain": [
       "PeriodIndex(['2016-01', '2016-02', '2016-03'], dtype='period[M]', freq='M')"
      ]
     },
     "execution_count": 51,
     "metadata": {},
     "output_type": "execute_result"
    }
   ],
   "source": [
    "pi = pd.period_range(\"2016-01-01\", periods=3, freq=\"M\")\n",
    "pi"
   ]
  },
  {
   "cell_type": "code",
   "execution_count": 55,
   "metadata": {},
   "outputs": [
    {
     "data": {
      "text/html": [
       "<div>\n",
       "<style scoped>\n",
       "    .dataframe tbody tr th:only-of-type {\n",
       "        vertical-align: middle;\n",
       "    }\n",
       "\n",
       "    .dataframe tbody tr th {\n",
       "        vertical-align: top;\n",
       "    }\n",
       "\n",
       "    .dataframe thead th {\n",
       "        text-align: right;\n",
       "    }\n",
       "</style>\n",
       "<table border=\"1\" class=\"dataframe\">\n",
       "  <thead>\n",
       "    <tr style=\"text-align: right;\">\n",
       "      <th></th>\n",
       "      <th>A</th>\n",
       "      <th>B</th>\n",
       "    </tr>\n",
       "  </thead>\n",
       "  <tbody>\n",
       "    <tr>\n",
       "      <th>2013-01-01 09:00</th>\n",
       "      <td>-2.291537</td>\n",
       "      <td>0.695225</td>\n",
       "    </tr>\n",
       "    <tr>\n",
       "      <th>2013-01-01 09:01</th>\n",
       "      <td>1.466930</td>\n",
       "      <td>-1.619350</td>\n",
       "    </tr>\n",
       "    <tr>\n",
       "      <th>2013-01-01 09:02</th>\n",
       "      <td>-0.488122</td>\n",
       "      <td>-0.058698</td>\n",
       "    </tr>\n",
       "    <tr>\n",
       "      <th>2013-01-01 09:03</th>\n",
       "      <td>1.529999</td>\n",
       "      <td>0.930767</td>\n",
       "    </tr>\n",
       "    <tr>\n",
       "      <th>2013-01-01 09:04</th>\n",
       "      <td>-0.040833</td>\n",
       "      <td>0.542926</td>\n",
       "    </tr>\n",
       "    <tr>\n",
       "      <th>...</th>\n",
       "      <td>...</td>\n",
       "      <td>...</td>\n",
       "    </tr>\n",
       "    <tr>\n",
       "      <th>2013-01-01 18:55</th>\n",
       "      <td>-0.620024</td>\n",
       "      <td>-0.679267</td>\n",
       "    </tr>\n",
       "    <tr>\n",
       "      <th>2013-01-01 18:56</th>\n",
       "      <td>-1.783216</td>\n",
       "      <td>1.307592</td>\n",
       "    </tr>\n",
       "    <tr>\n",
       "      <th>2013-01-01 18:57</th>\n",
       "      <td>0.125025</td>\n",
       "      <td>-1.525989</td>\n",
       "    </tr>\n",
       "    <tr>\n",
       "      <th>2013-01-01 18:58</th>\n",
       "      <td>-0.114830</td>\n",
       "      <td>0.404603</td>\n",
       "    </tr>\n",
       "    <tr>\n",
       "      <th>2013-01-01 18:59</th>\n",
       "      <td>-0.145838</td>\n",
       "      <td>-0.342895</td>\n",
       "    </tr>\n",
       "  </tbody>\n",
       "</table>\n",
       "<p>600 rows × 2 columns</p>\n",
       "</div>"
      ],
      "text/plain": [
       "                         A         B\n",
       "2013-01-01 09:00 -2.291537  0.695225\n",
       "2013-01-01 09:01  1.466930 -1.619350\n",
       "2013-01-01 09:02 -0.488122 -0.058698\n",
       "2013-01-01 09:03  1.529999  0.930767\n",
       "2013-01-01 09:04 -0.040833  0.542926\n",
       "...                    ...       ...\n",
       "2013-01-01 18:55 -0.620024 -0.679267\n",
       "2013-01-01 18:56 -1.783216  1.307592\n",
       "2013-01-01 18:57  0.125025 -1.525989\n",
       "2013-01-01 18:58 -0.114830  0.404603\n",
       "2013-01-01 18:59 -0.145838 -0.342895\n",
       "\n",
       "[600 rows x 2 columns]"
      ]
     },
     "execution_count": 55,
     "metadata": {},
     "output_type": "execute_result"
    }
   ],
   "source": [
    "dfp11 = pd.DataFrame(np.random.randn(600, 2), columns=[\"A\",\"B\"],index=pd.period_range(\"2013-01-01 9:00\", periods=600, freq=\"T\"),)\n",
    "dfp11"
   ]
  },
  {
   "cell_type": "code",
   "execution_count": 60,
   "metadata": {},
   "outputs": [
    {
     "data": {
      "text/plain": [
       "A    0.684627\n",
       "B    0.940754\n",
       "Name: 2013-01-01 11:00, dtype: float64"
      ]
     },
     "execution_count": 60,
     "metadata": {},
     "output_type": "execute_result"
    }
   ],
   "source": [
    "dfp11.loc[\"2013-01-01 11H\"]"
   ]
  },
  {
   "cell_type": "code",
   "execution_count": 61,
   "metadata": {},
   "outputs": [
    {
     "data": {
      "text/html": [
       "<div>\n",
       "<style scoped>\n",
       "    .dataframe tbody tr th:only-of-type {\n",
       "        vertical-align: middle;\n",
       "    }\n",
       "\n",
       "    .dataframe tbody tr th {\n",
       "        vertical-align: top;\n",
       "    }\n",
       "\n",
       "    .dataframe thead th {\n",
       "        text-align: right;\n",
       "    }\n",
       "</style>\n",
       "<table border=\"1\" class=\"dataframe\">\n",
       "  <thead>\n",
       "    <tr style=\"text-align: right;\">\n",
       "      <th></th>\n",
       "      <th>A</th>\n",
       "      <th>B</th>\n",
       "    </tr>\n",
       "  </thead>\n",
       "  <tbody>\n",
       "    <tr>\n",
       "      <th>2013-01-01 10:00</th>\n",
       "      <td>-0.146746</td>\n",
       "      <td>-0.769838</td>\n",
       "    </tr>\n",
       "    <tr>\n",
       "      <th>2013-01-01 10:01</th>\n",
       "      <td>-0.249814</td>\n",
       "      <td>0.380853</td>\n",
       "    </tr>\n",
       "    <tr>\n",
       "      <th>2013-01-01 10:02</th>\n",
       "      <td>1.774865</td>\n",
       "      <td>1.885967</td>\n",
       "    </tr>\n",
       "    <tr>\n",
       "      <th>2013-01-01 10:03</th>\n",
       "      <td>1.771912</td>\n",
       "      <td>-0.524152</td>\n",
       "    </tr>\n",
       "    <tr>\n",
       "      <th>2013-01-01 10:04</th>\n",
       "      <td>-0.167915</td>\n",
       "      <td>-1.829988</td>\n",
       "    </tr>\n",
       "    <tr>\n",
       "      <th>...</th>\n",
       "      <td>...</td>\n",
       "      <td>...</td>\n",
       "    </tr>\n",
       "    <tr>\n",
       "      <th>2013-01-01 11:55</th>\n",
       "      <td>-1.631236</td>\n",
       "      <td>0.454479</td>\n",
       "    </tr>\n",
       "    <tr>\n",
       "      <th>2013-01-01 11:56</th>\n",
       "      <td>-0.105179</td>\n",
       "      <td>2.014356</td>\n",
       "    </tr>\n",
       "    <tr>\n",
       "      <th>2013-01-01 11:57</th>\n",
       "      <td>1.055419</td>\n",
       "      <td>0.562104</td>\n",
       "    </tr>\n",
       "    <tr>\n",
       "      <th>2013-01-01 11:58</th>\n",
       "      <td>-1.066722</td>\n",
       "      <td>0.063357</td>\n",
       "    </tr>\n",
       "    <tr>\n",
       "      <th>2013-01-01 11:59</th>\n",
       "      <td>-0.335933</td>\n",
       "      <td>-0.082322</td>\n",
       "    </tr>\n",
       "  </tbody>\n",
       "</table>\n",
       "<p>120 rows × 2 columns</p>\n",
       "</div>"
      ],
      "text/plain": [
       "                         A         B\n",
       "2013-01-01 10:00 -0.146746 -0.769838\n",
       "2013-01-01 10:01 -0.249814  0.380853\n",
       "2013-01-01 10:02  1.774865  1.885967\n",
       "2013-01-01 10:03  1.771912 -0.524152\n",
       "2013-01-01 10:04 -0.167915 -1.829988\n",
       "...                    ...       ...\n",
       "2013-01-01 11:55 -1.631236  0.454479\n",
       "2013-01-01 11:56 -0.105179  2.014356\n",
       "2013-01-01 11:57  1.055419  0.562104\n",
       "2013-01-01 11:58 -1.066722  0.063357\n",
       "2013-01-01 11:59 -0.335933 -0.082322\n",
       "\n",
       "[120 rows x 2 columns]"
      ]
     },
     "execution_count": 61,
     "metadata": {},
     "output_type": "execute_result"
    }
   ],
   "source": [
    "dfp[\"2013-01-01 10H\":\"2013-01-01 11H\"]"
   ]
  },
  {
   "cell_type": "code",
   "execution_count": 62,
   "metadata": {},
   "outputs": [
    {
     "data": {
      "text/plain": [
       "Period('2011', 'A-DEC')"
      ]
     },
     "execution_count": 62,
     "metadata": {},
     "output_type": "execute_result"
    }
   ],
   "source": [
    "p = pd.Period(\"2011\", freq=\"A-DEC\")\n",
    "p"
   ]
  },
  {
   "cell_type": "code",
   "execution_count": 63,
   "metadata": {},
   "outputs": [
    {
     "data": {
      "text/plain": [
       "DatetimeIndex(['2012-01-31', '2012-02-29', '2012-03-31', '2012-04-30',\n",
       "               '2012-05-31'],\n",
       "              dtype='datetime64[ns]', freq='M')"
      ]
     },
     "execution_count": 63,
     "metadata": {},
     "output_type": "execute_result"
    }
   ],
   "source": [
    "rng = pd.date_range(\"1/1/2012\", periods=5, freq=\"M\")\n",
    "rng"
   ]
  },
  {
   "cell_type": "code",
   "execution_count": 64,
   "metadata": {},
   "outputs": [
    {
     "data": {
      "text/plain": [
       "2012-01-31    0.931011\n",
       "2012-02-29   -0.494229\n",
       "2012-03-31    0.146095\n",
       "2012-04-30    0.609535\n",
       "2012-05-31    0.131079\n",
       "Freq: M, dtype: float64"
      ]
     },
     "execution_count": 64,
     "metadata": {},
     "output_type": "execute_result"
    }
   ],
   "source": [
    "ts = pd.Series(np.random.randn(len(rng)), index=rng)\n",
    "ts"
   ]
  },
  {
   "cell_type": "code",
   "execution_count": 66,
   "metadata": {},
   "outputs": [
    {
     "data": {
      "text/plain": [
       "PeriodIndex(['1990Q1', '1990Q2', '1990Q3', '1990Q4', '1991Q1', '1991Q2',\n",
       "             '1991Q3', '1991Q4', '1992Q1', '1992Q2', '1992Q3', '1992Q4',\n",
       "             '1993Q1', '1993Q2', '1993Q3', '1993Q4', '1994Q1', '1994Q2',\n",
       "             '1994Q3', '1994Q4', '1995Q1', '1995Q2', '1995Q3', '1995Q4',\n",
       "             '1996Q1', '1996Q2', '1996Q3', '1996Q4', '1997Q1', '1997Q2',\n",
       "             '1997Q3', '1997Q4', '1998Q1', '1998Q2', '1998Q3', '1998Q4',\n",
       "             '1999Q1', '1999Q2', '1999Q3', '1999Q4', '2000Q1', '2000Q2',\n",
       "             '2000Q3', '2000Q4'],\n",
       "            dtype='period[Q-DEC]', freq='Q-DEC')"
      ]
     },
     "execution_count": 66,
     "metadata": {},
     "output_type": "execute_result"
    }
   ],
   "source": [
    "prng = pd.period_range(\"1990Q1\", \"2000Q4\", freq=\"Q\")\n",
    "prng"
   ]
  },
  {
   "cell_type": "code",
   "execution_count": 67,
   "metadata": {},
   "outputs": [
    {
     "data": {
      "text/plain": [
       "1990Q1    0.409279\n",
       "1990Q2    0.636420\n",
       "1990Q3   -0.138663\n",
       "1990Q4    1.767616\n",
       "1991Q1    1.565497\n",
       "1991Q2    0.730122\n",
       "1991Q3    1.185259\n",
       "1991Q4   -0.925378\n",
       "1992Q1   -0.940628\n",
       "1992Q2    0.732239\n",
       "1992Q3   -1.366971\n",
       "1992Q4   -1.321228\n",
       "1993Q1    0.397478\n",
       "1993Q2   -0.732574\n",
       "1993Q3   -3.516902\n",
       "1993Q4   -0.624987\n",
       "1994Q1   -0.314874\n",
       "1994Q2   -0.253229\n",
       "1994Q3    1.170255\n",
       "1994Q4   -0.215069\n",
       "1995Q1    0.556221\n",
       "1995Q2    0.624915\n",
       "1995Q3   -0.310718\n",
       "1995Q4    0.381667\n",
       "1996Q1   -1.146663\n",
       "1996Q2   -0.744454\n",
       "1996Q3   -0.070563\n",
       "1996Q4    1.220055\n",
       "1997Q1    0.077648\n",
       "1997Q2    0.020190\n",
       "1997Q3    1.329584\n",
       "1997Q4    0.014888\n",
       "1998Q1   -1.301082\n",
       "1998Q2   -0.561864\n",
       "1998Q3   -0.292690\n",
       "1998Q4    0.194716\n",
       "1999Q1    0.507542\n",
       "1999Q2   -1.369721\n",
       "1999Q3   -0.983708\n",
       "1999Q4    0.416689\n",
       "2000Q1   -1.349010\n",
       "2000Q2   -1.388440\n",
       "2000Q3    0.717530\n",
       "2000Q4   -0.447762\n",
       "Freq: Q-DEC, dtype: float64"
      ]
     },
     "execution_count": 67,
     "metadata": {},
     "output_type": "execute_result"
    }
   ],
   "source": [
    "ts = pd.Series(np.random.randn(len(prng)), prng)\n",
    "ts"
   ]
  },
  {
   "cell_type": "code",
   "execution_count": 68,
   "metadata": {},
   "outputs": [
    {
     "data": {
      "text/plain": [
       "PeriodIndex(['1215-01-01', '1215-01-02', '1215-01-03', '1215-01-04',\n",
       "             '1215-01-05', '1215-01-06', '1215-01-07', '1215-01-08',\n",
       "             '1215-01-09', '1215-01-10',\n",
       "             ...\n",
       "             '1380-12-23', '1380-12-24', '1380-12-25', '1380-12-26',\n",
       "             '1380-12-27', '1380-12-28', '1380-12-29', '1380-12-30',\n",
       "             '1380-12-31', '1381-01-01'],\n",
       "            dtype='period[D]', length=60632, freq='D')"
      ]
     },
     "execution_count": 68,
     "metadata": {},
     "output_type": "execute_result"
    }
   ],
   "source": [
    "span = pd.period_range(\"1215-01-01\", \"1381-01-01\", freq=\"D\")\n",
    "span"
   ]
  },
  {
   "cell_type": "code",
   "execution_count": 69,
   "metadata": {},
   "outputs": [
    {
     "data": {
      "text/plain": [
       "0    20121231\n",
       "1    20141130\n",
       "2    99991231\n",
       "dtype: int64"
      ]
     },
     "execution_count": 69,
     "metadata": {},
     "output_type": "execute_result"
    }
   ],
   "source": [
    "s = pd.Series([20121231, 20141130, 99991231])\n",
    "s"
   ]
  },
  {
   "cell_type": "code",
   "execution_count": 70,
   "metadata": {},
   "outputs": [
    {
     "data": {
      "text/plain": [
       "2012"
      ]
     },
     "execution_count": 70,
     "metadata": {},
     "output_type": "execute_result"
    }
   ],
   "source": [
    "20121231 // 10000"
   ]
  },
  {
   "cell_type": "code",
   "execution_count": 71,
   "metadata": {},
   "outputs": [
    {
     "data": {
      "text/plain": [
       "12"
      ]
     },
     "execution_count": 71,
     "metadata": {},
     "output_type": "execute_result"
    }
   ],
   "source": [
    "20121231 // 100 % 100"
   ]
  },
  {
   "cell_type": "code",
   "execution_count": 72,
   "metadata": {},
   "outputs": [
    {
     "data": {
      "text/plain": [
       "31"
      ]
     },
     "execution_count": 72,
     "metadata": {},
     "output_type": "execute_result"
    }
   ],
   "source": [
    "20121231 % 100"
   ]
  },
  {
   "cell_type": "code",
   "execution_count": 73,
   "metadata": {},
   "outputs": [],
   "source": [
    "def conv(x):\n",
    "    return pd.Period(year=x // 10000, month=x // 100 % 100, day=x % 100, freq=\"D\")"
   ]
  },
  {
   "cell_type": "code",
   "execution_count": 74,
   "metadata": {},
   "outputs": [
    {
     "data": {
      "text/plain": [
       "0    2012-12-31\n",
       "1    2014-11-30\n",
       "2    9999-12-31\n",
       "dtype: period[D]"
      ]
     },
     "execution_count": 74,
     "metadata": {},
     "output_type": "execute_result"
    }
   ],
   "source": [
    "s.apply(conv)"
   ]
  },
  {
   "cell_type": "code",
   "execution_count": 75,
   "metadata": {},
   "outputs": [
    {
     "data": {
      "text/plain": [
       "DatetimeIndex(['2012-03-06 00:00:00', '2012-03-06 00:01:00',\n",
       "               '2012-03-06 00:02:00', '2012-03-06 00:03:00',\n",
       "               '2012-03-06 00:04:00', '2012-03-06 00:05:00',\n",
       "               '2012-03-06 00:06:00', '2012-03-06 00:07:00',\n",
       "               '2012-03-06 00:08:00', '2012-03-06 00:09:00',\n",
       "               '2012-03-06 00:10:00', '2012-03-06 00:11:00',\n",
       "               '2012-03-06 00:12:00', '2012-03-06 00:13:00',\n",
       "               '2012-03-06 00:14:00'],\n",
       "              dtype='datetime64[ns]', freq='T')"
      ]
     },
     "execution_count": 75,
     "metadata": {},
     "output_type": "execute_result"
    }
   ],
   "source": [
    "rng = pd.date_range(\"3/6/2012 00:00\", periods=15, freq=\"T\")\n",
    "rng"
   ]
  },
  {
   "cell_type": "code",
   "execution_count": 76,
   "metadata": {},
   "outputs": [
    {
     "data": {
      "text/plain": [
       "DatetimeIndex(['2012-03-31', '2012-04-30', '2012-05-31', '2012-06-30',\n",
       "               '2012-07-31', '2012-08-31', '2012-09-30', '2012-10-31',\n",
       "               '2012-11-30', '2012-12-31', '2013-01-31', '2013-02-28',\n",
       "               '2013-03-31', '2013-04-30', '2013-05-31'],\n",
       "              dtype='datetime64[ns]', freq='M')"
      ]
     },
     "execution_count": 76,
     "metadata": {},
     "output_type": "execute_result"
    }
   ],
   "source": [
    "rng1 = pd.date_range(\"3/6/2012 00:00\", periods=15, freq=\"M\")\n",
    "rng1"
   ]
  },
  {
   "cell_type": "code",
   "execution_count": 77,
   "metadata": {},
   "outputs": [
    {
     "data": {
      "text/plain": [
       "DatetimeIndex(['2012-03-06', '2012-03-07', '2012-03-08', '2012-03-09',\n",
       "               '2012-03-10', '2012-03-11', '2012-03-12', '2012-03-13',\n",
       "               '2012-03-14', '2012-03-15', '2012-03-16', '2012-03-17',\n",
       "               '2012-03-18', '2012-03-19', '2012-03-20'],\n",
       "              dtype='datetime64[ns]', freq='D')"
      ]
     },
     "execution_count": 77,
     "metadata": {},
     "output_type": "execute_result"
    }
   ],
   "source": [
    "rng2 = pd.date_range(\"3/6/2012 00:00\", periods=15, freq=\"D\")\n",
    "rng2"
   ]
  },
  {
   "cell_type": "code",
   "execution_count": 78,
   "metadata": {},
   "outputs": [
    {
     "data": {
      "text/plain": [
       "DatetimeIndex(['2012-03-06 00:00:00+00:00', '2012-03-07 00:00:00+00:00',\n",
       "               '2012-03-08 00:00:00+00:00'],\n",
       "              dtype='datetime64[ns, Europe/London]', freq='D')"
      ]
     },
     "execution_count": 78,
     "metadata": {},
     "output_type": "execute_result"
    }
   ],
   "source": [
    "rng_pytz = pd.date_range(\"3/6/2012 00:00\", periods=3, freq=\"D\", tz=\"Europe/London\")\n",
    "rng_pytz"
   ]
  },
  {
   "cell_type": "code",
   "execution_count": 2,
   "metadata": {},
   "outputs": [],
   "source": [
    "import pandas as pd"
   ]
  },
  {
   "cell_type": "code",
   "execution_count": 4,
   "metadata": {},
   "outputs": [
    {
     "data": {
      "text/plain": [
       "PeriodIndex(['2016-01', '2016-02', '2016-03', '2016-04', '2016-05', '2016-06',\n",
       "             '2016-07'],\n",
       "            dtype='period[M]', freq='M')"
      ]
     },
     "execution_count": 4,
     "metadata": {},
     "output_type": "execute_result"
    }
   ],
   "source": [
    "pi = pd.period_range(\"2016-01-01\", periods=7, freq=\"M\")\n",
    "pi"
   ]
  },
  {
   "cell_type": "code",
   "execution_count": 5,
   "metadata": {},
   "outputs": [
    {
     "data": {
      "text/html": [
       "<div>\n",
       "<style scoped>\n",
       "    .dataframe tbody tr th:only-of-type {\n",
       "        vertical-align: middle;\n",
       "    }\n",
       "\n",
       "    .dataframe tbody tr th {\n",
       "        vertical-align: top;\n",
       "    }\n",
       "\n",
       "    .dataframe thead th {\n",
       "        text-align: right;\n",
       "    }\n",
       "</style>\n",
       "<table border=\"1\" class=\"dataframe\">\n",
       "  <thead>\n",
       "    <tr style=\"text-align: right;\">\n",
       "      <th></th>\n",
       "      <th>A</th>\n",
       "      <th>B</th>\n",
       "      <th>C</th>\n",
       "    </tr>\n",
       "  </thead>\n",
       "  <tbody>\n",
       "    <tr>\n",
       "      <th>2013-01-01 09:00</th>\n",
       "      <td>-1.840570</td>\n",
       "      <td>0.748033</td>\n",
       "      <td>-0.011460</td>\n",
       "    </tr>\n",
       "    <tr>\n",
       "      <th>2013-01-01 09:01</th>\n",
       "      <td>-0.528402</td>\n",
       "      <td>1.303341</td>\n",
       "      <td>-2.168030</td>\n",
       "    </tr>\n",
       "    <tr>\n",
       "      <th>2013-01-01 09:02</th>\n",
       "      <td>1.664721</td>\n",
       "      <td>0.130235</td>\n",
       "      <td>1.491987</td>\n",
       "    </tr>\n",
       "    <tr>\n",
       "      <th>2013-01-01 09:03</th>\n",
       "      <td>-1.146590</td>\n",
       "      <td>1.555276</td>\n",
       "      <td>1.472415</td>\n",
       "    </tr>\n",
       "    <tr>\n",
       "      <th>2013-01-01 09:04</th>\n",
       "      <td>1.063342</td>\n",
       "      <td>0.723005</td>\n",
       "      <td>1.030244</td>\n",
       "    </tr>\n",
       "    <tr>\n",
       "      <th>...</th>\n",
       "      <td>...</td>\n",
       "      <td>...</td>\n",
       "      <td>...</td>\n",
       "    </tr>\n",
       "    <tr>\n",
       "      <th>2013-01-01 18:55</th>\n",
       "      <td>1.286665</td>\n",
       "      <td>1.268637</td>\n",
       "      <td>0.595627</td>\n",
       "    </tr>\n",
       "    <tr>\n",
       "      <th>2013-01-01 18:56</th>\n",
       "      <td>2.408471</td>\n",
       "      <td>2.056243</td>\n",
       "      <td>0.667998</td>\n",
       "    </tr>\n",
       "    <tr>\n",
       "      <th>2013-01-01 18:57</th>\n",
       "      <td>-0.128252</td>\n",
       "      <td>-0.393203</td>\n",
       "      <td>-0.542589</td>\n",
       "    </tr>\n",
       "    <tr>\n",
       "      <th>2013-01-01 18:58</th>\n",
       "      <td>3.121933</td>\n",
       "      <td>0.064108</td>\n",
       "      <td>-0.380100</td>\n",
       "    </tr>\n",
       "    <tr>\n",
       "      <th>2013-01-01 18:59</th>\n",
       "      <td>-0.029071</td>\n",
       "      <td>-1.914875</td>\n",
       "      <td>0.187438</td>\n",
       "    </tr>\n",
       "  </tbody>\n",
       "</table>\n",
       "<p>600 rows × 3 columns</p>\n",
       "</div>"
      ],
      "text/plain": [
       "                         A         B         C\n",
       "2013-01-01 09:00 -1.840570  0.748033 -0.011460\n",
       "2013-01-01 09:01 -0.528402  1.303341 -2.168030\n",
       "2013-01-01 09:02  1.664721  0.130235  1.491987\n",
       "2013-01-01 09:03 -1.146590  1.555276  1.472415\n",
       "2013-01-01 09:04  1.063342  0.723005  1.030244\n",
       "...                    ...       ...       ...\n",
       "2013-01-01 18:55  1.286665  1.268637  0.595627\n",
       "2013-01-01 18:56  2.408471  2.056243  0.667998\n",
       "2013-01-01 18:57 -0.128252 -0.393203 -0.542589\n",
       "2013-01-01 18:58  3.121933  0.064108 -0.380100\n",
       "2013-01-01 18:59 -0.029071 -1.914875  0.187438\n",
       "\n",
       "[600 rows x 3 columns]"
      ]
     },
     "execution_count": 5,
     "metadata": {},
     "output_type": "execute_result"
    }
   ],
   "source": [
    "dfp = pd.DataFrame(np.random.randn(600, 3), columns=[\"A\",\"B\",\"C\"],index=pd.period_range(\"2013-01-01 9:00\", periods=600, freq=\"T\"),)\n",
    "dfp"
   ]
  },
  {
   "cell_type": "code",
   "execution_count": 6,
   "metadata": {},
   "outputs": [
    {
     "data": {
      "text/plain": [
       "A    0.195764\n",
       "B    1.250650\n",
       "C   -1.137757\n",
       "Name: 2013-01-01 10:00, dtype: float64"
      ]
     },
     "execution_count": 6,
     "metadata": {},
     "output_type": "execute_result"
    }
   ],
   "source": [
    "dfp.loc[\"2013-01-01 10H\"]"
   ]
  },
  {
   "cell_type": "code",
   "execution_count": 7,
   "metadata": {},
   "outputs": [
    {
     "data": {
      "text/html": [
       "<div>\n",
       "<style scoped>\n",
       "    .dataframe tbody tr th:only-of-type {\n",
       "        vertical-align: middle;\n",
       "    }\n",
       "\n",
       "    .dataframe tbody tr th {\n",
       "        vertical-align: top;\n",
       "    }\n",
       "\n",
       "    .dataframe thead th {\n",
       "        text-align: right;\n",
       "    }\n",
       "</style>\n",
       "<table border=\"1\" class=\"dataframe\">\n",
       "  <thead>\n",
       "    <tr style=\"text-align: right;\">\n",
       "      <th></th>\n",
       "      <th>A</th>\n",
       "      <th>B</th>\n",
       "      <th>C</th>\n",
       "    </tr>\n",
       "  </thead>\n",
       "  <tbody>\n",
       "    <tr>\n",
       "      <th>2013-01-01 10:00</th>\n",
       "      <td>0.195764</td>\n",
       "      <td>1.250650</td>\n",
       "      <td>-1.137757</td>\n",
       "    </tr>\n",
       "    <tr>\n",
       "      <th>2013-01-01 10:01</th>\n",
       "      <td>-0.742801</td>\n",
       "      <td>-1.787321</td>\n",
       "      <td>-1.463743</td>\n",
       "    </tr>\n",
       "    <tr>\n",
       "      <th>2013-01-01 10:02</th>\n",
       "      <td>-0.505715</td>\n",
       "      <td>-0.511038</td>\n",
       "      <td>-0.759959</td>\n",
       "    </tr>\n",
       "    <tr>\n",
       "      <th>2013-01-01 10:03</th>\n",
       "      <td>0.016400</td>\n",
       "      <td>0.154813</td>\n",
       "      <td>1.207083</td>\n",
       "    </tr>\n",
       "    <tr>\n",
       "      <th>2013-01-01 10:04</th>\n",
       "      <td>0.545648</td>\n",
       "      <td>0.828714</td>\n",
       "      <td>0.081182</td>\n",
       "    </tr>\n",
       "    <tr>\n",
       "      <th>...</th>\n",
       "      <td>...</td>\n",
       "      <td>...</td>\n",
       "      <td>...</td>\n",
       "    </tr>\n",
       "    <tr>\n",
       "      <th>2013-01-01 11:55</th>\n",
       "      <td>1.942714</td>\n",
       "      <td>0.443787</td>\n",
       "      <td>-0.030040</td>\n",
       "    </tr>\n",
       "    <tr>\n",
       "      <th>2013-01-01 11:56</th>\n",
       "      <td>-1.475662</td>\n",
       "      <td>0.006132</td>\n",
       "      <td>0.014607</td>\n",
       "    </tr>\n",
       "    <tr>\n",
       "      <th>2013-01-01 11:57</th>\n",
       "      <td>-1.141054</td>\n",
       "      <td>-0.446260</td>\n",
       "      <td>-1.152365</td>\n",
       "    </tr>\n",
       "    <tr>\n",
       "      <th>2013-01-01 11:58</th>\n",
       "      <td>-0.234435</td>\n",
       "      <td>0.620772</td>\n",
       "      <td>1.682388</td>\n",
       "    </tr>\n",
       "    <tr>\n",
       "      <th>2013-01-01 11:59</th>\n",
       "      <td>0.854356</td>\n",
       "      <td>-1.741895</td>\n",
       "      <td>-0.049150</td>\n",
       "    </tr>\n",
       "  </tbody>\n",
       "</table>\n",
       "<p>120 rows × 3 columns</p>\n",
       "</div>"
      ],
      "text/plain": [
       "                         A         B         C\n",
       "2013-01-01 10:00  0.195764  1.250650 -1.137757\n",
       "2013-01-01 10:01 -0.742801 -1.787321 -1.463743\n",
       "2013-01-01 10:02 -0.505715 -0.511038 -0.759959\n",
       "2013-01-01 10:03  0.016400  0.154813  1.207083\n",
       "2013-01-01 10:04  0.545648  0.828714  0.081182\n",
       "...                    ...       ...       ...\n",
       "2013-01-01 11:55  1.942714  0.443787 -0.030040\n",
       "2013-01-01 11:56 -1.475662  0.006132  0.014607\n",
       "2013-01-01 11:57 -1.141054 -0.446260 -1.152365\n",
       "2013-01-01 11:58 -0.234435  0.620772  1.682388\n",
       "2013-01-01 11:59  0.854356 -1.741895 -0.049150\n",
       "\n",
       "[120 rows x 3 columns]"
      ]
     },
     "execution_count": 7,
     "metadata": {},
     "output_type": "execute_result"
    }
   ],
   "source": [
    "dfp[\"2013-01-01 10H\":\"2013-01-01 11H\"]"
   ]
  },
  {
   "cell_type": "code",
   "execution_count": 9,
   "metadata": {},
   "outputs": [
    {
     "data": {
      "text/plain": [
       "PeriodIndex(['1990Q1', '1990Q2', '1990Q3', '1990Q4', '1991Q1', '1991Q2',\n",
       "             '1991Q3', '1991Q4', '1992Q1', '1992Q2', '1992Q3', '1992Q4',\n",
       "             '1993Q1', '1993Q2', '1993Q3', '1993Q4', '1994Q1', '1994Q2',\n",
       "             '1994Q3', '1994Q4', '1995Q1', '1995Q2', '1995Q3', '1995Q4',\n",
       "             '1996Q1', '1996Q2', '1996Q3', '1996Q4', '1997Q1', '1997Q2',\n",
       "             '1997Q3', '1997Q4', '1998Q1', '1998Q2', '1998Q3', '1998Q4',\n",
       "             '1999Q1', '1999Q2', '1999Q3', '1999Q4', '2000Q1', '2000Q2',\n",
       "             '2000Q3', '2000Q4'],\n",
       "            dtype='period[Q-DEC]', freq='Q-DEC')"
      ]
     },
     "execution_count": 9,
     "metadata": {},
     "output_type": "execute_result"
    }
   ],
   "source": [
    "prng = pd.period_range(\"1990Q1\", \"2000Q4\", freq=\"Q\")\n",
    "prng"
   ]
  },
  {
   "cell_type": "code",
   "execution_count": 10,
   "metadata": {},
   "outputs": [
    {
     "data": {
      "text/plain": [
       "1990Q1    0.851351\n",
       "1990Q2   -1.183350\n",
       "1990Q3   -0.560544\n",
       "1990Q4    0.402305\n",
       "1991Q1   -0.729839\n",
       "1991Q2    0.127741\n",
       "1991Q3   -0.464503\n",
       "1991Q4    0.201082\n",
       "1992Q1    1.253033\n",
       "1992Q2    1.358406\n",
       "1992Q3   -0.077431\n",
       "1992Q4    0.561961\n",
       "1993Q1    1.638831\n",
       "1993Q2    0.977491\n",
       "1993Q3    0.142503\n",
       "1993Q4   -0.359155\n",
       "1994Q1    1.531071\n",
       "1994Q2   -1.985305\n",
       "1994Q3   -3.286617\n",
       "1994Q4   -1.186929\n",
       "1995Q1    0.360457\n",
       "1995Q2   -1.256491\n",
       "1995Q3    0.270609\n",
       "1995Q4   -0.551805\n",
       "1996Q1   -0.536146\n",
       "1996Q2    0.697710\n",
       "1996Q3    1.314617\n",
       "1996Q4   -1.035095\n",
       "1997Q1    0.567220\n",
       "1997Q2   -0.934543\n",
       "1997Q3   -0.608882\n",
       "1997Q4    1.953160\n",
       "1998Q1    1.066539\n",
       "1998Q2    0.628640\n",
       "1998Q3    0.289372\n",
       "1998Q4    1.111597\n",
       "1999Q1   -0.336848\n",
       "1999Q2    0.271079\n",
       "1999Q3   -0.342473\n",
       "1999Q4   -0.534692\n",
       "2000Q1    0.972713\n",
       "2000Q2    0.419946\n",
       "2000Q3   -0.128752\n",
       "2000Q4   -0.068283\n",
       "Freq: Q-DEC, dtype: float64"
      ]
     },
     "execution_count": 10,
     "metadata": {},
     "output_type": "execute_result"
    }
   ],
   "source": [
    "ts = pd.Series(np.random.randn(len(prng)), prng)\n",
    "ts"
   ]
  },
  {
   "cell_type": "code",
   "execution_count": 12,
   "metadata": {},
   "outputs": [
    {
     "data": {
      "text/plain": [
       "1990-08-01 09:00    0.851351\n",
       "1990-11-01 09:00   -1.183350\n",
       "1991-02-01 09:00   -0.560544\n",
       "1991-05-01 09:00    0.402305\n",
       "1991-08-01 09:00   -0.729839\n",
       "Freq: H, dtype: float64"
      ]
     },
     "execution_count": 12,
     "metadata": {},
     "output_type": "execute_result"
    }
   ],
   "source": [
    "ts.index = (prng.asfreq(\"M\", \"e\") + 5).asfreq(\"H\", \"s\") + 9\n",
    "\n",
    "ts.head()"
   ]
  },
  {
   "cell_type": "code",
   "execution_count": 1,
   "metadata": {},
   "outputs": [],
   "source": [
    "import pandas as pd"
   ]
  },
  {
   "cell_type": "code",
   "execution_count": 2,
   "metadata": {},
   "outputs": [],
   "source": [
    "import datetime as dt"
   ]
  },
  {
   "cell_type": "code",
   "execution_count": 3,
   "metadata": {},
   "outputs": [
    {
     "data": {
      "text/plain": [
       "PeriodIndex(['2017-03', '2017-04', '2017-05', '2017-06'], dtype='period[M]', freq='M')"
      ]
     },
     "execution_count": 3,
     "metadata": {},
     "output_type": "execute_result"
    }
   ],
   "source": [
    "pd.period_range(start=pd.Period('2017Q1', freq='Q'),end=pd.Period('2017Q2', freq='Q'), freq='M')"
   ]
  },
  {
   "cell_type": "code",
   "execution_count": 4,
   "metadata": {},
   "outputs": [
    {
     "data": {
      "text/plain": [
       "PeriodIndex(['2014-07-01 09:00', '2014-07-01 10:00', '2014-07-01 11:00',\n",
       "             '2014-07-01 12:00', '2014-07-01 13:00', '2014-07-01 14:00',\n",
       "             '2014-07-01 15:00', '2014-07-01 16:00', '2014-07-01 17:00',\n",
       "             '2014-07-01 18:00', '2014-07-01 19:00', '2014-07-01 20:00',\n",
       "             '2014-07-01 21:00', '2014-07-01 22:00', '2014-07-01 23:00'],\n",
       "            dtype='period[H]', freq='H')"
      ]
     },
     "execution_count": 4,
     "metadata": {},
     "output_type": "execute_result"
    }
   ],
   "source": [
    "idx = pd.period_range('2014-07-01 09:00', periods=15, freq='H')\n",
    "idx"
   ]
  },
  {
   "cell_type": "code",
   "execution_count": 5,
   "metadata": {},
   "outputs": [
    {
     "data": {
      "text/plain": [
       "PeriodIndex(['2014-07-01 11:00', '2014-07-01 12:00', '2014-07-01 13:00',\n",
       "             '2014-07-01 14:00', '2014-07-01 15:00', '2014-07-01 16:00',\n",
       "             '2014-07-01 17:00', '2014-07-01 18:00', '2014-07-01 19:00',\n",
       "             '2014-07-01 20:00', '2014-07-01 21:00', '2014-07-01 22:00',\n",
       "             '2014-07-01 23:00', '2014-07-02 00:00', '2014-07-02 01:00'],\n",
       "            dtype='period[H]', freq='H')"
      ]
     },
     "execution_count": 5,
     "metadata": {},
     "output_type": "execute_result"
    }
   ],
   "source": [
    "idx + pd.offsets.Hour(2)"
   ]
  },
  {
   "cell_type": "code",
   "execution_count": 6,
   "metadata": {},
   "outputs": [
    {
     "data": {
      "text/plain": [
       "PeriodIndex(['2014-07-01 09:00', '2014-07-01 09:01', '2014-07-01 09:02',\n",
       "             '2014-07-01 09:03', '2014-07-01 09:04', '2014-07-01 09:05',\n",
       "             '2014-07-01 09:06', '2014-07-01 09:07', '2014-07-01 09:08',\n",
       "             '2014-07-01 09:09', '2014-07-01 09:10', '2014-07-01 09:11',\n",
       "             '2014-07-01 09:12', '2014-07-01 09:13', '2014-07-01 09:14'],\n",
       "            dtype='period[T]', freq='T')"
      ]
     },
     "execution_count": 6,
     "metadata": {},
     "output_type": "execute_result"
    }
   ],
   "source": [
    "idx3 = pd.period_range('2014-07-01 09:00', periods=15, freq='T')\n",
    "idx3"
   ]
  },
  {
   "cell_type": "code",
   "execution_count": 9,
   "metadata": {},
   "outputs": [
    {
     "data": {
      "text/plain": [
       "PeriodIndex(['2014-07', '2014-08', '2014-09', '2014-10', '2014-11'], dtype='period[M]', freq='M')"
      ]
     },
     "execution_count": 9,
     "metadata": {},
     "output_type": "execute_result"
    }
   ],
   "source": [
    "idx5 = pd.period_range('2014-07', periods=5, freq='M')\n",
    "idx5"
   ]
  },
  {
   "cell_type": "code",
   "execution_count": 10,
   "metadata": {},
   "outputs": [
    {
     "data": {
      "text/plain": [
       "PeriodIndex(['2014-10', '2014-11', '2014-12', '2015-01', '2015-02'], dtype='period[M]', freq='M')"
      ]
     },
     "execution_count": 10,
     "metadata": {},
     "output_type": "execute_result"
    }
   ],
   "source": [
    "idx5 + pd.offsets.MonthEnd(3)"
   ]
  },
  {
   "cell_type": "code",
   "execution_count": 2,
   "metadata": {},
   "outputs": [],
   "source": [
    "import pandas as pd"
   ]
  },
  {
   "cell_type": "code",
   "execution_count": 5,
   "metadata": {},
   "outputs": [
    {
     "data": {
      "text/plain": [
       "DatetimeIndex(['2012-01-01 00:00:00', '2012-01-01 00:00:01',\n",
       "               '2012-01-01 00:00:02', '2012-01-01 00:00:03',\n",
       "               '2012-01-01 00:00:04', '2012-01-01 00:00:05',\n",
       "               '2012-01-01 00:00:06', '2012-01-01 00:00:07',\n",
       "               '2012-01-01 00:00:08', '2012-01-01 00:00:09',\n",
       "               ...\n",
       "               '2012-01-01 00:16:30', '2012-01-01 00:16:31',\n",
       "               '2012-01-01 00:16:32', '2012-01-01 00:16:33',\n",
       "               '2012-01-01 00:16:34', '2012-01-01 00:16:35',\n",
       "               '2012-01-01 00:16:36', '2012-01-01 00:16:37',\n",
       "               '2012-01-01 00:16:38', '2012-01-01 00:16:39'],\n",
       "              dtype='datetime64[ns]', length=1000, freq='S')"
      ]
     },
     "execution_count": 5,
     "metadata": {},
     "output_type": "execute_result"
    }
   ],
   "source": [
    "rng = pd.date_range(\"1/1/2012\", periods=1000, freq=\"S\")\n",
    "rng"
   ]
  },
  {
   "cell_type": "code",
   "execution_count": 6,
   "metadata": {},
   "outputs": [
    {
     "data": {
      "text/plain": [
       "2012-01-01 00:00:00    209\n",
       "2012-01-01 00:00:01    160\n",
       "2012-01-01 00:00:02    950\n",
       "2012-01-01 00:00:03    654\n",
       "2012-01-01 00:00:04     73\n",
       "                      ... \n",
       "2012-01-01 00:16:35    639\n",
       "2012-01-01 00:16:36    117\n",
       "2012-01-01 00:16:37    746\n",
       "2012-01-01 00:16:38    898\n",
       "2012-01-01 00:16:39    215\n",
       "Freq: S, Length: 1000, dtype: int32"
      ]
     },
     "execution_count": 6,
     "metadata": {},
     "output_type": "execute_result"
    }
   ],
   "source": [
    "ts = pd.Series(np.random.randint(0, 1000, len(rng)), index=rng)\n",
    "ts"
   ]
  },
  {
   "cell_type": "code",
   "execution_count": 11,
   "metadata": {},
   "outputs": [
    {
     "data": {
      "text/plain": [
       "2012-01-01 00:00:00.000    209\n",
       "2012-01-01 00:00:00.250    209\n",
       "2012-01-01 00:00:00.500    209\n",
       "2012-01-01 00:00:00.750    209\n",
       "2012-01-01 00:00:01.000    160\n",
       "Freq: 250L, dtype: int32"
      ]
     },
     "execution_count": 11,
     "metadata": {},
     "output_type": "execute_result"
    }
   ],
   "source": [
    "ts[:2].resample(\"250L\").ffill()"
   ]
  },
  {
   "cell_type": "code",
   "execution_count": 7,
   "metadata": {},
   "outputs": [
    {
     "data": {
      "text/plain": [
       "2012-01-01 00:00:00    153722\n",
       "2012-01-01 00:05:00    147281\n",
       "2012-01-01 00:10:00    145467\n",
       "2012-01-01 00:15:00     47400\n",
       "Freq: 5T, dtype: int32"
      ]
     },
     "execution_count": 7,
     "metadata": {},
     "output_type": "execute_result"
    }
   ],
   "source": [
    "ts.resample(\"5Min\").sum()"
   ]
  },
  {
   "cell_type": "code",
   "execution_count": 8,
   "metadata": {},
   "outputs": [
    {
     "data": {
      "text/plain": [
       "2012-01-01 00:00:00    512.406667\n",
       "2012-01-01 00:05:00    490.936667\n",
       "2012-01-01 00:10:00    484.890000\n",
       "2012-01-01 00:15:00    474.000000\n",
       "Freq: 5T, dtype: float64"
      ]
     },
     "execution_count": 8,
     "metadata": {},
     "output_type": "execute_result"
    }
   ],
   "source": [
    "ts.resample(\"5Min\").mean()"
   ]
  },
  {
   "cell_type": "code",
   "execution_count": 13,
   "metadata": {},
   "outputs": [
    {
     "data": {
      "text/plain": [
       "DatetimeIndex(['2012-01-01 00:00:00', '2012-01-01 00:01:00',\n",
       "               '2012-01-01 00:02:00', '2012-01-01 00:03:00',\n",
       "               '2012-01-01 00:04:00', '2012-01-01 00:05:00',\n",
       "               '2012-01-01 00:06:00', '2012-01-01 00:07:00',\n",
       "               '2012-01-01 00:08:00', '2012-01-01 00:09:00',\n",
       "               ...\n",
       "               '2012-01-01 16:30:00', '2012-01-01 16:31:00',\n",
       "               '2012-01-01 16:32:00', '2012-01-01 16:33:00',\n",
       "               '2012-01-01 16:34:00', '2012-01-01 16:35:00',\n",
       "               '2012-01-01 16:36:00', '2012-01-01 16:37:00',\n",
       "               '2012-01-01 16:38:00', '2012-01-01 16:39:00'],\n",
       "              dtype='datetime64[ns]', length=1000, freq='T')"
      ]
     },
     "execution_count": 13,
     "metadata": {},
     "output_type": "execute_result"
    }
   ],
   "source": [
    "rng1 = pd.date_range(\"1/1/2012\", periods=1000, freq=\"Min\")\n",
    "rng1"
   ]
  },
  {
   "cell_type": "code",
   "execution_count": 14,
   "metadata": {},
   "outputs": [
    {
     "data": {
      "text/plain": [
       "2012-01-01 00:00:00    171\n",
       "2012-01-01 00:01:00    451\n",
       "2012-01-01 00:02:00    865\n",
       "2012-01-01 00:03:00    484\n",
       "2012-01-01 00:04:00    503\n",
       "                      ... \n",
       "2012-01-01 16:35:00    368\n",
       "2012-01-01 16:36:00    951\n",
       "2012-01-01 16:37:00    514\n",
       "2012-01-01 16:38:00    578\n",
       "2012-01-01 16:39:00    173\n",
       "Freq: T, Length: 1000, dtype: int32"
      ]
     },
     "execution_count": 14,
     "metadata": {},
     "output_type": "execute_result"
    }
   ],
   "source": [
    "ts1 = pd.Series(np.random.randint(0, 1000, len(rng1)), index=rng1)\n",
    "ts1"
   ]
  },
  {
   "cell_type": "code",
   "execution_count": 15,
   "metadata": {},
   "outputs": [
    {
     "data": {
      "text/plain": [
       "2012-01-01 00:00:00    171\n",
       "2012-01-01 00:00:01    171\n",
       "2012-01-01 00:00:02    171\n",
       "2012-01-01 00:00:03    171\n",
       "2012-01-01 00:00:04    171\n",
       "                      ... \n",
       "2012-01-01 00:00:56    171\n",
       "2012-01-01 00:00:57    171\n",
       "2012-01-01 00:00:58    171\n",
       "2012-01-01 00:00:59    171\n",
       "2012-01-01 00:01:00    451\n",
       "Freq: S, Length: 61, dtype: int32"
      ]
     },
     "execution_count": 15,
     "metadata": {},
     "output_type": "execute_result"
    }
   ],
   "source": [
    "ts1[:2].resample(\"S\").ffill()"
   ]
  },
  {
   "cell_type": "code",
   "execution_count": null,
   "metadata": {},
   "outputs": [],
   "source": [
    "s = pd.date_range(\"2000-01-01\", \"2000-01-05\").to_series()"
   ]
  },
  {
   "cell_type": "code",
   "execution_count": 9,
   "metadata": {},
   "outputs": [
    {
     "data": {
      "text/plain": [
       "2000-01-01   2000-01-01\n",
       "2000-01-02   2000-01-02\n",
       "2000-01-03   2000-01-03\n",
       "2000-01-04   2000-01-04\n",
       "2000-01-05   2000-01-05\n",
       "Freq: D, dtype: datetime64[ns]"
      ]
     },
     "execution_count": 9,
     "metadata": {},
     "output_type": "execute_result"
    }
   ],
   "source": [
    "s = pd.date_range(\"2000-01-01\", \"2000-01-05\").to_series()\n",
    "s"
   ]
  },
  {
   "cell_type": "code",
   "execution_count": 10,
   "metadata": {},
   "outputs": [
    {
     "data": {
      "text/plain": [
       "2000-01-01     Saturday\n",
       "2000-01-02       Sunday\n",
       "2000-01-03       Monday\n",
       "2000-01-04      Tuesday\n",
       "2000-01-05    Wednesday\n",
       "Freq: D, dtype: object"
      ]
     },
     "execution_count": 10,
     "metadata": {},
     "output_type": "execute_result"
    }
   ],
   "source": [
    "s.dt.day_name()"
   ]
  },
  {
   "cell_type": "code",
   "execution_count": 17,
   "metadata": {},
   "outputs": [
    {
     "data": {
      "text/plain": [
       "DatetimeIndex(['2014-01-01 00:00:10', '2014-01-02 00:00:10',\n",
       "               '2014-01-03 00:00:10', '2014-01-04 00:00:10',\n",
       "               '2014-01-05 00:00:10', '2014-01-06 00:00:10',\n",
       "               '2014-01-07 00:00:10', '2014-01-08 00:00:10',\n",
       "               '2014-01-09 00:00:10', '2014-01-10 00:00:10',\n",
       "               '2014-01-11 00:00:10', '2014-01-12 00:00:10',\n",
       "               '2014-01-13 00:00:10', '2014-01-14 00:00:10',\n",
       "               '2014-01-15 00:00:10', '2014-01-16 00:00:10',\n",
       "               '2014-01-17 00:00:10', '2014-01-18 00:00:10',\n",
       "               '2014-01-19 00:00:10', '2014-01-20 00:00:10',\n",
       "               '2014-01-21 00:00:10', '2014-01-22 00:00:10',\n",
       "               '2014-01-23 00:00:10', '2014-01-24 00:00:10',\n",
       "               '2014-01-25 00:00:10', '2014-01-26 00:00:10',\n",
       "               '2014-01-27 00:00:10', '2014-01-28 00:00:10',\n",
       "               '2014-01-29 00:00:10', '2014-01-30 00:00:10',\n",
       "               '2014-01-31 00:00:10', '2014-02-01 00:00:10',\n",
       "               '2014-02-02 00:00:10', '2014-02-03 00:00:10',\n",
       "               '2014-02-04 00:00:10', '2014-02-05 00:00:10',\n",
       "               '2014-02-06 00:00:10', '2014-02-07 00:00:10',\n",
       "               '2014-02-08 00:00:10', '2014-02-09 00:00:10',\n",
       "               '2014-02-10 00:00:10', '2014-02-11 00:00:10',\n",
       "               '2014-02-12 00:00:10', '2014-02-13 00:00:10',\n",
       "               '2014-02-14 00:00:10', '2014-02-15 00:00:10',\n",
       "               '2014-02-16 00:00:10', '2014-02-17 00:00:10',\n",
       "               '2014-02-18 00:00:10', '2014-02-19 00:00:10',\n",
       "               '2014-02-20 00:00:10', '2014-02-21 00:00:10',\n",
       "               '2014-02-22 00:00:10', '2014-02-23 00:00:10',\n",
       "               '2014-02-24 00:00:10', '2014-02-25 00:00:10',\n",
       "               '2014-02-26 00:00:10', '2014-02-27 00:00:10',\n",
       "               '2014-02-28 00:00:10', '2014-03-01 00:00:10',\n",
       "               '2014-03-02 00:00:10', '2014-03-03 00:00:10',\n",
       "               '2014-03-04 00:00:10', '2014-03-05 00:00:10',\n",
       "               '2014-03-06 00:00:10', '2014-03-07 00:00:10',\n",
       "               '2014-03-08 00:00:10', '2014-03-09 00:00:10',\n",
       "               '2014-03-10 00:00:10', '2014-03-11 00:00:10',\n",
       "               '2014-03-12 00:00:10', '2014-03-13 00:00:10',\n",
       "               '2014-03-14 00:00:10', '2014-03-15 00:00:10',\n",
       "               '2014-03-16 00:00:10', '2014-03-17 00:00:10',\n",
       "               '2014-03-18 00:00:10', '2014-03-19 00:00:10',\n",
       "               '2014-03-20 00:00:10', '2014-03-21 00:00:10',\n",
       "               '2014-03-22 00:00:10', '2014-03-23 00:00:10',\n",
       "               '2014-03-24 00:00:10', '2014-03-25 00:00:10',\n",
       "               '2014-03-26 00:00:10', '2014-03-27 00:00:10',\n",
       "               '2014-03-28 00:00:10', '2014-03-29 00:00:10',\n",
       "               '2014-03-30 00:00:10', '2014-03-31 00:00:10',\n",
       "               '2014-04-01 00:00:10', '2014-04-02 00:00:10',\n",
       "               '2014-04-03 00:00:10', '2014-04-04 00:00:10',\n",
       "               '2014-04-05 00:00:10', '2014-04-06 00:00:10',\n",
       "               '2014-04-07 00:00:10', '2014-04-08 00:00:10',\n",
       "               '2014-04-09 00:00:10', '2014-04-10 00:00:10'],\n",
       "              dtype='datetime64[ns]', freq='D')"
      ]
     },
     "execution_count": 17,
     "metadata": {},
     "output_type": "execute_result"
    }
   ],
   "source": [
    "rng = pd.date_range(\"2014-1-1\", periods=100, freq=\"D\") + pd.Timedelta(\"10s\")\n",
    "rng"
   ]
  },
  {
   "cell_type": "code",
   "execution_count": 19,
   "metadata": {},
   "outputs": [],
   "source": [
    "List = []\n",
    "for x in rng:\n",
    "    List.append(x+ pd.Timedelta(\"10s\"))"
   ]
  },
  {
   "cell_type": "code",
   "execution_count": 20,
   "metadata": {},
   "outputs": [
    {
     "data": {
      "text/plain": [
       "[Timestamp('2014-01-01 00:00:20', freq='D'),\n",
       " Timestamp('2014-01-02 00:00:20', freq='D'),\n",
       " Timestamp('2014-01-03 00:00:20', freq='D'),\n",
       " Timestamp('2014-01-04 00:00:20', freq='D'),\n",
       " Timestamp('2014-01-05 00:00:20', freq='D'),\n",
       " Timestamp('2014-01-06 00:00:20', freq='D'),\n",
       " Timestamp('2014-01-07 00:00:20', freq='D'),\n",
       " Timestamp('2014-01-08 00:00:20', freq='D'),\n",
       " Timestamp('2014-01-09 00:00:20', freq='D'),\n",
       " Timestamp('2014-01-10 00:00:20', freq='D'),\n",
       " Timestamp('2014-01-11 00:00:20', freq='D'),\n",
       " Timestamp('2014-01-12 00:00:20', freq='D'),\n",
       " Timestamp('2014-01-13 00:00:20', freq='D'),\n",
       " Timestamp('2014-01-14 00:00:20', freq='D'),\n",
       " Timestamp('2014-01-15 00:00:20', freq='D'),\n",
       " Timestamp('2014-01-16 00:00:20', freq='D'),\n",
       " Timestamp('2014-01-17 00:00:20', freq='D'),\n",
       " Timestamp('2014-01-18 00:00:20', freq='D'),\n",
       " Timestamp('2014-01-19 00:00:20', freq='D'),\n",
       " Timestamp('2014-01-20 00:00:20', freq='D'),\n",
       " Timestamp('2014-01-21 00:00:20', freq='D'),\n",
       " Timestamp('2014-01-22 00:00:20', freq='D'),\n",
       " Timestamp('2014-01-23 00:00:20', freq='D'),\n",
       " Timestamp('2014-01-24 00:00:20', freq='D'),\n",
       " Timestamp('2014-01-25 00:00:20', freq='D'),\n",
       " Timestamp('2014-01-26 00:00:20', freq='D'),\n",
       " Timestamp('2014-01-27 00:00:20', freq='D'),\n",
       " Timestamp('2014-01-28 00:00:20', freq='D'),\n",
       " Timestamp('2014-01-29 00:00:20', freq='D'),\n",
       " Timestamp('2014-01-30 00:00:20', freq='D'),\n",
       " Timestamp('2014-01-31 00:00:20', freq='D'),\n",
       " Timestamp('2014-02-01 00:00:20', freq='D'),\n",
       " Timestamp('2014-02-02 00:00:20', freq='D'),\n",
       " Timestamp('2014-02-03 00:00:20', freq='D'),\n",
       " Timestamp('2014-02-04 00:00:20', freq='D'),\n",
       " Timestamp('2014-02-05 00:00:20', freq='D'),\n",
       " Timestamp('2014-02-06 00:00:20', freq='D'),\n",
       " Timestamp('2014-02-07 00:00:20', freq='D'),\n",
       " Timestamp('2014-02-08 00:00:20', freq='D'),\n",
       " Timestamp('2014-02-09 00:00:20', freq='D'),\n",
       " Timestamp('2014-02-10 00:00:20', freq='D'),\n",
       " Timestamp('2014-02-11 00:00:20', freq='D'),\n",
       " Timestamp('2014-02-12 00:00:20', freq='D'),\n",
       " Timestamp('2014-02-13 00:00:20', freq='D'),\n",
       " Timestamp('2014-02-14 00:00:20', freq='D'),\n",
       " Timestamp('2014-02-15 00:00:20', freq='D'),\n",
       " Timestamp('2014-02-16 00:00:20', freq='D'),\n",
       " Timestamp('2014-02-17 00:00:20', freq='D'),\n",
       " Timestamp('2014-02-18 00:00:20', freq='D'),\n",
       " Timestamp('2014-02-19 00:00:20', freq='D'),\n",
       " Timestamp('2014-02-20 00:00:20', freq='D'),\n",
       " Timestamp('2014-02-21 00:00:20', freq='D'),\n",
       " Timestamp('2014-02-22 00:00:20', freq='D'),\n",
       " Timestamp('2014-02-23 00:00:20', freq='D'),\n",
       " Timestamp('2014-02-24 00:00:20', freq='D'),\n",
       " Timestamp('2014-02-25 00:00:20', freq='D'),\n",
       " Timestamp('2014-02-26 00:00:20', freq='D'),\n",
       " Timestamp('2014-02-27 00:00:20', freq='D'),\n",
       " Timestamp('2014-02-28 00:00:20', freq='D'),\n",
       " Timestamp('2014-03-01 00:00:20', freq='D'),\n",
       " Timestamp('2014-03-02 00:00:20', freq='D'),\n",
       " Timestamp('2014-03-03 00:00:20', freq='D'),\n",
       " Timestamp('2014-03-04 00:00:20', freq='D'),\n",
       " Timestamp('2014-03-05 00:00:20', freq='D'),\n",
       " Timestamp('2014-03-06 00:00:20', freq='D'),\n",
       " Timestamp('2014-03-07 00:00:20', freq='D'),\n",
       " Timestamp('2014-03-08 00:00:20', freq='D'),\n",
       " Timestamp('2014-03-09 00:00:20', freq='D'),\n",
       " Timestamp('2014-03-10 00:00:20', freq='D'),\n",
       " Timestamp('2014-03-11 00:00:20', freq='D'),\n",
       " Timestamp('2014-03-12 00:00:20', freq='D'),\n",
       " Timestamp('2014-03-13 00:00:20', freq='D'),\n",
       " Timestamp('2014-03-14 00:00:20', freq='D'),\n",
       " Timestamp('2014-03-15 00:00:20', freq='D'),\n",
       " Timestamp('2014-03-16 00:00:20', freq='D'),\n",
       " Timestamp('2014-03-17 00:00:20', freq='D'),\n",
       " Timestamp('2014-03-18 00:00:20', freq='D'),\n",
       " Timestamp('2014-03-19 00:00:20', freq='D'),\n",
       " Timestamp('2014-03-20 00:00:20', freq='D'),\n",
       " Timestamp('2014-03-21 00:00:20', freq='D'),\n",
       " Timestamp('2014-03-22 00:00:20', freq='D'),\n",
       " Timestamp('2014-03-23 00:00:20', freq='D'),\n",
       " Timestamp('2014-03-24 00:00:20', freq='D'),\n",
       " Timestamp('2014-03-25 00:00:20', freq='D'),\n",
       " Timestamp('2014-03-26 00:00:20', freq='D'),\n",
       " Timestamp('2014-03-27 00:00:20', freq='D'),\n",
       " Timestamp('2014-03-28 00:00:20', freq='D'),\n",
       " Timestamp('2014-03-29 00:00:20', freq='D'),\n",
       " Timestamp('2014-03-30 00:00:20', freq='D'),\n",
       " Timestamp('2014-03-31 00:00:20', freq='D'),\n",
       " Timestamp('2014-04-01 00:00:20', freq='D'),\n",
       " Timestamp('2014-04-02 00:00:20', freq='D'),\n",
       " Timestamp('2014-04-03 00:00:20', freq='D'),\n",
       " Timestamp('2014-04-04 00:00:20', freq='D'),\n",
       " Timestamp('2014-04-05 00:00:20', freq='D'),\n",
       " Timestamp('2014-04-06 00:00:20', freq='D'),\n",
       " Timestamp('2014-04-07 00:00:20', freq='D'),\n",
       " Timestamp('2014-04-08 00:00:20', freq='D'),\n",
       " Timestamp('2014-04-09 00:00:20', freq='D'),\n",
       " Timestamp('2014-04-10 00:00:20', freq='D')]"
      ]
     },
     "execution_count": 20,
     "metadata": {},
     "output_type": "execute_result"
    }
   ],
   "source": [
    "List"
   ]
  },
  {
   "cell_type": "code",
   "execution_count": 21,
   "metadata": {},
   "outputs": [
    {
     "data": {
      "text/plain": [
       "2014-01-01 00:00:10     0\n",
       "2014-01-02 00:00:10     1\n",
       "2014-01-03 00:00:10     2\n",
       "2014-01-04 00:00:10     3\n",
       "2014-01-05 00:00:10     4\n",
       "                       ..\n",
       "2014-04-06 00:00:10    95\n",
       "2014-04-07 00:00:10    96\n",
       "2014-04-08 00:00:10    97\n",
       "2014-04-09 00:00:10    98\n",
       "2014-04-10 00:00:10    99\n",
       "Freq: D, Length: 100, dtype: int64"
      ]
     },
     "execution_count": 21,
     "metadata": {},
     "output_type": "execute_result"
    }
   ],
   "source": [
    "ts = pd.Series(range(100), index=rng)\n",
    "ts"
   ]
  },
  {
   "cell_type": "code",
   "execution_count": 26,
   "metadata": {},
   "outputs": [
    {
     "data": {
      "text/plain": [
       "DatetimeIndex(['2012-01-01 00:00:00', '2012-01-01 00:00:01',\n",
       "               '2012-01-01 00:00:02', '2012-01-01 00:00:03',\n",
       "               '2012-01-01 00:00:04', '2012-01-01 00:00:05',\n",
       "               '2012-01-01 00:00:06', '2012-01-01 00:00:07',\n",
       "               '2012-01-01 00:00:08', '2012-01-01 00:00:09',\n",
       "               ...\n",
       "               '2012-01-01 00:16:30', '2012-01-01 00:16:31',\n",
       "               '2012-01-01 00:16:32', '2012-01-01 00:16:33',\n",
       "               '2012-01-01 00:16:34', '2012-01-01 00:16:35',\n",
       "               '2012-01-01 00:16:36', '2012-01-01 00:16:37',\n",
       "               '2012-01-01 00:16:38', '2012-01-01 00:16:39'],\n",
       "              dtype='datetime64[ns]', length=1000, freq='S')"
      ]
     },
     "execution_count": 26,
     "metadata": {},
     "output_type": "execute_result"
    }
   ],
   "source": [
    "rng3 = pd.date_range(\"1/1/2012\", periods=1000, freq=\"S\")\n",
    "rng3"
   ]
  },
  {
   "cell_type": "code",
   "execution_count": 27,
   "metadata": {},
   "outputs": [
    {
     "data": {
      "text/plain": [
       "2012-01-01 00:00:00      0\n",
       "2012-01-01 00:00:01      1\n",
       "2012-01-01 00:00:02      2\n",
       "2012-01-01 00:00:03      3\n",
       "2012-01-01 00:00:04      4\n",
       "                      ... \n",
       "2012-01-01 00:16:35    995\n",
       "2012-01-01 00:16:36    996\n",
       "2012-01-01 00:16:37    997\n",
       "2012-01-01 00:16:38    998\n",
       "2012-01-01 00:16:39    999\n",
       "Freq: S, Length: 1000, dtype: int64"
      ]
     },
     "execution_count": 27,
     "metadata": {},
     "output_type": "execute_result"
    }
   ],
   "source": [
    "ts3 = pd.Series(range(1000), index=rng3)\n",
    "ts3"
   ]
  },
  {
   "cell_type": "code",
   "execution_count": 28,
   "metadata": {},
   "outputs": [
    {
     "data": {
      "text/plain": [
       "2012-01-01 00:00:00    179700\n",
       "2012-01-01 00:10:00    319800\n",
       "Freq: 10T, dtype: int64"
      ]
     },
     "execution_count": 28,
     "metadata": {},
     "output_type": "execute_result"
    }
   ],
   "source": [
    "ts3.resample(\"10min\").sum()"
   ]
  },
  {
   "cell_type": "code",
   "execution_count": 2,
   "metadata": {},
   "outputs": [],
   "source": [
    "import pandas as pd"
   ]
  },
  {
   "cell_type": "code",
   "execution_count": 3,
   "metadata": {},
   "outputs": [
    {
     "data": {
      "text/html": [
       "<div>\n",
       "<style scoped>\n",
       "    .dataframe tbody tr th:only-of-type {\n",
       "        vertical-align: middle;\n",
       "    }\n",
       "\n",
       "    .dataframe tbody tr th {\n",
       "        vertical-align: top;\n",
       "    }\n",
       "\n",
       "    .dataframe thead th {\n",
       "        text-align: right;\n",
       "    }\n",
       "</style>\n",
       "<table border=\"1\" class=\"dataframe\">\n",
       "  <thead>\n",
       "    <tr style=\"text-align: right;\">\n",
       "      <th></th>\n",
       "      <th>A</th>\n",
       "      <th>B</th>\n",
       "      <th>C</th>\n",
       "    </tr>\n",
       "  </thead>\n",
       "  <tbody>\n",
       "    <tr>\n",
       "      <th>2012-01-01 00:00:00</th>\n",
       "      <td>-0.135719</td>\n",
       "      <td>-1.479816</td>\n",
       "      <td>0.694833</td>\n",
       "    </tr>\n",
       "    <tr>\n",
       "      <th>2012-01-01 00:00:01</th>\n",
       "      <td>2.113536</td>\n",
       "      <td>1.265754</td>\n",
       "      <td>0.000166</td>\n",
       "    </tr>\n",
       "    <tr>\n",
       "      <th>2012-01-01 00:00:02</th>\n",
       "      <td>-0.746381</td>\n",
       "      <td>-0.617815</td>\n",
       "      <td>-0.020072</td>\n",
       "    </tr>\n",
       "    <tr>\n",
       "      <th>2012-01-01 00:00:03</th>\n",
       "      <td>1.054964</td>\n",
       "      <td>-1.712784</td>\n",
       "      <td>0.805163</td>\n",
       "    </tr>\n",
       "    <tr>\n",
       "      <th>2012-01-01 00:00:04</th>\n",
       "      <td>0.618361</td>\n",
       "      <td>-0.109002</td>\n",
       "      <td>-0.093956</td>\n",
       "    </tr>\n",
       "    <tr>\n",
       "      <th>...</th>\n",
       "      <td>...</td>\n",
       "      <td>...</td>\n",
       "      <td>...</td>\n",
       "    </tr>\n",
       "    <tr>\n",
       "      <th>2012-01-01 00:16:35</th>\n",
       "      <td>1.556606</td>\n",
       "      <td>0.361250</td>\n",
       "      <td>-0.314397</td>\n",
       "    </tr>\n",
       "    <tr>\n",
       "      <th>2012-01-01 00:16:36</th>\n",
       "      <td>1.744864</td>\n",
       "      <td>0.615971</td>\n",
       "      <td>-0.932449</td>\n",
       "    </tr>\n",
       "    <tr>\n",
       "      <th>2012-01-01 00:16:37</th>\n",
       "      <td>0.582276</td>\n",
       "      <td>-1.523432</td>\n",
       "      <td>-0.335644</td>\n",
       "    </tr>\n",
       "    <tr>\n",
       "      <th>2012-01-01 00:16:38</th>\n",
       "      <td>0.776437</td>\n",
       "      <td>0.763712</td>\n",
       "      <td>0.155291</td>\n",
       "    </tr>\n",
       "    <tr>\n",
       "      <th>2012-01-01 00:16:39</th>\n",
       "      <td>-0.734261</td>\n",
       "      <td>-0.068704</td>\n",
       "      <td>-0.072175</td>\n",
       "    </tr>\n",
       "  </tbody>\n",
       "</table>\n",
       "<p>1000 rows × 3 columns</p>\n",
       "</div>"
      ],
      "text/plain": [
       "                            A         B         C\n",
       "2012-01-01 00:00:00 -0.135719 -1.479816  0.694833\n",
       "2012-01-01 00:00:01  2.113536  1.265754  0.000166\n",
       "2012-01-01 00:00:02 -0.746381 -0.617815 -0.020072\n",
       "2012-01-01 00:00:03  1.054964 -1.712784  0.805163\n",
       "2012-01-01 00:00:04  0.618361 -0.109002 -0.093956\n",
       "...                       ...       ...       ...\n",
       "2012-01-01 00:16:35  1.556606  0.361250 -0.314397\n",
       "2012-01-01 00:16:36  1.744864  0.615971 -0.932449\n",
       "2012-01-01 00:16:37  0.582276 -1.523432 -0.335644\n",
       "2012-01-01 00:16:38  0.776437  0.763712  0.155291\n",
       "2012-01-01 00:16:39 -0.734261 -0.068704 -0.072175\n",
       "\n",
       "[1000 rows x 3 columns]"
      ]
     },
     "execution_count": 3,
     "metadata": {},
     "output_type": "execute_result"
    }
   ],
   "source": [
    "df = pd.DataFrame(np.random.randn(1000, 3),index=pd.date_range(\"1/1/2012\", freq=\"S\", periods=1000),columns=[\"A\", \"B\", \"C\"],)\n",
    "df"
   ]
  },
  {
   "cell_type": "code",
   "execution_count": 5,
   "metadata": {},
   "outputs": [
    {
     "data": {
      "text/html": [
       "<div>\n",
       "<style scoped>\n",
       "    .dataframe tbody tr th:only-of-type {\n",
       "        vertical-align: middle;\n",
       "    }\n",
       "\n",
       "    .dataframe tbody tr th {\n",
       "        vertical-align: top;\n",
       "    }\n",
       "\n",
       "    .dataframe thead th {\n",
       "        text-align: right;\n",
       "    }\n",
       "</style>\n",
       "<table border=\"1\" class=\"dataframe\">\n",
       "  <thead>\n",
       "    <tr style=\"text-align: right;\">\n",
       "      <th></th>\n",
       "      <th>A</th>\n",
       "      <th>B</th>\n",
       "      <th>C</th>\n",
       "    </tr>\n",
       "  </thead>\n",
       "  <tbody>\n",
       "    <tr>\n",
       "      <th>2012-01-01 00:00:00</th>\n",
       "      <td>-0.070782</td>\n",
       "      <td>-0.043590</td>\n",
       "      <td>-0.236528</td>\n",
       "    </tr>\n",
       "    <tr>\n",
       "      <th>2012-01-01 00:03:00</th>\n",
       "      <td>-0.064404</td>\n",
       "      <td>-0.105550</td>\n",
       "      <td>-0.167917</td>\n",
       "    </tr>\n",
       "    <tr>\n",
       "      <th>2012-01-01 00:06:00</th>\n",
       "      <td>-0.135111</td>\n",
       "      <td>0.098718</td>\n",
       "      <td>0.002648</td>\n",
       "    </tr>\n",
       "    <tr>\n",
       "      <th>2012-01-01 00:09:00</th>\n",
       "      <td>-0.074489</td>\n",
       "      <td>-0.019713</td>\n",
       "      <td>-0.050233</td>\n",
       "    </tr>\n",
       "    <tr>\n",
       "      <th>2012-01-01 00:12:00</th>\n",
       "      <td>-0.014106</td>\n",
       "      <td>0.076453</td>\n",
       "      <td>-0.054905</td>\n",
       "    </tr>\n",
       "    <tr>\n",
       "      <th>2012-01-01 00:15:00</th>\n",
       "      <td>0.151016</td>\n",
       "      <td>0.025319</td>\n",
       "      <td>0.050736</td>\n",
       "    </tr>\n",
       "  </tbody>\n",
       "</table>\n",
       "</div>"
      ],
      "text/plain": [
       "                            A         B         C\n",
       "2012-01-01 00:00:00 -0.070782 -0.043590 -0.236528\n",
       "2012-01-01 00:03:00 -0.064404 -0.105550 -0.167917\n",
       "2012-01-01 00:06:00 -0.135111  0.098718  0.002648\n",
       "2012-01-01 00:09:00 -0.074489 -0.019713 -0.050233\n",
       "2012-01-01 00:12:00 -0.014106  0.076453 -0.054905\n",
       "2012-01-01 00:15:00  0.151016  0.025319  0.050736"
      ]
     },
     "execution_count": 5,
     "metadata": {},
     "output_type": "execute_result"
    }
   ],
   "source": [
    "r = df.resample(\"3T\").mean()\n",
    "r"
   ]
  },
  {
   "cell_type": "code",
   "execution_count": 6,
   "metadata": {},
   "outputs": [
    {
     "data": {
      "text/plain": [
       "-0.034645948427215835"
      ]
     },
     "execution_count": 6,
     "metadata": {},
     "output_type": "execute_result"
    }
   ],
   "source": [
    "r[\"A\"].mean()"
   ]
  },
  {
   "cell_type": "code",
   "execution_count": 7,
   "metadata": {},
   "outputs": [
    {
     "data": {
      "text/plain": [
       "0.15101550283579346"
      ]
     },
     "execution_count": 7,
     "metadata": {},
     "output_type": "execute_result"
    }
   ],
   "source": [
    "r[\"A\"].max()"
   ]
  },
  {
   "cell_type": "code",
   "execution_count": 8,
   "metadata": {},
   "outputs": [
    {
     "data": {
      "text/plain": [
       "A   -0.034646\n",
       "B    0.005273\n",
       "dtype: float64"
      ]
     },
     "execution_count": 8,
     "metadata": {},
     "output_type": "execute_result"
    }
   ],
   "source": [
    "r[[\"A\", \"B\"]].mean()"
   ]
  },
  {
   "cell_type": "code",
   "execution_count": 9,
   "metadata": {},
   "outputs": [
    {
     "data": {
      "text/plain": [
       "sum    -0.207876\n",
       "mean   -0.034646\n",
       "std     0.098756\n",
       "Name: A, dtype: float64"
      ]
     },
     "execution_count": 9,
     "metadata": {},
     "output_type": "execute_result"
    }
   ],
   "source": [
    "r[\"A\"].agg([np.sum, np.mean, np.std])"
   ]
  },
  {
   "cell_type": "code",
   "execution_count": 10,
   "metadata": {},
   "outputs": [
    {
     "data": {
      "text/html": [
       "<div>\n",
       "<style scoped>\n",
       "    .dataframe tbody tr th:only-of-type {\n",
       "        vertical-align: middle;\n",
       "    }\n",
       "\n",
       "    .dataframe tbody tr th {\n",
       "        vertical-align: top;\n",
       "    }\n",
       "\n",
       "    .dataframe thead tr th {\n",
       "        text-align: left;\n",
       "    }\n",
       "</style>\n",
       "<table border=\"1\" class=\"dataframe\">\n",
       "  <thead>\n",
       "    <tr>\n",
       "      <th></th>\n",
       "      <th colspan=\"2\" halign=\"left\">A</th>\n",
       "      <th colspan=\"2\" halign=\"left\">B</th>\n",
       "      <th colspan=\"2\" halign=\"left\">C</th>\n",
       "    </tr>\n",
       "    <tr>\n",
       "      <th></th>\n",
       "      <th>sum</th>\n",
       "      <th>mean</th>\n",
       "      <th>sum</th>\n",
       "      <th>mean</th>\n",
       "      <th>sum</th>\n",
       "      <th>mean</th>\n",
       "    </tr>\n",
       "  </thead>\n",
       "  <tbody>\n",
       "    <tr>\n",
       "      <th>2012-01-01 00:00:00</th>\n",
       "      <td>-24.333410</td>\n",
       "      <td>-0.067593</td>\n",
       "      <td>-26.845218</td>\n",
       "      <td>-0.074570</td>\n",
       "      <td>-72.800099</td>\n",
       "      <td>-0.202222</td>\n",
       "    </tr>\n",
       "    <tr>\n",
       "      <th>2012-01-01 00:06:00</th>\n",
       "      <td>-37.727978</td>\n",
       "      <td>-0.104800</td>\n",
       "      <td>14.221055</td>\n",
       "      <td>0.039503</td>\n",
       "      <td>-8.565338</td>\n",
       "      <td>-0.023793</td>\n",
       "    </tr>\n",
       "    <tr>\n",
       "      <th>2012-01-01 00:12:00</th>\n",
       "      <td>12.562523</td>\n",
       "      <td>0.044866</td>\n",
       "      <td>16.293454</td>\n",
       "      <td>0.058191</td>\n",
       "      <td>-4.809332</td>\n",
       "      <td>-0.017176</td>\n",
       "    </tr>\n",
       "  </tbody>\n",
       "</table>\n",
       "</div>"
      ],
      "text/plain": [
       "                             A                    B                    C  \\\n",
       "                           sum      mean        sum      mean        sum   \n",
       "2012-01-01 00:00:00 -24.333410 -0.067593 -26.845218 -0.074570 -72.800099   \n",
       "2012-01-01 00:06:00 -37.727978 -0.104800  14.221055  0.039503  -8.565338   \n",
       "2012-01-01 00:12:00  12.562523  0.044866  16.293454  0.058191  -4.809332   \n",
       "\n",
       "                               \n",
       "                         mean  \n",
       "2012-01-01 00:00:00 -0.202222  \n",
       "2012-01-01 00:06:00 -0.023793  \n",
       "2012-01-01 00:12:00 -0.017176  "
      ]
     },
     "execution_count": 10,
     "metadata": {},
     "output_type": "execute_result"
    }
   ],
   "source": [
    "r1 = df.resample(\"6T\").agg([np.sum, np.mean])\n",
    "r1"
   ]
  },
  {
   "cell_type": "code",
   "execution_count": 13,
   "metadata": {},
   "outputs": [
    {
     "data": {
      "text/html": [
       "<div>\n",
       "<style scoped>\n",
       "    .dataframe tbody tr th:only-of-type {\n",
       "        vertical-align: middle;\n",
       "    }\n",
       "\n",
       "    .dataframe tbody tr th {\n",
       "        vertical-align: top;\n",
       "    }\n",
       "\n",
       "    .dataframe thead tr th {\n",
       "        text-align: left;\n",
       "    }\n",
       "</style>\n",
       "<table border=\"1\" class=\"dataframe\">\n",
       "  <thead>\n",
       "    <tr>\n",
       "      <th></th>\n",
       "      <th colspan=\"2\" halign=\"left\">A</th>\n",
       "      <th colspan=\"2\" halign=\"left\">B</th>\n",
       "    </tr>\n",
       "    <tr>\n",
       "      <th></th>\n",
       "      <th>sum</th>\n",
       "      <th>std</th>\n",
       "      <th>mean</th>\n",
       "      <th>std</th>\n",
       "    </tr>\n",
       "  </thead>\n",
       "  <tbody>\n",
       "    <tr>\n",
       "      <th>2012-01-01 00:00:00</th>\n",
       "      <td>-12.740699</td>\n",
       "      <td>0.953126</td>\n",
       "      <td>-0.043590</td>\n",
       "      <td>0.984814</td>\n",
       "    </tr>\n",
       "    <tr>\n",
       "      <th>2012-01-01 00:03:00</th>\n",
       "      <td>-11.592711</td>\n",
       "      <td>0.994199</td>\n",
       "      <td>-0.105550</td>\n",
       "      <td>0.998070</td>\n",
       "    </tr>\n",
       "    <tr>\n",
       "      <th>2012-01-01 00:06:00</th>\n",
       "      <td>-24.320003</td>\n",
       "      <td>1.026117</td>\n",
       "      <td>0.098718</td>\n",
       "      <td>1.075464</td>\n",
       "    </tr>\n",
       "    <tr>\n",
       "      <th>2012-01-01 00:09:00</th>\n",
       "      <td>-13.407975</td>\n",
       "      <td>1.001682</td>\n",
       "      <td>-0.019713</td>\n",
       "      <td>1.041399</td>\n",
       "    </tr>\n",
       "    <tr>\n",
       "      <th>2012-01-01 00:12:00</th>\n",
       "      <td>-2.539027</td>\n",
       "      <td>1.034233</td>\n",
       "      <td>0.076453</td>\n",
       "      <td>1.047226</td>\n",
       "    </tr>\n",
       "    <tr>\n",
       "      <th>2012-01-01 00:15:00</th>\n",
       "      <td>15.101550</td>\n",
       "      <td>1.139408</td>\n",
       "      <td>0.025319</td>\n",
       "      <td>0.914196</td>\n",
       "    </tr>\n",
       "  </tbody>\n",
       "</table>\n",
       "</div>"
      ],
      "text/plain": [
       "                             A                   B          \n",
       "                           sum       std      mean       std\n",
       "2012-01-01 00:00:00 -12.740699  0.953126 -0.043590  0.984814\n",
       "2012-01-01 00:03:00 -11.592711  0.994199 -0.105550  0.998070\n",
       "2012-01-01 00:06:00 -24.320003  1.026117  0.098718  1.075464\n",
       "2012-01-01 00:09:00 -13.407975  1.001682 -0.019713  1.041399\n",
       "2012-01-01 00:12:00  -2.539027  1.034233  0.076453  1.047226\n",
       "2012-01-01 00:15:00  15.101550  1.139408  0.025319  0.914196"
      ]
     },
     "execution_count": 13,
     "metadata": {},
     "output_type": "execute_result"
    }
   ],
   "source": [
    "r = df.resample(\"3T\").agg({\"A\": [\"sum\", \"std\"], \"B\": [\"mean\", \"std\"]})\n",
    "r"
   ]
  },
  {
   "cell_type": "code",
   "execution_count": 14,
   "metadata": {},
   "outputs": [],
   "source": [
    "start = \"2000-10-01 23:30:00\"\n",
    "end = \"2000-10-02 00:30:00\""
   ]
  },
  {
   "cell_type": "code",
   "execution_count": 15,
   "metadata": {},
   "outputs": [
    {
     "data": {
      "text/plain": [
       "DatetimeIndex(['2000-10-01 23:30:00', '2000-10-01 23:37:00',\n",
       "               '2000-10-01 23:44:00', '2000-10-01 23:51:00',\n",
       "               '2000-10-01 23:58:00', '2000-10-02 00:05:00',\n",
       "               '2000-10-02 00:12:00', '2000-10-02 00:19:00',\n",
       "               '2000-10-02 00:26:00'],\n",
       "              dtype='datetime64[ns]', freq='7T')"
      ]
     },
     "execution_count": 15,
     "metadata": {},
     "output_type": "execute_result"
    }
   ],
   "source": [
    "rng = pd.date_range(start, end, freq=\"7min\")\n",
    "rng"
   ]
  },
  {
   "cell_type": "code",
   "execution_count": 16,
   "metadata": {},
   "outputs": [
    {
     "data": {
      "text/plain": [
       "2000-10-01 23:30:00     0\n",
       "2000-10-01 23:37:00     3\n",
       "2000-10-01 23:44:00     6\n",
       "2000-10-01 23:51:00     9\n",
       "2000-10-01 23:58:00    12\n",
       "2000-10-02 00:05:00    15\n",
       "2000-10-02 00:12:00    18\n",
       "2000-10-02 00:19:00    21\n",
       "2000-10-02 00:26:00    24\n",
       "Freq: 7T, dtype: int32"
      ]
     },
     "execution_count": 16,
     "metadata": {},
     "output_type": "execute_result"
    }
   ],
   "source": [
    "ts = pd.Series(np.arange(len(rng)) * 3, index=rng)\n",
    "ts"
   ]
  },
  {
   "cell_type": "code",
   "execution_count": 17,
   "metadata": {},
   "outputs": [
    {
     "data": {
      "text/plain": [
       "2000-10-01 23:30:00    0\n",
       "2000-10-01 23:37:00    1\n",
       "2000-10-01 23:44:00    2\n",
       "2000-10-01 23:51:00    3\n",
       "2000-10-01 23:58:00    4\n",
       "2000-10-02 00:05:00    5\n",
       "2000-10-02 00:12:00    6\n",
       "2000-10-02 00:19:00    7\n",
       "2000-10-02 00:26:00    8\n",
       "Freq: 7T, dtype: int32"
      ]
     },
     "execution_count": 17,
     "metadata": {},
     "output_type": "execute_result"
    }
   ],
   "source": [
    "ts2 = pd.Series(np.arange(len(rng)), index=rng)\n",
    "ts2"
   ]
  },
  {
   "cell_type": "code",
   "execution_count": 23,
   "metadata": {},
   "outputs": [
    {
     "data": {
      "text/plain": [
       "2000-10-01 23:20:00     3\n",
       "2000-10-01 23:40:00    27\n",
       "2000-10-02 00:00:00    54\n",
       "2000-10-02 00:20:00    24\n",
       "Freq: 20T, dtype: int32"
      ]
     },
     "execution_count": 23,
     "metadata": {},
     "output_type": "execute_result"
    }
   ],
   "source": [
    "ts.resample(\"20min\").sum()"
   ]
  },
  {
   "cell_type": "code",
   "execution_count": 24,
   "metadata": {},
   "outputs": [
    {
     "data": {
      "text/plain": [
       "2000-10-01 23:30:00     3\n",
       "2000-10-01 23:40:00     6\n",
       "2000-10-01 23:50:00    21\n",
       "2000-10-02 00:00:00    15\n",
       "2000-10-02 00:10:00    39\n",
       "2000-10-02 00:20:00    24\n",
       "Freq: 10T, dtype: int32"
      ]
     },
     "execution_count": 24,
     "metadata": {},
     "output_type": "execute_result"
    }
   ],
   "source": [
    "ts.resample(\"10min\").sum()"
   ]
  },
  {
   "cell_type": "code",
   "execution_count": 35,
   "metadata": {},
   "outputs": [
    {
     "data": {
      "text/plain": [
       "2000-10-01 23:14:00     0\n",
       "2000-10-01 23:31:00     9\n",
       "2000-10-01 23:48:00    21\n",
       "2000-10-02 00:05:00    54\n",
       "2000-10-02 00:22:00    24\n",
       "Freq: 17T, dtype: int32"
      ]
     },
     "execution_count": 35,
     "metadata": {},
     "output_type": "execute_result"
    }
   ],
   "source": [
    "ts.resample(\"17min\").sum()"
   ]
  },
  {
   "cell_type": "code",
   "execution_count": 38,
   "metadata": {},
   "outputs": [],
   "source": [
    "middle1 = \"2000-10-01 23:31:00\""
   ]
  },
  {
   "cell_type": "code",
   "execution_count": 36,
   "metadata": {},
   "outputs": [],
   "source": [
    "middle = \"2000-10-02 00:00:00\""
   ]
  },
  {
   "cell_type": "code",
   "execution_count": 39,
   "metadata": {},
   "outputs": [
    {
     "data": {
      "text/plain": [
       "2000-10-01 23:31:00     9\n",
       "2000-10-01 23:48:00    21\n",
       "2000-10-02 00:05:00    54\n",
       "2000-10-02 00:22:00    24\n",
       "Freq: 17T, dtype: int32"
      ]
     },
     "execution_count": 39,
     "metadata": {},
     "output_type": "execute_result"
    }
   ],
   "source": [
    "ts[middle1:end].resample(\"17min\").sum()"
   ]
  },
  {
   "cell_type": "code",
   "execution_count": 41,
   "metadata": {},
   "outputs": [
    {
     "data": {
      "text/plain": [
       "PeriodIndex(['2014-01', '2014-04', '2014-07', '2014-10', '2015-01', '2015-04',\n",
       "             '2015-07', '2015-10', '2016-01', '2016-04', '2016-07', '2016-10',\n",
       "             '2017-01', '2017-04', '2017-07', '2017-10', '2018-01', '2018-04',\n",
       "             '2018-07', '2018-10', '2019-01', '2019-04', '2019-07', '2019-10',\n",
       "             '2020-01', '2020-04', '2020-07', '2020-10', '2021-01', '2021-04',\n",
       "             '2021-07', '2021-10', '2022-01', '2022-04', '2022-07', '2022-10',\n",
       "             '2023-01', '2023-04', '2023-07', '2023-10', '2024-01', '2024-04',\n",
       "             '2024-07', '2024-10', '2025-01', '2025-04', '2025-07', '2025-10',\n",
       "             '2026-01', '2026-04', '2026-07', '2026-10', '2027-01', '2027-04',\n",
       "             '2027-07', '2027-10', '2028-01', '2028-04', '2028-07', '2028-10',\n",
       "             '2029-01', '2029-04', '2029-07', '2029-10', '2030-01', '2030-04',\n",
       "             '2030-07', '2030-10', '2031-01', '2031-04', '2031-07', '2031-10',\n",
       "             '2032-01', '2032-04', '2032-07', '2032-10', '2033-01', '2033-04',\n",
       "             '2033-07', '2033-10', '2034-01', '2034-04', '2034-07', '2034-10',\n",
       "             '2035-01', '2035-04', '2035-07', '2035-10', '2036-01', '2036-04',\n",
       "             '2036-07', '2036-10', '2037-01', '2037-04', '2037-07', '2037-10',\n",
       "             '2038-01', '2038-04', '2038-07', '2038-10'],\n",
       "            dtype='period[3M]', freq='3M')"
      ]
     },
     "execution_count": 41,
     "metadata": {},
     "output_type": "execute_result"
    }
   ],
   "source": [
    "pd.period_range(start=\"2014-01\", freq=\"3M\", periods=100)"
   ]
  },
  {
   "cell_type": "code",
   "execution_count": 43,
   "metadata": {},
   "outputs": [
    {
     "data": {
      "text/plain": [
       "PeriodIndex(['2017-03', '2017-04', '2017-05', '2017-06', '2017-07', '2017-08',\n",
       "             '2017-09'],\n",
       "            dtype='period[M]', freq='M')"
      ]
     },
     "execution_count": 43,
     "metadata": {},
     "output_type": "execute_result"
    }
   ],
   "source": [
    "pd.period_range(start=pd.Period(\"2017Q1\", freq=\"Q\"), end=pd.Period(\"2017Q3\", freq=\"Q\"), freq=\"M\")"
   ]
  },
  {
   "cell_type": "code",
   "execution_count": 44,
   "metadata": {},
   "outputs": [
    {
     "data": {
      "text/plain": [
       "PeriodIndex(['2017-03', '2017-04', '2017-05', '2017-06', '2017-07', '2017-08',\n",
       "             '2017-09', '2017-10', '2017-11', '2017-12'],\n",
       "            dtype='period[M]', freq='M')"
      ]
     },
     "execution_count": 44,
     "metadata": {},
     "output_type": "execute_result"
    }
   ],
   "source": [
    "pd.period_range(start=pd.Period(\"2017Q1\", freq=\"Q\"), end=pd.Period(\"2017Q4\", freq=\"Q\"), freq=\"M\")"
   ]
  },
  {
   "cell_type": "code",
   "execution_count": 46,
   "metadata": {},
   "outputs": [
    {
     "data": {
      "text/plain": [
       "PeriodIndex(['2011-01', '2011-02', '2011-03', '2011-04', '2011-05', '2011-06',\n",
       "             '2011-07', '2011-08', '2011-09', '2011-10', '2011-11', '2011-12',\n",
       "             '2012-01'],\n",
       "            dtype='period[M]', freq='M')"
      ]
     },
     "execution_count": 46,
     "metadata": {},
     "output_type": "execute_result"
    }
   ],
   "source": [
    "prng = pd.period_range(\"1/1/2011\", \"1/1/2012\", freq=\"M\")\n",
    "prng"
   ]
  },
  {
   "cell_type": "code",
   "execution_count": 48,
   "metadata": {},
   "outputs": [
    {
     "data": {
      "text/plain": [
       "2011-01   -0.912604\n",
       "2011-02   -0.761079\n",
       "2011-03   -0.389532\n",
       "2011-04   -0.692353\n",
       "2011-05    0.868590\n",
       "2011-06   -0.013618\n",
       "2011-07   -0.443160\n",
       "2011-08    1.059242\n",
       "2011-09    0.735623\n",
       "2011-10    0.627525\n",
       "2011-11    1.156864\n",
       "2011-12   -1.242053\n",
       "2012-01    1.147216\n",
       "Freq: M, dtype: float64"
      ]
     },
     "execution_count": 48,
     "metadata": {},
     "output_type": "execute_result"
    }
   ],
   "source": [
    "ps = pd.Series(np.random.randn(len(prng)), prng)\n",
    "ps"
   ]
  },
  {
   "cell_type": "code",
   "execution_count": 49,
   "metadata": {},
   "outputs": [
    {
     "data": {
      "text/plain": [
       "PeriodIndex(['2014-07-01 09:00', '2014-07-01 10:00', '2014-07-01 11:00',\n",
       "             '2014-07-01 12:00', '2014-07-01 13:00', '2014-07-01 14:00',\n",
       "             '2014-07-01 15:00', '2014-07-01 16:00', '2014-07-01 17:00',\n",
       "             '2014-07-01 18:00', '2014-07-01 19:00', '2014-07-01 20:00',\n",
       "             '2014-07-01 21:00', '2014-07-01 22:00', '2014-07-01 23:00',\n",
       "             '2014-07-02 00:00', '2014-07-02 01:00', '2014-07-02 02:00',\n",
       "             '2014-07-02 03:00', '2014-07-02 04:00', '2014-07-02 05:00',\n",
       "             '2014-07-02 06:00', '2014-07-02 07:00', '2014-07-02 08:00',\n",
       "             '2014-07-02 09:00', '2014-07-02 10:00', '2014-07-02 11:00',\n",
       "             '2014-07-02 12:00', '2014-07-02 13:00', '2014-07-02 14:00',\n",
       "             '2014-07-02 15:00', '2014-07-02 16:00', '2014-07-02 17:00',\n",
       "             '2014-07-02 18:00', '2014-07-02 19:00', '2014-07-02 20:00',\n",
       "             '2014-07-02 21:00', '2014-07-02 22:00', '2014-07-02 23:00',\n",
       "             '2014-07-03 00:00', '2014-07-03 01:00', '2014-07-03 02:00',\n",
       "             '2014-07-03 03:00', '2014-07-03 04:00', '2014-07-03 05:00',\n",
       "             '2014-07-03 06:00', '2014-07-03 07:00', '2014-07-03 08:00',\n",
       "             '2014-07-03 09:00', '2014-07-03 10:00'],\n",
       "            dtype='period[H]', freq='H')"
      ]
     },
     "execution_count": 49,
     "metadata": {},
     "output_type": "execute_result"
    }
   ],
   "source": [
    "idx = pd.period_range(\"2014-07-01 09:00\", periods=50, freq=\"H\")\n",
    "idx"
   ]
  },
  {
   "cell_type": "code",
   "execution_count": 50,
   "metadata": {},
   "outputs": [
    {
     "data": {
      "text/plain": [
       "PeriodIndex(['2014-07-01 11:00', '2014-07-01 12:00', '2014-07-01 13:00',\n",
       "             '2014-07-01 14:00', '2014-07-01 15:00', '2014-07-01 16:00',\n",
       "             '2014-07-01 17:00', '2014-07-01 18:00', '2014-07-01 19:00',\n",
       "             '2014-07-01 20:00', '2014-07-01 21:00', '2014-07-01 22:00',\n",
       "             '2014-07-01 23:00', '2014-07-02 00:00', '2014-07-02 01:00',\n",
       "             '2014-07-02 02:00', '2014-07-02 03:00', '2014-07-02 04:00',\n",
       "             '2014-07-02 05:00', '2014-07-02 06:00', '2014-07-02 07:00',\n",
       "             '2014-07-02 08:00', '2014-07-02 09:00', '2014-07-02 10:00',\n",
       "             '2014-07-02 11:00', '2014-07-02 12:00', '2014-07-02 13:00',\n",
       "             '2014-07-02 14:00', '2014-07-02 15:00', '2014-07-02 16:00',\n",
       "             '2014-07-02 17:00', '2014-07-02 18:00', '2014-07-02 19:00',\n",
       "             '2014-07-02 20:00', '2014-07-02 21:00', '2014-07-02 22:00',\n",
       "             '2014-07-02 23:00', '2014-07-03 00:00', '2014-07-03 01:00',\n",
       "             '2014-07-03 02:00', '2014-07-03 03:00', '2014-07-03 04:00',\n",
       "             '2014-07-03 05:00', '2014-07-03 06:00', '2014-07-03 07:00',\n",
       "             '2014-07-03 08:00', '2014-07-03 09:00', '2014-07-03 10:00',\n",
       "             '2014-07-03 11:00', '2014-07-03 12:00'],\n",
       "            dtype='period[H]', freq='H')"
      ]
     },
     "execution_count": 50,
     "metadata": {},
     "output_type": "execute_result"
    }
   ],
   "source": [
    "idx + pd.offsets.Hour(2)"
   ]
  },
  {
   "cell_type": "code",
   "execution_count": 51,
   "metadata": {},
   "outputs": [
    {
     "data": {
      "text/plain": [
       "PeriodIndex(['2014-07', '2014-08', '2014-09', '2014-10', '2014-11', '2014-12',\n",
       "             '2015-01', '2015-02', '2015-03', '2015-04'],\n",
       "            dtype='period[M]', freq='M')"
      ]
     },
     "execution_count": 51,
     "metadata": {},
     "output_type": "execute_result"
    }
   ],
   "source": [
    "idx = pd.period_range(\"2014-07\", periods=10, freq=\"M\")\n",
    "idx"
   ]
  },
  {
   "cell_type": "code",
   "execution_count": 52,
   "metadata": {},
   "outputs": [
    {
     "data": {
      "text/plain": [
       "PeriodIndex(['2014-10', '2014-11', '2014-12', '2015-01', '2015-02', '2015-03',\n",
       "             '2015-04', '2015-05', '2015-06', '2015-07'],\n",
       "            dtype='period[M]', freq='M')"
      ]
     },
     "execution_count": 52,
     "metadata": {},
     "output_type": "execute_result"
    }
   ],
   "source": [
    "idx + pd.offsets.MonthEnd(3)"
   ]
  },
  {
   "cell_type": "code",
   "execution_count": 53,
   "metadata": {},
   "outputs": [
    {
     "data": {
      "text/plain": [
       "PeriodIndex(['2015-05', '2015-06', '2015-07', '2015-08', '2015-09', '2015-10',\n",
       "             '2015-11', '2015-12', '2016-01', '2016-02'],\n",
       "            dtype='period[M]', freq='M')"
      ]
     },
     "execution_count": 53,
     "metadata": {},
     "output_type": "execute_result"
    }
   ],
   "source": [
    "idx + pd.offsets.MonthEnd(10)"
   ]
  },
  {
   "cell_type": "code",
   "execution_count": 54,
   "metadata": {},
   "outputs": [
    {
     "data": {
      "text/html": [
       "<div>\n",
       "<style scoped>\n",
       "    .dataframe tbody tr th:only-of-type {\n",
       "        vertical-align: middle;\n",
       "    }\n",
       "\n",
       "    .dataframe tbody tr th {\n",
       "        vertical-align: top;\n",
       "    }\n",
       "\n",
       "    .dataframe thead th {\n",
       "        text-align: right;\n",
       "    }\n",
       "</style>\n",
       "<table border=\"1\" class=\"dataframe\">\n",
       "  <thead>\n",
       "    <tr style=\"text-align: right;\">\n",
       "      <th></th>\n",
       "      <th>A</th>\n",
       "    </tr>\n",
       "  </thead>\n",
       "  <tbody>\n",
       "    <tr>\n",
       "      <th>2013-01-01 09:00</th>\n",
       "      <td>-0.334119</td>\n",
       "    </tr>\n",
       "    <tr>\n",
       "      <th>2013-01-01 09:01</th>\n",
       "      <td>0.515752</td>\n",
       "    </tr>\n",
       "    <tr>\n",
       "      <th>2013-01-01 09:02</th>\n",
       "      <td>-0.076547</td>\n",
       "    </tr>\n",
       "    <tr>\n",
       "      <th>2013-01-01 09:03</th>\n",
       "      <td>1.152818</td>\n",
       "    </tr>\n",
       "    <tr>\n",
       "      <th>2013-01-01 09:04</th>\n",
       "      <td>-0.677715</td>\n",
       "    </tr>\n",
       "    <tr>\n",
       "      <th>...</th>\n",
       "      <td>...</td>\n",
       "    </tr>\n",
       "    <tr>\n",
       "      <th>2013-01-01 18:55</th>\n",
       "      <td>0.511928</td>\n",
       "    </tr>\n",
       "    <tr>\n",
       "      <th>2013-01-01 18:56</th>\n",
       "      <td>-0.727056</td>\n",
       "    </tr>\n",
       "    <tr>\n",
       "      <th>2013-01-01 18:57</th>\n",
       "      <td>0.004074</td>\n",
       "    </tr>\n",
       "    <tr>\n",
       "      <th>2013-01-01 18:58</th>\n",
       "      <td>-0.736212</td>\n",
       "    </tr>\n",
       "    <tr>\n",
       "      <th>2013-01-01 18:59</th>\n",
       "      <td>0.607815</td>\n",
       "    </tr>\n",
       "  </tbody>\n",
       "</table>\n",
       "<p>600 rows × 1 columns</p>\n",
       "</div>"
      ],
      "text/plain": [
       "                         A\n",
       "2013-01-01 09:00 -0.334119\n",
       "2013-01-01 09:01  0.515752\n",
       "2013-01-01 09:02 -0.076547\n",
       "2013-01-01 09:03  1.152818\n",
       "2013-01-01 09:04 -0.677715\n",
       "...                    ...\n",
       "2013-01-01 18:55  0.511928\n",
       "2013-01-01 18:56 -0.727056\n",
       "2013-01-01 18:57  0.004074\n",
       "2013-01-01 18:58 -0.736212\n",
       "2013-01-01 18:59  0.607815\n",
       "\n",
       "[600 rows x 1 columns]"
      ]
     },
     "execution_count": 54,
     "metadata": {},
     "output_type": "execute_result"
    }
   ],
   "source": [
    "#values, columns and index. \n",
    "dfp = pd.DataFrame(np.random.randn(600, 1),columns=[\"A\"],index=pd.period_range(\"2013-01-01 9:00\", periods=600, freq=\"T\"),)\n",
    "dfp"
   ]
  },
  {
   "cell_type": "code",
   "execution_count": 55,
   "metadata": {},
   "outputs": [
    {
     "data": {
      "text/html": [
       "<div>\n",
       "<style scoped>\n",
       "    .dataframe tbody tr th:only-of-type {\n",
       "        vertical-align: middle;\n",
       "    }\n",
       "\n",
       "    .dataframe tbody tr th {\n",
       "        vertical-align: top;\n",
       "    }\n",
       "\n",
       "    .dataframe thead th {\n",
       "        text-align: right;\n",
       "    }\n",
       "</style>\n",
       "<table border=\"1\" class=\"dataframe\">\n",
       "  <thead>\n",
       "    <tr style=\"text-align: right;\">\n",
       "      <th></th>\n",
       "      <th>A</th>\n",
       "      <th>B</th>\n",
       "      <th>C</th>\n",
       "    </tr>\n",
       "  </thead>\n",
       "  <tbody>\n",
       "    <tr>\n",
       "      <th>2013-01-01 09:00</th>\n",
       "      <td>-0.691169</td>\n",
       "      <td>0.447829</td>\n",
       "      <td>-2.268986</td>\n",
       "    </tr>\n",
       "    <tr>\n",
       "      <th>2013-01-01 09:01</th>\n",
       "      <td>-1.468877</td>\n",
       "      <td>-2.309865</td>\n",
       "      <td>0.087227</td>\n",
       "    </tr>\n",
       "    <tr>\n",
       "      <th>2013-01-01 09:02</th>\n",
       "      <td>1.360989</td>\n",
       "      <td>0.072262</td>\n",
       "      <td>0.305394</td>\n",
       "    </tr>\n",
       "    <tr>\n",
       "      <th>2013-01-01 09:03</th>\n",
       "      <td>0.274347</td>\n",
       "      <td>0.278051</td>\n",
       "      <td>0.030526</td>\n",
       "    </tr>\n",
       "    <tr>\n",
       "      <th>2013-01-01 09:04</th>\n",
       "      <td>1.364032</td>\n",
       "      <td>-1.580589</td>\n",
       "      <td>0.177237</td>\n",
       "    </tr>\n",
       "    <tr>\n",
       "      <th>...</th>\n",
       "      <td>...</td>\n",
       "      <td>...</td>\n",
       "      <td>...</td>\n",
       "    </tr>\n",
       "    <tr>\n",
       "      <th>2013-01-01 18:55</th>\n",
       "      <td>0.290853</td>\n",
       "      <td>-0.703035</td>\n",
       "      <td>-0.562111</td>\n",
       "    </tr>\n",
       "    <tr>\n",
       "      <th>2013-01-01 18:56</th>\n",
       "      <td>0.458070</td>\n",
       "      <td>-0.310282</td>\n",
       "      <td>0.193758</td>\n",
       "    </tr>\n",
       "    <tr>\n",
       "      <th>2013-01-01 18:57</th>\n",
       "      <td>0.605000</td>\n",
       "      <td>1.597051</td>\n",
       "      <td>-0.674168</td>\n",
       "    </tr>\n",
       "    <tr>\n",
       "      <th>2013-01-01 18:58</th>\n",
       "      <td>-0.963244</td>\n",
       "      <td>-0.283838</td>\n",
       "      <td>-0.453185</td>\n",
       "    </tr>\n",
       "    <tr>\n",
       "      <th>2013-01-01 18:59</th>\n",
       "      <td>1.052922</td>\n",
       "      <td>-1.304782</td>\n",
       "      <td>-0.128513</td>\n",
       "    </tr>\n",
       "  </tbody>\n",
       "</table>\n",
       "<p>600 rows × 3 columns</p>\n",
       "</div>"
      ],
      "text/plain": [
       "                         A         B         C\n",
       "2013-01-01 09:00 -0.691169  0.447829 -2.268986\n",
       "2013-01-01 09:01 -1.468877 -2.309865  0.087227\n",
       "2013-01-01 09:02  1.360989  0.072262  0.305394\n",
       "2013-01-01 09:03  0.274347  0.278051  0.030526\n",
       "2013-01-01 09:04  1.364032 -1.580589  0.177237\n",
       "...                    ...       ...       ...\n",
       "2013-01-01 18:55  0.290853 -0.703035 -0.562111\n",
       "2013-01-01 18:56  0.458070 -0.310282  0.193758\n",
       "2013-01-01 18:57  0.605000  1.597051 -0.674168\n",
       "2013-01-01 18:58 -0.963244 -0.283838 -0.453185\n",
       "2013-01-01 18:59  1.052922 -1.304782 -0.128513\n",
       "\n",
       "[600 rows x 3 columns]"
      ]
     },
     "execution_count": 55,
     "metadata": {},
     "output_type": "execute_result"
    }
   ],
   "source": [
    "dfp1 = pd.DataFrame(np.random.randn(600, 3),columns=[\"A\",\"B\",\"C\"],index=pd.period_range(\"2013-01-01 9:00\", periods=600, freq=\"T\"),)\n",
    "dfp1"
   ]
  },
  {
   "cell_type": "code",
   "execution_count": 58,
   "metadata": {},
   "outputs": [
    {
     "data": {
      "text/plain": [
       "A   -0.334119\n",
       "Name: 2013-01-01 09:00, dtype: float64"
      ]
     },
     "execution_count": 58,
     "metadata": {},
     "output_type": "execute_result"
    }
   ],
   "source": [
    "dfp.loc[\"2013-01-01 9H\"]"
   ]
  },
  {
   "cell_type": "code",
   "execution_count": 59,
   "metadata": {},
   "outputs": [
    {
     "data": {
      "text/html": [
       "<div>\n",
       "<style scoped>\n",
       "    .dataframe tbody tr th:only-of-type {\n",
       "        vertical-align: middle;\n",
       "    }\n",
       "\n",
       "    .dataframe tbody tr th {\n",
       "        vertical-align: top;\n",
       "    }\n",
       "\n",
       "    .dataframe thead th {\n",
       "        text-align: right;\n",
       "    }\n",
       "</style>\n",
       "<table border=\"1\" class=\"dataframe\">\n",
       "  <thead>\n",
       "    <tr style=\"text-align: right;\">\n",
       "      <th></th>\n",
       "      <th>A</th>\n",
       "    </tr>\n",
       "  </thead>\n",
       "  <tbody>\n",
       "    <tr>\n",
       "      <th>2013-01-01 10:00</th>\n",
       "      <td>2.599164</td>\n",
       "    </tr>\n",
       "    <tr>\n",
       "      <th>2013-01-01 10:01</th>\n",
       "      <td>1.977142</td>\n",
       "    </tr>\n",
       "    <tr>\n",
       "      <th>2013-01-01 10:02</th>\n",
       "      <td>2.594015</td>\n",
       "    </tr>\n",
       "    <tr>\n",
       "      <th>2013-01-01 10:03</th>\n",
       "      <td>-1.162496</td>\n",
       "    </tr>\n",
       "    <tr>\n",
       "      <th>2013-01-01 10:04</th>\n",
       "      <td>-0.192081</td>\n",
       "    </tr>\n",
       "    <tr>\n",
       "      <th>...</th>\n",
       "      <td>...</td>\n",
       "    </tr>\n",
       "    <tr>\n",
       "      <th>2013-01-01 11:55</th>\n",
       "      <td>-0.732379</td>\n",
       "    </tr>\n",
       "    <tr>\n",
       "      <th>2013-01-01 11:56</th>\n",
       "      <td>-0.608731</td>\n",
       "    </tr>\n",
       "    <tr>\n",
       "      <th>2013-01-01 11:57</th>\n",
       "      <td>-1.117454</td>\n",
       "    </tr>\n",
       "    <tr>\n",
       "      <th>2013-01-01 11:58</th>\n",
       "      <td>1.056143</td>\n",
       "    </tr>\n",
       "    <tr>\n",
       "      <th>2013-01-01 11:59</th>\n",
       "      <td>0.473766</td>\n",
       "    </tr>\n",
       "  </tbody>\n",
       "</table>\n",
       "<p>120 rows × 1 columns</p>\n",
       "</div>"
      ],
      "text/plain": [
       "                         A\n",
       "2013-01-01 10:00  2.599164\n",
       "2013-01-01 10:01  1.977142\n",
       "2013-01-01 10:02  2.594015\n",
       "2013-01-01 10:03 -1.162496\n",
       "2013-01-01 10:04 -0.192081\n",
       "...                    ...\n",
       "2013-01-01 11:55 -0.732379\n",
       "2013-01-01 11:56 -0.608731\n",
       "2013-01-01 11:57 -1.117454\n",
       "2013-01-01 11:58  1.056143\n",
       "2013-01-01 11:59  0.473766\n",
       "\n",
       "[120 rows x 1 columns]"
      ]
     },
     "execution_count": 59,
     "metadata": {},
     "output_type": "execute_result"
    }
   ],
   "source": [
    "dfp[\"2013-01-01 10H\":\"2013-01-01 11H\"]"
   ]
  },
  {
   "cell_type": "code",
   "execution_count": 60,
   "metadata": {},
   "outputs": [
    {
     "data": {
      "text/plain": [
       "DatetimeIndex(['2012-01-31', '2012-02-29', '2012-03-31', '2012-04-30',\n",
       "               '2012-05-31'],\n",
       "              dtype='datetime64[ns]', freq='M')"
      ]
     },
     "execution_count": 60,
     "metadata": {},
     "output_type": "execute_result"
    }
   ],
   "source": [
    "rng = pd.date_range(\"1/1/2012\", periods=5, freq=\"M\")\n",
    "rng"
   ]
  },
  {
   "cell_type": "code",
   "execution_count": 63,
   "metadata": {},
   "outputs": [
    {
     "data": {
      "text/plain": [
       "2012-01-31   -0.486843\n",
       "2012-02-29   -0.647678\n",
       "2012-03-31    0.276103\n",
       "2012-04-30    1.526295\n",
       "2012-05-31   -0.322653\n",
       "Freq: M, dtype: float64"
      ]
     },
     "execution_count": 63,
     "metadata": {},
     "output_type": "execute_result"
    }
   ],
   "source": [
    "ts = pd.Series(np.random.randn(len(rng)), index=rng)\n",
    "ts"
   ]
  },
  {
   "cell_type": "code",
   "execution_count": 65,
   "metadata": {},
   "outputs": [
    {
     "data": {
      "text/plain": [
       "PeriodIndex(['1990Q1', '1990Q2', '1990Q3', '1990Q4', '1991Q1', '1991Q2',\n",
       "             '1991Q3', '1991Q4', '1992Q1', '1992Q2', '1992Q3', '1992Q4',\n",
       "             '1993Q1', '1993Q2', '1993Q3', '1993Q4', '1994Q1', '1994Q2',\n",
       "             '1994Q3', '1994Q4', '1995Q1', '1995Q2', '1995Q3', '1995Q4',\n",
       "             '1996Q1', '1996Q2', '1996Q3', '1996Q4', '1997Q1', '1997Q2',\n",
       "             '1997Q3', '1997Q4', '1998Q1', '1998Q2', '1998Q3', '1998Q4',\n",
       "             '1999Q1', '1999Q2', '1999Q3', '1999Q4', '2000Q1', '2000Q2',\n",
       "             '2000Q3', '2000Q4'],\n",
       "            dtype='period[Q-DEC]', freq='Q-DEC')"
      ]
     },
     "execution_count": 65,
     "metadata": {},
     "output_type": "execute_result"
    }
   ],
   "source": [
    "prng = pd.period_range(\"1990Q1\", \"2000Q4\", freq=\"Q\")\n",
    "prng"
   ]
  },
  {
   "cell_type": "code",
   "execution_count": 66,
   "metadata": {},
   "outputs": [],
   "source": [
    "List = [12343,394949,494959030,4030303,303949,59593,4949595,3030494]"
   ]
  },
  {
   "cell_type": "code",
   "execution_count": 67,
   "metadata": {},
   "outputs": [],
   "source": [
    "def conv(x):\n",
    "    return x*3"
   ]
  },
  {
   "cell_type": "code",
   "execution_count": 69,
   "metadata": {},
   "outputs": [],
   "source": [
    "output_list = list(map(conv, List)) "
   ]
  },
  {
   "cell_type": "code",
   "execution_count": 70,
   "metadata": {},
   "outputs": [
    {
     "data": {
      "text/plain": [
       "[37029, 1184847, 1484877090, 12090909, 911847, 178779, 14848785, 9091482]"
      ]
     },
     "execution_count": 70,
     "metadata": {},
     "output_type": "execute_result"
    }
   ],
   "source": [
    "output_list"
   ]
  },
  {
   "cell_type": "code",
   "execution_count": 71,
   "metadata": {},
   "outputs": [
    {
     "data": {
      "text/plain": [
       "DatetimeIndex(['2012-03-06', '2012-03-07', '2012-03-08', '2012-03-09',\n",
       "               '2012-03-10', '2012-03-11', '2012-03-12', '2012-03-13',\n",
       "               '2012-03-14', '2012-03-15', '2012-03-16', '2012-03-17',\n",
       "               '2012-03-18', '2012-03-19', '2012-03-20'],\n",
       "              dtype='datetime64[ns]', freq='D')"
      ]
     },
     "execution_count": 71,
     "metadata": {},
     "output_type": "execute_result"
    }
   ],
   "source": [
    "rng = pd.date_range(\"3/6/2012 00:00\", periods=15, freq=\"D\")\n",
    "rng"
   ]
  },
  {
   "cell_type": "code",
   "execution_count": 72,
   "metadata": {},
   "outputs": [
    {
     "data": {
      "text/plain": [
       "DatetimeIndex(['2012-03-06 00:00:00+00:00', '2012-03-07 00:00:00+00:00',\n",
       "               '2012-03-08 00:00:00+00:00'],\n",
       "              dtype='datetime64[ns, Europe/London]', freq='D')"
      ]
     },
     "execution_count": 72,
     "metadata": {},
     "output_type": "execute_result"
    }
   ],
   "source": [
    "rng_pytz = pd.date_range(\"3/6/2012 00:00\", periods=3, freq=\"D\", tz=\"Europe/London\")\n",
    "rng_pytz"
   ]
  },
  {
   "cell_type": "code",
   "execution_count": 73,
   "metadata": {},
   "outputs": [
    {
     "data": {
      "text/plain": [
       "2013-01-01 00:00:00+00:00    0\n",
       "2013-01-02 00:00:00+00:00    1\n",
       "2013-01-03 00:00:00+00:00    2\n",
       "Freq: D, dtype: int64"
      ]
     },
     "execution_count": 73,
     "metadata": {},
     "output_type": "execute_result"
    }
   ],
   "source": [
    "ts_utc = pd.Series(range(3), pd.date_range(\"20130101\", periods=3, tz=\"UTC\"))\n",
    "ts_utc"
   ]
  },
  {
   "cell_type": "code",
   "execution_count": 75,
   "metadata": {},
   "outputs": [
    {
     "data": {
      "text/plain": [
       "DatetimeIndex(['2014-08-01 09:00:00-04:00', '2014-08-01 10:00:00-04:00',\n",
       "               '2014-08-01 11:00:00-04:00', '2014-08-01 12:00:00-04:00',\n",
       "               '2014-08-01 13:00:00-04:00', '2014-08-01 14:00:00-04:00',\n",
       "               '2014-08-01 15:00:00-04:00', '2014-08-01 16:00:00-04:00'],\n",
       "              dtype='datetime64[ns, US/Eastern]', freq='H')"
      ]
     },
     "execution_count": 75,
     "metadata": {},
     "output_type": "execute_result"
    }
   ],
   "source": [
    "didx = pd.date_range(start=\"2014-08-01 09:00\", freq=\"H\", periods=8, tz=\"US/Eastern\")\n",
    "didx"
   ]
  },
  {
   "cell_type": "code",
   "execution_count": 77,
   "metadata": {},
   "outputs": [
    {
     "data": {
      "text/plain": [
       "DatetimeIndex(['2015-03-29 02:00:00', '2015-03-29 03:00:00',\n",
       "               '2015-03-29 04:00:00', '2015-03-29 05:00:00',\n",
       "               '2015-03-29 06:00:00', '2015-03-29 07:00:00',\n",
       "               '2015-03-29 08:00:00', '2015-03-29 09:00:00',\n",
       "               '2015-03-29 10:00:00', '2015-03-29 11:00:00',\n",
       "               '2015-03-29 12:00:00', '2015-03-29 13:00:00',\n",
       "               '2015-03-29 14:00:00'],\n",
       "              dtype='datetime64[ns]', freq='H')"
      ]
     },
     "execution_count": 77,
     "metadata": {},
     "output_type": "execute_result"
    }
   ],
   "source": [
    "dti = pd.date_range(start=\"2015-03-29 02:00:00\", periods=13, freq=\"H\")\n",
    "dti"
   ]
  },
  {
   "cell_type": "code",
   "execution_count": 79,
   "metadata": {},
   "outputs": [
    {
     "data": {
      "text/plain": [
       "DatetimeIndex(['2015-03-29 02:00:00', '2015-03-29 02:30:00',\n",
       "               '2015-03-29 03:00:00', '2015-03-29 03:30:00',\n",
       "               '2015-03-29 04:00:00', '2015-03-29 04:30:00',\n",
       "               '2015-03-29 05:00:00', '2015-03-29 05:30:00',\n",
       "               '2015-03-29 06:00:00', '2015-03-29 06:30:00',\n",
       "               '2015-03-29 07:00:00', '2015-03-29 07:30:00',\n",
       "               '2015-03-29 08:00:00'],\n",
       "              dtype='datetime64[ns]', freq='30T')"
      ]
     },
     "execution_count": 79,
     "metadata": {},
     "output_type": "execute_result"
    }
   ],
   "source": [
    "dti1 = pd.date_range(start=\"2015-03-29 02:00:00\", periods=13, freq=\"30min\")\n",
    "dti1"
   ]
  },
  {
   "cell_type": "code",
   "execution_count": 84,
   "metadata": {},
   "outputs": [
    {
     "data": {
      "text/plain": [
       "DatetimeIndex(['2015-03-29 03:00:00', '2015-03-29 03:30:00',\n",
       "               '2015-03-29 04:00:00', '2015-03-29 04:30:00',\n",
       "               '2015-03-29 05:00:00', '2015-03-29 05:30:00',\n",
       "               '2015-03-29 06:00:00', '2015-03-29 06:30:00',\n",
       "               '2015-03-29 07:00:00', '2015-03-29 07:30:00',\n",
       "               '2015-03-29 08:00:00', '2015-03-29 08:30:00',\n",
       "               '2015-03-29 09:00:00'],\n",
       "              dtype='datetime64[ns]', freq='30T')"
      ]
     },
     "execution_count": 84,
     "metadata": {},
     "output_type": "execute_result"
    }
   ],
   "source": [
    "dti1 + pd.Timedelta(1, unit=\"H\")"
   ]
  },
  {
   "cell_type": "code",
   "execution_count": 80,
   "metadata": {},
   "outputs": [
    {
     "data": {
      "text/plain": [
       "TimedeltaIndex(['0 days', '0 days', '0 days', '0 days', '0 days', '0 days',\n",
       "                '0 days', '0 days', '0 days', '0 days', '0 days', '0 days',\n",
       "                '0 days'],\n",
       "               dtype='timedelta64[ns]', freq=None)"
      ]
     },
     "execution_count": 80,
     "metadata": {},
     "output_type": "execute_result"
    }
   ],
   "source": [
    "dti1 - dti"
   ]
  },
  {
   "cell_type": "code",
   "execution_count": null,
   "metadata": {},
   "outputs": [],
   "source": [
    "dti.tz_localize(\"Europe/Warsaw\", nonexistent=pd.Timedelta(1, unit=\"H\"))"
   ]
  },
  {
   "cell_type": "code",
   "execution_count": 81,
   "metadata": {},
   "outputs": [],
   "source": [
    "time_delta = (dti1 - dti)\n",
    "total_seconds = time_delta.total_seconds()\n",
    "minutes = total_seconds/60"
   ]
  },
  {
   "cell_type": "code",
   "execution_count": 82,
   "metadata": {},
   "outputs": [
    {
     "data": {
      "text/plain": [
       "Float64Index([0.0, 0.0, 0.0, 0.0, 0.0, 0.0, 0.0, 0.0, 0.0, 0.0, 0.0, 0.0, 0.0], dtype='float64')"
      ]
     },
     "execution_count": 82,
     "metadata": {},
     "output_type": "execute_result"
    }
   ],
   "source": [
    "minutes"
   ]
  },
  {
   "cell_type": "code",
   "execution_count": 85,
   "metadata": {},
   "outputs": [
    {
     "data": {
      "text/plain": [
       "0   2013-01-01\n",
       "1   2013-01-02\n",
       "2   2013-01-03\n",
       "dtype: datetime64[ns]"
      ]
     },
     "execution_count": 85,
     "metadata": {},
     "output_type": "execute_result"
    }
   ],
   "source": [
    "s_naive = pd.Series(pd.date_range(\"20130101\", periods=3))\n",
    "s_naive"
   ]
  },
  {
   "cell_type": "code",
   "execution_count": 88,
   "metadata": {},
   "outputs": [],
   "source": [
    "import pandas as pd"
   ]
  },
  {
   "cell_type": "code",
   "execution_count": 89,
   "metadata": {},
   "outputs": [
    {
     "data": {
      "text/plain": [
       "0   2013-01-01 00:00:00-05:00\n",
       "1   2013-01-01 00:30:00-05:00\n",
       "2   2013-01-01 01:00:00-05:00\n",
       "dtype: datetime64[ns, US/Eastern]"
      ]
     },
     "execution_count": 89,
     "metadata": {},
     "output_type": "execute_result"
    }
   ],
   "source": [
    "s_aware = pd.Series(pd.date_range(\"20130101\", periods=3, tz=\"US/Eastern\",freq=\"30min\"))\n",
    "s_aware"
   ]
  },
  {
   "cell_type": "code",
   "execution_count": 90,
   "metadata": {},
   "outputs": [
    {
     "data": {
      "text/plain": [
       "0   2013-01-01 00:00:00-05:00\n",
       "1   2013-01-01 01:00:00-05:00\n",
       "2   2013-01-01 02:00:00-05:00\n",
       "3   2013-01-01 03:00:00-05:00\n",
       "4   2013-01-01 04:00:00-05:00\n",
       "5   2013-01-01 05:00:00-05:00\n",
       "6   2013-01-01 06:00:00-05:00\n",
       "7   2013-01-01 07:00:00-05:00\n",
       "dtype: datetime64[ns, US/Eastern]"
      ]
     },
     "execution_count": 90,
     "metadata": {},
     "output_type": "execute_result"
    }
   ],
   "source": [
    "s_aware1 = pd.Series(pd.date_range(\"20130101\", periods=8, tz=\"US/Eastern\",freq=\"1H\"))\n",
    "s_aware1"
   ]
  },
  {
   "cell_type": "code",
   "execution_count": 94,
   "metadata": {},
   "outputs": [
    {
     "data": {
      "text/plain": [
       "0   2013-01-01\n",
       "1   2013-01-02\n",
       "2   2013-01-03\n",
       "3   2013-01-04\n",
       "4   2013-01-05\n",
       "5   2013-01-06\n",
       "6   2013-01-07\n",
       "7   2013-01-08\n",
       "dtype: datetime64[ns]"
      ]
     },
     "execution_count": 94,
     "metadata": {},
     "output_type": "execute_result"
    }
   ],
   "source": [
    "january = pd.Series(pd.date_range(\"20130101\", periods=8))\n",
    "january"
   ]
  },
  {
   "cell_type": "code",
   "execution_count": 95,
   "metadata": {},
   "outputs": [
    {
     "data": {
      "text/plain": [
       "0   2012-12-01\n",
       "1   2012-12-02\n",
       "2   2012-12-03\n",
       "3   2012-12-04\n",
       "4   2012-12-05\n",
       "5   2012-12-06\n",
       "6   2012-12-07\n",
       "7   2012-12-08\n",
       "dtype: datetime64[ns]"
      ]
     },
     "execution_count": 95,
     "metadata": {},
     "output_type": "execute_result"
    }
   ],
   "source": [
    "december = pd.Series(pd.date_range(\"20121201\", periods=8))\n",
    "december"
   ]
  },
  {
   "cell_type": "code",
   "execution_count": 96,
   "metadata": {},
   "outputs": [
    {
     "data": {
      "text/plain": [
       "0   31 days\n",
       "1   31 days\n",
       "2   31 days\n",
       "3   31 days\n",
       "4   31 days\n",
       "5   31 days\n",
       "6   31 days\n",
       "7   31 days\n",
       "dtype: timedelta64[ns]"
      ]
     },
     "execution_count": 96,
     "metadata": {},
     "output_type": "execute_result"
    }
   ],
   "source": [
    "td = january - december\n",
    "td"
   ]
  },
  {
   "cell_type": "code",
   "execution_count": 98,
   "metadata": {},
   "outputs": [],
   "source": [
    "import datetime"
   ]
  },
  {
   "cell_type": "code",
   "execution_count": 99,
   "metadata": {},
   "outputs": [
    {
     "data": {
      "text/plain": [
       "Timedelta('31 days 00:05:03')"
      ]
     },
     "execution_count": 99,
     "metadata": {},
     "output_type": "execute_result"
    }
   ],
   "source": [
    "td[2] + datetime.timedelta(minutes=5, seconds=3)"
   ]
  },
  {
   "cell_type": "code",
   "execution_count": 100,
   "metadata": {},
   "outputs": [
    {
     "data": {
      "text/plain": [
       "0    31 days\n",
       "1    62 days\n",
       "2    93 days\n",
       "3   124 days\n",
       "4   155 days\n",
       "5   186 days\n",
       "6   217 days\n",
       "7   248 days\n",
       "dtype: timedelta64[ns]"
      ]
     },
     "execution_count": 100,
     "metadata": {},
     "output_type": "execute_result"
    }
   ],
   "source": [
    "td * pd.Series([1, 2, 3, 4,5,6,7,8])"
   ]
  },
  {
   "cell_type": "code",
   "execution_count": 102,
   "metadata": {},
   "outputs": [
    {
     "data": {
      "text/plain": [
       "0    9\n",
       "1    9\n",
       "2    9\n",
       "3    9\n",
       "4    9\n",
       "5    9\n",
       "6    9\n",
       "7    9\n",
       "dtype: int64"
      ]
     },
     "execution_count": 102,
     "metadata": {},
     "output_type": "execute_result"
    }
   ],
   "source": [
    "#31/3.4\n",
    "td // pd.Timedelta(days=3, hours=4)"
   ]
  },
  {
   "cell_type": "code",
   "execution_count": 103,
   "metadata": {},
   "outputs": [
    {
     "data": {
      "text/html": [
       "<div>\n",
       "<style scoped>\n",
       "    .dataframe tbody tr th:only-of-type {\n",
       "        vertical-align: middle;\n",
       "    }\n",
       "\n",
       "    .dataframe tbody tr th {\n",
       "        vertical-align: top;\n",
       "    }\n",
       "\n",
       "    .dataframe thead th {\n",
       "        text-align: right;\n",
       "    }\n",
       "</style>\n",
       "<table border=\"1\" class=\"dataframe\">\n",
       "  <thead>\n",
       "    <tr style=\"text-align: right;\">\n",
       "      <th></th>\n",
       "      <th>days</th>\n",
       "      <th>hours</th>\n",
       "      <th>minutes</th>\n",
       "      <th>seconds</th>\n",
       "      <th>milliseconds</th>\n",
       "      <th>microseconds</th>\n",
       "      <th>nanoseconds</th>\n",
       "    </tr>\n",
       "  </thead>\n",
       "  <tbody>\n",
       "    <tr>\n",
       "      <th>0</th>\n",
       "      <td>31</td>\n",
       "      <td>0</td>\n",
       "      <td>0</td>\n",
       "      <td>0</td>\n",
       "      <td>0</td>\n",
       "      <td>0</td>\n",
       "      <td>0</td>\n",
       "    </tr>\n",
       "    <tr>\n",
       "      <th>1</th>\n",
       "      <td>31</td>\n",
       "      <td>0</td>\n",
       "      <td>0</td>\n",
       "      <td>0</td>\n",
       "      <td>0</td>\n",
       "      <td>0</td>\n",
       "      <td>0</td>\n",
       "    </tr>\n",
       "    <tr>\n",
       "      <th>2</th>\n",
       "      <td>31</td>\n",
       "      <td>0</td>\n",
       "      <td>0</td>\n",
       "      <td>0</td>\n",
       "      <td>0</td>\n",
       "      <td>0</td>\n",
       "      <td>0</td>\n",
       "    </tr>\n",
       "    <tr>\n",
       "      <th>3</th>\n",
       "      <td>31</td>\n",
       "      <td>0</td>\n",
       "      <td>0</td>\n",
       "      <td>0</td>\n",
       "      <td>0</td>\n",
       "      <td>0</td>\n",
       "      <td>0</td>\n",
       "    </tr>\n",
       "    <tr>\n",
       "      <th>4</th>\n",
       "      <td>31</td>\n",
       "      <td>0</td>\n",
       "      <td>0</td>\n",
       "      <td>0</td>\n",
       "      <td>0</td>\n",
       "      <td>0</td>\n",
       "      <td>0</td>\n",
       "    </tr>\n",
       "    <tr>\n",
       "      <th>5</th>\n",
       "      <td>31</td>\n",
       "      <td>0</td>\n",
       "      <td>0</td>\n",
       "      <td>0</td>\n",
       "      <td>0</td>\n",
       "      <td>0</td>\n",
       "      <td>0</td>\n",
       "    </tr>\n",
       "    <tr>\n",
       "      <th>6</th>\n",
       "      <td>31</td>\n",
       "      <td>0</td>\n",
       "      <td>0</td>\n",
       "      <td>0</td>\n",
       "      <td>0</td>\n",
       "      <td>0</td>\n",
       "      <td>0</td>\n",
       "    </tr>\n",
       "    <tr>\n",
       "      <th>7</th>\n",
       "      <td>31</td>\n",
       "      <td>0</td>\n",
       "      <td>0</td>\n",
       "      <td>0</td>\n",
       "      <td>0</td>\n",
       "      <td>0</td>\n",
       "      <td>0</td>\n",
       "    </tr>\n",
       "  </tbody>\n",
       "</table>\n",
       "</div>"
      ],
      "text/plain": [
       "   days  hours  minutes  seconds  milliseconds  microseconds  nanoseconds\n",
       "0    31      0        0        0             0             0            0\n",
       "1    31      0        0        0             0             0            0\n",
       "2    31      0        0        0             0             0            0\n",
       "3    31      0        0        0             0             0            0\n",
       "4    31      0        0        0             0             0            0\n",
       "5    31      0        0        0             0             0            0\n",
       "6    31      0        0        0             0             0            0\n",
       "7    31      0        0        0             0             0            0"
      ]
     },
     "execution_count": 103,
     "metadata": {},
     "output_type": "execute_result"
    }
   ],
   "source": [
    "td.dt.components"
   ]
  },
  {
   "cell_type": "code",
   "execution_count": 106,
   "metadata": {},
   "outputs": [
    {
     "data": {
      "text/plain": [
       "Timedelta('2 days 03:30:00.123000')"
      ]
     },
     "execution_count": 106,
     "metadata": {},
     "output_type": "execute_result"
    }
   ],
   "source": [
    "s = pd.Timedelta(\"P2DT3H30M0.123S\")\n",
    "s"
   ]
  },
  {
   "cell_type": "code",
   "execution_count": 109,
   "metadata": {},
   "outputs": [
    {
     "data": {
      "text/plain": [
       "datetime.timedelta(days=2, seconds=2)"
      ]
     },
     "execution_count": 109,
     "metadata": {},
     "output_type": "execute_result"
    }
   ],
   "source": [
    "datetime.timedelta(days=2, seconds=2)"
   ]
  },
  {
   "cell_type": "code",
   "execution_count": 110,
   "metadata": {},
   "outputs": [
    {
     "data": {
      "text/plain": [
       "datetime.timedelta(days=2, seconds=11042)"
      ]
     },
     "execution_count": 110,
     "metadata": {},
     "output_type": "execute_result"
    }
   ],
   "source": [
    "datetime.timedelta(days=2,hours=3,minutes=4,seconds=2)"
   ]
  },
  {
   "cell_type": "code",
   "execution_count": 111,
   "metadata": {},
   "outputs": [
    {
     "data": {
      "text/plain": [
       "TimedeltaIndex(['1 days 00:00:00', '1 days 00:30:00', '1 days 01:00:00',\n",
       "                '1 days 01:30:00', '1 days 02:00:00', '1 days 02:30:00',\n",
       "                '1 days 03:00:00', '1 days 03:30:00', '1 days 04:00:00',\n",
       "                '1 days 04:30:00', '1 days 05:00:00', '1 days 05:30:00',\n",
       "                '1 days 06:00:00', '1 days 06:30:00', '1 days 07:00:00',\n",
       "                '1 days 07:30:00', '1 days 08:00:00', '1 days 08:30:00',\n",
       "                '1 days 09:00:00', '1 days 09:30:00', '1 days 10:00:00',\n",
       "                '1 days 10:30:00', '1 days 11:00:00', '1 days 11:30:00',\n",
       "                '1 days 12:00:00', '1 days 12:30:00', '1 days 13:00:00',\n",
       "                '1 days 13:30:00', '1 days 14:00:00', '1 days 14:30:00',\n",
       "                '1 days 15:00:00', '1 days 15:30:00', '1 days 16:00:00',\n",
       "                '1 days 16:30:00', '1 days 17:00:00', '1 days 17:30:00',\n",
       "                '1 days 18:00:00', '1 days 18:30:00', '1 days 19:00:00',\n",
       "                '1 days 19:30:00', '1 days 20:00:00', '1 days 20:30:00',\n",
       "                '1 days 21:00:00', '1 days 21:30:00', '1 days 22:00:00',\n",
       "                '1 days 22:30:00', '1 days 23:00:00', '1 days 23:30:00',\n",
       "                '2 days 00:00:00'],\n",
       "               dtype='timedelta64[ns]', freq='30T')"
      ]
     },
     "execution_count": 111,
     "metadata": {},
     "output_type": "execute_result"
    }
   ],
   "source": [
    "pd.timedelta_range(start=\"1 days\", end=\"2 days\", freq=\"30T\")"
   ]
  },
  {
   "cell_type": "code",
   "execution_count": 112,
   "metadata": {},
   "outputs": [
    {
     "data": {
      "text/plain": [
       "TimedeltaIndex(['1 days 00:00:00', '3 days 05:00:00', '5 days 10:00:00',\n",
       "                '7 days 15:00:00', '9 days 20:00:00'],\n",
       "               dtype='timedelta64[ns]', freq='53H')"
      ]
     },
     "execution_count": 112,
     "metadata": {},
     "output_type": "execute_result"
    }
   ],
   "source": [
    "pd.timedelta_range(start=\"1 days\", periods=5, freq=\"2D5H\")"
   ]
  },
  {
   "cell_type": "code",
   "execution_count": 114,
   "metadata": {},
   "outputs": [
    {
     "data": {
      "text/plain": [
       "TimedeltaIndex([ '1 days 00:00:00',  '3 days 00:10:00',  '5 days 00:20:00',\n",
       "                 '7 days 00:30:00',  '9 days 00:40:00', '11 days 00:50:00',\n",
       "                '13 days 01:00:00', '15 days 01:10:00', '17 days 01:20:00',\n",
       "                '19 days 01:30:00'],\n",
       "               dtype='timedelta64[ns]', freq='2890T')"
      ]
     },
     "execution_count": 114,
     "metadata": {},
     "output_type": "execute_result"
    }
   ],
   "source": [
    "pd.timedelta_range(start=\"1 days\", periods=10, freq=\"2D10Min\")"
   ]
  },
  {
   "cell_type": "code",
   "execution_count": 115,
   "metadata": {},
   "outputs": [
    {
     "data": {
      "text/plain": [
       "TimedeltaIndex(['0 days', '1 days', '2 days', '3 days', '4 days'], dtype='timedelta64[ns]', freq=None)"
      ]
     },
     "execution_count": 115,
     "metadata": {},
     "output_type": "execute_result"
    }
   ],
   "source": [
    "pd.timedelta_range(\"0 days\", \"4 days\", periods=5)"
   ]
  },
  {
   "cell_type": "code",
   "execution_count": 116,
   "metadata": {},
   "outputs": [
    {
     "data": {
      "text/plain": [
       "TimedeltaIndex(['0 days 00:00:00', '0 days 10:40:00', '0 days 21:20:00',\n",
       "                '1 days 08:00:00', '1 days 18:40:00', '2 days 05:20:00',\n",
       "                '2 days 16:00:00', '3 days 02:40:00', '3 days 13:20:00',\n",
       "                '4 days 00:00:00'],\n",
       "               dtype='timedelta64[ns]', freq=None)"
      ]
     },
     "execution_count": 116,
     "metadata": {},
     "output_type": "execute_result"
    }
   ],
   "source": [
    "pd.timedelta_range(\"0 days\", \"4 days\", periods=10)"
   ]
  },
  {
   "cell_type": "code",
   "execution_count": 118,
   "metadata": {},
   "outputs": [
    {
     "data": {
      "text/plain": [
       "TimedeltaIndex(['0 days 00:00:00', '0 days 12:00:00', '1 days 00:00:00',\n",
       "                '1 days 12:00:00', '2 days 00:00:00', '2 days 12:00:00',\n",
       "                '3 days 00:00:00', '3 days 12:00:00', '4 days 00:00:00',\n",
       "                '4 days 12:00:00', '5 days 00:00:00', '5 days 12:00:00',\n",
       "                '6 days 00:00:00', '6 days 12:00:00', '7 days 00:00:00'],\n",
       "               dtype='timedelta64[ns]', freq=None)"
      ]
     },
     "execution_count": 118,
     "metadata": {},
     "output_type": "execute_result"
    }
   ],
   "source": [
    "pd.timedelta_range(\"0 days\", \"7 days\", periods=15)"
   ]
  },
  {
   "cell_type": "code",
   "execution_count": 119,
   "metadata": {},
   "outputs": [
    {
     "data": {
      "text/plain": [
       "1 days 00:00:00     0\n",
       "1 days 01:00:00     1\n",
       "1 days 02:00:00     2\n",
       "1 days 03:00:00     3\n",
       "1 days 04:00:00     4\n",
       "                   ..\n",
       "4 days 23:00:00    95\n",
       "5 days 00:00:00    96\n",
       "5 days 01:00:00    97\n",
       "5 days 02:00:00    98\n",
       "5 days 03:00:00    99\n",
       "Freq: H, Length: 100, dtype: int32"
      ]
     },
     "execution_count": 119,
     "metadata": {},
     "output_type": "execute_result"
    }
   ],
   "source": [
    "s = pd.Series(np.arange(100), index=pd.timedelta_range(\"1 days\", periods=100, freq=\"h\"),)\n",
    "s"
   ]
  },
  {
   "cell_type": "code",
   "execution_count": 120,
   "metadata": {},
   "outputs": [
    {
     "data": {
      "text/plain": [
       "1 days 00:00:00     0\n",
       "1 days 01:00:00     1\n",
       "1 days 02:00:00     2\n",
       "1 days 03:00:00     3\n",
       "1 days 04:00:00     4\n",
       "1 days 05:00:00     5\n",
       "1 days 06:00:00     6\n",
       "1 days 07:00:00     7\n",
       "1 days 08:00:00     8\n",
       "1 days 09:00:00     9\n",
       "1 days 10:00:00    10\n",
       "1 days 11:00:00    11\n",
       "1 days 12:00:00    12\n",
       "1 days 13:00:00    13\n",
       "1 days 14:00:00    14\n",
       "1 days 15:00:00    15\n",
       "1 days 16:00:00    16\n",
       "1 days 17:00:00    17\n",
       "1 days 18:00:00    18\n",
       "1 days 19:00:00    19\n",
       "1 days 20:00:00    20\n",
       "1 days 21:00:00    21\n",
       "1 days 22:00:00    22\n",
       "1 days 23:00:00    23\n",
       "2 days 00:00:00    24\n",
       "2 days 01:00:00    25\n",
       "2 days 02:00:00    26\n",
       "2 days 03:00:00    27\n",
       "2 days 04:00:00    28\n",
       "2 days 05:00:00    29\n",
       "2 days 06:00:00    30\n",
       "2 days 07:00:00    31\n",
       "2 days 08:00:00    32\n",
       "2 days 09:00:00    33\n",
       "2 days 10:00:00    34\n",
       "2 days 11:00:00    35\n",
       "2 days 12:00:00    36\n",
       "2 days 13:00:00    37\n",
       "2 days 14:00:00    38\n",
       "2 days 15:00:00    39\n",
       "2 days 16:00:00    40\n",
       "2 days 17:00:00    41\n",
       "2 days 18:00:00    42\n",
       "2 days 19:00:00    43\n",
       "2 days 20:00:00    44\n",
       "2 days 21:00:00    45\n",
       "2 days 22:00:00    46\n",
       "2 days 23:00:00    47\n",
       "Freq: H, dtype: int32"
      ]
     },
     "execution_count": 120,
     "metadata": {},
     "output_type": "execute_result"
    }
   ],
   "source": [
    "s[\"1 day\":\"2 day\"]"
   ]
  },
  {
   "cell_type": "code",
   "execution_count": 121,
   "metadata": {},
   "outputs": [
    {
     "data": {
      "text/plain": [
       "TimedeltaIndex(['1 days', '2 days', '3 days', '4 days'], dtype='timedelta64[ns]', freq=None)"
      ]
     },
     "execution_count": 121,
     "metadata": {},
     "output_type": "execute_result"
    }
   ],
   "source": [
    "tdi = pd.TimedeltaIndex([\"1 days\", \"2 days\",\"3 days\",\"4 days\"])\n",
    "tdi"
   ]
  },
  {
   "cell_type": "code",
   "execution_count": 122,
   "metadata": {},
   "outputs": [
    {
     "data": {
      "text/plain": [
       "[Timedelta('1 days 00:00:00'),\n",
       " Timedelta('2 days 00:00:00'),\n",
       " Timedelta('3 days 00:00:00'),\n",
       " Timedelta('4 days 00:00:00')]"
      ]
     },
     "execution_count": 122,
     "metadata": {},
     "output_type": "execute_result"
    }
   ],
   "source": [
    "tdi.to_list()"
   ]
  },
  {
   "cell_type": "code",
   "execution_count": 123,
   "metadata": {},
   "outputs": [
    {
     "data": {
      "text/plain": [
       "DatetimeIndex(['2013-01-01', '2013-01-02', '2013-01-03', '2013-01-04'], dtype='datetime64[ns]', freq='D')"
      ]
     },
     "execution_count": 123,
     "metadata": {},
     "output_type": "execute_result"
    }
   ],
   "source": [
    "dti = pd.date_range(\"20130101\", periods=4)\n",
    "dti"
   ]
  },
  {
   "cell_type": "code",
   "execution_count": 124,
   "metadata": {},
   "outputs": [
    {
     "data": {
      "text/plain": [
       "[Timestamp('2013-01-02 00:00:00', freq='2D'),\n",
       " Timestamp('2013-01-04 00:00:00', freq='2D'),\n",
       " Timestamp('2013-01-06 00:00:00', freq='2D'),\n",
       " Timestamp('2013-01-08 00:00:00', freq='2D')]"
      ]
     },
     "execution_count": 124,
     "metadata": {},
     "output_type": "execute_result"
    }
   ],
   "source": [
    "(dti + tdi).to_list()"
   ]
  },
  {
   "cell_type": "code",
   "execution_count": 126,
   "metadata": {},
   "outputs": [
    {
     "data": {
      "text/plain": [
       "TimedeltaIndex(['11 days', '12 days', '13 days', '14 days'], dtype='timedelta64[ns]', freq='D')"
      ]
     },
     "execution_count": 126,
     "metadata": {},
     "output_type": "execute_result"
    }
   ],
   "source": [
    "tdi + pd.Timedelta(\"10 days\")"
   ]
  },
  {
   "cell_type": "code",
   "execution_count": 127,
   "metadata": {},
   "outputs": [
    {
     "data": {
      "text/plain": [
       "TimedeltaIndex(['0 days 12:00:00', '1 days 00:00:00', '1 days 12:00:00',\n",
       "                '2 days 00:00:00'],\n",
       "               dtype='timedelta64[ns]', freq=None)"
      ]
     },
     "execution_count": 127,
     "metadata": {},
     "output_type": "execute_result"
    }
   ],
   "source": [
    "tdi / 2"
   ]
  },
  {
   "cell_type": "code",
   "execution_count": 128,
   "metadata": {},
   "outputs": [
    {
     "data": {
      "text/plain": [
       "Float64Index([1.0, 2.0, 3.0, 4.0], dtype='float64')"
      ]
     },
     "execution_count": 128,
     "metadata": {},
     "output_type": "execute_result"
    }
   ],
   "source": [
    "tdi / tdi[0]"
   ]
  },
  {
   "cell_type": "code",
   "execution_count": 129,
   "metadata": {},
   "outputs": [
    {
     "data": {
      "text/plain": [
       "Float64Index([0.3333333333333333, 0.6666666666666666, 1.0, 1.3333333333333333], dtype='float64')"
      ]
     },
     "execution_count": 129,
     "metadata": {},
     "output_type": "execute_result"
    }
   ],
   "source": [
    "tdi / tdi[2]"
   ]
  },
  {
   "cell_type": "code",
   "execution_count": 130,
   "metadata": {},
   "outputs": [
    {
     "data": {
      "text/plain": [
       "1 days 00:00:00     0\n",
       "1 days 01:00:00     1\n",
       "1 days 02:00:00     2\n",
       "1 days 03:00:00     3\n",
       "1 days 04:00:00     4\n",
       "                   ..\n",
       "4 days 23:00:00    95\n",
       "5 days 00:00:00    96\n",
       "5 days 01:00:00    97\n",
       "5 days 02:00:00    98\n",
       "5 days 03:00:00    99\n",
       "Freq: H, Length: 100, dtype: int32"
      ]
     },
     "execution_count": 130,
     "metadata": {},
     "output_type": "execute_result"
    }
   ],
   "source": [
    "s"
   ]
  },
  {
   "cell_type": "code",
   "execution_count": 131,
   "metadata": {},
   "outputs": [
    {
     "data": {
      "text/plain": [
       "1 days    11.5\n",
       "2 days    35.5\n",
       "3 days    59.5\n",
       "4 days    83.5\n",
       "5 days    97.5\n",
       "Freq: D, dtype: float64"
      ]
     },
     "execution_count": 131,
     "metadata": {},
     "output_type": "execute_result"
    }
   ],
   "source": [
    "s.resample(\"D\").mean()"
   ]
  },
  {
   "cell_type": "code",
   "execution_count": null,
   "metadata": {},
   "outputs": [],
   "source": []
  }
 ],
 "metadata": {
  "kernelspec": {
   "display_name": "Python 3 (ipykernel)",
   "language": "python",
   "name": "python3"
  },
  "language_info": {
   "codemirror_mode": {
    "name": "ipython",
    "version": 3
   },
   "file_extension": ".py",
   "mimetype": "text/x-python",
   "name": "python",
   "nbconvert_exporter": "python",
   "pygments_lexer": "ipython3",
   "version": "3.9.7"
  },
  "varInspector": {
   "cols": {
    "lenName": 16,
    "lenType": 16,
    "lenVar": 40
   },
   "kernels_config": {
    "python": {
     "delete_cmd_postfix": "",
     "delete_cmd_prefix": "del ",
     "library": "var_list.py",
     "varRefreshCmd": "print(var_dic_list())"
    },
    "r": {
     "delete_cmd_postfix": ") ",
     "delete_cmd_prefix": "rm(",
     "library": "var_list.r",
     "varRefreshCmd": "cat(var_dic_list()) "
    }
   },
   "types_to_exclude": [
    "module",
    "function",
    "builtin_function_or_method",
    "instance",
    "_Feature"
   ],
   "window_display": false
  }
 },
 "nbformat": 4,
 "nbformat_minor": 4
}
