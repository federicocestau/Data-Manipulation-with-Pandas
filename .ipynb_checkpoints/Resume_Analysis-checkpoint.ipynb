{
 "cells": [
  {
   "cell_type": "code",
   "execution_count": 1,
   "metadata": {},
   "outputs": [],
   "source": [
    "import os\n",
    "import string\n",
    "\n",
    "# Counter is used for the bonus solution\n",
    "from collections import Counter"
   ]
  },
  {
   "cell_type": "code",
   "execution_count": 2,
   "metadata": {},
   "outputs": [],
   "source": [
    "resume_path = 'C:/Users/User/bootcamp_files/Stu_Resume_Analysis__resume.md'"
   ]
  },
  {
   "cell_type": "code",
   "execution_count": 3,
   "metadata": {},
   "outputs": [],
   "source": [
    "# Skills to match\n",
    "REQUIRED_SKILLS = {\"excel\", \"python\", \"mysql\", \"statistics\"}\n",
    "DESIRED_SKILLS = {\"r\", \"git\", \"html\", \"css\", \"leaflet\"}"
   ]
  },
  {
   "cell_type": "code",
   "execution_count": 4,
   "metadata": {},
   "outputs": [],
   "source": [
    "def load_file(filepath):\n",
    "    \"\"\"Helper function to read a file and return the data.\"\"\"\n",
    "    with open(filepath, \"r\") as resume_file_handler:\n",
    "        return resume_file_handler.read().lower().split()"
   ]
  },
  {
   "cell_type": "code",
   "execution_count": 6,
   "metadata": {},
   "outputs": [
    {
     "data": {
      "text/plain": [
       "['#',\n",
       " 'frank',\n",
       " 'n.',\n",
       " 'stein',\n",
       " '##',\n",
       " 'education',\n",
       " '*',\n",
       " 'data',\n",
       " 'analytics',\n",
       " 'and',\n",
       " 'visualization',\n",
       " 'boot',\n",
       " 'camp',\n",
       " 'graduate',\n",
       " '##',\n",
       " 'experience',\n",
       " '*',\n",
       " 'creating',\n",
       " 'pivot',\n",
       " 'tables',\n",
       " 'and',\n",
       " 'vba',\n",
       " 'scripts',\n",
       " 'in',\n",
       " 'excel.',\n",
       " '*',\n",
       " 'modeling',\n",
       " 'and',\n",
       " 'forecasting',\n",
       " 'data',\n",
       " 'using',\n",
       " 'basic',\n",
       " 'statistics',\n",
       " '*',\n",
       " 'writing',\n",
       " 'python',\n",
       " 'scripts',\n",
       " 'to',\n",
       " 'analyze',\n",
       " 'data',\n",
       " 'sets',\n",
       " 'from',\n",
       " 'files',\n",
       " 'and',\n",
       " 'apis.',\n",
       " '*',\n",
       " 'social',\n",
       " 'media',\n",
       " 'mining',\n",
       " 'using',\n",
       " 'python',\n",
       " '*',\n",
       " 'working',\n",
       " 'with',\n",
       " 'mysql',\n",
       " 'and',\n",
       " 'mongodb',\n",
       " 'databases',\n",
       " '*',\n",
       " 'developing',\n",
       " 'front-end',\n",
       " 'web',\n",
       " 'visualizations',\n",
       " 'using',\n",
       " 'html,',\n",
       " 'css,',\n",
       " 'bootstrap,',\n",
       " 'd3,',\n",
       " 'and',\n",
       " 'leaflet.js',\n",
       " '*',\n",
       " 'using',\n",
       " 'the',\n",
       " 'tableau',\n",
       " 'business',\n",
       " 'intelligence',\n",
       " 'software',\n",
       " '*',\n",
       " 'performing',\n",
       " 'big',\n",
       " 'data',\n",
       " 'analytics',\n",
       " 'with',\n",
       " 'hadoop',\n",
       " '*',\n",
       " 'working',\n",
       " 'with',\n",
       " 'machine',\n",
       " 'learning',\n",
       " 'algorithms',\n",
       " '##',\n",
       " 'skills',\n",
       " '*',\n",
       " 'microsoft',\n",
       " 'excel,',\n",
       " 'python,',\n",
       " 'javascript,',\n",
       " 'html/css,',\n",
       " 'api',\n",
       " 'interactions,',\n",
       " 'social',\n",
       " 'media',\n",
       " 'mining,',\n",
       " 'sql,',\n",
       " 'hadoop,',\n",
       " 'tableau,',\n",
       " 'advanced',\n",
       " 'statistics,',\n",
       " 'machine',\n",
       " 'learning,',\n",
       " 'r,',\n",
       " 'git/github',\n",
       " '##',\n",
       " 'interests',\n",
       " '*',\n",
       " 'contributing',\n",
       " 'to',\n",
       " 'open-source',\n",
       " 'software',\n",
       " '*',\n",
       " 'data',\n",
       " 'analytics',\n",
       " 'with',\n",
       " 'python',\n",
       " 'and',\n",
       " 'pandas',\n",
       " '*',\n",
       " 'designing',\n",
       " 'data',\n",
       " 'visualization',\n",
       " 'web',\n",
       " 'apps',\n",
       " 'with',\n",
       " 'html,',\n",
       " 'css,',\n",
       " 'javascript,',\n",
       " 'and',\n",
       " 'd3',\n",
       " '*',\n",
       " 'working',\n",
       " 'with',\n",
       " 'big',\n",
       " 'data',\n",
       " 'in',\n",
       " 'the',\n",
       " 'cloud',\n",
       " 'using',\n",
       " 'aws']"
      ]
     },
     "execution_count": 6,
     "metadata": {},
     "output_type": "execute_result"
    }
   ],
   "source": [
    "# Grab the text for a Resume\n",
    "word_list = load_file(resume_path)\n",
    "word_list"
   ]
  },
  {
   "cell_type": "code",
   "execution_count": 7,
   "metadata": {},
   "outputs": [],
   "source": [
    "# Create a set of unique words from the resume\n",
    "resume = set()"
   ]
  },
  {
   "cell_type": "code",
   "execution_count": 10,
   "metadata": {},
   "outputs": [],
   "source": [
    "# Remove trailing punctuation from words\n",
    "for token in word_list:\n",
    "    resume.add(token.split(',')[0].split('.')[0])"
   ]
  },
  {
   "cell_type": "code",
   "execution_count": 11,
   "metadata": {},
   "outputs": [
    {
     "data": {
      "text/plain": [
       "{'#',\n",
       " '##',\n",
       " '*',\n",
       " 'advanced',\n",
       " 'algorithms',\n",
       " 'analytics',\n",
       " 'analyze',\n",
       " 'and',\n",
       " 'api',\n",
       " 'apis',\n",
       " 'apps',\n",
       " 'aws',\n",
       " 'basic',\n",
       " 'big',\n",
       " 'boot',\n",
       " 'bootstrap',\n",
       " 'business',\n",
       " 'camp',\n",
       " 'cloud',\n",
       " 'contributing',\n",
       " 'creating',\n",
       " 'css',\n",
       " 'd3',\n",
       " 'data',\n",
       " 'databases',\n",
       " 'designing',\n",
       " 'developing',\n",
       " 'education',\n",
       " 'excel',\n",
       " 'experience',\n",
       " 'files',\n",
       " 'forecasting',\n",
       " 'frank',\n",
       " 'from',\n",
       " 'front-end',\n",
       " 'git/github',\n",
       " 'graduate',\n",
       " 'hadoop',\n",
       " 'html',\n",
       " 'html/css',\n",
       " 'in',\n",
       " 'intelligence',\n",
       " 'interactions',\n",
       " 'interests',\n",
       " 'javascript',\n",
       " 'leaflet',\n",
       " 'learning',\n",
       " 'machine',\n",
       " 'media',\n",
       " 'microsoft',\n",
       " 'mining',\n",
       " 'modeling',\n",
       " 'mongodb',\n",
       " 'mysql',\n",
       " 'n',\n",
       " 'open-source',\n",
       " 'pandas',\n",
       " 'performing',\n",
       " 'pivot',\n",
       " 'python',\n",
       " 'r',\n",
       " 'scripts',\n",
       " 'sets',\n",
       " 'skills',\n",
       " 'social',\n",
       " 'software',\n",
       " 'sql',\n",
       " 'statistics',\n",
       " 'stein',\n",
       " 'tableau',\n",
       " 'tables',\n",
       " 'the',\n",
       " 'to',\n",
       " 'using',\n",
       " 'vba',\n",
       " 'visualization',\n",
       " 'visualizations',\n",
       " 'web',\n",
       " 'with',\n",
       " 'working',\n",
       " 'writing'}"
      ]
     },
     "execution_count": 11,
     "metadata": {},
     "output_type": "execute_result"
    }
   ],
   "source": [
    "resume"
   ]
  },
  {
   "cell_type": "code",
   "execution_count": 12,
   "metadata": {},
   "outputs": [
    {
     "name": "stdout",
     "output_type": "stream",
     "text": [
      "{'developing', 'machine', 'in', 'boot', 'experience', 'contributing', 'aws', 'using', 'creating', 'intelligence', 'databases', 'bootstrap', 'interests', 'visualization', 'tableau', 'graduate', 'microsoft', 'pivot', 'open-source', 'cloud', 'media', 'writing', 'html/css', 'social', 'modeling', 'analytics', 'api', 'algorithms', 'excel', 'interactions', 'visualizations', 'front-end', 'from', 'camp', 'mongodb', 'git/github', 'statistics', 'big', '##', 'vba', 'n', 'designing', 'basic', 'working', 'web', 'software', 'education', 'learning', 'the', 'r', 'to', 'tables', 'advanced', 'analyze', 'scripts', 'files', 'skills', 'data', 'apis', 'leaflet', 'pandas', 'mining', 'forecasting', 'd3', 'mysql', 'apps', 'performing', 'python', 'html', 'and', 'css', 'hadoop', 'frank', 'stein', 'sets', 'business', 'with', 'sql', 'javascript'}\n"
     ]
    }
   ],
   "source": [
    "# Remove Punctuation that were read as whole words\n",
    "punctuation = set(string.punctuation)\n",
    "resume = resume - punctuation\n",
    "print(resume)"
   ]
  },
  {
   "cell_type": "code",
   "execution_count": 13,
   "metadata": {},
   "outputs": [
    {
     "name": "stdout",
     "output_type": "stream",
     "text": [
      "{'excel', 'statistics', 'python', 'mysql'}\n",
      "{'leaflet', 'r', 'html', 'css'}\n"
     ]
    }
   ],
   "source": [
    "# Calculate the Required Skills Match using Set Intersection\n",
    "print(resume & REQUIRED_SKILLS)\n",
    "\n",
    "# Calculate the Desired Skills Match using Set Intersection\n",
    "print(resume & DESIRED_SKILLS)"
   ]
  },
  {
   "cell_type": "code",
   "execution_count": 14,
   "metadata": {},
   "outputs": [],
   "source": [
    "word_count = {}.fromkeys(word_list, 0)"
   ]
  },
  {
   "cell_type": "code",
   "execution_count": 15,
   "metadata": {},
   "outputs": [
    {
     "name": "stdout",
     "output_type": "stream",
     "text": [
      "{'#': 1, 'frank': 1, 'n.': 1, 'stein': 1, '##': 4, 'education': 1, '*': 15, 'data': 7, 'analytics': 3, 'and': 8, 'visualization': 2, 'boot': 1, 'camp': 1, 'graduate': 1, 'experience': 1, 'creating': 1, 'pivot': 1, 'tables': 1, 'vba': 1, 'scripts': 2, 'in': 2, 'excel.': 1, 'modeling': 1, 'forecasting': 1, 'using': 5, 'basic': 1, 'statistics': 1, 'writing': 1, 'python': 3, 'to': 2, 'analyze': 1, 'sets': 1, 'from': 1, 'files': 1, 'apis.': 1, 'social': 2, 'media': 2, 'mining': 1, 'working': 3, 'with': 6, 'mysql': 1, 'mongodb': 1, 'databases': 1, 'developing': 1, 'front-end': 1, 'web': 2, 'visualizations': 1, 'html,': 2, 'css,': 2, 'bootstrap,': 1, 'd3,': 1, 'leaflet.js': 1, 'the': 2, 'tableau': 1, 'business': 1, 'intelligence': 1, 'software': 2, 'performing': 1, 'big': 2, 'hadoop': 1, 'machine': 2, 'learning': 1, 'algorithms': 1, 'skills': 1, 'microsoft': 1, 'excel,': 1, 'python,': 1, 'javascript,': 2, 'html/css,': 1, 'api': 1, 'interactions,': 1, 'mining,': 1, 'sql,': 1, 'hadoop,': 1, 'tableau,': 1, 'advanced': 1, 'statistics,': 1, 'learning,': 1, 'r,': 1, 'git/github': 1, 'interests': 1, 'contributing': 1, 'open-source': 1, 'pandas': 1, 'designing': 1, 'apps': 1, 'd3': 1, 'cloud': 1, 'aws': 1}\n"
     ]
    }
   ],
   "source": [
    "# Loop through the word list and count each word.\n",
    "for word in word_list:\n",
    "    word_count[word] += 1\n",
    "print(word_count)"
   ]
  },
  {
   "cell_type": "code",
   "execution_count": 16,
   "metadata": {},
   "outputs": [
    {
     "name": "stdout",
     "output_type": "stream",
     "text": [
      "Counter({'*': 15, 'and': 8, 'data': 7, 'with': 6, 'using': 5, '##': 4, 'analytics': 3, 'python': 3, 'working': 3, 'visualization': 2, 'scripts': 2, 'in': 2, 'to': 2, 'social': 2, 'media': 2, 'web': 2, 'html,': 2, 'css,': 2, 'the': 2, 'software': 2, 'big': 2, 'machine': 2, 'javascript,': 2, '#': 1, 'frank': 1, 'n.': 1, 'stein': 1, 'education': 1, 'boot': 1, 'camp': 1, 'graduate': 1, 'experience': 1, 'creating': 1, 'pivot': 1, 'tables': 1, 'vba': 1, 'excel.': 1, 'modeling': 1, 'forecasting': 1, 'basic': 1, 'statistics': 1, 'writing': 1, 'analyze': 1, 'sets': 1, 'from': 1, 'files': 1, 'apis.': 1, 'mining': 1, 'mysql': 1, 'mongodb': 1, 'databases': 1, 'developing': 1, 'front-end': 1, 'visualizations': 1, 'bootstrap,': 1, 'd3,': 1, 'leaflet.js': 1, 'tableau': 1, 'business': 1, 'intelligence': 1, 'performing': 1, 'hadoop': 1, 'learning': 1, 'algorithms': 1, 'skills': 1, 'microsoft': 1, 'excel,': 1, 'python,': 1, 'html/css,': 1, 'api': 1, 'interactions,': 1, 'mining,': 1, 'sql,': 1, 'hadoop,': 1, 'tableau,': 1, 'advanced': 1, 'statistics,': 1, 'learning,': 1, 'r,': 1, 'git/github': 1, 'interests': 1, 'contributing': 1, 'open-source': 1, 'pandas': 1, 'designing': 1, 'apps': 1, 'd3': 1, 'cloud': 1, 'aws': 1})\n"
     ]
    }
   ],
   "source": [
    "# Bonus using collections.Counter\n",
    "word_counter = Counter(word_list)\n",
    "print(word_counter)"
   ]
  },
  {
   "cell_type": "code",
   "execution_count": 18,
   "metadata": {},
   "outputs": [
    {
     "name": "stdout",
     "output_type": "stream",
     "text": [
      "True\n"
     ]
    }
   ],
   "source": [
    "#both methods give the same result.\n",
    "print(word_count == word_counter)"
   ]
  },
  {
   "cell_type": "code",
   "execution_count": 19,
   "metadata": {},
   "outputs": [],
   "source": [
    "# Clean Punctuation\n",
    "_word_count = [word for word in word_count if word not in string.punctuation]"
   ]
  },
  {
   "cell_type": "code",
   "execution_count": 21,
   "metadata": {},
   "outputs": [
    {
     "data": {
      "text/plain": [
       "['frank',\n",
       " 'n.',\n",
       " 'stein',\n",
       " 'education',\n",
       " 'data',\n",
       " 'analytics',\n",
       " 'visualization',\n",
       " 'boot',\n",
       " 'camp',\n",
       " 'graduate',\n",
       " 'experience',\n",
       " 'creating',\n",
       " 'pivot',\n",
       " 'tables',\n",
       " 'vba',\n",
       " 'scripts',\n",
       " 'excel.',\n",
       " 'modeling',\n",
       " 'forecasting',\n",
       " 'basic',\n",
       " 'statistics',\n",
       " 'writing',\n",
       " 'python',\n",
       " 'analyze',\n",
       " 'sets',\n",
       " 'from',\n",
       " 'files',\n",
       " 'apis.',\n",
       " 'social',\n",
       " 'media',\n",
       " 'mining',\n",
       " 'mysql',\n",
       " 'mongodb',\n",
       " 'databases',\n",
       " 'developing',\n",
       " 'front-end',\n",
       " 'web',\n",
       " 'visualizations',\n",
       " 'html,',\n",
       " 'css,',\n",
       " 'bootstrap,',\n",
       " 'd3,',\n",
       " 'leaflet.js',\n",
       " 'the',\n",
       " 'tableau',\n",
       " 'business',\n",
       " 'intelligence',\n",
       " 'software',\n",
       " 'performing',\n",
       " 'big',\n",
       " 'hadoop',\n",
       " 'machine',\n",
       " 'learning',\n",
       " 'algorithms',\n",
       " 'skills',\n",
       " 'microsoft',\n",
       " 'excel,',\n",
       " 'python,',\n",
       " 'javascript,',\n",
       " 'html/css,',\n",
       " 'api',\n",
       " 'interactions,',\n",
       " 'mining,',\n",
       " 'sql,',\n",
       " 'hadoop,',\n",
       " 'tableau,',\n",
       " 'advanced',\n",
       " 'statistics,',\n",
       " 'learning,',\n",
       " 'r,',\n",
       " 'git/github',\n",
       " 'interests',\n",
       " 'contributing',\n",
       " 'open-source',\n",
       " 'pandas',\n",
       " 'designing',\n",
       " 'apps',\n",
       " 'd3',\n",
       " 'cloud',\n",
       " 'aws']"
      ]
     },
     "execution_count": 21,
     "metadata": {},
     "output_type": "execute_result"
    }
   ],
   "source": [
    "# Clean Stop Words\n",
    "stop_words = [\"and\", \"with\", \"using\", \"##\", \"working\", \"in\", \"to\"]\n",
    "_word_count = [word for word in _word_count if word not in stop_words]\n",
    "_word_count"
   ]
  },
  {
   "cell_type": "code",
   "execution_count": 26,
   "metadata": {},
   "outputs": [
    {
     "name": "stdout",
     "output_type": "stream",
     "text": [
      "Token: data                 Count: 7\n",
      "Token: analytics            Count: 3\n",
      "Token: python               Count: 3\n",
      "Token: visualization        Count: 2\n",
      "Token: scripts              Count: 2\n",
      "Token: social               Count: 2\n",
      "Token: media                Count: 2\n",
      "Token: web                  Count: 2\n",
      "Token: html,                Count: 2\n",
      "Token: css,                 Count: 2\n"
     ]
    }
   ],
   "source": [
    "#:20 gives space between the count after.\n",
    "for word in sorted(_word_count, key=word_count.get, reverse=True)[:10]:\n",
    "    print(f\"Token: {word:20} Count: {word_count[word]}\")"
   ]
  },
  {
   "cell_type": "code",
   "execution_count": 27,
   "metadata": {},
   "outputs": [],
   "source": [
    "# Use import to access code from other modules.\n",
    "import string\n",
    "import random"
   ]
  },
  {
   "cell_type": "code",
   "execution_count": 28,
   "metadata": {},
   "outputs": [],
   "source": [
    "# Use default parameters in our function declaration to allow us to change the length and characters\n",
    "def generate_uuid(length=4, characters=string.ascii_letters + string.digits):\n",
    "    \"\"\"Generate a string of random characters.\n",
    "\n",
    "    Args:\n",
    "        length (int, optional): The length of the UUID to generate.\n",
    "        characters (string, optional): The character set used to build the UUID.\n",
    "\n",
    "    Returns:\n",
    "        string: A string representation of the generated UUID.\n",
    "    \"\"\"\n",
    "    # Loop through a range defined by the length size\n",
    "    # In each loop, make a random choice from our characters and append that to the uuid list\n",
    "    uuid = []\n",
    "    for _ in range(length):\n",
    "        uuid.append(random.choice(characters))\n",
    "    # Use join to convert the uuid list to a string\n",
    "    return ''.join(uuid)"
   ]
  },
  {
   "cell_type": "code",
   "execution_count": 29,
   "metadata": {},
   "outputs": [],
   "source": [
    "def test():\n",
    "    \"\"\"Run test code.\"\"\"\n",
    "\n",
    "    # Generate a uuid using default values\n",
    "    uuid = generate_uuid()\n",
    "    print(\"UUID using default values: {}\".format(uuid))\n",
    "\n",
    "    # Generate a uuid of length 16 using the default character set\n",
    "    uuid16 = generate_uuid(length=16)\n",
    "    print(\"UUID of length 16: {}\".format(uuid16))\n",
    "\n",
    "    # Generate a uuid of random numbers using the default length\n",
    "    uuid_random_numbers = generate_uuid(characters=string.digits)\n",
    "    print(\"UUID of only numbers: {}\".format(uuid_random_numbers))\n",
    "\n",
    "    # Generate a uuid consisting of only letters\n",
    "    uuid_random_letters = generate_uuid(characters=string.ascii_letters)\n",
    "    print(\"UUID of only letters: {}\".format(uuid_random_letters))\n",
    "\n",
    "    # Generate a uuid of length 8 that includes punctuation in the character set\n",
    "    uuid_with_punctuation = generate_uuid(\n",
    "        length=8,\n",
    "        characters=string.ascii_letters + string.digits + string.punctuation)\n",
    "    print(\"UUID with punctuation: {}\".format(uuid_with_punctuation))"
   ]
  },
  {
   "cell_type": "code",
   "execution_count": 30,
   "metadata": {},
   "outputs": [
    {
     "name": "stdout",
     "output_type": "stream",
     "text": [
      "UUID using default values: SBcL\n",
      "UUID of length 16: RRD8K1gB4yHItkOe\n",
      "UUID of only numbers: 0969\n",
      "UUID of only letters: rElr\n",
      "UUID with punctuation: $I&QF%'<\n"
     ]
    }
   ],
   "source": [
    "if __name__ == '__main__':\n",
    "    test()"
   ]
  },
  {
   "cell_type": "code",
   "execution_count": 31,
   "metadata": {},
   "outputs": [],
   "source": [
    "import os\n",
    "import csv"
   ]
  },
  {
   "cell_type": "code",
   "execution_count": 32,
   "metadata": {},
   "outputs": [],
   "source": [
    "filepath = 'C:/Users/User/bootcamp_files/employeesSSN.csv'"
   ]
  },
  {
   "cell_type": "code",
   "execution_count": 33,
   "metadata": {},
   "outputs": [],
   "source": [
    "new_employee_data = []"
   ]
  },
  {
   "cell_type": "code",
   "execution_count": 34,
   "metadata": {},
   "outputs": [
    {
     "name": "stdout",
     "output_type": "stream",
     "text": [
      "OrderedDict([('first_name', 'Tina'), ('last_name', 'Fleming'), ('ssn', '619-16-7988')])\n",
      "OrderedDict([('first_name', 'Erica'), ('last_name', 'Shah'), ('ssn', '164-51-7615')])\n",
      "OrderedDict([('first_name', 'Paula'), ('last_name', 'Ortiz'), ('ssn', '051-83-3290')])\n",
      "OrderedDict([('first_name', 'James'), ('last_name', 'Hendricks'), ('ssn', '776-83-2884')])\n",
      "OrderedDict([('first_name', 'Lauren'), ('last_name', 'King'), ('ssn', '197-94-2398')])\n",
      "OrderedDict([('first_name', 'David'), ('last_name', 'Cowan'), ('ssn', '252-92-1832')])\n",
      "OrderedDict([('first_name', 'Andrew'), ('last_name', 'Burton'), ('ssn', '296-23-6842')])\n",
      "OrderedDict([('first_name', 'Julian'), ('last_name', 'Baker'), ('ssn', '337-40-7543')])\n",
      "OrderedDict([('first_name', 'Scott'), ('last_name', 'Castro'), ('ssn', '399-46-5595')])\n",
      "OrderedDict([('first_name', 'Billy'), ('last_name', 'Rodriguez'), ('ssn', '014-18-2503')])\n",
      "OrderedDict([('first_name', 'Darrell'), ('last_name', 'Leblanc'), ('ssn', '005-82-7918')])\n",
      "OrderedDict([('first_name', 'David'), ('last_name', 'Hammond'), ('ssn', '561-17-6312')])\n"
     ]
    }
   ],
   "source": [
    "# Read data into dictionary and create a new email field\n",
    "with open(filepath) as csvfile:\n",
    "    reader = csv.DictReader(csvfile)\n",
    "    for row in reader:\n",
    "      print(row)"
   ]
  },
  {
   "cell_type": "code",
   "execution_count": 35,
   "metadata": {},
   "outputs": [],
   "source": [
    "# Read data into dictionary and create a new email field\n",
    "with open(filepath) as csvfile:\n",
    "    reader = csv.DictReader(csvfile)\n",
    "    for row in reader:\n",
    "        first_name = row[\"first_name\"]\n",
    "        last_name = row[\"last_name\"]\n",
    "        email = f\"{first_name}.{last_name}@example.com\"\n",
    "        new_employee_data.append(\n",
    "            {\n",
    "                \"first_name\": row[\"first_name\"],\n",
    "                \"last_name\": row[\"last_name\"],\n",
    "                \"ssn\": row[\"ssn\"],\n",
    "                \"email\": email\n",
    "            }\n",
    "        )"
   ]
  },
  {
   "cell_type": "code",
   "execution_count": 36,
   "metadata": {},
   "outputs": [
    {
     "data": {
      "text/plain": [
       "[{'first_name': 'Tina',\n",
       "  'last_name': 'Fleming',\n",
       "  'ssn': '619-16-7988',\n",
       "  'email': 'Tina.Fleming@example.com'},\n",
       " {'first_name': 'Erica',\n",
       "  'last_name': 'Shah',\n",
       "  'ssn': '164-51-7615',\n",
       "  'email': 'Erica.Shah@example.com'},\n",
       " {'first_name': 'Paula',\n",
       "  'last_name': 'Ortiz',\n",
       "  'ssn': '051-83-3290',\n",
       "  'email': 'Paula.Ortiz@example.com'},\n",
       " {'first_name': 'James',\n",
       "  'last_name': 'Hendricks',\n",
       "  'ssn': '776-83-2884',\n",
       "  'email': 'James.Hendricks@example.com'},\n",
       " {'first_name': 'Lauren',\n",
       "  'last_name': 'King',\n",
       "  'ssn': '197-94-2398',\n",
       "  'email': 'Lauren.King@example.com'},\n",
       " {'first_name': 'David',\n",
       "  'last_name': 'Cowan',\n",
       "  'ssn': '252-92-1832',\n",
       "  'email': 'David.Cowan@example.com'},\n",
       " {'first_name': 'Andrew',\n",
       "  'last_name': 'Burton',\n",
       "  'ssn': '296-23-6842',\n",
       "  'email': 'Andrew.Burton@example.com'},\n",
       " {'first_name': 'Julian',\n",
       "  'last_name': 'Baker',\n",
       "  'ssn': '337-40-7543',\n",
       "  'email': 'Julian.Baker@example.com'},\n",
       " {'first_name': 'Scott',\n",
       "  'last_name': 'Castro',\n",
       "  'ssn': '399-46-5595',\n",
       "  'email': 'Scott.Castro@example.com'},\n",
       " {'first_name': 'Billy',\n",
       "  'last_name': 'Rodriguez',\n",
       "  'ssn': '014-18-2503',\n",
       "  'email': 'Billy.Rodriguez@example.com'},\n",
       " {'first_name': 'Darrell',\n",
       "  'last_name': 'Leblanc',\n",
       "  'ssn': '005-82-7918',\n",
       "  'email': 'Darrell.Leblanc@example.com'},\n",
       " {'first_name': 'David',\n",
       "  'last_name': 'Hammond',\n",
       "  'ssn': '561-17-6312',\n",
       "  'email': 'David.Hammond@example.com'}]"
      ]
     },
     "execution_count": 36,
     "metadata": {},
     "output_type": "execute_result"
    }
   ],
   "source": [
    "new_employee_data"
   ]
  },
  {
   "cell_type": "code",
   "execution_count": 44,
   "metadata": {},
   "outputs": [],
   "source": [
    "filepath = 'C:/Users/User/bootcamp_files/employeesSSN-2.csv'"
   ]
  },
  {
   "cell_type": "code",
   "execution_count": 45,
   "metadata": {},
   "outputs": [],
   "source": [
    "with open(filepath, \"w\") as csvfile:\n",
    "    fieldnames = [\"last_name\", \"first_name\", \"ssn\", \"email\"]\n",
    "    writer = csv.DictWriter(csvfile, fieldnames=fieldnames)\n",
    "    writer.writeheader()\n",
    "    writer.writerows(new_employee_data)"
   ]
  },
  {
   "cell_type": "code",
   "execution_count": 46,
   "metadata": {},
   "outputs": [],
   "source": [
    "filepath2 = 'C:/Users/User/bootcamp_files/employeesSSN-2.csv'"
   ]
  },
  {
   "cell_type": "code",
   "execution_count": 50,
   "metadata": {},
   "outputs": [
    {
     "name": "stdout",
     "output_type": "stream",
     "text": [
      "Header: last_name,first_name,ssn,email\r\n",
      "\n"
     ]
    }
   ],
   "source": [
    "# Open and read csv\n",
    "with open(filepath2, newline=\"\") as csvfile:\n",
    "    csvreader1 = csv.reader(csvfile, delimiter=\",\")\n",
    "\n",
    "    # Read the header row first (skip this part if there is no header)\n",
    "    csv_header = next(csvfile)\n",
    "    print(f\"Header: {csv_header}\")\n",
    "    list3 = []\n",
    "    # Read through each row of data after the header\n",
    "    for row in csvreader1:\n",
    "        list3.append(row)"
   ]
  },
  {
   "cell_type": "code",
   "execution_count": 59,
   "metadata": {},
   "outputs": [
    {
     "data": {
      "text/plain": [
       "[['', '', '', ''],\n",
       " ['Fleming', 'Tina', '619-16-7988', 'Tina.Fleming@example.com'],\n",
       " ['', '', '', ''],\n",
       " ['Shah', 'Erica', '164-51-7615', 'Erica.Shah@example.com'],\n",
       " ['', '', '', ''],\n",
       " ['Ortiz', 'Paula', '051-83-3290', 'Paula.Ortiz@example.com'],\n",
       " ['', '', '', ''],\n",
       " ['Hendricks', 'James', '776-83-2884', 'James.Hendricks@example.com'],\n",
       " ['', '', '', ''],\n",
       " ['King', 'Lauren', '197-94-2398', 'Lauren.King@example.com'],\n",
       " ['', '', '', ''],\n",
       " ['Cowan', 'David', '252-92-1832', 'David.Cowan@example.com'],\n",
       " ['', '', '', ''],\n",
       " ['Burton', 'Andrew', '296-23-6842', 'Andrew.Burton@example.com'],\n",
       " ['', '', '', ''],\n",
       " ['Baker', 'Julian', '337-40-7543', 'Julian.Baker@example.com'],\n",
       " ['', '', '', ''],\n",
       " ['Castro', 'Scott', '399-46-5595', 'Scott.Castro@example.com'],\n",
       " ['', '', '', ''],\n",
       " ['Rodriguez', 'Billy', '014-18-2503', 'Billy.Rodriguez@example.com'],\n",
       " ['', '', '', ''],\n",
       " ['Leblanc', 'Darrell', '005-82-7918', 'Darrell.Leblanc@example.com'],\n",
       " ['', '', '', ''],\n",
       " ['Hammond', 'David', '561-17-6312', 'David.Hammond@example.com']]"
      ]
     },
     "execution_count": 59,
     "metadata": {},
     "output_type": "execute_result"
    }
   ],
   "source": [
    "list3"
   ]
  },
  {
   "cell_type": "code",
   "execution_count": 60,
   "metadata": {},
   "outputs": [],
   "source": [
    "odd_i = [] \n",
    "even_i = [] \n",
    "for i in range(0, len(list3)): \n",
    "    if i % 2: \n",
    "        even_i.append(list3[i]) \n",
    "    else : \n",
    "        odd_i.append(list3[i])"
   ]
  },
  {
   "cell_type": "code",
   "execution_count": 61,
   "metadata": {},
   "outputs": [
    {
     "data": {
      "text/plain": [
       "[['', '', '', ''],\n",
       " ['', '', '', ''],\n",
       " ['', '', '', ''],\n",
       " ['', '', '', ''],\n",
       " ['', '', '', ''],\n",
       " ['', '', '', ''],\n",
       " ['', '', '', ''],\n",
       " ['', '', '', ''],\n",
       " ['', '', '', ''],\n",
       " ['', '', '', ''],\n",
       " ['', '', '', ''],\n",
       " ['', '', '', '']]"
      ]
     },
     "execution_count": 61,
     "metadata": {},
     "output_type": "execute_result"
    }
   ],
   "source": [
    "odd_i"
   ]
  },
  {
   "cell_type": "code",
   "execution_count": 62,
   "metadata": {},
   "outputs": [
    {
     "data": {
      "text/plain": [
       "[['Fleming', 'Tina', '619-16-7988', 'Tina.Fleming@example.com'],\n",
       " ['Shah', 'Erica', '164-51-7615', 'Erica.Shah@example.com'],\n",
       " ['Ortiz', 'Paula', '051-83-3290', 'Paula.Ortiz@example.com'],\n",
       " ['Hendricks', 'James', '776-83-2884', 'James.Hendricks@example.com'],\n",
       " ['King', 'Lauren', '197-94-2398', 'Lauren.King@example.com'],\n",
       " ['Cowan', 'David', '252-92-1832', 'David.Cowan@example.com'],\n",
       " ['Burton', 'Andrew', '296-23-6842', 'Andrew.Burton@example.com'],\n",
       " ['Baker', 'Julian', '337-40-7543', 'Julian.Baker@example.com'],\n",
       " ['Castro', 'Scott', '399-46-5595', 'Scott.Castro@example.com'],\n",
       " ['Rodriguez', 'Billy', '014-18-2503', 'Billy.Rodriguez@example.com'],\n",
       " ['Leblanc', 'Darrell', '005-82-7918', 'Darrell.Leblanc@example.com'],\n",
       " ['Hammond', 'David', '561-17-6312', 'David.Hammond@example.com']]"
      ]
     },
     "execution_count": 62,
     "metadata": {},
     "output_type": "execute_result"
    }
   ],
   "source": [
    "even_i"
   ]
  },
  {
   "cell_type": "code",
   "execution_count": null,
   "metadata": {},
   "outputs": [],
   "source": []
  }
 ],
 "metadata": {
  "kernelspec": {
   "display_name": "Python 3 (ipykernel)",
   "language": "python",
   "name": "python3"
  },
  "language_info": {
   "codemirror_mode": {
    "name": "ipython",
    "version": 3
   },
   "file_extension": ".py",
   "mimetype": "text/x-python",
   "name": "python",
   "nbconvert_exporter": "python",
   "pygments_lexer": "ipython3",
   "version": "3.9.7"
  },
  "varInspector": {
   "cols": {
    "lenName": 16,
    "lenType": 16,
    "lenVar": 40
   },
   "kernels_config": {
    "python": {
     "delete_cmd_postfix": "",
     "delete_cmd_prefix": "del ",
     "library": "var_list.py",
     "varRefreshCmd": "print(var_dic_list())"
    },
    "r": {
     "delete_cmd_postfix": ") ",
     "delete_cmd_prefix": "rm(",
     "library": "var_list.r",
     "varRefreshCmd": "cat(var_dic_list()) "
    }
   },
   "types_to_exclude": [
    "module",
    "function",
    "builtin_function_or_method",
    "instance",
    "_Feature"
   ],
   "window_display": false
  }
 },
 "nbformat": 4,
 "nbformat_minor": 4
}
